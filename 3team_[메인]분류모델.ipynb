{
  "nbformat": 4,
  "nbformat_minor": 0,
  "metadata": {
    "colab": {
      "provenance": [],
      "toc_visible": true,
      "collapsed_sections": [
        "F5lV-EQNOoDm",
        "cu6lYt-p-_CP",
        "qxI2lJYr_FP7",
        "QZyrL6zmHOJN",
        "tWcifXFeG1pf",
        "3FkOPjFnHe5_",
        "-cWMCVxUAqUA",
        "xydz3sMvB7we",
        "Og9ZB0rhH4es",
        "6FaZM4JrDL1A",
        "bIQ19J3tCk8L",
        "OQmSrmFF9pRH",
        "4ian1BlG-Acg",
        "Qppkbq5b-pgf"
      ],
      "include_colab_link": true
    },
    "kernelspec": {
      "name": "python3",
      "display_name": "Python 3"
    },
    "language_info": {
      "name": "python"
    }
  },
  "cells": [
    {
      "cell_type": "markdown",
      "metadata": {
        "id": "view-in-github",
        "colab_type": "text"
      },
      "source": [
        "<a href=\"https://colab.research.google.com/github/shstudy/ITB_3team/blob/main/3team_%5B%EB%A9%94%EC%9D%B8%5D%EB%B6%84%EB%A5%98%EB%AA%A8%EB%8D%B8.ipynb\" target=\"_parent\"><img src=\"https://colab.research.google.com/assets/colab-badge.svg\" alt=\"Open In Colab\"/></a>"
      ]
    },
    {
      "cell_type": "code",
      "source": [
        "!sudo apt-get install -y fonts-nanum\n",
        "!sudo fc-cache -fv\n",
        "!rm ~/.cache/matplotlib -rf"
      ],
      "metadata": {
        "id": "6tH-3roXfY9J",
        "colab": {
          "base_uri": "https://localhost:8080/"
        },
        "outputId": "4c841eec-b11e-415e-c754-ed7652506e75"
      },
      "execution_count": null,
      "outputs": [
        {
          "output_type": "stream",
          "name": "stdout",
          "text": [
            "Reading package lists... Done\n",
            "Building dependency tree       \n",
            "Reading state information... Done\n",
            "fonts-nanum is already the newest version (20170925-1).\n",
            "The following package was automatically installed and is no longer required:\n",
            "  libnvidia-common-460\n",
            "Use 'sudo apt autoremove' to remove it.\n",
            "0 upgraded, 0 newly installed, 0 to remove and 7 not upgraded.\n",
            "/usr/share/fonts: caching, new cache contents: 0 fonts, 1 dirs\n",
            "/usr/share/fonts/truetype: caching, new cache contents: 0 fonts, 3 dirs\n",
            "/usr/share/fonts/truetype/humor-sans: caching, new cache contents: 1 fonts, 0 dirs\n",
            "/usr/share/fonts/truetype/liberation: caching, new cache contents: 16 fonts, 0 dirs\n",
            "/usr/share/fonts/truetype/nanum: caching, new cache contents: 10 fonts, 0 dirs\n",
            "/usr/local/share/fonts: caching, new cache contents: 0 fonts, 0 dirs\n",
            "/root/.local/share/fonts: skipping, no such directory\n",
            "/root/.fonts: skipping, no such directory\n",
            "/var/cache/fontconfig: cleaning cache directory\n",
            "/root/.cache/fontconfig: not cleaning non-existent cache directory\n",
            "/root/.fontconfig: not cleaning non-existent cache directory\n",
            "fc-cache: succeeded\n"
          ]
        }
      ]
    },
    {
      "cell_type": "code",
      "source": [
        "!pip install mglearn \n",
        "!pip install --upgrade joblib==1.1.0"
      ],
      "metadata": {
        "id": "zCj8Z7NCfapy",
        "colab": {
          "base_uri": "https://localhost:8080/"
        },
        "outputId": "928bcd60-188e-4aa7-e10d-76dfd381d829"
      },
      "execution_count": null,
      "outputs": [
        {
          "output_type": "stream",
          "name": "stdout",
          "text": [
            "Looking in indexes: https://pypi.org/simple, https://us-python.pkg.dev/colab-wheels/public/simple/\n",
            "Requirement already satisfied: mglearn in /usr/local/lib/python3.8/dist-packages (0.1.9)\n",
            "Requirement already satisfied: joblib in /usr/local/lib/python3.8/dist-packages (from mglearn) (1.1.0)\n",
            "Requirement already satisfied: numpy in /usr/local/lib/python3.8/dist-packages (from mglearn) (1.21.6)\n",
            "Requirement already satisfied: cycler in /usr/local/lib/python3.8/dist-packages (from mglearn) (0.11.0)\n",
            "Requirement already satisfied: pandas in /usr/local/lib/python3.8/dist-packages (from mglearn) (1.3.5)\n",
            "Requirement already satisfied: scikit-learn in /usr/local/lib/python3.8/dist-packages (from mglearn) (1.0.2)\n",
            "Requirement already satisfied: imageio in /usr/local/lib/python3.8/dist-packages (from mglearn) (2.9.0)\n",
            "Requirement already satisfied: pillow in /usr/local/lib/python3.8/dist-packages (from mglearn) (7.1.2)\n",
            "Requirement already satisfied: matplotlib in /usr/local/lib/python3.8/dist-packages (from mglearn) (3.2.2)\n",
            "Requirement already satisfied: pyparsing!=2.0.4,!=2.1.2,!=2.1.6,>=2.0.1 in /usr/local/lib/python3.8/dist-packages (from matplotlib->mglearn) (3.0.9)\n",
            "Requirement already satisfied: kiwisolver>=1.0.1 in /usr/local/lib/python3.8/dist-packages (from matplotlib->mglearn) (1.4.4)\n",
            "Requirement already satisfied: python-dateutil>=2.1 in /usr/local/lib/python3.8/dist-packages (from matplotlib->mglearn) (2.8.2)\n",
            "Requirement already satisfied: six>=1.5 in /usr/local/lib/python3.8/dist-packages (from python-dateutil>=2.1->matplotlib->mglearn) (1.15.0)\n",
            "Requirement already satisfied: pytz>=2017.3 in /usr/local/lib/python3.8/dist-packages (from pandas->mglearn) (2022.6)\n",
            "Requirement already satisfied: scipy>=1.1.0 in /usr/local/lib/python3.8/dist-packages (from scikit-learn->mglearn) (1.7.3)\n",
            "Requirement already satisfied: threadpoolctl>=2.0.0 in /usr/local/lib/python3.8/dist-packages (from scikit-learn->mglearn) (3.1.0)\n",
            "Looking in indexes: https://pypi.org/simple, https://us-python.pkg.dev/colab-wheels/public/simple/\n",
            "Requirement already satisfied: joblib==1.1.0 in /usr/local/lib/python3.8/dist-packages (1.1.0)\n"
          ]
        }
      ]
    },
    {
      "cell_type": "code",
      "source": [
        "import numpy as np\n",
        "import pandas as pd\n",
        "import seaborn as sns\n",
        "import matplotlib as m\n",
        "import matplotlib.pyplot as plt\n",
        "import matplotlib.font_manager as fm\n",
        "%matplotlib inline\n",
        "\n",
        "import matplotlib.pyplot as plt\n",
        "plt.rc('font', family='NanumBarunGothic') \n",
        "\n",
        "import mglearn\n",
        "from sklearn.tree import DecisionTreeClassifier\n",
        "from sklearn.model_selection import train_test_split\n",
        "from sklearn.tree import export_graphviz\n",
        "import graphviz\n",
        "from sklearn.ensemble import RandomForestClassifier\n",
        "from sklearn.model_selection import cross_val_score\n",
        "from sklearn.ensemble import GradientBoostingClassifier\n",
        "from sklearn.model_selection import StratifiedKFold\n",
        "from sklearn.model_selection import GridSearchCV\n",
        "from sklearn.metrics import accuracy_score, precision_score, recall_score, f1_score\n",
        "from sklearn.metrics import confusion_matrix \n",
        "from sklearn.metrics import classification_report\n",
        "from sklearn.metrics import roc_auc_score, roc_curve"
      ],
      "metadata": {
        "id": "9wBZgkD-fX_U"
      },
      "execution_count": null,
      "outputs": []
    },
    {
      "cell_type": "markdown",
      "source": [
        "# 데이터 준비"
      ],
      "metadata": {
        "id": "uko57yqbeysw"
      }
    },
    {
      "cell_type": "code",
      "source": [
        "rawdf = pd.read_csv('https://raw.githubusercontent.com/shstudy/ITB_3team/main/wo_data_20_21Y%2B11-28.csv', encoding = 'CP949')"
      ],
      "metadata": {
        "id": "f2n1U2QBO1YD"
      },
      "execution_count": null,
      "outputs": []
    },
    {
      "cell_type": "code",
      "source": [
        "#df                #데이터 프레임 확인\n",
        "#df.isnull().sum() #결측치 확인\n",
        "#df.info()         #데이터 유형 확인"
      ],
      "metadata": {
        "id": "kwnGtY8JoPY4"
      },
      "execution_count": null,
      "outputs": []
    },
    {
      "cell_type": "code",
      "source": [
        "print(rawdf['재방문의도'].describe())"
      ],
      "metadata": {
        "colab": {
          "base_uri": "https://localhost:8080/"
        },
        "id": "JzvSddHwxF5_",
        "outputId": "e43c6ddc-fb8e-4989-dde0-a22962db47b8"
      },
      "execution_count": null,
      "outputs": [
        {
          "output_type": "stream",
          "name": "stdout",
          "text": [
            "count    1184.000000\n",
            "mean        3.875000\n",
            "std         0.561892\n",
            "min         1.000000\n",
            "25%         4.000000\n",
            "50%         4.000000\n",
            "75%         4.000000\n",
            "max         5.000000\n",
            "Name: 재방문의도, dtype: float64\n"
          ]
        }
      ]
    },
    {
      "cell_type": "code",
      "source": [
        "sns.countplot(rawdf['재방문의도'])"
      ],
      "metadata": {
        "colab": {
          "base_uri": "https://localhost:8080/",
          "height": 353
        },
        "id": "oBiKcLUDyzDb",
        "outputId": "974b2164-27a6-452d-a89d-95daa6b0faab"
      },
      "execution_count": null,
      "outputs": [
        {
          "output_type": "stream",
          "name": "stderr",
          "text": [
            "/usr/local/lib/python3.8/dist-packages/seaborn/_decorators.py:36: FutureWarning: Pass the following variable as a keyword arg: x. From version 0.12, the only valid positional argument will be `data`, and passing other arguments without an explicit keyword will result in an error or misinterpretation.\n",
            "  warnings.warn(\n"
          ]
        },
        {
          "output_type": "execute_result",
          "data": {
            "text/plain": [
              "<matplotlib.axes._subplots.AxesSubplot at 0x7fdfcc95fd90>"
            ]
          },
          "metadata": {},
          "execution_count": 7
        },
        {
          "output_type": "display_data",
          "data": {
            "text/plain": [
              "<Figure size 432x288 with 1 Axes>"
            ],
            "image/png": "[encoded data removed]"
          },
          "metadata": {
            "needs_background": "light"
          }
        }
      ]
    },
    {
      "cell_type": "code",
      "source": [
        "rawdf['재방문여부'] = rawdf['재방문의도'] > 3"
      ],
      "metadata": {
        "id": "xW7PWRkNzD2_"
      },
      "execution_count": null,
      "outputs": []
    },
    {
      "cell_type": "code",
      "source": [
        "# 0,1로 바꾸기\n",
        "x_list = [\"관광휴양여부\", \"여행활동1\", \"여행활동2\",\"여행활동3\", \"여행활동4\", \"여행활동5\"]\n",
        "\n",
        "for i in x_list:\n",
        "  x1 = {i : {'N':'0','Y':'1'}}\n",
        "  rawdf.replace(x1, inplace=True)\n",
        "\n",
        "x2 = {'재방문여부' :{False:'재방문NO',True:'재방문YES'}}\n",
        "rawdf.replace(x2, inplace=True)"
      ],
      "metadata": {
        "id": "NTTY1VMonHQk"
      },
      "execution_count": null,
      "outputs": []
    },
    {
      "cell_type": "code",
      "source": [
        "#df.columns"
      ],
      "metadata": {
        "id": "Sbm-VsWpjsKG"
      },
      "execution_count": null,
      "outputs": []
    },
    {
      "cell_type": "code",
      "source": [
        "#자료형 바꾸기\n",
        "df = rawdf.astype(dtype='object')\n",
        "df = df.astype({'여행일수(박)':'int', '여행총경비':'int', '지출비용포함인원수':'int','1인지출비용':'int'})"
      ],
      "metadata": {
        "id": "duXU9BLN1dq7"
      },
      "execution_count": null,
      "outputs": []
    },
    {
      "cell_type": "code",
      "source": [
        "sns.countplot(rawdf['재방문여부'])  #1:yes, 2:no"
      ],
      "metadata": {
        "colab": {
          "base_uri": "https://localhost:8080/",
          "height": 356
        },
        "id": "qhoxeuaZ2ENy",
        "outputId": "cd54112a-8605-4158-bdb8-e31f2cda4ca6"
      },
      "execution_count": null,
      "outputs": [
        {
          "output_type": "stream",
          "name": "stderr",
          "text": [
            "/usr/local/lib/python3.8/dist-packages/seaborn/_decorators.py:36: FutureWarning: Pass the following variable as a keyword arg: x. From version 0.12, the only valid positional argument will be `data`, and passing other arguments without an explicit keyword will result in an error or misinterpretation.\n",
            "  warnings.warn(\n"
          ]
        },
        {
          "output_type": "execute_result",
          "data": {
            "text/plain": [
              "<matplotlib.axes._subplots.AxesSubplot at 0x7fdfe0609a30>"
            ]
          },
          "metadata": {},
          "execution_count": 12
        },
        {
          "output_type": "display_data",
          "data": {
            "text/plain": [
              "<Figure size 432x288 with 1 Axes>"
            ],
            "image/png": "[encoded data removed]"
          },
          "metadata": {
            "needs_background": "light"
          }
        }
      ]
    },
    {
      "cell_type": "code",
      "source": [
        "sns.countplot(rawdf['총만족도_이진'])"
      ],
      "metadata": {
        "colab": {
          "base_uri": "https://localhost:8080/",
          "height": 353
        },
        "id": "q1MVvCDk18mL",
        "outputId": "896e1eef-5fad-414d-98b7-adde1ba9b11d"
      },
      "execution_count": null,
      "outputs": [
        {
          "output_type": "stream",
          "name": "stderr",
          "text": [
            "/usr/local/lib/python3.8/dist-packages/seaborn/_decorators.py:36: FutureWarning: Pass the following variable as a keyword arg: x. From version 0.12, the only valid positional argument will be `data`, and passing other arguments without an explicit keyword will result in an error or misinterpretation.\n",
            "  warnings.warn(\n"
          ]
        },
        {
          "output_type": "execute_result",
          "data": {
            "text/plain": [
              "<matplotlib.axes._subplots.AxesSubplot at 0x7fdfcb9064f0>"
            ]
          },
          "metadata": {},
          "execution_count": 13
        },
        {
          "output_type": "display_data",
          "data": {
            "text/plain": [
              "<Figure size 432x288 with 1 Axes>"
            ],
            "image/png": "[encoded data removed]"
          },
          "metadata": {
            "needs_background": "light"
          }
        }
      ]
    },
    {
      "cell_type": "markdown",
      "source": [
        "# 2. 고객기본정보와 여행활동 정보로 '총만족도'를 예측할 수 있을까?"
      ],
      "metadata": {
        "id": "IPGXkfZSL2um"
      }
    },
    {
      "cell_type": "code",
      "source": [
        "df1 = df.drop(['ID', '연도', '학력', '혼인상태', '주5일근무제실시여부', '계절', '여행총경비', \n",
        "              '지출비용포함인원수', '개인휴가사용여부','시', '여행지선택이유_1순위', '여행지선택이유_2순위',\n",
        "              '만족도_자연경관', '만족도_문화유산', '만족도_교통', '만족도_식당및음식', '만족도_쇼핑',\n",
        "              '만족도_관광정보및안내시설', '만족도_관광지편의시설', '만족도_지역관광종사자의친절성', '만족도_체험프로그램',\n",
        "              '만족도_관광지물가', '만족도_관광지혼잡도', '전반적만족도', '재방문의도', '타인추천의도', '만족도점수','총만족도', '재방문여부'], axis = 1)\n",
        "df1.info()"
      ],
      "metadata": {
        "id": "gQ14oT3I2qm0",
        "colab": {
          "base_uri": "https://localhost:8080/"
        },
        "outputId": "8c5d26b0-e305-4382-e74f-ca867c9b197a"
      },
      "execution_count": null,
      "outputs": [
        {
          "output_type": "stream",
          "name": "stdout",
          "text": [
            "<class 'pandas.core.frame.DataFrame'>\n",
            "RangeIndex: 1184 entries, 0 to 1183\n",
            "Data columns (total 22 columns):\n",
            " #   Column    Non-Null Count  Dtype \n",
            "---  ------    --------------  ----- \n",
            " 0   성별        1184 non-null   object\n",
            " 1   연령        1184 non-null   object\n",
            " 2   거주지역      1184 non-null   object\n",
            " 3   직업        1184 non-null   object\n",
            " 4   주업        1184 non-null   object\n",
            " 5   직장지위      1184 non-null   object\n",
            " 6   차량보유여부    1184 non-null   object\n",
            " 7   개인소득      1184 non-null   object\n",
            " 8   관광휴양여부    1184 non-null   object\n",
            " 9   여행유형      1184 non-null   object\n",
            " 10  월         1184 non-null   object\n",
            " 11  여행일수(박)   1184 non-null   int64 \n",
            " 12  1인지출비용    1184 non-null   int64 \n",
            " 13  지역코드      1184 non-null   object\n",
            " 14  숙박시설      1184 non-null   object\n",
            " 15  여행활동1     1184 non-null   object\n",
            " 16  여행활동2     1184 non-null   object\n",
            " 17  여행활동3     1184 non-null   object\n",
            " 18  여행활동4     1184 non-null   object\n",
            " 19  여행활동5     1184 non-null   object\n",
            " 20  주요이동교통수단  1184 non-null   object\n",
            " 21  총만족도_이진   1184 non-null   object\n",
            "dtypes: int64(2), object(20)\n",
            "memory usage: 203.6+ KB\n"
          ]
        }
      ]
    },
    {
      "cell_type": "code",
      "source": [
        "from sklearn.tree import DecisionTreeClassifier\n",
        "from sklearn.model_selection import train_test_split\n",
        "\n",
        "X = df1.iloc[:, :-1]\n",
        "y = df1.iloc[:, -1]\n",
        "X_train, X_test, y_train, y_test = train_test_split(X, y, test_size = 0.25, random_state=3)\n",
        "tree = DecisionTreeClassifier(max_depth=8, random_state=0)\n",
        "tree.fit(X_train, y_train)\n",
        "\n",
        "print(\"학습용 데이터 정확도: {:.3f}\".format(tree.score(X_train, y_train)))\n",
        "print(\"시험용 데이터 정확도: {:.3f}\".format(tree.score(X_test, y_test)))\n",
        "\n",
        "from sklearn.tree import export_graphviz\n",
        "import graphviz\n",
        "\n",
        "export_graphviz(tree, out_file=\"tree.dot\", class_names=[ \"0\", \"1\"],\n",
        "                feature_names=df1.columns[:-1], impurity=True, filled=True)\n",
        "\n",
        "with open(\"tree.dot\") as f:\n",
        "    dot_graph = f.read()\n",
        "\n",
        "display(graphviz.Source(dot_graph))"
      ],
      "metadata": {
        "colab": {
          "base_uri": "https://localhost:8080/",
          "height": 1000
        },
        "id": "0aBP1Nx_UHJL",
        "outputId": "04bc25bd-61a1-4ed5-88c5-47b13a60f671"
      },
      "execution_count": null,
      "outputs": [
        {
          "output_type": "stream",
          "name": "stdout",
          "text": [
            "학습용 데이터 정확도: 0.857\n",
            "시험용 데이터 정확도: 0.713\n"
          ]
        },
        {
          "output_type": "display_data",
          "data": {
            "text/plain": [
              "<graphviz.files.Source at 0x7fdfcb8c2c40>"
            ],
            "image/svg+xml": "<?xml version=\"1.0\" encoding=\"UTF-8\" standalone=\"no\"?>\n<!DOCTYPE svg PUBLIC \"-//W3C//DTD SVG 1.1//EN\"\n \"http://www.w3.org/Graphics/SVG/1.1/DTD/svg11.dtd\">\n<!-- Generated by graphviz version 2.40.1 (20161225.0304)\n -->\n<!-- Title: Tree Pages: 1 -->\n<svg width=\"6490pt\" height=\"1028pt\"\n viewBox=\"0.00 0.00 6490.00 1028.00\" xmlns=\"http://www.w3.org/2000/svg\" xmlns:xlink=\"http://www.w3.org/1999/xlink\">\n<g id=\"graph0\" class=\"graph\" transform=\"scale(1 1) rotate(0) translate(4 1024)\">\n<title>Tree</title>\n<polygon fill=\"#ffffff\" stroke=\"transparent\" points=\"-4,4 -4,-1024 6486,-1024 6486,4 -4,4\"/>\n<!-- 0 -->\n<g id=\"node1\" class=\"node\">\n<title>0</title>\n<polygon fill=\"#eeae80\" stroke=\"#000000\" points=\"1417.5,-1020 1275.5,-1020 1275.5,-937 1417.5,-937 1417.5,-1020\"/>\n<text text-anchor=\"middle\" x=\"1346.5\" y=\"-1004.8\" font-family=\"Helvetica,sans-Serif\" font-size=\"14.00\" fill=\"#000000\">관광휴양여부 &lt;= 0.5</text>\n<text text-anchor=\"middle\" x=\"1346.5\" y=\"-989.8\" font-family=\"Helvetica,sans-Serif\" font-size=\"14.00\" fill=\"#000000\">gini = 0.389</text>\n<text text-anchor=\"middle\" x=\"1346.5\" y=\"-974.8\" font-family=\"Helvetica,sans-Serif\" font-size=\"14.00\" fill=\"#000000\">samples = 888</text>\n<text text-anchor=\"middle\" x=\"1346.5\" y=\"-959.8\" font-family=\"Helvetica,sans-Serif\" font-size=\"14.00\" fill=\"#000000\">value = [653, 235]</text>\n<text text-anchor=\"middle\" x=\"1346.5\" y=\"-944.8\" font-family=\"Helvetica,sans-Serif\" font-size=\"14.00\" fill=\"#000000\">class = 0</text>\n</g>\n<!-- 1 -->\n<g id=\"node2\" class=\"node\">\n<title>1</title>\n<polygon fill=\"#e99558\" stroke=\"#000000\" points=\"662.5,-901 538.5,-901 538.5,-818 662.5,-818 662.5,-901\"/>\n<text text-anchor=\"middle\" x=\"600.5\" y=\"-885.8\" font-family=\"Helvetica,sans-Serif\" font-size=\"14.00\" fill=\"#000000\">거주지역 &lt;= 1.5</text>\n<text text-anchor=\"middle\" x=\"600.5\" y=\"-870.8\" font-family=\"Helvetica,sans-Serif\" font-size=\"14.00\" fill=\"#000000\">gini = 0.233</text>\n<text text-anchor=\"middle\" x=\"600.5\" y=\"-855.8\" font-family=\"Helvetica,sans-Serif\" font-size=\"14.00\" fill=\"#000000\">samples = 156</text>\n<text text-anchor=\"middle\" x=\"600.5\" y=\"-840.8\" font-family=\"Helvetica,sans-Serif\" font-size=\"14.00\" fill=\"#000000\">value = [135, 21]</text>\n<text text-anchor=\"middle\" x=\"600.5\" y=\"-825.8\" font-family=\"Helvetica,sans-Serif\" font-size=\"14.00\" fill=\"#000000\">class = 0</text>\n</g>\n<!-- 0&#45;&gt;1 -->\n<g id=\"edge1\" class=\"edge\">\n<title>0&#45;&gt;1</title>\n<path fill=\"none\" stroke=\"#000000\" d=\"M1275.3083,-967.1437C1133.1346,-944.4645 815.4659,-893.7908 672.5715,-870.9967\"/>\n<polygon fill=\"#000000\" stroke=\"#000000\" points=\"673.0165,-867.5235 662.5899,-869.4044 671.9137,-874.4361 673.0165,-867.5235\"/>\n<text text-anchor=\"middle\" x=\"677.2622\" y=\"-885.9461\" font-family=\"Helvetica,sans-Serif\" font-size=\"14.00\" fill=\"#000000\">True</text>\n</g>\n<!-- 44 -->\n<g id=\"node45\" class=\"node\">\n<title>44</title>\n<polygon fill=\"#f0b58b\" stroke=\"#000000\" points=\"2242.5,-901 2110.5,-901 2110.5,-818 2242.5,-818 2242.5,-901\"/>\n<text text-anchor=\"middle\" x=\"2176.5\" y=\"-885.8\" font-family=\"Helvetica,sans-Serif\" font-size=\"14.00\" fill=\"#000000\">거주지역 &lt;= 3.5</text>\n<text text-anchor=\"middle\" x=\"2176.5\" y=\"-870.8\" font-family=\"Helvetica,sans-Serif\" font-size=\"14.00\" fill=\"#000000\">gini = 0.414</text>\n<text text-anchor=\"middle\" x=\"2176.5\" y=\"-855.8\" font-family=\"Helvetica,sans-Serif\" font-size=\"14.00\" fill=\"#000000\">samples = 732</text>\n<text text-anchor=\"middle\" x=\"2176.5\" y=\"-840.8\" font-family=\"Helvetica,sans-Serif\" font-size=\"14.00\" fill=\"#000000\">value = [518, 214]</text>\n<text text-anchor=\"middle\" x=\"2176.5\" y=\"-825.8\" font-family=\"Helvetica,sans-Serif\" font-size=\"14.00\" fill=\"#000000\">class = 0</text>\n</g>\n<!-- 0&#45;&gt;44 -->\n<g id=\"edge44\" class=\"edge\">\n<title>0&#45;&gt;44</title>\n<path fill=\"none\" stroke=\"#000000\" d=\"M1417.6241,-968.3027C1572.74,-946.0632 1940.3181,-893.3622 2100.1145,-870.4517\"/>\n<polygon fill=\"#000000\" stroke=\"#000000\" points=\"2100.9331,-873.8702 2110.3351,-868.9863 2099.9396,-866.941 2100.9331,-873.8702\"/>\n<text text-anchor=\"middle\" x=\"2095.3452\" y=\"-885.2939\" font-family=\"Helvetica,sans-Serif\" font-size=\"14.00\" fill=\"#000000\">False</text>\n</g>\n<!-- 2 -->\n<g id=\"node3\" class=\"node\">\n<title>2</title>\n<polygon fill=\"#f1ba92\" stroke=\"#000000\" points=\"405,-782 282,-782 282,-699 405,-699 405,-782\"/>\n<text text-anchor=\"middle\" x=\"343.5\" y=\"-766.8\" font-family=\"Helvetica,sans-Serif\" font-size=\"14.00\" fill=\"#000000\">여행활동3 &lt;= 0.5</text>\n<text text-anchor=\"middle\" x=\"343.5\" y=\"-751.8\" font-family=\"Helvetica,sans-Serif\" font-size=\"14.00\" fill=\"#000000\">gini = 0.428</text>\n<text text-anchor=\"middle\" x=\"343.5\" y=\"-736.8\" font-family=\"Helvetica,sans-Serif\" font-size=\"14.00\" fill=\"#000000\">samples = 29</text>\n<text text-anchor=\"middle\" x=\"343.5\" y=\"-721.8\" font-family=\"Helvetica,sans-Serif\" font-size=\"14.00\" fill=\"#000000\">value = [20, 9]</text>\n<text text-anchor=\"middle\" x=\"343.5\" y=\"-706.8\" font-family=\"Helvetica,sans-Serif\" font-size=\"14.00\" fill=\"#000000\">class = 0</text>\n</g>\n<!-- 1&#45;&gt;2 -->\n<g id=\"edge2\" class=\"edge\">\n<title>1&#45;&gt;2</title>\n<path fill=\"none\" stroke=\"#000000\" d=\"M538.2875,-830.6934C500.8796,-813.3723 453.1509,-791.2722 414.3019,-773.2838\"/>\n<polygon fill=\"#000000\" stroke=\"#000000\" points=\"415.6847,-770.0671 405.1396,-769.0413 412.7434,-776.4192 415.6847,-770.0671\"/>\n</g>\n<!-- 15 -->\n<g id=\"node16\" class=\"node\">\n<title>15</title>\n<polygon fill=\"#e88e4e\" stroke=\"#000000\" points=\"662.5,-782 538.5,-782 538.5,-699 662.5,-699 662.5,-782\"/>\n<text text-anchor=\"middle\" x=\"600.5\" y=\"-766.8\" font-family=\"Helvetica,sans-Serif\" font-size=\"14.00\" fill=\"#000000\">거주지역 &lt;= 8.5</text>\n<text text-anchor=\"middle\" x=\"600.5\" y=\"-751.8\" font-family=\"Helvetica,sans-Serif\" font-size=\"14.00\" fill=\"#000000\">gini = 0.171</text>\n<text text-anchor=\"middle\" x=\"600.5\" y=\"-736.8\" font-family=\"Helvetica,sans-Serif\" font-size=\"14.00\" fill=\"#000000\">samples = 127</text>\n<text text-anchor=\"middle\" x=\"600.5\" y=\"-721.8\" font-family=\"Helvetica,sans-Serif\" font-size=\"14.00\" fill=\"#000000\">value = [115, 12]</text>\n<text text-anchor=\"middle\" x=\"600.5\" y=\"-706.8\" font-family=\"Helvetica,sans-Serif\" font-size=\"14.00\" fill=\"#000000\">class = 0</text>\n</g>\n<!-- 1&#45;&gt;15 -->\n<g id=\"edge15\" class=\"edge\">\n<title>1&#45;&gt;15</title>\n<path fill=\"none\" stroke=\"#000000\" d=\"M600.5,-817.8796C600.5,-809.6838 600.5,-800.9891 600.5,-792.5013\"/>\n<polygon fill=\"#000000\" stroke=\"#000000\" points=\"604.0001,-792.298 600.5,-782.2981 597.0001,-792.2981 604.0001,-792.298\"/>\n</g>\n<!-- 3 -->\n<g id=\"node4\" class=\"node\">\n<title>3</title>\n<polygon fill=\"#e9f4fc\" stroke=\"#000000\" points=\"271.5,-663 167.5,-663 167.5,-580 271.5,-580 271.5,-663\"/>\n<text text-anchor=\"middle\" x=\"219.5\" y=\"-647.8\" font-family=\"Helvetica,sans-Serif\" font-size=\"14.00\" fill=\"#000000\">월 &lt;= 1.5</text>\n<text text-anchor=\"middle\" x=\"219.5\" y=\"-632.8\" font-family=\"Helvetica,sans-Serif\" font-size=\"14.00\" fill=\"#000000\">gini = 0.498</text>\n<text text-anchor=\"middle\" x=\"219.5\" y=\"-617.8\" font-family=\"Helvetica,sans-Serif\" font-size=\"14.00\" fill=\"#000000\">samples = 17</text>\n<text text-anchor=\"middle\" x=\"219.5\" y=\"-602.8\" font-family=\"Helvetica,sans-Serif\" font-size=\"14.00\" fill=\"#000000\">value = [8, 9]</text>\n<text text-anchor=\"middle\" x=\"219.5\" y=\"-587.8\" font-family=\"Helvetica,sans-Serif\" font-size=\"14.00\" fill=\"#000000\">class = 1</text>\n</g>\n<!-- 2&#45;&gt;3 -->\n<g id=\"edge3\" class=\"edge\">\n<title>2&#45;&gt;3</title>\n<path fill=\"none\" stroke=\"#000000\" d=\"M300.1308,-698.8796C290.5584,-689.6931 280.3328,-679.8798 270.4897,-670.4336\"/>\n<polygon fill=\"#000000\" stroke=\"#000000\" points=\"272.6928,-667.6969 263.0543,-663.2981 267.8459,-672.7475 272.6928,-667.6969\"/>\n</g>\n<!-- 14 -->\n<g id=\"node15\" class=\"node\">\n<title>14</title>\n<polygon fill=\"#e58139\" stroke=\"#000000\" points=\"397,-655.5 290,-655.5 290,-587.5 397,-587.5 397,-655.5\"/>\n<text text-anchor=\"middle\" x=\"343.5\" y=\"-640.3\" font-family=\"Helvetica,sans-Serif\" font-size=\"14.00\" fill=\"#000000\">gini = 0.0</text>\n<text text-anchor=\"middle\" x=\"343.5\" y=\"-625.3\" font-family=\"Helvetica,sans-Serif\" font-size=\"14.00\" fill=\"#000000\">samples = 12</text>\n<text text-anchor=\"middle\" x=\"343.5\" y=\"-610.3\" font-family=\"Helvetica,sans-Serif\" font-size=\"14.00\" fill=\"#000000\">value = [12, 0]</text>\n<text text-anchor=\"middle\" x=\"343.5\" y=\"-595.3\" font-family=\"Helvetica,sans-Serif\" font-size=\"14.00\" fill=\"#000000\">class = 0</text>\n</g>\n<!-- 2&#45;&gt;14 -->\n<g id=\"edge14\" class=\"edge\">\n<title>2&#45;&gt;14</title>\n<path fill=\"none\" stroke=\"#000000\" d=\"M343.5,-698.8796C343.5,-688.2134 343.5,-676.7021 343.5,-665.9015\"/>\n<polygon fill=\"#000000\" stroke=\"#000000\" points=\"347.0001,-665.8149 343.5,-655.8149 340.0001,-665.815 347.0001,-665.8149\"/>\n</g>\n<!-- 4 -->\n<g id=\"node5\" class=\"node\">\n<title>4</title>\n<polygon fill=\"#399de5\" stroke=\"#000000\" points=\"159,-536.5 60,-536.5 60,-468.5 159,-468.5 159,-536.5\"/>\n<text text-anchor=\"middle\" x=\"109.5\" y=\"-521.3\" font-family=\"Helvetica,sans-Serif\" font-size=\"14.00\" fill=\"#000000\">gini = 0.0</text>\n<text text-anchor=\"middle\" x=\"109.5\" y=\"-506.3\" font-family=\"Helvetica,sans-Serif\" font-size=\"14.00\" fill=\"#000000\">samples = 4</text>\n<text text-anchor=\"middle\" x=\"109.5\" y=\"-491.3\" font-family=\"Helvetica,sans-Serif\" font-size=\"14.00\" fill=\"#000000\">value = [0, 4]</text>\n<text text-anchor=\"middle\" x=\"109.5\" y=\"-476.3\" font-family=\"Helvetica,sans-Serif\" font-size=\"14.00\" fill=\"#000000\">class = 1</text>\n</g>\n<!-- 3&#45;&gt;4 -->\n<g id=\"edge4\" class=\"edge\">\n<title>3&#45;&gt;4</title>\n<path fill=\"none\" stroke=\"#000000\" d=\"M181.0273,-579.8796C170.3547,-568.3337 158.7667,-555.7976 148.0875,-544.2446\"/>\n<polygon fill=\"#000000\" stroke=\"#000000\" points=\"150.5778,-541.7825 141.2197,-536.8149 145.4375,-546.534 150.5778,-541.7825\"/>\n</g>\n<!-- 5 -->\n<g id=\"node6\" class=\"node\">\n<title>5</title>\n<polygon fill=\"#f5d0b5\" stroke=\"#000000\" points=\"292,-544 177,-544 177,-461 292,-461 292,-544\"/>\n<text text-anchor=\"middle\" x=\"234.5\" y=\"-528.8\" font-family=\"Helvetica,sans-Serif\" font-size=\"14.00\" fill=\"#000000\">개인소득 &lt;= 5.5</text>\n<text text-anchor=\"middle\" x=\"234.5\" y=\"-513.8\" font-family=\"Helvetica,sans-Serif\" font-size=\"14.00\" fill=\"#000000\">gini = 0.473</text>\n<text text-anchor=\"middle\" x=\"234.5\" y=\"-498.8\" font-family=\"Helvetica,sans-Serif\" font-size=\"14.00\" fill=\"#000000\">samples = 13</text>\n<text text-anchor=\"middle\" x=\"234.5\" y=\"-483.8\" font-family=\"Helvetica,sans-Serif\" font-size=\"14.00\" fill=\"#000000\">value = [8, 5]</text>\n<text text-anchor=\"middle\" x=\"234.5\" y=\"-468.8\" font-family=\"Helvetica,sans-Serif\" font-size=\"14.00\" fill=\"#000000\">class = 0</text>\n</g>\n<!-- 3&#45;&gt;5 -->\n<g id=\"edge5\" class=\"edge\">\n<title>3&#45;&gt;5</title>\n<path fill=\"none\" stroke=\"#000000\" d=\"M224.7463,-579.8796C225.7907,-571.5938 226.8994,-562.798 227.9805,-554.2216\"/>\n<polygon fill=\"#000000\" stroke=\"#000000\" points=\"231.4532,-554.6573 229.2313,-544.2981 224.5081,-553.7818 231.4532,-554.6573\"/>\n</g>\n<!-- 6 -->\n<g id=\"node7\" class=\"node\">\n<title>6</title>\n<polygon fill=\"#efb083\" stroke=\"#000000\" points=\"174,-425 51,-425 51,-342 174,-342 174,-425\"/>\n<text text-anchor=\"middle\" x=\"112.5\" y=\"-409.8\" font-family=\"Helvetica,sans-Serif\" font-size=\"14.00\" fill=\"#000000\">여행활동1 &lt;= 0.5</text>\n<text text-anchor=\"middle\" x=\"112.5\" y=\"-394.8\" font-family=\"Helvetica,sans-Serif\" font-size=\"14.00\" fill=\"#000000\">gini = 0.397</text>\n<text text-anchor=\"middle\" x=\"112.5\" y=\"-379.8\" font-family=\"Helvetica,sans-Serif\" font-size=\"14.00\" fill=\"#000000\">samples = 11</text>\n<text text-anchor=\"middle\" x=\"112.5\" y=\"-364.8\" font-family=\"Helvetica,sans-Serif\" font-size=\"14.00\" fill=\"#000000\">value = [8, 3]</text>\n<text text-anchor=\"middle\" x=\"112.5\" y=\"-349.8\" font-family=\"Helvetica,sans-Serif\" font-size=\"14.00\" fill=\"#000000\">class = 0</text>\n</g>\n<!-- 5&#45;&gt;6 -->\n<g id=\"edge6\" class=\"edge\">\n<title>5&#45;&gt;6</title>\n<path fill=\"none\" stroke=\"#000000\" d=\"M191.8303,-460.8796C182.4123,-451.6931 172.3516,-441.8798 162.6672,-432.4336\"/>\n<polygon fill=\"#000000\" stroke=\"#000000\" points=\"164.9543,-429.7751 155.3518,-425.2981 160.0665,-434.7861 164.9543,-429.7751\"/>\n</g>\n<!-- 13 -->\n<g id=\"node14\" class=\"node\">\n<title>13</title>\n<polygon fill=\"#399de5\" stroke=\"#000000\" points=\"291,-417.5 192,-417.5 192,-349.5 291,-349.5 291,-417.5\"/>\n<text text-anchor=\"middle\" x=\"241.5\" y=\"-402.3\" font-family=\"Helvetica,sans-Serif\" font-size=\"14.00\" fill=\"#000000\">gini = 0.0</text>\n<text text-anchor=\"middle\" x=\"241.5\" y=\"-387.3\" font-family=\"Helvetica,sans-Serif\" font-size=\"14.00\" fill=\"#000000\">samples = 2</text>\n<text text-anchor=\"middle\" x=\"241.5\" y=\"-372.3\" font-family=\"Helvetica,sans-Serif\" font-size=\"14.00\" fill=\"#000000\">value = [0, 2]</text>\n<text text-anchor=\"middle\" x=\"241.5\" y=\"-357.3\" font-family=\"Helvetica,sans-Serif\" font-size=\"14.00\" fill=\"#000000\">class = 1</text>\n</g>\n<!-- 5&#45;&gt;13 -->\n<g id=\"edge13\" class=\"edge\">\n<title>5&#45;&gt;13</title>\n<path fill=\"none\" stroke=\"#000000\" d=\"M236.9483,-460.8796C237.5757,-450.2134 238.2528,-438.7021 238.8881,-427.9015\"/>\n<polygon fill=\"#000000\" stroke=\"#000000\" points=\"242.3881,-428.0032 239.4815,-417.8149 235.4002,-427.5921 242.3881,-428.0032\"/>\n</g>\n<!-- 7 -->\n<g id=\"node8\" class=\"node\">\n<title>7</title>\n<polygon fill=\"#399de5\" stroke=\"#000000\" points=\"102,-298.5 3,-298.5 3,-230.5 102,-230.5 102,-298.5\"/>\n<text text-anchor=\"middle\" x=\"52.5\" y=\"-283.3\" font-family=\"Helvetica,sans-Serif\" font-size=\"14.00\" fill=\"#000000\">gini = 0.0</text>\n<text text-anchor=\"middle\" x=\"52.5\" y=\"-268.3\" font-family=\"Helvetica,sans-Serif\" font-size=\"14.00\" fill=\"#000000\">samples = 1</text>\n<text text-anchor=\"middle\" x=\"52.5\" y=\"-253.3\" font-family=\"Helvetica,sans-Serif\" font-size=\"14.00\" fill=\"#000000\">value = [0, 1]</text>\n<text text-anchor=\"middle\" x=\"52.5\" y=\"-238.3\" font-family=\"Helvetica,sans-Serif\" font-size=\"14.00\" fill=\"#000000\">class = 1</text>\n</g>\n<!-- 6&#45;&gt;7 -->\n<g id=\"edge7\" class=\"edge\">\n<title>6&#45;&gt;7</title>\n<path fill=\"none\" stroke=\"#000000\" d=\"M91.5149,-341.8796C85.9707,-330.8835 79.9736,-318.9893 74.3831,-307.9015\"/>\n<polygon fill=\"#000000\" stroke=\"#000000\" points=\"77.4291,-306.1684 69.8016,-298.8149 71.1786,-309.3199 77.4291,-306.1684\"/>\n</g>\n<!-- 8 -->\n<g id=\"node9\" class=\"node\">\n<title>8</title>\n<polygon fill=\"#eca06a\" stroke=\"#000000\" points=\"224.5,-306 120.5,-306 120.5,-223 224.5,-223 224.5,-306\"/>\n<text text-anchor=\"middle\" x=\"172.5\" y=\"-290.8\" font-family=\"Helvetica,sans-Serif\" font-size=\"14.00\" fill=\"#000000\">성별 &lt;= 1.5</text>\n<text text-anchor=\"middle\" x=\"172.5\" y=\"-275.8\" font-family=\"Helvetica,sans-Serif\" font-size=\"14.00\" fill=\"#000000\">gini = 0.32</text>\n<text text-anchor=\"middle\" x=\"172.5\" y=\"-260.8\" font-family=\"Helvetica,sans-Serif\" font-size=\"14.00\" fill=\"#000000\">samples = 10</text>\n<text text-anchor=\"middle\" x=\"172.5\" y=\"-245.8\" font-family=\"Helvetica,sans-Serif\" font-size=\"14.00\" fill=\"#000000\">value = [8, 2]</text>\n<text text-anchor=\"middle\" x=\"172.5\" y=\"-230.8\" font-family=\"Helvetica,sans-Serif\" font-size=\"14.00\" fill=\"#000000\">class = 0</text>\n</g>\n<!-- 6&#45;&gt;8 -->\n<g id=\"edge8\" class=\"edge\">\n<title>6&#45;&gt;8</title>\n<path fill=\"none\" stroke=\"#000000\" d=\"M133.4851,-341.8796C137.799,-333.3236 142.3872,-324.2238 146.8446,-315.3833\"/>\n<polygon fill=\"#000000\" stroke=\"#000000\" points=\"150.0484,-316.8031 151.4253,-306.2981 143.7979,-313.6515 150.0484,-316.8031\"/>\n</g>\n<!-- 9 -->\n<g id=\"node10\" class=\"node\">\n<title>9</title>\n<polygon fill=\"#f2c09c\" stroke=\"#000000\" points=\"169,-187 46,-187 46,-104 169,-104 169,-187\"/>\n<text text-anchor=\"middle\" x=\"107.5\" y=\"-171.8\" font-family=\"Helvetica,sans-Serif\" font-size=\"14.00\" fill=\"#000000\">지역코드 &lt;= 18.0</text>\n<text text-anchor=\"middle\" x=\"107.5\" y=\"-156.8\" font-family=\"Helvetica,sans-Serif\" font-size=\"14.00\" fill=\"#000000\">gini = 0.444</text>\n<text text-anchor=\"middle\" x=\"107.5\" y=\"-141.8\" font-family=\"Helvetica,sans-Serif\" font-size=\"14.00\" fill=\"#000000\">samples = 6</text>\n<text text-anchor=\"middle\" x=\"107.5\" y=\"-126.8\" font-family=\"Helvetica,sans-Serif\" font-size=\"14.00\" fill=\"#000000\">value = [4, 2]</text>\n<text text-anchor=\"middle\" x=\"107.5\" y=\"-111.8\" font-family=\"Helvetica,sans-Serif\" font-size=\"14.00\" fill=\"#000000\">class = 0</text>\n</g>\n<!-- 8&#45;&gt;9 -->\n<g id=\"edge9\" class=\"edge\">\n<title>8&#45;&gt;9</title>\n<path fill=\"none\" stroke=\"#000000\" d=\"M149.7662,-222.8796C145.0435,-214.2335 140.0176,-205.0322 135.141,-196.1042\"/>\n<polygon fill=\"#000000\" stroke=\"#000000\" points=\"138.1963,-194.3964 130.3309,-187.2981 132.053,-197.752 138.1963,-194.3964\"/>\n</g>\n<!-- 12 -->\n<g id=\"node13\" class=\"node\">\n<title>12</title>\n<polygon fill=\"#e58139\" stroke=\"#000000\" points=\"286,-179.5 187,-179.5 187,-111.5 286,-111.5 286,-179.5\"/>\n<text text-anchor=\"middle\" x=\"236.5\" y=\"-164.3\" font-family=\"Helvetica,sans-Serif\" font-size=\"14.00\" fill=\"#000000\">gini = 0.0</text>\n<text text-anchor=\"middle\" x=\"236.5\" y=\"-149.3\" font-family=\"Helvetica,sans-Serif\" font-size=\"14.00\" fill=\"#000000\">samples = 4</text>\n<text text-anchor=\"middle\" x=\"236.5\" y=\"-134.3\" font-family=\"Helvetica,sans-Serif\" font-size=\"14.00\" fill=\"#000000\">value = [4, 0]</text>\n<text text-anchor=\"middle\" x=\"236.5\" y=\"-119.3\" font-family=\"Helvetica,sans-Serif\" font-size=\"14.00\" fill=\"#000000\">class = 0</text>\n</g>\n<!-- 8&#45;&gt;12 -->\n<g id=\"edge12\" class=\"edge\">\n<title>8&#45;&gt;12</title>\n<path fill=\"none\" stroke=\"#000000\" d=\"M194.8841,-222.8796C200.798,-211.8835 207.1949,-199.9893 213.158,-188.9015\"/>\n<polygon fill=\"#000000\" stroke=\"#000000\" points=\"216.3908,-190.2799 218.0449,-179.8149 210.2258,-186.9642 216.3908,-190.2799\"/>\n</g>\n<!-- 10 -->\n<g id=\"node11\" class=\"node\">\n<title>10</title>\n<polygon fill=\"#eca06a\" stroke=\"#000000\" points=\"99,-68 0,-68 0,0 99,0 99,-68\"/>\n<text text-anchor=\"middle\" x=\"49.5\" y=\"-52.8\" font-family=\"Helvetica,sans-Serif\" font-size=\"14.00\" fill=\"#000000\">gini = 0.32</text>\n<text text-anchor=\"middle\" x=\"49.5\" y=\"-37.8\" font-family=\"Helvetica,sans-Serif\" font-size=\"14.00\" fill=\"#000000\">samples = 5</text>\n<text text-anchor=\"middle\" x=\"49.5\" y=\"-22.8\" font-family=\"Helvetica,sans-Serif\" font-size=\"14.00\" fill=\"#000000\">value = [4, 1]</text>\n<text text-anchor=\"middle\" x=\"49.5\" y=\"-7.8\" font-family=\"Helvetica,sans-Serif\" font-size=\"14.00\" fill=\"#000000\">class = 0</text>\n</g>\n<!-- 9&#45;&gt;10 -->\n<g id=\"edge10\" class=\"edge\">\n<title>9&#45;&gt;10</title>\n<path fill=\"none\" stroke=\"#000000\" d=\"M85.9029,-103.9815C81.3612,-95.2504 76.5598,-86.0202 71.9863,-77.2281\"/>\n<polygon fill=\"#000000\" stroke=\"#000000\" points=\"75.0431,-75.52 67.3233,-68.2637 68.8331,-78.7504 75.0431,-75.52\"/>\n</g>\n<!-- 11 -->\n<g id=\"node12\" class=\"node\">\n<title>11</title>\n<polygon fill=\"#399de5\" stroke=\"#000000\" points=\"216,-68 117,-68 117,0 216,0 216,-68\"/>\n<text text-anchor=\"middle\" x=\"166.5\" y=\"-52.8\" font-family=\"Helvetica,sans-Serif\" font-size=\"14.00\" fill=\"#000000\">gini = 0.0</text>\n<text text-anchor=\"middle\" x=\"166.5\" y=\"-37.8\" font-family=\"Helvetica,sans-Serif\" font-size=\"14.00\" fill=\"#000000\">samples = 1</text>\n<text text-anchor=\"middle\" x=\"166.5\" y=\"-22.8\" font-family=\"Helvetica,sans-Serif\" font-size=\"14.00\" fill=\"#000000\">value = [0, 1]</text>\n<text text-anchor=\"middle\" x=\"166.5\" y=\"-7.8\" font-family=\"Helvetica,sans-Serif\" font-size=\"14.00\" fill=\"#000000\">class = 1</text>\n</g>\n<!-- 9&#45;&gt;11 -->\n<g id=\"edge11\" class=\"edge\">\n<title>9&#45;&gt;11</title>\n<path fill=\"none\" stroke=\"#000000\" d=\"M129.4694,-103.9815C134.0895,-95.2504 138.9736,-86.0202 143.626,-77.2281\"/>\n<polygon fill=\"#000000\" stroke=\"#000000\" points=\"146.7859,-78.7395 148.3694,-68.2637 140.5987,-75.4655 146.7859,-78.7395\"/>\n</g>\n<!-- 16 -->\n<g id=\"node17\" class=\"node\">\n<title>16</title>\n<polygon fill=\"#e6843d\" stroke=\"#000000\" points=\"584,-663 415,-663 415,-580 584,-580 584,-663\"/>\n<text text-anchor=\"middle\" x=\"499.5\" y=\"-647.8\" font-family=\"Helvetica,sans-Serif\" font-size=\"14.00\" fill=\"#000000\">주요이동교통수단 &lt;= 4.5</text>\n<text text-anchor=\"middle\" x=\"499.5\" y=\"-632.8\" font-family=\"Helvetica,sans-Serif\" font-size=\"14.00\" fill=\"#000000\">gini = 0.043</text>\n<text text-anchor=\"middle\" x=\"499.5\" y=\"-617.8\" font-family=\"Helvetica,sans-Serif\" font-size=\"14.00\" fill=\"#000000\">samples = 46</text>\n<text text-anchor=\"middle\" x=\"499.5\" y=\"-602.8\" font-family=\"Helvetica,sans-Serif\" font-size=\"14.00\" fill=\"#000000\">value = [45, 1]</text>\n<text text-anchor=\"middle\" x=\"499.5\" y=\"-587.8\" font-family=\"Helvetica,sans-Serif\" font-size=\"14.00\" fill=\"#000000\">class = 0</text>\n</g>\n<!-- 15&#45;&gt;16 -->\n<g id=\"edge16\" class=\"edge\">\n<title>15&#45;&gt;16</title>\n<path fill=\"none\" stroke=\"#000000\" d=\"M565.1751,-698.8796C557.5311,-689.8733 549.3757,-680.2644 541.5039,-670.9897\"/>\n<polygon fill=\"#000000\" stroke=\"#000000\" points=\"544.1151,-668.6574 534.9757,-663.2981 538.7782,-673.1871 544.1151,-668.6574\"/>\n</g>\n<!-- 21 -->\n<g id=\"node22\" class=\"node\">\n<title>21</title>\n<polygon fill=\"#e99558\" stroke=\"#000000\" points=\"746.5,-663 630.5,-663 630.5,-580 746.5,-580 746.5,-663\"/>\n<text text-anchor=\"middle\" x=\"688.5\" y=\"-647.8\" font-family=\"Helvetica,sans-Serif\" font-size=\"14.00\" fill=\"#000000\">연령 &lt;= 3.5</text>\n<text text-anchor=\"middle\" x=\"688.5\" y=\"-632.8\" font-family=\"Helvetica,sans-Serif\" font-size=\"14.00\" fill=\"#000000\">gini = 0.235</text>\n<text text-anchor=\"middle\" x=\"688.5\" y=\"-617.8\" font-family=\"Helvetica,sans-Serif\" font-size=\"14.00\" fill=\"#000000\">samples = 81</text>\n<text text-anchor=\"middle\" x=\"688.5\" y=\"-602.8\" font-family=\"Helvetica,sans-Serif\" font-size=\"14.00\" fill=\"#000000\">value = [70, 11]</text>\n<text text-anchor=\"middle\" x=\"688.5\" y=\"-587.8\" font-family=\"Helvetica,sans-Serif\" font-size=\"14.00\" fill=\"#000000\">class = 0</text>\n</g>\n<!-- 15&#45;&gt;21 -->\n<g id=\"edge21\" class=\"edge\">\n<title>15&#45;&gt;21</title>\n<path fill=\"none\" stroke=\"#000000\" d=\"M631.2781,-698.8796C637.8051,-690.0534 644.7599,-680.6485 651.4908,-671.5466\"/>\n<polygon fill=\"#000000\" stroke=\"#000000\" points=\"654.4588,-673.4195 657.5905,-663.2981 648.8305,-669.2574 654.4588,-673.4195\"/>\n</g>\n<!-- 17 -->\n<g id=\"node18\" class=\"node\">\n<title>17</title>\n<polygon fill=\"#e58139\" stroke=\"#000000\" points=\"424,-536.5 317,-536.5 317,-468.5 424,-468.5 424,-536.5\"/>\n<text text-anchor=\"middle\" x=\"370.5\" y=\"-521.3\" font-family=\"Helvetica,sans-Serif\" font-size=\"14.00\" fill=\"#000000\">gini = 0.0</text>\n<text text-anchor=\"middle\" x=\"370.5\" y=\"-506.3\" font-family=\"Helvetica,sans-Serif\" font-size=\"14.00\" fill=\"#000000\">samples = 43</text>\n<text text-anchor=\"middle\" x=\"370.5\" y=\"-491.3\" font-family=\"Helvetica,sans-Serif\" font-size=\"14.00\" fill=\"#000000\">value = [43, 0]</text>\n<text text-anchor=\"middle\" x=\"370.5\" y=\"-476.3\" font-family=\"Helvetica,sans-Serif\" font-size=\"14.00\" fill=\"#000000\">class = 0</text>\n</g>\n<!-- 16&#45;&gt;17 -->\n<g id=\"edge17\" class=\"edge\">\n<title>16&#45;&gt;17</title>\n<path fill=\"none\" stroke=\"#000000\" d=\"M454.3821,-579.8796C441.7467,-568.2237 428.0174,-555.5587 415.395,-543.9148\"/>\n<polygon fill=\"#000000\" stroke=\"#000000\" points=\"417.422,-541.0228 407.6985,-536.8149 412.6756,-546.168 417.422,-541.0228\"/>\n</g>\n<!-- 18 -->\n<g id=\"node19\" class=\"node\">\n<title>18</title>\n<polygon fill=\"#f2c09c\" stroke=\"#000000\" points=\"541,-544 442,-544 442,-461 541,-461 541,-544\"/>\n<text text-anchor=\"middle\" x=\"491.5\" y=\"-528.8\" font-family=\"Helvetica,sans-Serif\" font-size=\"14.00\" fill=\"#000000\">주업 &lt;= 3.5</text>\n<text text-anchor=\"middle\" x=\"491.5\" y=\"-513.8\" font-family=\"Helvetica,sans-Serif\" font-size=\"14.00\" fill=\"#000000\">gini = 0.444</text>\n<text text-anchor=\"middle\" x=\"491.5\" y=\"-498.8\" font-family=\"Helvetica,sans-Serif\" font-size=\"14.00\" fill=\"#000000\">samples = 3</text>\n<text text-anchor=\"middle\" x=\"491.5\" y=\"-483.8\" font-family=\"Helvetica,sans-Serif\" font-size=\"14.00\" fill=\"#000000\">value = [2, 1]</text>\n<text text-anchor=\"middle\" x=\"491.5\" y=\"-468.8\" font-family=\"Helvetica,sans-Serif\" font-size=\"14.00\" fill=\"#000000\">class = 0</text>\n</g>\n<!-- 16&#45;&gt;18 -->\n<g id=\"edge18\" class=\"edge\">\n<title>16&#45;&gt;18</title>\n<path fill=\"none\" stroke=\"#000000\" d=\"M496.702,-579.8796C496.151,-571.6838 495.5665,-562.9891 494.9959,-554.5013\"/>\n<polygon fill=\"#000000\" stroke=\"#000000\" points=\"498.4729,-554.0408 494.31,-544.2981 491.4887,-554.5103 498.4729,-554.0408\"/>\n</g>\n<!-- 19 -->\n<g id=\"node20\" class=\"node\">\n<title>19</title>\n<polygon fill=\"#399de5\" stroke=\"#000000\" points=\"416,-417.5 317,-417.5 317,-349.5 416,-349.5 416,-417.5\"/>\n<text text-anchor=\"middle\" x=\"366.5\" y=\"-402.3\" font-family=\"Helvetica,sans-Serif\" font-size=\"14.00\" fill=\"#000000\">gini = 0.0</text>\n<text text-anchor=\"middle\" x=\"366.5\" y=\"-387.3\" font-family=\"Helvetica,sans-Serif\" font-size=\"14.00\" fill=\"#000000\">samples = 1</text>\n<text text-anchor=\"middle\" x=\"366.5\" y=\"-372.3\" font-family=\"Helvetica,sans-Serif\" font-size=\"14.00\" fill=\"#000000\">value = [0, 1]</text>\n<text text-anchor=\"middle\" x=\"366.5\" y=\"-357.3\" font-family=\"Helvetica,sans-Serif\" font-size=\"14.00\" fill=\"#000000\">class = 1</text>\n</g>\n<!-- 18&#45;&gt;19 -->\n<g id=\"edge19\" class=\"edge\">\n<title>18&#45;&gt;19</title>\n<path fill=\"none\" stroke=\"#000000\" d=\"M447.7811,-460.8796C435.5375,-449.2237 422.2339,-436.5587 410.0029,-424.9148\"/>\n<polygon fill=\"#000000\" stroke=\"#000000\" points=\"412.2012,-422.1751 402.5451,-417.8149 407.3746,-427.245 412.2012,-422.1751\"/>\n</g>\n<!-- 20 -->\n<g id=\"node21\" class=\"node\">\n<title>20</title>\n<polygon fill=\"#e58139\" stroke=\"#000000\" points=\"533,-417.5 434,-417.5 434,-349.5 533,-349.5 533,-417.5\"/>\n<text text-anchor=\"middle\" x=\"483.5\" y=\"-402.3\" font-family=\"Helvetica,sans-Serif\" font-size=\"14.00\" fill=\"#000000\">gini = 0.0</text>\n<text text-anchor=\"middle\" x=\"483.5\" y=\"-387.3\" font-family=\"Helvetica,sans-Serif\" font-size=\"14.00\" fill=\"#000000\">samples = 2</text>\n<text text-anchor=\"middle\" x=\"483.5\" y=\"-372.3\" font-family=\"Helvetica,sans-Serif\" font-size=\"14.00\" fill=\"#000000\">value = [2, 0]</text>\n<text text-anchor=\"middle\" x=\"483.5\" y=\"-357.3\" font-family=\"Helvetica,sans-Serif\" font-size=\"14.00\" fill=\"#000000\">class = 0</text>\n</g>\n<!-- 18&#45;&gt;20 -->\n<g id=\"edge20\" class=\"edge\">\n<title>18&#45;&gt;20</title>\n<path fill=\"none\" stroke=\"#000000\" d=\"M488.702,-460.8796C487.9849,-450.2134 487.2111,-438.7021 486.485,-427.9015\"/>\n<polygon fill=\"#000000\" stroke=\"#000000\" points=\"489.9699,-427.5576 485.8069,-417.8149 482.9856,-428.0272 489.9699,-427.5576\"/>\n</g>\n<!-- 22 -->\n<g id=\"node23\" class=\"node\">\n<title>22</title>\n<polygon fill=\"#e6853f\" stroke=\"#000000\" points=\"773.5,-544 603.5,-544 603.5,-461 773.5,-461 773.5,-544\"/>\n<text text-anchor=\"middle\" x=\"688.5\" y=\"-528.8\" font-family=\"Helvetica,sans-Serif\" font-size=\"14.00\" fill=\"#000000\">1인지출비용 &lt;= 25000.0</text>\n<text text-anchor=\"middle\" x=\"688.5\" y=\"-513.8\" font-family=\"Helvetica,sans-Serif\" font-size=\"14.00\" fill=\"#000000\">gini = 0.056</text>\n<text text-anchor=\"middle\" x=\"688.5\" y=\"-498.8\" font-family=\"Helvetica,sans-Serif\" font-size=\"14.00\" fill=\"#000000\">samples = 35</text>\n<text text-anchor=\"middle\" x=\"688.5\" y=\"-483.8\" font-family=\"Helvetica,sans-Serif\" font-size=\"14.00\" fill=\"#000000\">value = [34, 1]</text>\n<text text-anchor=\"middle\" x=\"688.5\" y=\"-468.8\" font-family=\"Helvetica,sans-Serif\" font-size=\"14.00\" fill=\"#000000\">class = 0</text>\n</g>\n<!-- 21&#45;&gt;22 -->\n<g id=\"edge22\" class=\"edge\">\n<title>21&#45;&gt;22</title>\n<path fill=\"none\" stroke=\"#000000\" d=\"M688.5,-579.8796C688.5,-571.6838 688.5,-562.9891 688.5,-554.5013\"/>\n<polygon fill=\"#000000\" stroke=\"#000000\" points=\"692.0001,-554.298 688.5,-544.2981 685.0001,-554.2981 692.0001,-554.298\"/>\n</g>\n<!-- 27 -->\n<g id=\"node28\" class=\"node\">\n<title>27</title>\n<polygon fill=\"#eca470\" stroke=\"#000000\" points=\"936,-544 813,-544 813,-461 936,-461 936,-544\"/>\n<text text-anchor=\"middle\" x=\"874.5\" y=\"-528.8\" font-family=\"Helvetica,sans-Serif\" font-size=\"14.00\" fill=\"#000000\">지역코드 &lt;= 32.5</text>\n<text text-anchor=\"middle\" x=\"874.5\" y=\"-513.8\" font-family=\"Helvetica,sans-Serif\" font-size=\"14.00\" fill=\"#000000\">gini = 0.34</text>\n<text text-anchor=\"middle\" x=\"874.5\" y=\"-498.8\" font-family=\"Helvetica,sans-Serif\" font-size=\"14.00\" fill=\"#000000\">samples = 46</text>\n<text text-anchor=\"middle\" x=\"874.5\" y=\"-483.8\" font-family=\"Helvetica,sans-Serif\" font-size=\"14.00\" fill=\"#000000\">value = [36, 10]</text>\n<text text-anchor=\"middle\" x=\"874.5\" y=\"-468.8\" font-family=\"Helvetica,sans-Serif\" font-size=\"14.00\" fill=\"#000000\">class = 0</text>\n</g>\n<!-- 21&#45;&gt;27 -->\n<g id=\"edge27\" class=\"edge\">\n<title>21&#45;&gt;27</title>\n<path fill=\"none\" stroke=\"#000000\" d=\"M746.5865,-584.3371C764.8885,-572.6278 785.3008,-559.5683 804.3497,-547.3811\"/>\n<polygon fill=\"#000000\" stroke=\"#000000\" points=\"806.4562,-550.1885 812.9935,-541.851 802.6837,-544.292 806.4562,-550.1885\"/>\n</g>\n<!-- 23 -->\n<g id=\"node24\" class=\"node\">\n<title>23</title>\n<polygon fill=\"#eca06a\" stroke=\"#000000\" points=\"674,-425 551,-425 551,-342 674,-342 674,-425\"/>\n<text text-anchor=\"middle\" x=\"612.5\" y=\"-409.8\" font-family=\"Helvetica,sans-Serif\" font-size=\"14.00\" fill=\"#000000\">여행활동2 &lt;= 0.5</text>\n<text text-anchor=\"middle\" x=\"612.5\" y=\"-394.8\" font-family=\"Helvetica,sans-Serif\" font-size=\"14.00\" fill=\"#000000\">gini = 0.32</text>\n<text text-anchor=\"middle\" x=\"612.5\" y=\"-379.8\" font-family=\"Helvetica,sans-Serif\" font-size=\"14.00\" fill=\"#000000\">samples = 5</text>\n<text text-anchor=\"middle\" x=\"612.5\" y=\"-364.8\" font-family=\"Helvetica,sans-Serif\" font-size=\"14.00\" fill=\"#000000\">value = [4, 1]</text>\n<text text-anchor=\"middle\" x=\"612.5\" y=\"-349.8\" font-family=\"Helvetica,sans-Serif\" font-size=\"14.00\" fill=\"#000000\">class = 0</text>\n</g>\n<!-- 22&#45;&gt;23 -->\n<g id=\"edge23\" class=\"edge\">\n<title>22&#45;&gt;23</title>\n<path fill=\"none\" stroke=\"#000000\" d=\"M661.9189,-460.8796C656.3395,-452.1434 650.3981,-442.8404 644.6405,-433.8253\"/>\n<polygon fill=\"#000000\" stroke=\"#000000\" points=\"647.5269,-431.8421 639.1946,-425.2981 641.6274,-435.6098 647.5269,-431.8421\"/>\n</g>\n<!-- 26 -->\n<g id=\"node27\" class=\"node\">\n<title>26</title>\n<polygon fill=\"#e58139\" stroke=\"#000000\" points=\"799,-417.5 692,-417.5 692,-349.5 799,-349.5 799,-417.5\"/>\n<text text-anchor=\"middle\" x=\"745.5\" y=\"-402.3\" font-family=\"Helvetica,sans-Serif\" font-size=\"14.00\" fill=\"#000000\">gini = 0.0</text>\n<text text-anchor=\"middle\" x=\"745.5\" y=\"-387.3\" font-family=\"Helvetica,sans-Serif\" font-size=\"14.00\" fill=\"#000000\">samples = 30</text>\n<text text-anchor=\"middle\" x=\"745.5\" y=\"-372.3\" font-family=\"Helvetica,sans-Serif\" font-size=\"14.00\" fill=\"#000000\">value = [30, 0]</text>\n<text text-anchor=\"middle\" x=\"745.5\" y=\"-357.3\" font-family=\"Helvetica,sans-Serif\" font-size=\"14.00\" fill=\"#000000\">class = 0</text>\n</g>\n<!-- 22&#45;&gt;26 -->\n<g id=\"edge26\" class=\"edge\">\n<title>22&#45;&gt;26</title>\n<path fill=\"none\" stroke=\"#000000\" d=\"M708.4358,-460.8796C713.7029,-449.8835 719.4001,-437.9893 724.711,-426.9015\"/>\n<polygon fill=\"#000000\" stroke=\"#000000\" points=\"727.9,-428.3457 729.0634,-417.8149 721.5869,-425.3217 727.9,-428.3457\"/>\n</g>\n<!-- 24 -->\n<g id=\"node25\" class=\"node\">\n<title>24</title>\n<polygon fill=\"#399de5\" stroke=\"#000000\" points=\"543,-298.5 444,-298.5 444,-230.5 543,-230.5 543,-298.5\"/>\n<text text-anchor=\"middle\" x=\"493.5\" y=\"-283.3\" font-family=\"Helvetica,sans-Serif\" font-size=\"14.00\" fill=\"#000000\">gini = 0.0</text>\n<text text-anchor=\"middle\" x=\"493.5\" y=\"-268.3\" font-family=\"Helvetica,sans-Serif\" font-size=\"14.00\" fill=\"#000000\">samples = 1</text>\n<text text-anchor=\"middle\" x=\"493.5\" y=\"-253.3\" font-family=\"Helvetica,sans-Serif\" font-size=\"14.00\" fill=\"#000000\">value = [0, 1]</text>\n<text text-anchor=\"middle\" x=\"493.5\" y=\"-238.3\" font-family=\"Helvetica,sans-Serif\" font-size=\"14.00\" fill=\"#000000\">class = 1</text>\n</g>\n<!-- 23&#45;&gt;24 -->\n<g id=\"edge24\" class=\"edge\">\n<title>23&#45;&gt;24</title>\n<path fill=\"none\" stroke=\"#000000\" d=\"M570.8796,-341.8796C559.2237,-330.2237 546.5587,-317.5587 534.9148,-305.9148\"/>\n<polygon fill=\"#000000\" stroke=\"#000000\" points=\"537.3609,-303.4111 527.8149,-298.8149 532.4111,-308.3609 537.3609,-303.4111\"/>\n</g>\n<!-- 25 -->\n<g id=\"node26\" class=\"node\">\n<title>25</title>\n<polygon fill=\"#e58139\" stroke=\"#000000\" points=\"660,-298.5 561,-298.5 561,-230.5 660,-230.5 660,-298.5\"/>\n<text text-anchor=\"middle\" x=\"610.5\" y=\"-283.3\" font-family=\"Helvetica,sans-Serif\" font-size=\"14.00\" fill=\"#000000\">gini = 0.0</text>\n<text text-anchor=\"middle\" x=\"610.5\" y=\"-268.3\" font-family=\"Helvetica,sans-Serif\" font-size=\"14.00\" fill=\"#000000\">samples = 4</text>\n<text text-anchor=\"middle\" x=\"610.5\" y=\"-253.3\" font-family=\"Helvetica,sans-Serif\" font-size=\"14.00\" fill=\"#000000\">value = [4, 0]</text>\n<text text-anchor=\"middle\" x=\"610.5\" y=\"-238.3\" font-family=\"Helvetica,sans-Serif\" font-size=\"14.00\" fill=\"#000000\">class = 0</text>\n</g>\n<!-- 23&#45;&gt;25 -->\n<g id=\"edge25\" class=\"edge\">\n<title>23&#45;&gt;25</title>\n<path fill=\"none\" stroke=\"#000000\" d=\"M611.8005,-341.8796C611.6212,-331.2134 611.4278,-319.7021 611.2462,-308.9015\"/>\n<polygon fill=\"#000000\" stroke=\"#000000\" points=\"614.7444,-308.7547 611.0767,-298.8149 607.7454,-308.8724 614.7444,-308.7547\"/>\n</g>\n<!-- 28 -->\n<g id=\"node29\" class=\"node\">\n<title>28</title>\n<polygon fill=\"#eb9e66\" stroke=\"#000000\" points=\"928,-425 821,-425 821,-342 928,-342 928,-425\"/>\n<text text-anchor=\"middle\" x=\"874.5\" y=\"-409.8\" font-family=\"Helvetica,sans-Serif\" font-size=\"14.00\" fill=\"#000000\">월 &lt;= 2.5</text>\n<text text-anchor=\"middle\" x=\"874.5\" y=\"-394.8\" font-family=\"Helvetica,sans-Serif\" font-size=\"14.00\" fill=\"#000000\">gini = 0.303</text>\n<text text-anchor=\"middle\" x=\"874.5\" y=\"-379.8\" font-family=\"Helvetica,sans-Serif\" font-size=\"14.00\" fill=\"#000000\">samples = 43</text>\n<text text-anchor=\"middle\" x=\"874.5\" y=\"-364.8\" font-family=\"Helvetica,sans-Serif\" font-size=\"14.00\" fill=\"#000000\">value = [35, 8]</text>\n<text text-anchor=\"middle\" x=\"874.5\" y=\"-349.8\" font-family=\"Helvetica,sans-Serif\" font-size=\"14.00\" fill=\"#000000\">class = 0</text>\n</g>\n<!-- 27&#45;&gt;28 -->\n<g id=\"edge28\" class=\"edge\">\n<title>27&#45;&gt;28</title>\n<path fill=\"none\" stroke=\"#000000\" d=\"M874.5,-460.8796C874.5,-452.6838 874.5,-443.9891 874.5,-435.5013\"/>\n<polygon fill=\"#000000\" stroke=\"#000000\" points=\"878.0001,-435.298 874.5,-425.2981 871.0001,-435.2981 878.0001,-435.298\"/>\n</g>\n<!-- 41 -->\n<g id=\"node42\" class=\"node\">\n<title>41</title>\n<polygon fill=\"#9ccef2\" stroke=\"#000000\" points=\"1051,-425 952,-425 952,-342 1051,-342 1051,-425\"/>\n<text text-anchor=\"middle\" x=\"1001.5\" y=\"-409.8\" font-family=\"Helvetica,sans-Serif\" font-size=\"14.00\" fill=\"#000000\">월 &lt;= 11.5</text>\n<text text-anchor=\"middle\" x=\"1001.5\" y=\"-394.8\" font-family=\"Helvetica,sans-Serif\" font-size=\"14.00\" fill=\"#000000\">gini = 0.444</text>\n<text text-anchor=\"middle\" x=\"1001.5\" y=\"-379.8\" font-family=\"Helvetica,sans-Serif\" font-size=\"14.00\" fill=\"#000000\">samples = 3</text>\n<text text-anchor=\"middle\" x=\"1001.5\" y=\"-364.8\" font-family=\"Helvetica,sans-Serif\" font-size=\"14.00\" fill=\"#000000\">value = [1, 2]</text>\n<text text-anchor=\"middle\" x=\"1001.5\" y=\"-349.8\" font-family=\"Helvetica,sans-Serif\" font-size=\"14.00\" fill=\"#000000\">class = 1</text>\n</g>\n<!-- 27&#45;&gt;41 -->\n<g id=\"edge41\" class=\"edge\">\n<title>27&#45;&gt;41</title>\n<path fill=\"none\" stroke=\"#000000\" d=\"M918.9184,-460.8796C928.8186,-451.6031 939.4009,-441.6874 949.5731,-432.1559\"/>\n<polygon fill=\"#000000\" stroke=\"#000000\" points=\"951.9879,-434.6896 956.892,-425.2981 947.2016,-429.5816 951.9879,-434.6896\"/>\n</g>\n<!-- 29 -->\n<g id=\"node30\" class=\"node\">\n<title>29</title>\n<polygon fill=\"#ffffff\" stroke=\"#000000\" points=\"801,-306 678,-306 678,-223 801,-223 801,-306\"/>\n<text text-anchor=\"middle\" x=\"739.5\" y=\"-290.8\" font-family=\"Helvetica,sans-Serif\" font-size=\"14.00\" fill=\"#000000\">여행활동2 &lt;= 0.5</text>\n<text text-anchor=\"middle\" x=\"739.5\" y=\"-275.8\" font-family=\"Helvetica,sans-Serif\" font-size=\"14.00\" fill=\"#000000\">gini = 0.5</text>\n<text text-anchor=\"middle\" x=\"739.5\" y=\"-260.8\" font-family=\"Helvetica,sans-Serif\" font-size=\"14.00\" fill=\"#000000\">samples = 6</text>\n<text text-anchor=\"middle\" x=\"739.5\" y=\"-245.8\" font-family=\"Helvetica,sans-Serif\" font-size=\"14.00\" fill=\"#000000\">value = [3, 3]</text>\n<text text-anchor=\"middle\" x=\"739.5\" y=\"-230.8\" font-family=\"Helvetica,sans-Serif\" font-size=\"14.00\" fill=\"#000000\">class = 0</text>\n</g>\n<!-- 28&#45;&gt;29 -->\n<g id=\"edge29\" class=\"edge\">\n<title>28&#45;&gt;29</title>\n<path fill=\"none\" stroke=\"#000000\" d=\"M827.2836,-341.8796C816.7598,-332.6031 805.5109,-322.6874 794.6979,-313.1559\"/>\n<polygon fill=\"#000000\" stroke=\"#000000\" points=\"796.734,-310.2851 786.918,-306.2981 792.1052,-315.5362 796.734,-310.2851\"/>\n</g>\n<!-- 34 -->\n<g id=\"node35\" class=\"node\">\n<title>34</title>\n<polygon fill=\"#e99558\" stroke=\"#000000\" points=\"934,-306 819,-306 819,-223 934,-223 934,-306\"/>\n<text text-anchor=\"middle\" x=\"876.5\" y=\"-290.8\" font-family=\"Helvetica,sans-Serif\" font-size=\"14.00\" fill=\"#000000\">지역코드 &lt;= 9.5</text>\n<text text-anchor=\"middle\" x=\"876.5\" y=\"-275.8\" font-family=\"Helvetica,sans-Serif\" font-size=\"14.00\" fill=\"#000000\">gini = 0.234</text>\n<text text-anchor=\"middle\" x=\"876.5\" y=\"-260.8\" font-family=\"Helvetica,sans-Serif\" font-size=\"14.00\" fill=\"#000000\">samples = 37</text>\n<text text-anchor=\"middle\" x=\"876.5\" y=\"-245.8\" font-family=\"Helvetica,sans-Serif\" font-size=\"14.00\" fill=\"#000000\">value = [32, 5]</text>\n<text text-anchor=\"middle\" x=\"876.5\" y=\"-230.8\" font-family=\"Helvetica,sans-Serif\" font-size=\"14.00\" fill=\"#000000\">class = 0</text>\n</g>\n<!-- 28&#45;&gt;34 -->\n<g id=\"edge34\" class=\"edge\">\n<title>28&#45;&gt;34</title>\n<path fill=\"none\" stroke=\"#000000\" d=\"M875.1995,-341.8796C875.3372,-333.6838 875.4834,-324.9891 875.626,-316.5013\"/>\n<polygon fill=\"#000000\" stroke=\"#000000\" points=\"879.1289,-316.3555 875.7975,-306.2981 872.1299,-316.2378 879.1289,-316.3555\"/>\n</g>\n<!-- 30 -->\n<g id=\"node31\" class=\"node\">\n<title>30</title>\n<polygon fill=\"#399de5\" stroke=\"#000000\" points=\"574,-179.5 475,-179.5 475,-111.5 574,-111.5 574,-179.5\"/>\n<text text-anchor=\"middle\" x=\"524.5\" y=\"-164.3\" font-family=\"Helvetica,sans-Serif\" font-size=\"14.00\" fill=\"#000000\">gini = 0.0</text>\n<text text-anchor=\"middle\" x=\"524.5\" y=\"-149.3\" font-family=\"Helvetica,sans-Serif\" font-size=\"14.00\" fill=\"#000000\">samples = 2</text>\n<text text-anchor=\"middle\" x=\"524.5\" y=\"-134.3\" font-family=\"Helvetica,sans-Serif\" font-size=\"14.00\" fill=\"#000000\">value = [0, 2]</text>\n<text text-anchor=\"middle\" x=\"524.5\" y=\"-119.3\" font-family=\"Helvetica,sans-Serif\" font-size=\"14.00\" fill=\"#000000\">class = 1</text>\n</g>\n<!-- 29&#45;&gt;30 -->\n<g id=\"edge30\" class=\"edge\">\n<title>29&#45;&gt;30</title>\n<path fill=\"none\" stroke=\"#000000\" d=\"M677.8022,-227.8102C674.6759,-226.1486 671.5631,-224.5359 668.5,-223 631.8259,-204.6107 619.3692,-206.9138 583.5,-187 582.1998,-186.2782 580.8933,-185.534 579.5838,-184.7711\"/>\n<polygon fill=\"#000000\" stroke=\"#000000\" points=\"581.2959,-181.7158 570.9347,-179.5032 577.6546,-187.6942 581.2959,-181.7158\"/>\n</g>\n<!-- 31 -->\n<g id=\"node32\" class=\"node\">\n<title>31</title>\n<polygon fill=\"#eeab7b\" stroke=\"#000000\" points=\"770.5,-187 592.5,-187 592.5,-104 770.5,-104 770.5,-187\"/>\n<text text-anchor=\"middle\" x=\"681.5\" y=\"-171.8\" font-family=\"Helvetica,sans-Serif\" font-size=\"14.00\" fill=\"#000000\">1인지출비용 &lt;= 230375.0</text>\n<text text-anchor=\"middle\" x=\"681.5\" y=\"-156.8\" font-family=\"Helvetica,sans-Serif\" font-size=\"14.00\" fill=\"#000000\">gini = 0.375</text>\n<text text-anchor=\"middle\" x=\"681.5\" y=\"-141.8\" font-family=\"Helvetica,sans-Serif\" font-size=\"14.00\" fill=\"#000000\">samples = 4</text>\n<text text-anchor=\"middle\" x=\"681.5\" y=\"-126.8\" font-family=\"Helvetica,sans-Serif\" font-size=\"14.00\" fill=\"#000000\">value = [3, 1]</text>\n<text text-anchor=\"middle\" x=\"681.5\" y=\"-111.8\" font-family=\"Helvetica,sans-Serif\" font-size=\"14.00\" fill=\"#000000\">class = 0</text>\n</g>\n<!-- 29&#45;&gt;31 -->\n<g id=\"edge31\" class=\"edge\">\n<title>29&#45;&gt;31</title>\n<path fill=\"none\" stroke=\"#000000\" d=\"M719.2144,-222.8796C715.0443,-214.3236 710.6091,-205.2238 706.3003,-196.3833\"/>\n<polygon fill=\"#000000\" stroke=\"#000000\" points=\"709.3997,-194.7538 701.8722,-187.2981 703.1073,-197.8207 709.3997,-194.7538\"/>\n</g>\n<!-- 32 -->\n<g id=\"node33\" class=\"node\">\n<title>32</title>\n<polygon fill=\"#e58139\" stroke=\"#000000\" points=\"596,-68 497,-68 497,0 596,0 596,-68\"/>\n<text text-anchor=\"middle\" x=\"546.5\" y=\"-52.8\" font-family=\"Helvetica,sans-Serif\" font-size=\"14.00\" fill=\"#000000\">gini = 0.0</text>\n<text text-anchor=\"middle\" x=\"546.5\" y=\"-37.8\" font-family=\"Helvetica,sans-Serif\" font-size=\"14.00\" fill=\"#000000\">samples = 3</text>\n<text text-anchor=\"middle\" x=\"546.5\" y=\"-22.8\" font-family=\"Helvetica,sans-Serif\" font-size=\"14.00\" fill=\"#000000\">value = [3, 0]</text>\n<text text-anchor=\"middle\" x=\"546.5\" y=\"-7.8\" font-family=\"Helvetica,sans-Serif\" font-size=\"14.00\" fill=\"#000000\">class = 0</text>\n</g>\n<!-- 31&#45;&gt;32 -->\n<g id=\"edge32\" class=\"edge\">\n<title>31&#45;&gt;32</title>\n<path fill=\"none\" stroke=\"#000000\" d=\"M631.231,-103.9815C619.6582,-94.4232 607.3611,-84.2668 595.8287,-74.7419\"/>\n<polygon fill=\"#000000\" stroke=\"#000000\" points=\"597.9243,-71.9332 587.9852,-68.2637 593.4666,-77.3304 597.9243,-71.9332\"/>\n</g>\n<!-- 33 -->\n<g id=\"node34\" class=\"node\">\n<title>33</title>\n<polygon fill=\"#399de5\" stroke=\"#000000\" points=\"713,-68 614,-68 614,0 713,0 713,-68\"/>\n<text text-anchor=\"middle\" x=\"663.5\" y=\"-52.8\" font-family=\"Helvetica,sans-Serif\" font-size=\"14.00\" fill=\"#000000\">gini = 0.0</text>\n<text text-anchor=\"middle\" x=\"663.5\" y=\"-37.8\" font-family=\"Helvetica,sans-Serif\" font-size=\"14.00\" fill=\"#000000\">samples = 1</text>\n<text text-anchor=\"middle\" x=\"663.5\" y=\"-22.8\" font-family=\"Helvetica,sans-Serif\" font-size=\"14.00\" fill=\"#000000\">value = [0, 1]</text>\n<text text-anchor=\"middle\" x=\"663.5\" y=\"-7.8\" font-family=\"Helvetica,sans-Serif\" font-size=\"14.00\" fill=\"#000000\">class = 1</text>\n</g>\n<!-- 31&#45;&gt;33 -->\n<g id=\"edge33\" class=\"edge\">\n<title>31&#45;&gt;33</title>\n<path fill=\"none\" stroke=\"#000000\" d=\"M674.7975,-103.9815C673.4473,-95.618 672.0232,-86.7965 670.6582,-78.3409\"/>\n<polygon fill=\"#000000\" stroke=\"#000000\" points=\"674.0804,-77.578 669.0314,-68.2637 667.1699,-78.6937 674.0804,-77.578\"/>\n</g>\n<!-- 35 -->\n<g id=\"node36\" class=\"node\">\n<title>35</title>\n<polygon fill=\"#efb083\" stroke=\"#000000\" points=\"928.5,-187 824.5,-187 824.5,-104 928.5,-104 928.5,-187\"/>\n<text text-anchor=\"middle\" x=\"876.5\" y=\"-171.8\" font-family=\"Helvetica,sans-Serif\" font-size=\"14.00\" fill=\"#000000\">월 &lt;= 4.5</text>\n<text text-anchor=\"middle\" x=\"876.5\" y=\"-156.8\" font-family=\"Helvetica,sans-Serif\" font-size=\"14.00\" fill=\"#000000\">gini = 0.397</text>\n<text text-anchor=\"middle\" x=\"876.5\" y=\"-141.8\" font-family=\"Helvetica,sans-Serif\" font-size=\"14.00\" fill=\"#000000\">samples = 11</text>\n<text text-anchor=\"middle\" x=\"876.5\" y=\"-126.8\" font-family=\"Helvetica,sans-Serif\" font-size=\"14.00\" fill=\"#000000\">value = [8, 3]</text>\n<text text-anchor=\"middle\" x=\"876.5\" y=\"-111.8\" font-family=\"Helvetica,sans-Serif\" font-size=\"14.00\" fill=\"#000000\">class = 0</text>\n</g>\n<!-- 34&#45;&gt;35 -->\n<g id=\"edge35\" class=\"edge\">\n<title>34&#45;&gt;35</title>\n<path fill=\"none\" stroke=\"#000000\" d=\"M876.5,-222.8796C876.5,-214.6838 876.5,-205.9891 876.5,-197.5013\"/>\n<polygon fill=\"#000000\" stroke=\"#000000\" points=\"880.0001,-197.298 876.5,-187.2981 873.0001,-197.2981 880.0001,-197.298\"/>\n</g>\n<!-- 38 -->\n<g id=\"node39\" class=\"node\">\n<title>38</title>\n<polygon fill=\"#e78c49\" stroke=\"#000000\" points=\"1072,-187 965,-187 965,-104 1072,-104 1072,-187\"/>\n<text text-anchor=\"middle\" x=\"1018.5\" y=\"-171.8\" font-family=\"Helvetica,sans-Serif\" font-size=\"14.00\" fill=\"#000000\">월 &lt;= 6.0</text>\n<text text-anchor=\"middle\" x=\"1018.5\" y=\"-156.8\" font-family=\"Helvetica,sans-Serif\" font-size=\"14.00\" fill=\"#000000\">gini = 0.142</text>\n<text text-anchor=\"middle\" x=\"1018.5\" y=\"-141.8\" font-family=\"Helvetica,sans-Serif\" font-size=\"14.00\" fill=\"#000000\">samples = 26</text>\n<text text-anchor=\"middle\" x=\"1018.5\" y=\"-126.8\" font-family=\"Helvetica,sans-Serif\" font-size=\"14.00\" fill=\"#000000\">value = [24, 2]</text>\n<text text-anchor=\"middle\" x=\"1018.5\" y=\"-111.8\" font-family=\"Helvetica,sans-Serif\" font-size=\"14.00\" fill=\"#000000\">class = 0</text>\n</g>\n<!-- 34&#45;&gt;38 -->\n<g id=\"edge38\" class=\"edge\">\n<title>34&#45;&gt;38</title>\n<path fill=\"none\" stroke=\"#000000\" d=\"M926.1647,-222.8796C937.3416,-213.513 949.2962,-203.4948 960.7712,-193.8784\"/>\n<polygon fill=\"#000000\" stroke=\"#000000\" points=\"963.2069,-196.4037 968.6233,-187.2981 958.7107,-191.0386 963.2069,-196.4037\"/>\n</g>\n<!-- 36 -->\n<g id=\"node37\" class=\"node\">\n<title>36</title>\n<polygon fill=\"#ffffff\" stroke=\"#000000\" points=\"830,-68 731,-68 731,0 830,0 830,-68\"/>\n<text text-anchor=\"middle\" x=\"780.5\" y=\"-52.8\" font-family=\"Helvetica,sans-Serif\" font-size=\"14.00\" fill=\"#000000\">gini = 0.5</text>\n<text text-anchor=\"middle\" x=\"780.5\" y=\"-37.8\" font-family=\"Helvetica,sans-Serif\" font-size=\"14.00\" fill=\"#000000\">samples = 6</text>\n<text text-anchor=\"middle\" x=\"780.5\" y=\"-22.8\" font-family=\"Helvetica,sans-Serif\" font-size=\"14.00\" fill=\"#000000\">value = [3, 3]</text>\n<text text-anchor=\"middle\" x=\"780.5\" y=\"-7.8\" font-family=\"Helvetica,sans-Serif\" font-size=\"14.00\" fill=\"#000000\">class = 0</text>\n</g>\n<!-- 35&#45;&gt;36 -->\n<g id=\"edge36\" class=\"edge\">\n<title>35&#45;&gt;36</title>\n<path fill=\"none\" stroke=\"#000000\" d=\"M840.7531,-103.9815C832.8401,-94.7908 824.4509,-85.0472 816.5268,-75.8436\"/>\n<polygon fill=\"#000000\" stroke=\"#000000\" points=\"819.1776,-73.5582 810.0006,-68.2637 813.8729,-78.1255 819.1776,-73.5582\"/>\n</g>\n<!-- 37 -->\n<g id=\"node38\" class=\"node\">\n<title>37</title>\n<polygon fill=\"#e58139\" stroke=\"#000000\" points=\"947,-68 848,-68 848,0 947,0 947,-68\"/>\n<text text-anchor=\"middle\" x=\"897.5\" y=\"-52.8\" font-family=\"Helvetica,sans-Serif\" font-size=\"14.00\" fill=\"#000000\">gini = 0.0</text>\n<text text-anchor=\"middle\" x=\"897.5\" y=\"-37.8\" font-family=\"Helvetica,sans-Serif\" font-size=\"14.00\" fill=\"#000000\">samples = 5</text>\n<text text-anchor=\"middle\" x=\"897.5\" y=\"-22.8\" font-family=\"Helvetica,sans-Serif\" font-size=\"14.00\" fill=\"#000000\">value = [5, 0]</text>\n<text text-anchor=\"middle\" x=\"897.5\" y=\"-7.8\" font-family=\"Helvetica,sans-Serif\" font-size=\"14.00\" fill=\"#000000\">class = 0</text>\n</g>\n<!-- 35&#45;&gt;37 -->\n<g id=\"edge37\" class=\"edge\">\n<title>35&#45;&gt;37</title>\n<path fill=\"none\" stroke=\"#000000\" d=\"M884.3196,-103.9815C885.8948,-95.618 887.5563,-86.7965 889.1488,-78.3409\"/>\n<polygon fill=\"#000000\" stroke=\"#000000\" points=\"892.6353,-78.7387 891.0468,-68.2637 885.7563,-77.4431 892.6353,-78.7387\"/>\n</g>\n<!-- 39 -->\n<g id=\"node40\" class=\"node\">\n<title>39</title>\n<polygon fill=\"#e58139\" stroke=\"#000000\" points=\"1072,-68 965,-68 965,0 1072,0 1072,-68\"/>\n<text text-anchor=\"middle\" x=\"1018.5\" y=\"-52.8\" font-family=\"Helvetica,sans-Serif\" font-size=\"14.00\" fill=\"#000000\">gini = 0.0</text>\n<text text-anchor=\"middle\" x=\"1018.5\" y=\"-37.8\" font-family=\"Helvetica,sans-Serif\" font-size=\"14.00\" fill=\"#000000\">samples = 13</text>\n<text text-anchor=\"middle\" x=\"1018.5\" y=\"-22.8\" font-family=\"Helvetica,sans-Serif\" font-size=\"14.00\" fill=\"#000000\">value = [13, 0]</text>\n<text text-anchor=\"middle\" x=\"1018.5\" y=\"-7.8\" font-family=\"Helvetica,sans-Serif\" font-size=\"14.00\" fill=\"#000000\">class = 0</text>\n</g>\n<!-- 38&#45;&gt;39 -->\n<g id=\"edge39\" class=\"edge\">\n<title>38&#45;&gt;39</title>\n<path fill=\"none\" stroke=\"#000000\" d=\"M1018.5,-103.9815C1018.5,-95.618 1018.5,-86.7965 1018.5,-78.3409\"/>\n<polygon fill=\"#000000\" stroke=\"#000000\" points=\"1022.0001,-78.2636 1018.5,-68.2637 1015.0001,-78.2637 1022.0001,-78.2636\"/>\n</g>\n<!-- 40 -->\n<g id=\"node41\" class=\"node\">\n<title>40</title>\n<polygon fill=\"#ea985d\" stroke=\"#000000\" points=\"1197,-68 1090,-68 1090,0 1197,0 1197,-68\"/>\n<text text-anchor=\"middle\" x=\"1143.5\" y=\"-52.8\" font-family=\"Helvetica,sans-Serif\" font-size=\"14.00\" fill=\"#000000\">gini = 0.26</text>\n<text text-anchor=\"middle\" x=\"1143.5\" y=\"-37.8\" font-family=\"Helvetica,sans-Serif\" font-size=\"14.00\" fill=\"#000000\">samples = 13</text>\n<text text-anchor=\"middle\" x=\"1143.5\" y=\"-22.8\" font-family=\"Helvetica,sans-Serif\" font-size=\"14.00\" fill=\"#000000\">value = [11, 2]</text>\n<text text-anchor=\"middle\" x=\"1143.5\" y=\"-7.8\" font-family=\"Helvetica,sans-Serif\" font-size=\"14.00\" fill=\"#000000\">class = 0</text>\n</g>\n<!-- 38&#45;&gt;40 -->\n<g id=\"edge40\" class=\"edge\">\n<title>38&#45;&gt;40</title>\n<path fill=\"none\" stroke=\"#000000\" d=\"M1065.0454,-103.9815C1075.6579,-94.5151 1086.9282,-84.462 1097.5171,-75.0168\"/>\n<polygon fill=\"#000000\" stroke=\"#000000\" points=\"1099.9551,-77.5322 1105.0878,-68.2637 1095.2954,-72.3084 1099.9551,-77.5322\"/>\n</g>\n<!-- 42 -->\n<g id=\"node43\" class=\"node\">\n<title>42</title>\n<polygon fill=\"#399de5\" stroke=\"#000000\" points=\"1051,-298.5 952,-298.5 952,-230.5 1051,-230.5 1051,-298.5\"/>\n<text text-anchor=\"middle\" x=\"1001.5\" y=\"-283.3\" font-family=\"Helvetica,sans-Serif\" font-size=\"14.00\" fill=\"#000000\">gini = 0.0</text>\n<text text-anchor=\"middle\" x=\"1001.5\" y=\"-268.3\" font-family=\"Helvetica,sans-Serif\" font-size=\"14.00\" fill=\"#000000\">samples = 2</text>\n<text text-anchor=\"middle\" x=\"1001.5\" y=\"-253.3\" font-family=\"Helvetica,sans-Serif\" font-size=\"14.00\" fill=\"#000000\">value = [0, 2]</text>\n<text text-anchor=\"middle\" x=\"1001.5\" y=\"-238.3\" font-family=\"Helvetica,sans-Serif\" font-size=\"14.00\" fill=\"#000000\">class = 1</text>\n</g>\n<!-- 41&#45;&gt;42 -->\n<g id=\"edge42\" class=\"edge\">\n<title>41&#45;&gt;42</title>\n<path fill=\"none\" stroke=\"#000000\" d=\"M1001.5,-341.8796C1001.5,-331.2134 1001.5,-319.7021 1001.5,-308.9015\"/>\n<polygon fill=\"#000000\" stroke=\"#000000\" points=\"1005.0001,-308.8149 1001.5,-298.8149 998.0001,-308.815 1005.0001,-308.8149\"/>\n</g>\n<!-- 43 -->\n<g id=\"node44\" class=\"node\">\n<title>43</title>\n<polygon fill=\"#e58139\" stroke=\"#000000\" points=\"1168,-298.5 1069,-298.5 1069,-230.5 1168,-230.5 1168,-298.5\"/>\n<text text-anchor=\"middle\" x=\"1118.5\" y=\"-283.3\" font-family=\"Helvetica,sans-Serif\" font-size=\"14.00\" fill=\"#000000\">gini = 0.0</text>\n<text text-anchor=\"middle\" x=\"1118.5\" y=\"-268.3\" font-family=\"Helvetica,sans-Serif\" font-size=\"14.00\" fill=\"#000000\">samples = 1</text>\n<text text-anchor=\"middle\" x=\"1118.5\" y=\"-253.3\" font-family=\"Helvetica,sans-Serif\" font-size=\"14.00\" fill=\"#000000\">value = [1, 0]</text>\n<text text-anchor=\"middle\" x=\"1118.5\" y=\"-238.3\" font-family=\"Helvetica,sans-Serif\" font-size=\"14.00\" fill=\"#000000\">class = 0</text>\n</g>\n<!-- 41&#45;&gt;43 -->\n<g id=\"edge43\" class=\"edge\">\n<title>41&#45;&gt;43</title>\n<path fill=\"none\" stroke=\"#000000\" d=\"M1042.4209,-341.8796C1053.7728,-330.3337 1066.0982,-317.7976 1077.457,-306.2446\"/>\n<polygon fill=\"#000000\" stroke=\"#000000\" points=\"1080.2466,-308.3995 1084.7618,-298.8149 1075.2551,-303.4919 1080.2466,-308.3995\"/>\n</g>\n<!-- 45 -->\n<g id=\"node46\" class=\"node\">\n<title>45</title>\n<polygon fill=\"#eb9c63\" stroke=\"#000000\" points=\"2238.5,-782 2114.5,-782 2114.5,-699 2238.5,-699 2238.5,-782\"/>\n<text text-anchor=\"middle\" x=\"2176.5\" y=\"-766.8\" font-family=\"Helvetica,sans-Serif\" font-size=\"14.00\" fill=\"#000000\">여행활동2 &lt;= 0.5</text>\n<text text-anchor=\"middle\" x=\"2176.5\" y=\"-751.8\" font-family=\"Helvetica,sans-Serif\" font-size=\"14.00\" fill=\"#000000\">gini = 0.29</text>\n<text text-anchor=\"middle\" x=\"2176.5\" y=\"-736.8\" font-family=\"Helvetica,sans-Serif\" font-size=\"14.00\" fill=\"#000000\">samples = 165</text>\n<text text-anchor=\"middle\" x=\"2176.5\" y=\"-721.8\" font-family=\"Helvetica,sans-Serif\" font-size=\"14.00\" fill=\"#000000\">value = [136, 29]</text>\n<text text-anchor=\"middle\" x=\"2176.5\" y=\"-706.8\" font-family=\"Helvetica,sans-Serif\" font-size=\"14.00\" fill=\"#000000\">class = 0</text>\n</g>\n<!-- 44&#45;&gt;45 -->\n<g id=\"edge45\" class=\"edge\">\n<title>44&#45;&gt;45</title>\n<path fill=\"none\" stroke=\"#000000\" d=\"M2176.5,-817.8796C2176.5,-809.6838 2176.5,-800.9891 2176.5,-792.5013\"/>\n<polygon fill=\"#000000\" stroke=\"#000000\" points=\"2180.0001,-792.298 2176.5,-782.2981 2173.0001,-792.2981 2180.0001,-792.298\"/>\n</g>\n<!-- 90 -->\n<g id=\"node91\" class=\"node\">\n<title>90</title>\n<polygon fill=\"#f2be99\" stroke=\"#000000\" points=\"4039.5,-782 3907.5,-782 3907.5,-699 4039.5,-699 4039.5,-782\"/>\n<text text-anchor=\"middle\" x=\"3973.5\" y=\"-766.8\" font-family=\"Helvetica,sans-Serif\" font-size=\"14.00\" fill=\"#000000\">거주지역 &lt;= 11.5</text>\n<text text-anchor=\"middle\" x=\"3973.5\" y=\"-751.8\" font-family=\"Helvetica,sans-Serif\" font-size=\"14.00\" fill=\"#000000\">gini = 0.44</text>\n<text text-anchor=\"middle\" x=\"3973.5\" y=\"-736.8\" font-family=\"Helvetica,sans-Serif\" font-size=\"14.00\" fill=\"#000000\">samples = 567</text>\n<text text-anchor=\"middle\" x=\"3973.5\" y=\"-721.8\" font-family=\"Helvetica,sans-Serif\" font-size=\"14.00\" fill=\"#000000\">value = [382, 185]</text>\n<text text-anchor=\"middle\" x=\"3973.5\" y=\"-706.8\" font-family=\"Helvetica,sans-Serif\" font-size=\"14.00\" fill=\"#000000\">class = 0</text>\n</g>\n<!-- 44&#45;&gt;90 -->\n<g id=\"edge90\" class=\"edge\">\n<title>44&#45;&gt;90</title>\n<path fill=\"none\" stroke=\"#000000\" d=\"M2242.5874,-855.1236C2521.2195,-836.6722 3599.4278,-765.2716 3897.033,-745.5638\"/>\n<polygon fill=\"#000000\" stroke=\"#000000\" points=\"3897.541,-749.0379 3907.2878,-744.8847 3897.0784,-742.0532 3897.541,-749.0379\"/>\n</g>\n<!-- 46 -->\n<g id=\"node47\" class=\"node\">\n<title>46</title>\n<polygon fill=\"#edaa79\" stroke=\"#000000\" points=\"2147.5,-663 1969.5,-663 1969.5,-580 2147.5,-580 2147.5,-663\"/>\n<text text-anchor=\"middle\" x=\"2058.5\" y=\"-647.8\" font-family=\"Helvetica,sans-Serif\" font-size=\"14.00\" fill=\"#000000\">1인지출비용 &lt;= 240000.0</text>\n<text text-anchor=\"middle\" x=\"2058.5\" y=\"-632.8\" font-family=\"Helvetica,sans-Serif\" font-size=\"14.00\" fill=\"#000000\">gini = 0.369</text>\n<text text-anchor=\"middle\" x=\"2058.5\" y=\"-617.8\" font-family=\"Helvetica,sans-Serif\" font-size=\"14.00\" fill=\"#000000\">samples = 90</text>\n<text text-anchor=\"middle\" x=\"2058.5\" y=\"-602.8\" font-family=\"Helvetica,sans-Serif\" font-size=\"14.00\" fill=\"#000000\">value = [68, 22]</text>\n<text text-anchor=\"middle\" x=\"2058.5\" y=\"-587.8\" font-family=\"Helvetica,sans-Serif\" font-size=\"14.00\" fill=\"#000000\">class = 0</text>\n</g>\n<!-- 45&#45;&gt;46 -->\n<g id=\"edge46\" class=\"edge\">\n<title>45&#45;&gt;46</title>\n<path fill=\"none\" stroke=\"#000000\" d=\"M2135.2293,-698.8796C2126.1201,-689.6931 2116.3892,-679.8798 2107.0224,-670.4336\"/>\n<polygon fill=\"#000000\" stroke=\"#000000\" points=\"2109.4733,-667.9345 2099.9468,-663.2981 2104.5027,-672.8634 2109.4733,-667.9345\"/>\n</g>\n<!-- 71 -->\n<g id=\"node72\" class=\"node\">\n<title>71</title>\n<polygon fill=\"#e88e4d\" stroke=\"#000000\" points=\"2433.5,-663 2263.5,-663 2263.5,-580 2433.5,-580 2433.5,-663\"/>\n<text text-anchor=\"middle\" x=\"2348.5\" y=\"-647.8\" font-family=\"Helvetica,sans-Serif\" font-size=\"14.00\" fill=\"#000000\">1인지출비용 &lt;= 38750.0</text>\n<text text-anchor=\"middle\" x=\"2348.5\" y=\"-632.8\" font-family=\"Helvetica,sans-Serif\" font-size=\"14.00\" fill=\"#000000\">gini = 0.169</text>\n<text text-anchor=\"middle\" x=\"2348.5\" y=\"-617.8\" font-family=\"Helvetica,sans-Serif\" font-size=\"14.00\" fill=\"#000000\">samples = 75</text>\n<text text-anchor=\"middle\" x=\"2348.5\" y=\"-602.8\" font-family=\"Helvetica,sans-Serif\" font-size=\"14.00\" fill=\"#000000\">value = [68, 7]</text>\n<text text-anchor=\"middle\" x=\"2348.5\" y=\"-587.8\" font-family=\"Helvetica,sans-Serif\" font-size=\"14.00\" fill=\"#000000\">class = 0</text>\n</g>\n<!-- 45&#45;&gt;71 -->\n<g id=\"edge71\" class=\"edge\">\n<title>45&#45;&gt;71</title>\n<path fill=\"none\" stroke=\"#000000\" d=\"M2236.6573,-698.8796C2250.667,-689.1868 2265.6854,-678.7961 2280.025,-668.8752\"/>\n<polygon fill=\"#000000\" stroke=\"#000000\" points=\"2282.1444,-671.6649 2288.3767,-663.0969 2278.1617,-665.9083 2282.1444,-671.6649\"/>\n</g>\n<!-- 47 -->\n<g id=\"node48\" class=\"node\">\n<title>47</title>\n<polygon fill=\"#eba06a\" stroke=\"#000000\" points=\"1982,-544 1859,-544 1859,-461 1982,-461 1982,-544\"/>\n<text text-anchor=\"middle\" x=\"1920.5\" y=\"-528.8\" font-family=\"Helvetica,sans-Serif\" font-size=\"14.00\" fill=\"#000000\">지역코드 &lt;= 24.5</text>\n<text text-anchor=\"middle\" x=\"1920.5\" y=\"-513.8\" font-family=\"Helvetica,sans-Serif\" font-size=\"14.00\" fill=\"#000000\">gini = 0.317</text>\n<text text-anchor=\"middle\" x=\"1920.5\" y=\"-498.8\" font-family=\"Helvetica,sans-Serif\" font-size=\"14.00\" fill=\"#000000\">samples = 81</text>\n<text text-anchor=\"middle\" x=\"1920.5\" y=\"-483.8\" font-family=\"Helvetica,sans-Serif\" font-size=\"14.00\" fill=\"#000000\">value = [65, 16]</text>\n<text text-anchor=\"middle\" x=\"1920.5\" y=\"-468.8\" font-family=\"Helvetica,sans-Serif\" font-size=\"14.00\" fill=\"#000000\">class = 0</text>\n</g>\n<!-- 46&#45;&gt;47 -->\n<g id=\"edge47\" class=\"edge\">\n<title>46&#45;&gt;47</title>\n<path fill=\"none\" stroke=\"#000000\" d=\"M2010.2343,-579.8796C1999.3722,-570.513 1987.7544,-560.4948 1976.6027,-550.8784\"/>\n<polygon fill=\"#000000\" stroke=\"#000000\" points=\"1978.8306,-548.178 1968.9717,-544.2981 1974.2592,-553.4792 1978.8306,-548.178\"/>\n</g>\n<!-- 68 -->\n<g id=\"node69\" class=\"node\">\n<title>68</title>\n<polygon fill=\"#9ccef2\" stroke=\"#000000\" points=\"2116,-544 2001,-544 2001,-461 2116,-461 2116,-544\"/>\n<text text-anchor=\"middle\" x=\"2058.5\" y=\"-528.8\" font-family=\"Helvetica,sans-Serif\" font-size=\"14.00\" fill=\"#000000\">거주지역 &lt;= 1.5</text>\n<text text-anchor=\"middle\" x=\"2058.5\" y=\"-513.8\" font-family=\"Helvetica,sans-Serif\" font-size=\"14.00\" fill=\"#000000\">gini = 0.444</text>\n<text text-anchor=\"middle\" x=\"2058.5\" y=\"-498.8\" font-family=\"Helvetica,sans-Serif\" font-size=\"14.00\" fill=\"#000000\">samples = 9</text>\n<text text-anchor=\"middle\" x=\"2058.5\" y=\"-483.8\" font-family=\"Helvetica,sans-Serif\" font-size=\"14.00\" fill=\"#000000\">value = [3, 6]</text>\n<text text-anchor=\"middle\" x=\"2058.5\" y=\"-468.8\" font-family=\"Helvetica,sans-Serif\" font-size=\"14.00\" fill=\"#000000\">class = 1</text>\n</g>\n<!-- 46&#45;&gt;68 -->\n<g id=\"edge68\" class=\"edge\">\n<title>46&#45;&gt;68</title>\n<path fill=\"none\" stroke=\"#000000\" d=\"M2058.5,-579.8796C2058.5,-571.6838 2058.5,-562.9891 2058.5,-554.5013\"/>\n<polygon fill=\"#000000\" stroke=\"#000000\" points=\"2062.0001,-554.298 2058.5,-544.2981 2055.0001,-554.2981 2062.0001,-554.298\"/>\n</g>\n<!-- 48 -->\n<g id=\"node49\" class=\"node\">\n<title>48</title>\n<polygon fill=\"#f1bc95\" stroke=\"#000000\" points=\"1748.5,-425 1632.5,-425 1632.5,-342 1748.5,-342 1748.5,-425\"/>\n<text text-anchor=\"middle\" x=\"1690.5\" y=\"-409.8\" font-family=\"Helvetica,sans-Serif\" font-size=\"14.00\" fill=\"#000000\">월 &lt;= 6.5</text>\n<text text-anchor=\"middle\" x=\"1690.5\" y=\"-394.8\" font-family=\"Helvetica,sans-Serif\" font-size=\"14.00\" fill=\"#000000\">gini = 0.434</text>\n<text text-anchor=\"middle\" x=\"1690.5\" y=\"-379.8\" font-family=\"Helvetica,sans-Serif\" font-size=\"14.00\" fill=\"#000000\">samples = 44</text>\n<text text-anchor=\"middle\" x=\"1690.5\" y=\"-364.8\" font-family=\"Helvetica,sans-Serif\" font-size=\"14.00\" fill=\"#000000\">value = [30, 14]</text>\n<text text-anchor=\"middle\" x=\"1690.5\" y=\"-349.8\" font-family=\"Helvetica,sans-Serif\" font-size=\"14.00\" fill=\"#000000\">class = 0</text>\n</g>\n<!-- 47&#45;&gt;48 -->\n<g id=\"edge48\" class=\"edge\">\n<title>47&#45;&gt;48</title>\n<path fill=\"none\" stroke=\"#000000\" d=\"M1858.8642,-470.6102C1827.7392,-454.5064 1789.913,-434.9354 1758.0048,-418.4264\"/>\n<polygon fill=\"#000000\" stroke=\"#000000\" points=\"1759.2308,-415.12 1748.7408,-413.6333 1756.014,-421.3372 1759.2308,-415.12\"/>\n</g>\n<!-- 61 -->\n<g id=\"node62\" class=\"node\">\n<title>61</title>\n<polygon fill=\"#e68844\" stroke=\"#000000\" points=\"1982,-425 1859,-425 1859,-342 1982,-342 1982,-425\"/>\n<text text-anchor=\"middle\" x=\"1920.5\" y=\"-409.8\" font-family=\"Helvetica,sans-Serif\" font-size=\"14.00\" fill=\"#000000\">여행활동5 &lt;= 0.5</text>\n<text text-anchor=\"middle\" x=\"1920.5\" y=\"-394.8\" font-family=\"Helvetica,sans-Serif\" font-size=\"14.00\" fill=\"#000000\">gini = 0.102</text>\n<text text-anchor=\"middle\" x=\"1920.5\" y=\"-379.8\" font-family=\"Helvetica,sans-Serif\" font-size=\"14.00\" fill=\"#000000\">samples = 37</text>\n<text text-anchor=\"middle\" x=\"1920.5\" y=\"-364.8\" font-family=\"Helvetica,sans-Serif\" font-size=\"14.00\" fill=\"#000000\">value = [35, 2]</text>\n<text text-anchor=\"middle\" x=\"1920.5\" y=\"-349.8\" font-family=\"Helvetica,sans-Serif\" font-size=\"14.00\" fill=\"#000000\">class = 0</text>\n</g>\n<!-- 47&#45;&gt;61 -->\n<g id=\"edge61\" class=\"edge\">\n<title>47&#45;&gt;61</title>\n<path fill=\"none\" stroke=\"#000000\" d=\"M1920.5,-460.8796C1920.5,-452.6838 1920.5,-443.9891 1920.5,-435.5013\"/>\n<polygon fill=\"#000000\" stroke=\"#000000\" points=\"1924.0001,-435.298 1920.5,-425.2981 1917.0001,-435.2981 1924.0001,-435.298\"/>\n</g>\n<!-- 49 -->\n<g id=\"node50\" class=\"node\">\n<title>49</title>\n<polygon fill=\"#eca36f\" stroke=\"#000000\" points=\"1561,-306 1446,-306 1446,-223 1561,-223 1561,-306\"/>\n<text text-anchor=\"middle\" x=\"1503.5\" y=\"-290.8\" font-family=\"Helvetica,sans-Serif\" font-size=\"14.00\" fill=\"#000000\">거주지역 &lt;= 2.5</text>\n<text text-anchor=\"middle\" x=\"1503.5\" y=\"-275.8\" font-family=\"Helvetica,sans-Serif\" font-size=\"14.00\" fill=\"#000000\">gini = 0.337</text>\n<text text-anchor=\"middle\" x=\"1503.5\" y=\"-260.8\" font-family=\"Helvetica,sans-Serif\" font-size=\"14.00\" fill=\"#000000\">samples = 28</text>\n<text text-anchor=\"middle\" x=\"1503.5\" y=\"-245.8\" font-family=\"Helvetica,sans-Serif\" font-size=\"14.00\" fill=\"#000000\">value = [22, 6]</text>\n<text text-anchor=\"middle\" x=\"1503.5\" y=\"-230.8\" font-family=\"Helvetica,sans-Serif\" font-size=\"14.00\" fill=\"#000000\">class = 0</text>\n</g>\n<!-- 48&#45;&gt;49 -->\n<g id=\"edge49\" class=\"edge\">\n<title>48&#45;&gt;49</title>\n<path fill=\"none\" stroke=\"#000000\" d=\"M1632.3571,-346.5C1612.5625,-333.9034 1590.2883,-319.7289 1569.8968,-306.7525\"/>\n<polygon fill=\"#000000\" stroke=\"#000000\" points=\"1571.6013,-303.6886 1561.2856,-301.2726 1567.8431,-309.5943 1571.6013,-303.6886\"/>\n</g>\n<!-- 54 -->\n<g id=\"node55\" class=\"node\">\n<title>54</title>\n<polygon fill=\"#ffffff\" stroke=\"#000000\" points=\"1752,-306 1629,-306 1629,-223 1752,-223 1752,-306\"/>\n<text text-anchor=\"middle\" x=\"1690.5\" y=\"-290.8\" font-family=\"Helvetica,sans-Serif\" font-size=\"14.00\" fill=\"#000000\">여행활동1 &lt;= 0.5</text>\n<text text-anchor=\"middle\" x=\"1690.5\" y=\"-275.8\" font-family=\"Helvetica,sans-Serif\" font-size=\"14.00\" fill=\"#000000\">gini = 0.5</text>\n<text text-anchor=\"middle\" x=\"1690.5\" y=\"-260.8\" font-family=\"Helvetica,sans-Serif\" font-size=\"14.00\" fill=\"#000000\">samples = 16</text>\n<text text-anchor=\"middle\" x=\"1690.5\" y=\"-245.8\" font-family=\"Helvetica,sans-Serif\" font-size=\"14.00\" fill=\"#000000\">value = [8, 8]</text>\n<text text-anchor=\"middle\" x=\"1690.5\" y=\"-230.8\" font-family=\"Helvetica,sans-Serif\" font-size=\"14.00\" fill=\"#000000\">class = 0</text>\n</g>\n<!-- 48&#45;&gt;54 -->\n<g id=\"edge54\" class=\"edge\">\n<title>48&#45;&gt;54</title>\n<path fill=\"none\" stroke=\"#000000\" d=\"M1690.5,-341.8796C1690.5,-333.6838 1690.5,-324.9891 1690.5,-316.5013\"/>\n<polygon fill=\"#000000\" stroke=\"#000000\" points=\"1694.0001,-316.298 1690.5,-306.2981 1687.0001,-316.2981 1694.0001,-316.298\"/>\n</g>\n<!-- 50 -->\n<g id=\"node51\" class=\"node\">\n<title>50</title>\n<polygon fill=\"#eb9e66\" stroke=\"#000000\" points=\"1436,-187 1299,-187 1299,-104 1436,-104 1436,-187\"/>\n<text text-anchor=\"middle\" x=\"1367.5\" y=\"-171.8\" font-family=\"Helvetica,sans-Serif\" font-size=\"14.00\" fill=\"#000000\">여행일수(박) &lt;= 0.5</text>\n<text text-anchor=\"middle\" x=\"1367.5\" y=\"-156.8\" font-family=\"Helvetica,sans-Serif\" font-size=\"14.00\" fill=\"#000000\">gini = 0.302</text>\n<text text-anchor=\"middle\" x=\"1367.5\" y=\"-141.8\" font-family=\"Helvetica,sans-Serif\" font-size=\"14.00\" fill=\"#000000\">samples = 27</text>\n<text text-anchor=\"middle\" x=\"1367.5\" y=\"-126.8\" font-family=\"Helvetica,sans-Serif\" font-size=\"14.00\" fill=\"#000000\">value = [22, 5]</text>\n<text text-anchor=\"middle\" x=\"1367.5\" y=\"-111.8\" font-family=\"Helvetica,sans-Serif\" font-size=\"14.00\" fill=\"#000000\">class = 0</text>\n</g>\n<!-- 49&#45;&gt;50 -->\n<g id=\"edge50\" class=\"edge\">\n<title>49&#45;&gt;50</title>\n<path fill=\"none\" stroke=\"#000000\" d=\"M1455.9338,-222.8796C1445.3321,-213.6031 1433.9998,-203.6874 1423.1067,-194.1559\"/>\n<polygon fill=\"#000000\" stroke=\"#000000\" points=\"1425.0998,-191.2491 1415.2692,-187.2981 1420.4902,-196.5172 1425.0998,-191.2491\"/>\n</g>\n<!-- 53 -->\n<g id=\"node54\" class=\"node\">\n<title>53</title>\n<polygon fill=\"#399de5\" stroke=\"#000000\" points=\"1553,-179.5 1454,-179.5 1454,-111.5 1553,-111.5 1553,-179.5\"/>\n<text text-anchor=\"middle\" x=\"1503.5\" y=\"-164.3\" font-family=\"Helvetica,sans-Serif\" font-size=\"14.00\" fill=\"#000000\">gini = 0.0</text>\n<text text-anchor=\"middle\" x=\"1503.5\" y=\"-149.3\" font-family=\"Helvetica,sans-Serif\" font-size=\"14.00\" fill=\"#000000\">samples = 1</text>\n<text text-anchor=\"middle\" x=\"1503.5\" y=\"-134.3\" font-family=\"Helvetica,sans-Serif\" font-size=\"14.00\" fill=\"#000000\">value = [0, 1]</text>\n<text text-anchor=\"middle\" x=\"1503.5\" y=\"-119.3\" font-family=\"Helvetica,sans-Serif\" font-size=\"14.00\" fill=\"#000000\">class = 1</text>\n</g>\n<!-- 49&#45;&gt;53 -->\n<g id=\"edge53\" class=\"edge\">\n<title>49&#45;&gt;53</title>\n<path fill=\"none\" stroke=\"#000000\" d=\"M1503.5,-222.8796C1503.5,-212.2134 1503.5,-200.7021 1503.5,-189.9015\"/>\n<polygon fill=\"#000000\" stroke=\"#000000\" points=\"1507.0001,-189.8149 1503.5,-179.8149 1500.0001,-189.815 1507.0001,-189.8149\"/>\n</g>\n<!-- 51 -->\n<g id=\"node52\" class=\"node\">\n<title>51</title>\n<polygon fill=\"#eda877\" stroke=\"#000000\" points=\"1322,-68 1215,-68 1215,0 1322,0 1322,-68\"/>\n<text text-anchor=\"middle\" x=\"1268.5\" y=\"-52.8\" font-family=\"Helvetica,sans-Serif\" font-size=\"14.00\" fill=\"#000000\">gini = 0.363</text>\n<text text-anchor=\"middle\" x=\"1268.5\" y=\"-37.8\" font-family=\"Helvetica,sans-Serif\" font-size=\"14.00\" fill=\"#000000\">samples = 21</text>\n<text text-anchor=\"middle\" x=\"1268.5\" y=\"-22.8\" font-family=\"Helvetica,sans-Serif\" font-size=\"14.00\" fill=\"#000000\">value = [16, 5]</text>\n<text text-anchor=\"middle\" x=\"1268.5\" y=\"-7.8\" font-family=\"Helvetica,sans-Serif\" font-size=\"14.00\" fill=\"#000000\">class = 0</text>\n</g>\n<!-- 50&#45;&gt;51 -->\n<g id=\"edge51\" class=\"edge\">\n<title>50&#45;&gt;51</title>\n<path fill=\"none\" stroke=\"#000000\" d=\"M1330.6361,-103.9815C1322.4757,-94.7908 1313.8244,-85.0472 1305.6526,-75.8436\"/>\n<polygon fill=\"#000000\" stroke=\"#000000\" points=\"1308.1792,-73.4177 1298.9225,-68.2637 1302.9447,-78.0653 1308.1792,-73.4177\"/>\n</g>\n<!-- 52 -->\n<g id=\"node53\" class=\"node\">\n<title>52</title>\n<polygon fill=\"#e58139\" stroke=\"#000000\" points=\"1439,-68 1340,-68 1340,0 1439,0 1439,-68\"/>\n<text text-anchor=\"middle\" x=\"1389.5\" y=\"-52.8\" font-family=\"Helvetica,sans-Serif\" font-size=\"14.00\" fill=\"#000000\">gini = 0.0</text>\n<text text-anchor=\"middle\" x=\"1389.5\" y=\"-37.8\" font-family=\"Helvetica,sans-Serif\" font-size=\"14.00\" fill=\"#000000\">samples = 6</text>\n<text text-anchor=\"middle\" x=\"1389.5\" y=\"-22.8\" font-family=\"Helvetica,sans-Serif\" font-size=\"14.00\" fill=\"#000000\">value = [6, 0]</text>\n<text text-anchor=\"middle\" x=\"1389.5\" y=\"-7.8\" font-family=\"Helvetica,sans-Serif\" font-size=\"14.00\" fill=\"#000000\">class = 0</text>\n</g>\n<!-- 50&#45;&gt;52 -->\n<g id=\"edge52\" class=\"edge\">\n<title>50&#45;&gt;52</title>\n<path fill=\"none\" stroke=\"#000000\" d=\"M1375.692,-103.9815C1377.3422,-95.618 1379.0827,-86.7965 1380.7511,-78.3409\"/>\n<polygon fill=\"#000000\" stroke=\"#000000\" points=\"1384.2374,-78.7521 1382.7395,-68.2637 1377.3698,-77.397 1384.2374,-78.7521\"/>\n</g>\n<!-- 55 -->\n<g id=\"node56\" class=\"node\">\n<title>55</title>\n<polygon fill=\"#aad5f4\" stroke=\"#000000\" points=\"1675.5,-187 1571.5,-187 1571.5,-104 1675.5,-104 1675.5,-187\"/>\n<text text-anchor=\"middle\" x=\"1623.5\" y=\"-171.8\" font-family=\"Helvetica,sans-Serif\" font-size=\"14.00\" fill=\"#000000\">주업 &lt;= 3.5</text>\n<text text-anchor=\"middle\" x=\"1623.5\" y=\"-156.8\" font-family=\"Helvetica,sans-Serif\" font-size=\"14.00\" fill=\"#000000\">gini = 0.463</text>\n<text text-anchor=\"middle\" x=\"1623.5\" y=\"-141.8\" font-family=\"Helvetica,sans-Serif\" font-size=\"14.00\" fill=\"#000000\">samples = 11</text>\n<text text-anchor=\"middle\" x=\"1623.5\" y=\"-126.8\" font-family=\"Helvetica,sans-Serif\" font-size=\"14.00\" fill=\"#000000\">value = [4, 7]</text>\n<text text-anchor=\"middle\" x=\"1623.5\" y=\"-111.8\" font-family=\"Helvetica,sans-Serif\" font-size=\"14.00\" fill=\"#000000\">class = 1</text>\n</g>\n<!-- 54&#45;&gt;55 -->\n<g id=\"edge55\" class=\"edge\">\n<title>54&#45;&gt;55</title>\n<path fill=\"none\" stroke=\"#000000\" d=\"M1667.0667,-222.8796C1662.1987,-214.2335 1657.0181,-205.0322 1651.9914,-196.1042\"/>\n<polygon fill=\"#000000\" stroke=\"#000000\" points=\"1654.9893,-194.2947 1647.0334,-187.2981 1648.8897,-197.729 1654.9893,-194.2947\"/>\n</g>\n<!-- 58 -->\n<g id=\"node59\" class=\"node\">\n<title>58</title>\n<polygon fill=\"#eca06a\" stroke=\"#000000\" points=\"1817,-187 1694,-187 1694,-104 1817,-104 1817,-187\"/>\n<text text-anchor=\"middle\" x=\"1755.5\" y=\"-171.8\" font-family=\"Helvetica,sans-Serif\" font-size=\"14.00\" fill=\"#000000\">지역코드 &lt;= 19.0</text>\n<text text-anchor=\"middle\" x=\"1755.5\" y=\"-156.8\" font-family=\"Helvetica,sans-Serif\" font-size=\"14.00\" fill=\"#000000\">gini = 0.32</text>\n<text text-anchor=\"middle\" x=\"1755.5\" y=\"-141.8\" font-family=\"Helvetica,sans-Serif\" font-size=\"14.00\" fill=\"#000000\">samples = 5</text>\n<text text-anchor=\"middle\" x=\"1755.5\" y=\"-126.8\" font-family=\"Helvetica,sans-Serif\" font-size=\"14.00\" fill=\"#000000\">value = [4, 1]</text>\n<text text-anchor=\"middle\" x=\"1755.5\" y=\"-111.8\" font-family=\"Helvetica,sans-Serif\" font-size=\"14.00\" fill=\"#000000\">class = 0</text>\n</g>\n<!-- 54&#45;&gt;58 -->\n<g id=\"edge58\" class=\"edge\">\n<title>54&#45;&gt;58</title>\n<path fill=\"none\" stroke=\"#000000\" d=\"M1713.2338,-222.8796C1717.9565,-214.2335 1722.9824,-205.0322 1727.859,-196.1042\"/>\n<polygon fill=\"#000000\" stroke=\"#000000\" points=\"1730.947,-197.752 1732.6691,-187.2981 1724.8037,-194.3964 1730.947,-197.752\"/>\n</g>\n<!-- 56 -->\n<g id=\"node57\" class=\"node\">\n<title>56</title>\n<polygon fill=\"#61b1ea\" stroke=\"#000000\" points=\"1556,-68 1457,-68 1457,0 1556,0 1556,-68\"/>\n<text text-anchor=\"middle\" x=\"1506.5\" y=\"-52.8\" font-family=\"Helvetica,sans-Serif\" font-size=\"14.00\" fill=\"#000000\">gini = 0.278</text>\n<text text-anchor=\"middle\" x=\"1506.5\" y=\"-37.8\" font-family=\"Helvetica,sans-Serif\" font-size=\"14.00\" fill=\"#000000\">samples = 6</text>\n<text text-anchor=\"middle\" x=\"1506.5\" y=\"-22.8\" font-family=\"Helvetica,sans-Serif\" font-size=\"14.00\" fill=\"#000000\">value = [1, 5]</text>\n<text text-anchor=\"middle\" x=\"1506.5\" y=\"-7.8\" font-family=\"Helvetica,sans-Serif\" font-size=\"14.00\" fill=\"#000000\">class = 1</text>\n</g>\n<!-- 55&#45;&gt;56 -->\n<g id=\"edge56\" class=\"edge\">\n<title>55&#45;&gt;56</title>\n<path fill=\"none\" stroke=\"#000000\" d=\"M1579.9335,-103.9815C1570.0966,-94.607 1559.656,-84.6572 1549.8289,-75.2921\"/>\n<polygon fill=\"#000000\" stroke=\"#000000\" points=\"1552.1076,-72.6289 1542.4538,-68.2637 1547.2784,-77.6963 1552.1076,-72.6289\"/>\n</g>\n<!-- 57 -->\n<g id=\"node58\" class=\"node\">\n<title>57</title>\n<polygon fill=\"#f6d5bd\" stroke=\"#000000\" points=\"1673,-68 1574,-68 1574,0 1673,0 1673,-68\"/>\n<text text-anchor=\"middle\" x=\"1623.5\" y=\"-52.8\" font-family=\"Helvetica,sans-Serif\" font-size=\"14.00\" fill=\"#000000\">gini = 0.48</text>\n<text text-anchor=\"middle\" x=\"1623.5\" y=\"-37.8\" font-family=\"Helvetica,sans-Serif\" font-size=\"14.00\" fill=\"#000000\">samples = 5</text>\n<text text-anchor=\"middle\" x=\"1623.5\" y=\"-22.8\" font-family=\"Helvetica,sans-Serif\" font-size=\"14.00\" fill=\"#000000\">value = [3, 2]</text>\n<text text-anchor=\"middle\" x=\"1623.5\" y=\"-7.8\" font-family=\"Helvetica,sans-Serif\" font-size=\"14.00\" fill=\"#000000\">class = 0</text>\n</g>\n<!-- 55&#45;&gt;57 -->\n<g id=\"edge57\" class=\"edge\">\n<title>55&#45;&gt;57</title>\n<path fill=\"none\" stroke=\"#000000\" d=\"M1623.5,-103.9815C1623.5,-95.618 1623.5,-86.7965 1623.5,-78.3409\"/>\n<polygon fill=\"#000000\" stroke=\"#000000\" points=\"1627.0001,-78.2636 1623.5,-68.2637 1620.0001,-78.2637 1627.0001,-78.2636\"/>\n</g>\n<!-- 59 -->\n<g id=\"node60\" class=\"node\">\n<title>59</title>\n<polygon fill=\"#e58139\" stroke=\"#000000\" points=\"1790,-68 1691,-68 1691,0 1790,0 1790,-68\"/>\n<text text-anchor=\"middle\" x=\"1740.5\" y=\"-52.8\" font-family=\"Helvetica,sans-Serif\" font-size=\"14.00\" fill=\"#000000\">gini = 0.0</text>\n<text text-anchor=\"middle\" x=\"1740.5\" y=\"-37.8\" font-family=\"Helvetica,sans-Serif\" font-size=\"14.00\" fill=\"#000000\">samples = 4</text>\n<text text-anchor=\"middle\" x=\"1740.5\" y=\"-22.8\" font-family=\"Helvetica,sans-Serif\" font-size=\"14.00\" fill=\"#000000\">value = [4, 0]</text>\n<text text-anchor=\"middle\" x=\"1740.5\" y=\"-7.8\" font-family=\"Helvetica,sans-Serif\" font-size=\"14.00\" fill=\"#000000\">class = 0</text>\n</g>\n<!-- 58&#45;&gt;59 -->\n<g id=\"edge59\" class=\"edge\">\n<title>58&#45;&gt;59</title>\n<path fill=\"none\" stroke=\"#000000\" d=\"M1749.9146,-103.9815C1748.7894,-95.618 1747.6027,-86.7965 1746.4651,-78.3409\"/>\n<polygon fill=\"#000000\" stroke=\"#000000\" points=\"1749.9116,-77.7077 1745.1095,-68.2637 1742.9741,-78.6411 1749.9116,-77.7077\"/>\n</g>\n<!-- 60 -->\n<g id=\"node61\" class=\"node\">\n<title>60</title>\n<polygon fill=\"#399de5\" stroke=\"#000000\" points=\"1907,-68 1808,-68 1808,0 1907,0 1907,-68\"/>\n<text text-anchor=\"middle\" x=\"1857.5\" y=\"-52.8\" font-family=\"Helvetica,sans-Serif\" font-size=\"14.00\" fill=\"#000000\">gini = 0.0</text>\n<text text-anchor=\"middle\" x=\"1857.5\" y=\"-37.8\" font-family=\"Helvetica,sans-Serif\" font-size=\"14.00\" fill=\"#000000\">samples = 1</text>\n<text text-anchor=\"middle\" x=\"1857.5\" y=\"-22.8\" font-family=\"Helvetica,sans-Serif\" font-size=\"14.00\" fill=\"#000000\">value = [0, 1]</text>\n<text text-anchor=\"middle\" x=\"1857.5\" y=\"-7.8\" font-family=\"Helvetica,sans-Serif\" font-size=\"14.00\" fill=\"#000000\">class = 1</text>\n</g>\n<!-- 58&#45;&gt;60 -->\n<g id=\"edge60\" class=\"edge\">\n<title>58&#45;&gt;60</title>\n<path fill=\"none\" stroke=\"#000000\" d=\"M1793.481,-103.9815C1801.8886,-94.7908 1810.8021,-85.0472 1819.2215,-75.8436\"/>\n<polygon fill=\"#000000\" stroke=\"#000000\" points=\"1821.9883,-78.0045 1826.1557,-68.2637 1816.8234,-73.2797 1821.9883,-78.0045\"/>\n</g>\n<!-- 62 -->\n<g id=\"node63\" class=\"node\">\n<title>62</title>\n<polygon fill=\"#ea9a61\" stroke=\"#000000\" points=\"1974,-306 1867,-306 1867,-223 1974,-223 1974,-306\"/>\n<text text-anchor=\"middle\" x=\"1920.5\" y=\"-290.8\" font-family=\"Helvetica,sans-Serif\" font-size=\"14.00\" fill=\"#000000\">월 &lt;= 9.5</text>\n<text text-anchor=\"middle\" x=\"1920.5\" y=\"-275.8\" font-family=\"Helvetica,sans-Serif\" font-size=\"14.00\" fill=\"#000000\">gini = 0.278</text>\n<text text-anchor=\"middle\" x=\"1920.5\" y=\"-260.8\" font-family=\"Helvetica,sans-Serif\" font-size=\"14.00\" fill=\"#000000\">samples = 12</text>\n<text text-anchor=\"middle\" x=\"1920.5\" y=\"-245.8\" font-family=\"Helvetica,sans-Serif\" font-size=\"14.00\" fill=\"#000000\">value = [10, 2]</text>\n<text text-anchor=\"middle\" x=\"1920.5\" y=\"-230.8\" font-family=\"Helvetica,sans-Serif\" font-size=\"14.00\" fill=\"#000000\">class = 0</text>\n</g>\n<!-- 61&#45;&gt;62 -->\n<g id=\"edge62\" class=\"edge\">\n<title>61&#45;&gt;62</title>\n<path fill=\"none\" stroke=\"#000000\" d=\"M1920.5,-341.8796C1920.5,-333.6838 1920.5,-324.9891 1920.5,-316.5013\"/>\n<polygon fill=\"#000000\" stroke=\"#000000\" points=\"1924.0001,-316.298 1920.5,-306.2981 1917.0001,-316.2981 1924.0001,-316.298\"/>\n</g>\n<!-- 67 -->\n<g id=\"node68\" class=\"node\">\n<title>67</title>\n<polygon fill=\"#e58139\" stroke=\"#000000\" points=\"2099,-298.5 1992,-298.5 1992,-230.5 2099,-230.5 2099,-298.5\"/>\n<text text-anchor=\"middle\" x=\"2045.5\" y=\"-283.3\" font-family=\"Helvetica,sans-Serif\" font-size=\"14.00\" fill=\"#000000\">gini = 0.0</text>\n<text text-anchor=\"middle\" x=\"2045.5\" y=\"-268.3\" font-family=\"Helvetica,sans-Serif\" font-size=\"14.00\" fill=\"#000000\">samples = 25</text>\n<text text-anchor=\"middle\" x=\"2045.5\" y=\"-253.3\" font-family=\"Helvetica,sans-Serif\" font-size=\"14.00\" fill=\"#000000\">value = [25, 0]</text>\n<text text-anchor=\"middle\" x=\"2045.5\" y=\"-238.3\" font-family=\"Helvetica,sans-Serif\" font-size=\"14.00\" fill=\"#000000\">class = 0</text>\n</g>\n<!-- 61&#45;&gt;67 -->\n<g id=\"edge67\" class=\"edge\">\n<title>61&#45;&gt;67</title>\n<path fill=\"none\" stroke=\"#000000\" d=\"M1964.2189,-341.8796C1976.4625,-330.2237 1989.7661,-317.5587 2001.9971,-305.9148\"/>\n<polygon fill=\"#000000\" stroke=\"#000000\" points=\"2004.6254,-308.245 2009.4549,-298.8149 1999.7988,-303.1751 2004.6254,-308.245\"/>\n</g>\n<!-- 63 -->\n<g id=\"node64\" class=\"node\">\n<title>63</title>\n<polygon fill=\"#e88e4d\" stroke=\"#000000\" points=\"1991,-187 1876,-187 1876,-104 1991,-104 1991,-187\"/>\n<text text-anchor=\"middle\" x=\"1933.5\" y=\"-171.8\" font-family=\"Helvetica,sans-Serif\" font-size=\"14.00\" fill=\"#000000\">개인소득 &lt;= 4.5</text>\n<text text-anchor=\"middle\" x=\"1933.5\" y=\"-156.8\" font-family=\"Helvetica,sans-Serif\" font-size=\"14.00\" fill=\"#000000\">gini = 0.165</text>\n<text text-anchor=\"middle\" x=\"1933.5\" y=\"-141.8\" font-family=\"Helvetica,sans-Serif\" font-size=\"14.00\" fill=\"#000000\">samples = 11</text>\n<text text-anchor=\"middle\" x=\"1933.5\" y=\"-126.8\" font-family=\"Helvetica,sans-Serif\" font-size=\"14.00\" fill=\"#000000\">value = [10, 1]</text>\n<text text-anchor=\"middle\" x=\"1933.5\" y=\"-111.8\" font-family=\"Helvetica,sans-Serif\" font-size=\"14.00\" fill=\"#000000\">class = 0</text>\n</g>\n<!-- 62&#45;&gt;63 -->\n<g id=\"edge63\" class=\"edge\">\n<title>62&#45;&gt;63</title>\n<path fill=\"none\" stroke=\"#000000\" d=\"M1925.0468,-222.8796C1925.9421,-214.6838 1926.8919,-205.9891 1927.8192,-197.5013\"/>\n<polygon fill=\"#000000\" stroke=\"#000000\" points=\"1931.3271,-197.6191 1928.9338,-187.2981 1924.3685,-196.8588 1931.3271,-197.6191\"/>\n</g>\n<!-- 66 -->\n<g id=\"node67\" class=\"node\">\n<title>66</title>\n<polygon fill=\"#399de5\" stroke=\"#000000\" points=\"2108,-179.5 2009,-179.5 2009,-111.5 2108,-111.5 2108,-179.5\"/>\n<text text-anchor=\"middle\" x=\"2058.5\" y=\"-164.3\" font-family=\"Helvetica,sans-Serif\" font-size=\"14.00\" fill=\"#000000\">gini = 0.0</text>\n<text text-anchor=\"middle\" x=\"2058.5\" y=\"-149.3\" font-family=\"Helvetica,sans-Serif\" font-size=\"14.00\" fill=\"#000000\">samples = 1</text>\n<text text-anchor=\"middle\" x=\"2058.5\" y=\"-134.3\" font-family=\"Helvetica,sans-Serif\" font-size=\"14.00\" fill=\"#000000\">value = [0, 1]</text>\n<text text-anchor=\"middle\" x=\"2058.5\" y=\"-119.3\" font-family=\"Helvetica,sans-Serif\" font-size=\"14.00\" fill=\"#000000\">class = 1</text>\n</g>\n<!-- 62&#45;&gt;66 -->\n<g id=\"edge66\" class=\"edge\">\n<title>62&#45;&gt;66</title>\n<path fill=\"none\" stroke=\"#000000\" d=\"M1968.7657,-222.8796C1982.4101,-211.1138 1997.2469,-198.3197 2010.8546,-186.5855\"/>\n<polygon fill=\"#000000\" stroke=\"#000000\" points=\"2013.4187,-188.9961 2018.7062,-179.8149 2008.8473,-183.6948 2013.4187,-188.9961\"/>\n</g>\n<!-- 64 -->\n<g id=\"node65\" class=\"node\">\n<title>64</title>\n<polygon fill=\"#e58139\" stroke=\"#000000\" points=\"2024,-68 1925,-68 1925,0 2024,0 2024,-68\"/>\n<text text-anchor=\"middle\" x=\"1974.5\" y=\"-52.8\" font-family=\"Helvetica,sans-Serif\" font-size=\"14.00\" fill=\"#000000\">gini = 0.0</text>\n<text text-anchor=\"middle\" x=\"1974.5\" y=\"-37.8\" font-family=\"Helvetica,sans-Serif\" font-size=\"14.00\" fill=\"#000000\">samples = 8</text>\n<text text-anchor=\"middle\" x=\"1974.5\" y=\"-22.8\" font-family=\"Helvetica,sans-Serif\" font-size=\"14.00\" fill=\"#000000\">value = [8, 0]</text>\n<text text-anchor=\"middle\" x=\"1974.5\" y=\"-7.8\" font-family=\"Helvetica,sans-Serif\" font-size=\"14.00\" fill=\"#000000\">class = 0</text>\n</g>\n<!-- 63&#45;&gt;64 -->\n<g id=\"edge64\" class=\"edge\">\n<title>63&#45;&gt;64</title>\n<path fill=\"none\" stroke=\"#000000\" d=\"M1948.7669,-103.9815C1951.9098,-95.4342 1955.2287,-86.4086 1958.4001,-77.7839\"/>\n<polygon fill=\"#000000\" stroke=\"#000000\" points=\"1961.7345,-78.8572 1961.9008,-68.2637 1955.1646,-76.4413 1961.7345,-78.8572\"/>\n</g>\n<!-- 65 -->\n<g id=\"node66\" class=\"node\">\n<title>65</title>\n<polygon fill=\"#f2c09c\" stroke=\"#000000\" points=\"2141,-68 2042,-68 2042,0 2141,0 2141,-68\"/>\n<text text-anchor=\"middle\" x=\"2091.5\" y=\"-52.8\" font-family=\"Helvetica,sans-Serif\" font-size=\"14.00\" fill=\"#000000\">gini = 0.444</text>\n<text text-anchor=\"middle\" x=\"2091.5\" y=\"-37.8\" font-family=\"Helvetica,sans-Serif\" font-size=\"14.00\" fill=\"#000000\">samples = 3</text>\n<text text-anchor=\"middle\" x=\"2091.5\" y=\"-22.8\" font-family=\"Helvetica,sans-Serif\" font-size=\"14.00\" fill=\"#000000\">value = [2, 1]</text>\n<text text-anchor=\"middle\" x=\"2091.5\" y=\"-7.8\" font-family=\"Helvetica,sans-Serif\" font-size=\"14.00\" fill=\"#000000\">class = 0</text>\n</g>\n<!-- 63&#45;&gt;65 -->\n<g id=\"edge65\" class=\"edge\">\n<title>63&#45;&gt;65</title>\n<path fill=\"none\" stroke=\"#000000\" d=\"M1991.4362,-104.6146C2005.6455,-94.5872 2020.8355,-83.8677 2034.9773,-73.8878\"/>\n<polygon fill=\"#000000\" stroke=\"#000000\" points=\"2037.015,-76.7337 2043.1674,-68.1082 2032.9789,-71.0144 2037.015,-76.7337\"/>\n</g>\n<!-- 69 -->\n<g id=\"node70\" class=\"node\">\n<title>69</title>\n<polygon fill=\"#e58139\" stroke=\"#000000\" points=\"2104,-417.5 2005,-417.5 2005,-349.5 2104,-349.5 2104,-417.5\"/>\n<text text-anchor=\"middle\" x=\"2054.5\" y=\"-402.3\" font-family=\"Helvetica,sans-Serif\" font-size=\"14.00\" fill=\"#000000\">gini = 0.0</text>\n<text text-anchor=\"middle\" x=\"2054.5\" y=\"-387.3\" font-family=\"Helvetica,sans-Serif\" font-size=\"14.00\" fill=\"#000000\">samples = 3</text>\n<text text-anchor=\"middle\" x=\"2054.5\" y=\"-372.3\" font-family=\"Helvetica,sans-Serif\" font-size=\"14.00\" fill=\"#000000\">value = [3, 0]</text>\n<text text-anchor=\"middle\" x=\"2054.5\" y=\"-357.3\" font-family=\"Helvetica,sans-Serif\" font-size=\"14.00\" fill=\"#000000\">class = 0</text>\n</g>\n<!-- 68&#45;&gt;69 -->\n<g id=\"edge69\" class=\"edge\">\n<title>68&#45;&gt;69</title>\n<path fill=\"none\" stroke=\"#000000\" d=\"M2057.101,-460.8796C2056.7425,-450.2134 2056.3555,-438.7021 2055.9925,-427.9015\"/>\n<polygon fill=\"#000000\" stroke=\"#000000\" points=\"2059.4875,-427.6917 2055.6534,-417.8149 2052.4915,-427.9269 2059.4875,-427.6917\"/>\n</g>\n<!-- 70 -->\n<g id=\"node71\" class=\"node\">\n<title>70</title>\n<polygon fill=\"#399de5\" stroke=\"#000000\" points=\"2221,-417.5 2122,-417.5 2122,-349.5 2221,-349.5 2221,-417.5\"/>\n<text text-anchor=\"middle\" x=\"2171.5\" y=\"-402.3\" font-family=\"Helvetica,sans-Serif\" font-size=\"14.00\" fill=\"#000000\">gini = 0.0</text>\n<text text-anchor=\"middle\" x=\"2171.5\" y=\"-387.3\" font-family=\"Helvetica,sans-Serif\" font-size=\"14.00\" fill=\"#000000\">samples = 6</text>\n<text text-anchor=\"middle\" x=\"2171.5\" y=\"-372.3\" font-family=\"Helvetica,sans-Serif\" font-size=\"14.00\" fill=\"#000000\">value = [0, 6]</text>\n<text text-anchor=\"middle\" x=\"2171.5\" y=\"-357.3\" font-family=\"Helvetica,sans-Serif\" font-size=\"14.00\" fill=\"#000000\">class = 1</text>\n</g>\n<!-- 68&#45;&gt;70 -->\n<g id=\"edge70\" class=\"edge\">\n<title>68&#45;&gt;70</title>\n<path fill=\"none\" stroke=\"#000000\" d=\"M2098.0219,-460.8796C2108.9857,-449.3337 2120.8897,-436.7976 2131.8601,-425.2446\"/>\n<polygon fill=\"#000000\" stroke=\"#000000\" points=\"2134.5673,-427.4766 2138.9152,-417.8149 2129.4913,-422.6564 2134.5673,-427.4766\"/>\n</g>\n<!-- 72 -->\n<g id=\"node73\" class=\"node\">\n<title>72</title>\n<polygon fill=\"#f4c9aa\" stroke=\"#000000\" points=\"2400.5,-544 2296.5,-544 2296.5,-461 2400.5,-461 2400.5,-544\"/>\n<text text-anchor=\"middle\" x=\"2348.5\" y=\"-528.8\" font-family=\"Helvetica,sans-Serif\" font-size=\"14.00\" fill=\"#000000\">연령 &lt;= 3.5</text>\n<text text-anchor=\"middle\" x=\"2348.5\" y=\"-513.8\" font-family=\"Helvetica,sans-Serif\" font-size=\"14.00\" fill=\"#000000\">gini = 0.463</text>\n<text text-anchor=\"middle\" x=\"2348.5\" y=\"-498.8\" font-family=\"Helvetica,sans-Serif\" font-size=\"14.00\" fill=\"#000000\">samples = 11</text>\n<text text-anchor=\"middle\" x=\"2348.5\" y=\"-483.8\" font-family=\"Helvetica,sans-Serif\" font-size=\"14.00\" fill=\"#000000\">value = [7, 4]</text>\n<text text-anchor=\"middle\" x=\"2348.5\" y=\"-468.8\" font-family=\"Helvetica,sans-Serif\" font-size=\"14.00\" fill=\"#000000\">class = 0</text>\n</g>\n<!-- 71&#45;&gt;72 -->\n<g id=\"edge72\" class=\"edge\">\n<title>71&#45;&gt;72</title>\n<path fill=\"none\" stroke=\"#000000\" d=\"M2348.5,-579.8796C2348.5,-571.6838 2348.5,-562.9891 2348.5,-554.5013\"/>\n<polygon fill=\"#000000\" stroke=\"#000000\" points=\"2352.0001,-554.298 2348.5,-544.2981 2345.0001,-554.2981 2352.0001,-554.298\"/>\n</g>\n<!-- 79 -->\n<g id=\"node80\" class=\"node\">\n<title>79</title>\n<polygon fill=\"#e68743\" stroke=\"#000000\" points=\"2626,-544 2519,-544 2519,-461 2626,-461 2626,-544\"/>\n<text text-anchor=\"middle\" x=\"2572.5\" y=\"-528.8\" font-family=\"Helvetica,sans-Serif\" font-size=\"14.00\" fill=\"#000000\">연령 &lt;= 6.5</text>\n<text text-anchor=\"middle\" x=\"2572.5\" y=\"-513.8\" font-family=\"Helvetica,sans-Serif\" font-size=\"14.00\" fill=\"#000000\">gini = 0.089</text>\n<text text-anchor=\"middle\" x=\"2572.5\" y=\"-498.8\" font-family=\"Helvetica,sans-Serif\" font-size=\"14.00\" fill=\"#000000\">samples = 64</text>\n<text text-anchor=\"middle\" x=\"2572.5\" y=\"-483.8\" font-family=\"Helvetica,sans-Serif\" font-size=\"14.00\" fill=\"#000000\">value = [61, 3]</text>\n<text text-anchor=\"middle\" x=\"2572.5\" y=\"-468.8\" font-family=\"Helvetica,sans-Serif\" font-size=\"14.00\" fill=\"#000000\">class = 0</text>\n</g>\n<!-- 71&#45;&gt;79 -->\n<g id=\"edge79\" class=\"edge\">\n<title>71&#45;&gt;79</title>\n<path fill=\"none\" stroke=\"#000000\" d=\"M2426.8443,-579.8796C2454.0427,-565.4305 2484.1602,-549.4305 2509.9165,-535.7475\"/>\n<polygon fill=\"#000000\" stroke=\"#000000\" points=\"2511.644,-538.7931 2518.8331,-531.0106 2508.3598,-532.6113 2511.644,-538.7931\"/>\n</g>\n<!-- 73 -->\n<g id=\"node74\" class=\"node\">\n<title>73</title>\n<polygon fill=\"#9ccef2\" stroke=\"#000000\" points=\"2340,-425 2241,-425 2241,-342 2340,-342 2340,-425\"/>\n<text text-anchor=\"middle\" x=\"2290.5\" y=\"-409.8\" font-family=\"Helvetica,sans-Serif\" font-size=\"14.00\" fill=\"#000000\">월 &lt;= 8.0</text>\n<text text-anchor=\"middle\" x=\"2290.5\" y=\"-394.8\" font-family=\"Helvetica,sans-Serif\" font-size=\"14.00\" fill=\"#000000\">gini = 0.444</text>\n<text text-anchor=\"middle\" x=\"2290.5\" y=\"-379.8\" font-family=\"Helvetica,sans-Serif\" font-size=\"14.00\" fill=\"#000000\">samples = 6</text>\n<text text-anchor=\"middle\" x=\"2290.5\" y=\"-364.8\" font-family=\"Helvetica,sans-Serif\" font-size=\"14.00\" fill=\"#000000\">value = [2, 4]</text>\n<text text-anchor=\"middle\" x=\"2290.5\" y=\"-349.8\" font-family=\"Helvetica,sans-Serif\" font-size=\"14.00\" fill=\"#000000\">class = 1</text>\n</g>\n<!-- 72&#45;&gt;73 -->\n<g id=\"edge73\" class=\"edge\">\n<title>72&#45;&gt;73</title>\n<path fill=\"none\" stroke=\"#000000\" d=\"M2328.2144,-460.8796C2324.0443,-452.3236 2319.6091,-443.2238 2315.3003,-434.3833\"/>\n<polygon fill=\"#000000\" stroke=\"#000000\" points=\"2318.3997,-432.7538 2310.8722,-425.2981 2312.1073,-435.8207 2318.3997,-432.7538\"/>\n</g>\n<!-- 78 -->\n<g id=\"node79\" class=\"node\">\n<title>78</title>\n<polygon fill=\"#e58139\" stroke=\"#000000\" points=\"2457,-417.5 2358,-417.5 2358,-349.5 2457,-349.5 2457,-417.5\"/>\n<text text-anchor=\"middle\" x=\"2407.5\" y=\"-402.3\" font-family=\"Helvetica,sans-Serif\" font-size=\"14.00\" fill=\"#000000\">gini = 0.0</text>\n<text text-anchor=\"middle\" x=\"2407.5\" y=\"-387.3\" font-family=\"Helvetica,sans-Serif\" font-size=\"14.00\" fill=\"#000000\">samples = 5</text>\n<text text-anchor=\"middle\" x=\"2407.5\" y=\"-372.3\" font-family=\"Helvetica,sans-Serif\" font-size=\"14.00\" fill=\"#000000\">value = [5, 0]</text>\n<text text-anchor=\"middle\" x=\"2407.5\" y=\"-357.3\" font-family=\"Helvetica,sans-Serif\" font-size=\"14.00\" fill=\"#000000\">class = 0</text>\n</g>\n<!-- 72&#45;&gt;78 -->\n<g id=\"edge78\" class=\"edge\">\n<title>72&#45;&gt;78</title>\n<path fill=\"none\" stroke=\"#000000\" d=\"M2369.1353,-460.8796C2374.5872,-449.8835 2380.4843,-437.9893 2385.9816,-426.9015\"/>\n<polygon fill=\"#000000\" stroke=\"#000000\" points=\"2389.1804,-428.3289 2390.4867,-417.8149 2382.9089,-425.2195 2389.1804,-428.3289\"/>\n</g>\n<!-- 74 -->\n<g id=\"node75\" class=\"node\">\n<title>74</title>\n<polygon fill=\"#399de5\" stroke=\"#000000\" points=\"2216,-298.5 2117,-298.5 2117,-230.5 2216,-230.5 2216,-298.5\"/>\n<text text-anchor=\"middle\" x=\"2166.5\" y=\"-283.3\" font-family=\"Helvetica,sans-Serif\" font-size=\"14.00\" fill=\"#000000\">gini = 0.0</text>\n<text text-anchor=\"middle\" x=\"2166.5\" y=\"-268.3\" font-family=\"Helvetica,sans-Serif\" font-size=\"14.00\" fill=\"#000000\">samples = 3</text>\n<text text-anchor=\"middle\" x=\"2166.5\" y=\"-253.3\" font-family=\"Helvetica,sans-Serif\" font-size=\"14.00\" fill=\"#000000\">value = [0, 3]</text>\n<text text-anchor=\"middle\" x=\"2166.5\" y=\"-238.3\" font-family=\"Helvetica,sans-Serif\" font-size=\"14.00\" fill=\"#000000\">class = 1</text>\n</g>\n<!-- 73&#45;&gt;74 -->\n<g id=\"edge74\" class=\"edge\">\n<title>73&#45;&gt;74</title>\n<path fill=\"none\" stroke=\"#000000\" d=\"M2247.1308,-341.8796C2234.9852,-330.2237 2221.7881,-317.5587 2209.6549,-305.9148\"/>\n<polygon fill=\"#000000\" stroke=\"#000000\" points=\"2211.8953,-303.2138 2202.2567,-298.8149 2207.0484,-308.2643 2211.8953,-303.2138\"/>\n</g>\n<!-- 75 -->\n<g id=\"node76\" class=\"node\">\n<title>75</title>\n<polygon fill=\"#f2c09c\" stroke=\"#000000\" points=\"2357,-306 2234,-306 2234,-223 2357,-223 2357,-306\"/>\n<text text-anchor=\"middle\" x=\"2295.5\" y=\"-290.8\" font-family=\"Helvetica,sans-Serif\" font-size=\"14.00\" fill=\"#000000\">여행활동1 &lt;= 0.5</text>\n<text text-anchor=\"middle\" x=\"2295.5\" y=\"-275.8\" font-family=\"Helvetica,sans-Serif\" font-size=\"14.00\" fill=\"#000000\">gini = 0.444</text>\n<text text-anchor=\"middle\" x=\"2295.5\" y=\"-260.8\" font-family=\"Helvetica,sans-Serif\" font-size=\"14.00\" fill=\"#000000\">samples = 3</text>\n<text text-anchor=\"middle\" x=\"2295.5\" y=\"-245.8\" font-family=\"Helvetica,sans-Serif\" font-size=\"14.00\" fill=\"#000000\">value = [2, 1]</text>\n<text text-anchor=\"middle\" x=\"2295.5\" y=\"-230.8\" font-family=\"Helvetica,sans-Serif\" font-size=\"14.00\" fill=\"#000000\">class = 0</text>\n</g>\n<!-- 73&#45;&gt;75 -->\n<g id=\"edge75\" class=\"edge\">\n<title>73&#45;&gt;75</title>\n<path fill=\"none\" stroke=\"#000000\" d=\"M2292.2488,-341.8796C2292.5931,-333.6838 2292.9584,-324.9891 2293.3151,-316.5013\"/>\n<polygon fill=\"#000000\" stroke=\"#000000\" points=\"2296.8208,-316.4362 2293.7438,-306.2981 2289.827,-316.1423 2296.8208,-316.4362\"/>\n</g>\n<!-- 76 -->\n<g id=\"node77\" class=\"node\">\n<title>76</title>\n<polygon fill=\"#399de5\" stroke=\"#000000\" points=\"2233,-179.5 2134,-179.5 2134,-111.5 2233,-111.5 2233,-179.5\"/>\n<text text-anchor=\"middle\" x=\"2183.5\" y=\"-164.3\" font-family=\"Helvetica,sans-Serif\" font-size=\"14.00\" fill=\"#000000\">gini = 0.0</text>\n<text text-anchor=\"middle\" x=\"2183.5\" y=\"-149.3\" font-family=\"Helvetica,sans-Serif\" font-size=\"14.00\" fill=\"#000000\">samples = 1</text>\n<text text-anchor=\"middle\" x=\"2183.5\" y=\"-134.3\" font-family=\"Helvetica,sans-Serif\" font-size=\"14.00\" fill=\"#000000\">value = [0, 1]</text>\n<text text-anchor=\"middle\" x=\"2183.5\" y=\"-119.3\" font-family=\"Helvetica,sans-Serif\" font-size=\"14.00\" fill=\"#000000\">class = 1</text>\n</g>\n<!-- 75&#45;&gt;76 -->\n<g id=\"edge76\" class=\"edge\">\n<title>75&#45;&gt;76</title>\n<path fill=\"none\" stroke=\"#000000\" d=\"M2256.3278,-222.8796C2245.4611,-211.3337 2233.6624,-198.7976 2222.7891,-187.2446\"/>\n<polygon fill=\"#000000\" stroke=\"#000000\" points=\"2225.1988,-184.6982 2215.7964,-179.8149 2220.1014,-189.4958 2225.1988,-184.6982\"/>\n</g>\n<!-- 77 -->\n<g id=\"node78\" class=\"node\">\n<title>77</title>\n<polygon fill=\"#e58139\" stroke=\"#000000\" points=\"2350,-179.5 2251,-179.5 2251,-111.5 2350,-111.5 2350,-179.5\"/>\n<text text-anchor=\"middle\" x=\"2300.5\" y=\"-164.3\" font-family=\"Helvetica,sans-Serif\" font-size=\"14.00\" fill=\"#000000\">gini = 0.0</text>\n<text text-anchor=\"middle\" x=\"2300.5\" y=\"-149.3\" font-family=\"Helvetica,sans-Serif\" font-size=\"14.00\" fill=\"#000000\">samples = 2</text>\n<text text-anchor=\"middle\" x=\"2300.5\" y=\"-134.3\" font-family=\"Helvetica,sans-Serif\" font-size=\"14.00\" fill=\"#000000\">value = [2, 0]</text>\n<text text-anchor=\"middle\" x=\"2300.5\" y=\"-119.3\" font-family=\"Helvetica,sans-Serif\" font-size=\"14.00\" fill=\"#000000\">class = 0</text>\n</g>\n<!-- 75&#45;&gt;77 -->\n<g id=\"edge77\" class=\"edge\">\n<title>75&#45;&gt;77</title>\n<path fill=\"none\" stroke=\"#000000\" d=\"M2297.2488,-222.8796C2297.6969,-212.2134 2298.1806,-200.7021 2298.6344,-189.9015\"/>\n<polygon fill=\"#000000\" stroke=\"#000000\" points=\"2302.1352,-189.9531 2299.0582,-179.8149 2295.1414,-189.6592 2302.1352,-189.9531\"/>\n</g>\n<!-- 80 -->\n<g id=\"node81\" class=\"node\">\n<title>80</title>\n<polygon fill=\"#e68540\" stroke=\"#000000\" points=\"2657.5,-425 2487.5,-425 2487.5,-342 2657.5,-342 2657.5,-425\"/>\n<text text-anchor=\"middle\" x=\"2572.5\" y=\"-409.8\" font-family=\"Helvetica,sans-Serif\" font-size=\"14.00\" fill=\"#000000\">1인지출비용 &lt;= 90000.0</text>\n<text text-anchor=\"middle\" x=\"2572.5\" y=\"-394.8\" font-family=\"Helvetica,sans-Serif\" font-size=\"14.00\" fill=\"#000000\">gini = 0.062</text>\n<text text-anchor=\"middle\" x=\"2572.5\" y=\"-379.8\" font-family=\"Helvetica,sans-Serif\" font-size=\"14.00\" fill=\"#000000\">samples = 62</text>\n<text text-anchor=\"middle\" x=\"2572.5\" y=\"-364.8\" font-family=\"Helvetica,sans-Serif\" font-size=\"14.00\" fill=\"#000000\">value = [60, 2]</text>\n<text text-anchor=\"middle\" x=\"2572.5\" y=\"-349.8\" font-family=\"Helvetica,sans-Serif\" font-size=\"14.00\" fill=\"#000000\">class = 0</text>\n</g>\n<!-- 79&#45;&gt;80 -->\n<g id=\"edge80\" class=\"edge\">\n<title>79&#45;&gt;80</title>\n<path fill=\"none\" stroke=\"#000000\" d=\"M2572.5,-460.8796C2572.5,-452.6838 2572.5,-443.9891 2572.5,-435.5013\"/>\n<polygon fill=\"#000000\" stroke=\"#000000\" points=\"2576.0001,-435.298 2572.5,-425.2981 2569.0001,-435.2981 2576.0001,-435.298\"/>\n</g>\n<!-- 87 -->\n<g id=\"node88\" class=\"node\">\n<title>87</title>\n<polygon fill=\"#ffffff\" stroke=\"#000000\" points=\"2788,-425 2689,-425 2689,-342 2788,-342 2788,-425\"/>\n<text text-anchor=\"middle\" x=\"2738.5\" y=\"-409.8\" font-family=\"Helvetica,sans-Serif\" font-size=\"14.00\" fill=\"#000000\">직업 &lt;= 2.0</text>\n<text text-anchor=\"middle\" x=\"2738.5\" y=\"-394.8\" font-family=\"Helvetica,sans-Serif\" font-size=\"14.00\" fill=\"#000000\">gini = 0.5</text>\n<text text-anchor=\"middle\" x=\"2738.5\" y=\"-379.8\" font-family=\"Helvetica,sans-Serif\" font-size=\"14.00\" fill=\"#000000\">samples = 2</text>\n<text text-anchor=\"middle\" x=\"2738.5\" y=\"-364.8\" font-family=\"Helvetica,sans-Serif\" font-size=\"14.00\" fill=\"#000000\">value = [1, 1]</text>\n<text text-anchor=\"middle\" x=\"2738.5\" y=\"-349.8\" font-family=\"Helvetica,sans-Serif\" font-size=\"14.00\" fill=\"#000000\">class = 0</text>\n</g>\n<!-- 79&#45;&gt;87 -->\n<g id=\"edge87\" class=\"edge\">\n<title>79&#45;&gt;87</title>\n<path fill=\"none\" stroke=\"#000000\" d=\"M2626.3954,-463.8641C2643.6431,-451.4998 2662.8106,-437.7593 2680.3478,-425.1874\"/>\n<polygon fill=\"#000000\" stroke=\"#000000\" points=\"2682.7223,-427.7917 2688.8105,-419.1208 2678.6439,-422.1025 2682.7223,-427.7917\"/>\n</g>\n<!-- 81 -->\n<g id=\"node82\" class=\"node\">\n<title>81</title>\n<polygon fill=\"#e88e4e\" stroke=\"#000000\" points=\"2545.5,-306 2375.5,-306 2375.5,-223 2545.5,-223 2545.5,-306\"/>\n<text text-anchor=\"middle\" x=\"2460.5\" y=\"-290.8\" font-family=\"Helvetica,sans-Serif\" font-size=\"14.00\" fill=\"#000000\">1인지출비용 &lt;= 82250.0</text>\n<text text-anchor=\"middle\" x=\"2460.5\" y=\"-275.8\" font-family=\"Helvetica,sans-Serif\" font-size=\"14.00\" fill=\"#000000\">gini = 0.172</text>\n<text text-anchor=\"middle\" x=\"2460.5\" y=\"-260.8\" font-family=\"Helvetica,sans-Serif\" font-size=\"14.00\" fill=\"#000000\">samples = 21</text>\n<text text-anchor=\"middle\" x=\"2460.5\" y=\"-245.8\" font-family=\"Helvetica,sans-Serif\" font-size=\"14.00\" fill=\"#000000\">value = [19, 2]</text>\n<text text-anchor=\"middle\" x=\"2460.5\" y=\"-230.8\" font-family=\"Helvetica,sans-Serif\" font-size=\"14.00\" fill=\"#000000\">class = 0</text>\n</g>\n<!-- 80&#45;&gt;81 -->\n<g id=\"edge81\" class=\"edge\">\n<title>80&#45;&gt;81</title>\n<path fill=\"none\" stroke=\"#000000\" d=\"M2533.3278,-341.8796C2524.7665,-332.7832 2515.6268,-323.0722 2506.8168,-313.7116\"/>\n<polygon fill=\"#000000\" stroke=\"#000000\" points=\"2509.2417,-311.1813 2499.8394,-306.2981 2504.1443,-315.9789 2509.2417,-311.1813\"/>\n</g>\n<!-- 86 -->\n<g id=\"node87\" class=\"node\">\n<title>86</title>\n<polygon fill=\"#e58139\" stroke=\"#000000\" points=\"2671,-298.5 2564,-298.5 2564,-230.5 2671,-230.5 2671,-298.5\"/>\n<text text-anchor=\"middle\" x=\"2617.5\" y=\"-283.3\" font-family=\"Helvetica,sans-Serif\" font-size=\"14.00\" fill=\"#000000\">gini = 0.0</text>\n<text text-anchor=\"middle\" x=\"2617.5\" y=\"-268.3\" font-family=\"Helvetica,sans-Serif\" font-size=\"14.00\" fill=\"#000000\">samples = 41</text>\n<text text-anchor=\"middle\" x=\"2617.5\" y=\"-253.3\" font-family=\"Helvetica,sans-Serif\" font-size=\"14.00\" fill=\"#000000\">value = [41, 0]</text>\n<text text-anchor=\"middle\" x=\"2617.5\" y=\"-238.3\" font-family=\"Helvetica,sans-Serif\" font-size=\"14.00\" fill=\"#000000\">class = 0</text>\n</g>\n<!-- 80&#45;&gt;86 -->\n<g id=\"edge86\" class=\"edge\">\n<title>80&#45;&gt;86</title>\n<path fill=\"none\" stroke=\"#000000\" d=\"M2588.2388,-341.8796C2592.3554,-330.9935 2596.8049,-319.227 2600.9618,-308.2344\"/>\n<polygon fill=\"#000000\" stroke=\"#000000\" points=\"2604.2604,-309.4065 2604.5238,-298.8149 2597.7129,-306.9305 2604.2604,-309.4065\"/>\n</g>\n<!-- 82 -->\n<g id=\"node83\" class=\"node\">\n<title>82</title>\n<polygon fill=\"#e68843\" stroke=\"#000000\" points=\"2485,-187 2378,-187 2378,-104 2485,-104 2485,-187\"/>\n<text text-anchor=\"middle\" x=\"2431.5\" y=\"-171.8\" font-family=\"Helvetica,sans-Serif\" font-size=\"14.00\" fill=\"#000000\">월 &lt;= 1.5</text>\n<text text-anchor=\"middle\" x=\"2431.5\" y=\"-156.8\" font-family=\"Helvetica,sans-Serif\" font-size=\"14.00\" fill=\"#000000\">gini = 0.095</text>\n<text text-anchor=\"middle\" x=\"2431.5\" y=\"-141.8\" font-family=\"Helvetica,sans-Serif\" font-size=\"14.00\" fill=\"#000000\">samples = 20</text>\n<text text-anchor=\"middle\" x=\"2431.5\" y=\"-126.8\" font-family=\"Helvetica,sans-Serif\" font-size=\"14.00\" fill=\"#000000\">value = [19, 1]</text>\n<text text-anchor=\"middle\" x=\"2431.5\" y=\"-111.8\" font-family=\"Helvetica,sans-Serif\" font-size=\"14.00\" fill=\"#000000\">class = 0</text>\n</g>\n<!-- 81&#45;&gt;82 -->\n<g id=\"edge82\" class=\"edge\">\n<title>81&#45;&gt;82</title>\n<path fill=\"none\" stroke=\"#000000\" d=\"M2450.3572,-222.8796C2448.338,-214.5938 2446.1945,-205.798 2444.1044,-197.2216\"/>\n<polygon fill=\"#000000\" stroke=\"#000000\" points=\"2447.4543,-196.185 2441.6861,-187.2981 2440.6534,-197.8425 2447.4543,-196.185\"/>\n</g>\n<!-- 85 -->\n<g id=\"node86\" class=\"node\">\n<title>85</title>\n<polygon fill=\"#399de5\" stroke=\"#000000\" points=\"2602,-179.5 2503,-179.5 2503,-111.5 2602,-111.5 2602,-179.5\"/>\n<text text-anchor=\"middle\" x=\"2552.5\" y=\"-164.3\" font-family=\"Helvetica,sans-Serif\" font-size=\"14.00\" fill=\"#000000\">gini = 0.0</text>\n<text text-anchor=\"middle\" x=\"2552.5\" y=\"-149.3\" font-family=\"Helvetica,sans-Serif\" font-size=\"14.00\" fill=\"#000000\">samples = 1</text>\n<text text-anchor=\"middle\" x=\"2552.5\" y=\"-134.3\" font-family=\"Helvetica,sans-Serif\" font-size=\"14.00\" fill=\"#000000\">value = [0, 1]</text>\n<text text-anchor=\"middle\" x=\"2552.5\" y=\"-119.3\" font-family=\"Helvetica,sans-Serif\" font-size=\"14.00\" fill=\"#000000\">class = 1</text>\n</g>\n<!-- 81&#45;&gt;85 -->\n<g id=\"edge85\" class=\"edge\">\n<title>81&#45;&gt;85</title>\n<path fill=\"none\" stroke=\"#000000\" d=\"M2492.6771,-222.8796C2501.4333,-211.5536 2510.9262,-199.2748 2519.7156,-187.9058\"/>\n<polygon fill=\"#000000\" stroke=\"#000000\" points=\"2522.6234,-189.8671 2525.9708,-179.8149 2517.0854,-185.5856 2522.6234,-189.8671\"/>\n</g>\n<!-- 83 -->\n<g id=\"node84\" class=\"node\">\n<title>83</title>\n<polygon fill=\"#f2c09c\" stroke=\"#000000\" points=\"2362,-68 2263,-68 2263,0 2362,0 2362,-68\"/>\n<text text-anchor=\"middle\" x=\"2312.5\" y=\"-52.8\" font-family=\"Helvetica,sans-Serif\" font-size=\"14.00\" fill=\"#000000\">gini = 0.444</text>\n<text text-anchor=\"middle\" x=\"2312.5\" y=\"-37.8\" font-family=\"Helvetica,sans-Serif\" font-size=\"14.00\" fill=\"#000000\">samples = 3</text>\n<text text-anchor=\"middle\" x=\"2312.5\" y=\"-22.8\" font-family=\"Helvetica,sans-Serif\" font-size=\"14.00\" fill=\"#000000\">value = [2, 1]</text>\n<text text-anchor=\"middle\" x=\"2312.5\" y=\"-7.8\" font-family=\"Helvetica,sans-Serif\" font-size=\"14.00\" fill=\"#000000\">class = 0</text>\n</g>\n<!-- 82&#45;&gt;83 -->\n<g id=\"edge83\" class=\"edge\">\n<title>82&#45;&gt;83</title>\n<path fill=\"none\" stroke=\"#000000\" d=\"M2387.1888,-103.9815C2377.1837,-94.607 2366.5646,-84.6572 2356.5696,-75.2921\"/>\n<polygon fill=\"#000000\" stroke=\"#000000\" points=\"2358.7588,-72.547 2349.0684,-68.2637 2353.9726,-77.6551 2358.7588,-72.547\"/>\n</g>\n<!-- 84 -->\n<g id=\"node85\" class=\"node\">\n<title>84</title>\n<polygon fill=\"#e58139\" stroke=\"#000000\" points=\"2487,-68 2380,-68 2380,0 2487,0 2487,-68\"/>\n<text text-anchor=\"middle\" x=\"2433.5\" y=\"-52.8\" font-family=\"Helvetica,sans-Serif\" font-size=\"14.00\" fill=\"#000000\">gini = 0.0</text>\n<text text-anchor=\"middle\" x=\"2433.5\" y=\"-37.8\" font-family=\"Helvetica,sans-Serif\" font-size=\"14.00\" fill=\"#000000\">samples = 17</text>\n<text text-anchor=\"middle\" x=\"2433.5\" y=\"-22.8\" font-family=\"Helvetica,sans-Serif\" font-size=\"14.00\" fill=\"#000000\">value = [17, 0]</text>\n<text text-anchor=\"middle\" x=\"2433.5\" y=\"-7.8\" font-family=\"Helvetica,sans-Serif\" font-size=\"14.00\" fill=\"#000000\">class = 0</text>\n</g>\n<!-- 82&#45;&gt;84 -->\n<g id=\"edge84\" class=\"edge\">\n<title>82&#45;&gt;84</title>\n<path fill=\"none\" stroke=\"#000000\" d=\"M2432.2447,-103.9815C2432.3947,-95.618 2432.553,-86.7965 2432.7046,-78.3409\"/>\n<polygon fill=\"#000000\" stroke=\"#000000\" points=\"2436.2054,-78.3249 2432.8854,-68.2637 2429.2065,-78.1993 2436.2054,-78.3249\"/>\n</g>\n<!-- 88 -->\n<g id=\"node89\" class=\"node\">\n<title>88</title>\n<polygon fill=\"#e58139\" stroke=\"#000000\" points=\"2788,-298.5 2689,-298.5 2689,-230.5 2788,-230.5 2788,-298.5\"/>\n<text text-anchor=\"middle\" x=\"2738.5\" y=\"-283.3\" font-family=\"Helvetica,sans-Serif\" font-size=\"14.00\" fill=\"#000000\">gini = 0.0</text>\n<text text-anchor=\"middle\" x=\"2738.5\" y=\"-268.3\" font-family=\"Helvetica,sans-Serif\" font-size=\"14.00\" fill=\"#000000\">samples = 1</text>\n<text text-anchor=\"middle\" x=\"2738.5\" y=\"-253.3\" font-family=\"Helvetica,sans-Serif\" font-size=\"14.00\" fill=\"#000000\">value = [1, 0]</text>\n<text text-anchor=\"middle\" x=\"2738.5\" y=\"-238.3\" font-family=\"Helvetica,sans-Serif\" font-size=\"14.00\" fill=\"#000000\">class = 0</text>\n</g>\n<!-- 87&#45;&gt;88 -->\n<g id=\"edge88\" class=\"edge\">\n<title>87&#45;&gt;88</title>\n<path fill=\"none\" stroke=\"#000000\" d=\"M2738.5,-341.8796C2738.5,-331.2134 2738.5,-319.7021 2738.5,-308.9015\"/>\n<polygon fill=\"#000000\" stroke=\"#000000\" points=\"2742.0001,-308.8149 2738.5,-298.8149 2735.0001,-308.815 2742.0001,-308.8149\"/>\n</g>\n<!-- 89 -->\n<g id=\"node90\" class=\"node\">\n<title>89</title>\n<polygon fill=\"#399de5\" stroke=\"#000000\" points=\"2905,-298.5 2806,-298.5 2806,-230.5 2905,-230.5 2905,-298.5\"/>\n<text text-anchor=\"middle\" x=\"2855.5\" y=\"-283.3\" font-family=\"Helvetica,sans-Serif\" font-size=\"14.00\" fill=\"#000000\">gini = 0.0</text>\n<text text-anchor=\"middle\" x=\"2855.5\" y=\"-268.3\" font-family=\"Helvetica,sans-Serif\" font-size=\"14.00\" fill=\"#000000\">samples = 1</text>\n<text text-anchor=\"middle\" x=\"2855.5\" y=\"-253.3\" font-family=\"Helvetica,sans-Serif\" font-size=\"14.00\" fill=\"#000000\">value = [0, 1]</text>\n<text text-anchor=\"middle\" x=\"2855.5\" y=\"-238.3\" font-family=\"Helvetica,sans-Serif\" font-size=\"14.00\" fill=\"#000000\">class = 1</text>\n</g>\n<!-- 87&#45;&gt;89 -->\n<g id=\"edge89\" class=\"edge\">\n<title>87&#45;&gt;89</title>\n<path fill=\"none\" stroke=\"#000000\" d=\"M2779.4209,-341.8796C2790.7728,-330.3337 2803.0982,-317.7976 2814.457,-306.2446\"/>\n<polygon fill=\"#000000\" stroke=\"#000000\" points=\"2817.2466,-308.3995 2821.7618,-298.8149 2812.2551,-303.4919 2817.2466,-308.3995\"/>\n</g>\n<!-- 91 -->\n<g id=\"node92\" class=\"node\">\n<title>91</title>\n<polygon fill=\"#f6d3ba\" stroke=\"#000000\" points=\"4039.5,-663 3907.5,-663 3907.5,-580 4039.5,-580 4039.5,-663\"/>\n<text text-anchor=\"middle\" x=\"3973.5\" y=\"-647.8\" font-family=\"Helvetica,sans-Serif\" font-size=\"14.00\" fill=\"#000000\">거주지역 &lt;= 9.5</text>\n<text text-anchor=\"middle\" x=\"3973.5\" y=\"-632.8\" font-family=\"Helvetica,sans-Serif\" font-size=\"14.00\" fill=\"#000000\">gini = 0.478</text>\n<text text-anchor=\"middle\" x=\"3973.5\" y=\"-617.8\" font-family=\"Helvetica,sans-Serif\" font-size=\"14.00\" fill=\"#000000\">samples = 319</text>\n<text text-anchor=\"middle\" x=\"3973.5\" y=\"-602.8\" font-family=\"Helvetica,sans-Serif\" font-size=\"14.00\" fill=\"#000000\">value = [193, 126]</text>\n<text text-anchor=\"middle\" x=\"3973.5\" y=\"-587.8\" font-family=\"Helvetica,sans-Serif\" font-size=\"14.00\" fill=\"#000000\">class = 0</text>\n</g>\n<!-- 90&#45;&gt;91 -->\n<g id=\"edge91\" class=\"edge\">\n<title>90&#45;&gt;91</title>\n<path fill=\"none\" stroke=\"#000000\" d=\"M3973.5,-698.8796C3973.5,-690.6838 3973.5,-681.9891 3973.5,-673.5013\"/>\n<polygon fill=\"#000000\" stroke=\"#000000\" points=\"3977.0001,-673.298 3973.5,-663.2981 3970.0001,-673.2981 3977.0001,-673.298\"/>\n</g>\n<!-- 138 -->\n<g id=\"node139\" class=\"node\">\n<title>138</title>\n<polygon fill=\"#eda877\" stroke=\"#000000\" points=\"5536.5,-663 5412.5,-663 5412.5,-580 5536.5,-580 5536.5,-663\"/>\n<text text-anchor=\"middle\" x=\"5474.5\" y=\"-647.8\" font-family=\"Helvetica,sans-Serif\" font-size=\"14.00\" fill=\"#000000\">거주지역 &lt;= 16.5</text>\n<text text-anchor=\"middle\" x=\"5474.5\" y=\"-632.8\" font-family=\"Helvetica,sans-Serif\" font-size=\"14.00\" fill=\"#000000\">gini = 0.363</text>\n<text text-anchor=\"middle\" x=\"5474.5\" y=\"-617.8\" font-family=\"Helvetica,sans-Serif\" font-size=\"14.00\" fill=\"#000000\">samples = 248</text>\n<text text-anchor=\"middle\" x=\"5474.5\" y=\"-602.8\" font-family=\"Helvetica,sans-Serif\" font-size=\"14.00\" fill=\"#000000\">value = [189, 59]</text>\n<text text-anchor=\"middle\" x=\"5474.5\" y=\"-587.8\" font-family=\"Helvetica,sans-Serif\" font-size=\"14.00\" fill=\"#000000\">class = 0</text>\n</g>\n<!-- 90&#45;&gt;138 -->\n<g id=\"edge138\" class=\"edge\">\n<title>90&#45;&gt;138</title>\n<path fill=\"none\" stroke=\"#000000\" d=\"M4039.9328,-735.2332C4286.1585,-715.7123 5145.6623,-647.5704 5401.878,-627.2575\"/>\n<polygon fill=\"#000000\" stroke=\"#000000\" points=\"5402.4895,-630.7201 5412.1815,-626.4406 5401.9362,-623.742 5402.4895,-630.7201\"/>\n</g>\n<!-- 92 -->\n<g id=\"node93\" class=\"node\">\n<title>92</title>\n<polygon fill=\"#f2be99\" stroke=\"#000000\" points=\"3829.5,-544 3651.5,-544 3651.5,-461 3829.5,-461 3829.5,-544\"/>\n<text text-anchor=\"middle\" x=\"3740.5\" y=\"-528.8\" font-family=\"Helvetica,sans-Serif\" font-size=\"14.00\" fill=\"#000000\">1인지출비용 &lt;= 187500.0</text>\n<text text-anchor=\"middle\" x=\"3740.5\" y=\"-513.8\" font-family=\"Helvetica,sans-Serif\" font-size=\"14.00\" fill=\"#000000\">gini = 0.441</text>\n<text text-anchor=\"middle\" x=\"3740.5\" y=\"-498.8\" font-family=\"Helvetica,sans-Serif\" font-size=\"14.00\" fill=\"#000000\">samples = 235</text>\n<text text-anchor=\"middle\" x=\"3740.5\" y=\"-483.8\" font-family=\"Helvetica,sans-Serif\" font-size=\"14.00\" fill=\"#000000\">value = [158, 77]</text>\n<text text-anchor=\"middle\" x=\"3740.5\" y=\"-468.8\" font-family=\"Helvetica,sans-Serif\" font-size=\"14.00\" fill=\"#000000\">class = 0</text>\n</g>\n<!-- 91&#45;&gt;92 -->\n<g id=\"edge92\" class=\"edge\">\n<title>91&#45;&gt;92</title>\n<path fill=\"none\" stroke=\"#000000\" d=\"M3907.3548,-587.7177C3883.6456,-575.6087 3856.491,-561.74 3831.0713,-548.7574\"/>\n<polygon fill=\"#000000\" stroke=\"#000000\" points=\"3832.6586,-545.6381 3822.1609,-544.2066 3829.4746,-551.8721 3832.6586,-545.6381\"/>\n</g>\n<!-- 117 -->\n<g id=\"node118\" class=\"node\">\n<title>117</title>\n<polygon fill=\"#c6e3f8\" stroke=\"#000000\" points=\"4301.5,-544 4185.5,-544 4185.5,-461 4301.5,-461 4301.5,-544\"/>\n<text text-anchor=\"middle\" x=\"4243.5\" y=\"-528.8\" font-family=\"Helvetica,sans-Serif\" font-size=\"14.00\" fill=\"#000000\">주업 &lt;= 3.5</text>\n<text text-anchor=\"middle\" x=\"4243.5\" y=\"-513.8\" font-family=\"Helvetica,sans-Serif\" font-size=\"14.00\" fill=\"#000000\">gini = 0.486</text>\n<text text-anchor=\"middle\" x=\"4243.5\" y=\"-498.8\" font-family=\"Helvetica,sans-Serif\" font-size=\"14.00\" fill=\"#000000\">samples = 84</text>\n<text text-anchor=\"middle\" x=\"4243.5\" y=\"-483.8\" font-family=\"Helvetica,sans-Serif\" font-size=\"14.00\" fill=\"#000000\">value = [35, 49]</text>\n<text text-anchor=\"middle\" x=\"4243.5\" y=\"-468.8\" font-family=\"Helvetica,sans-Serif\" font-size=\"14.00\" fill=\"#000000\">class = 1</text>\n</g>\n<!-- 91&#45;&gt;117 -->\n<g id=\"edge117\" class=\"edge\">\n<title>91&#45;&gt;117</title>\n<path fill=\"none\" stroke=\"#000000\" d=\"M4039.5494,-592.3893C4081.0601,-574.0939 4134.4599,-550.5584 4176.2054,-532.1595\"/>\n<polygon fill=\"#000000\" stroke=\"#000000\" points=\"4177.7278,-535.3134 4185.4668,-528.0776 4174.9046,-528.908 4177.7278,-535.3134\"/>\n</g>\n<!-- 93 -->\n<g id=\"node94\" class=\"node\">\n<title>93</title>\n<polygon fill=\"#f4c9aa\" stroke=\"#000000\" points=\"3340.5,-425 3216.5,-425 3216.5,-342 3340.5,-342 3340.5,-425\"/>\n<text text-anchor=\"middle\" x=\"3278.5\" y=\"-409.8\" font-family=\"Helvetica,sans-Serif\" font-size=\"14.00\" fill=\"#000000\">지역코드 &lt;= 33.5</text>\n<text text-anchor=\"middle\" x=\"3278.5\" y=\"-394.8\" font-family=\"Helvetica,sans-Serif\" font-size=\"14.00\" fill=\"#000000\">gini = 0.462</text>\n<text text-anchor=\"middle\" x=\"3278.5\" y=\"-379.8\" font-family=\"Helvetica,sans-Serif\" font-size=\"14.00\" fill=\"#000000\">samples = 193</text>\n<text text-anchor=\"middle\" x=\"3278.5\" y=\"-364.8\" font-family=\"Helvetica,sans-Serif\" font-size=\"14.00\" fill=\"#000000\">value = [123, 70]</text>\n<text text-anchor=\"middle\" x=\"3278.5\" y=\"-349.8\" font-family=\"Helvetica,sans-Serif\" font-size=\"14.00\" fill=\"#000000\">class = 0</text>\n</g>\n<!-- 92&#45;&gt;93 -->\n<g id=\"edge93\" class=\"edge\">\n<title>92&#45;&gt;93</title>\n<path fill=\"none\" stroke=\"#000000\" d=\"M3651.4218,-479.5556C3563.9151,-457.016 3432.0458,-423.0497 3350.8236,-402.1288\"/>\n<polygon fill=\"#000000\" stroke=\"#000000\" points=\"3351.2444,-398.623 3340.6874,-399.518 3349.4983,-405.4018 3351.2444,-398.623\"/>\n</g>\n<!-- 108 -->\n<g id=\"node109\" class=\"node\">\n<title>108</title>\n<polygon fill=\"#ea9a61\" stroke=\"#000000\" points=\"3825,-425 3656,-425 3656,-342 3825,-342 3825,-425\"/>\n<text text-anchor=\"middle\" x=\"3740.5\" y=\"-409.8\" font-family=\"Helvetica,sans-Serif\" font-size=\"14.00\" fill=\"#000000\">주요이동교통수단 &lt;= 8.0</text>\n<text text-anchor=\"middle\" x=\"3740.5\" y=\"-394.8\" font-family=\"Helvetica,sans-Serif\" font-size=\"14.00\" fill=\"#000000\">gini = 0.278</text>\n<text text-anchor=\"middle\" x=\"3740.5\" y=\"-379.8\" font-family=\"Helvetica,sans-Serif\" font-size=\"14.00\" fill=\"#000000\">samples = 42</text>\n<text text-anchor=\"middle\" x=\"3740.5\" y=\"-364.8\" font-family=\"Helvetica,sans-Serif\" font-size=\"14.00\" fill=\"#000000\">value = [35, 7]</text>\n<text text-anchor=\"middle\" x=\"3740.5\" y=\"-349.8\" font-family=\"Helvetica,sans-Serif\" font-size=\"14.00\" fill=\"#000000\">class = 0</text>\n</g>\n<!-- 92&#45;&gt;108 -->\n<g id=\"edge108\" class=\"edge\">\n<title>92&#45;&gt;108</title>\n<path fill=\"none\" stroke=\"#000000\" d=\"M3740.5,-460.8796C3740.5,-452.6838 3740.5,-443.9891 3740.5,-435.5013\"/>\n<polygon fill=\"#000000\" stroke=\"#000000\" points=\"3744.0001,-435.298 3740.5,-425.2981 3737.0001,-435.2981 3744.0001,-435.298\"/>\n</g>\n<!-- 94 -->\n<g id=\"node95\" class=\"node\">\n<title>94</title>\n<polygon fill=\"#f6d5bc\" stroke=\"#000000\" points=\"3046,-306 2923,-306 2923,-223 3046,-223 3046,-306\"/>\n<text text-anchor=\"middle\" x=\"2984.5\" y=\"-290.8\" font-family=\"Helvetica,sans-Serif\" font-size=\"14.00\" fill=\"#000000\">여행활동5 &lt;= 0.5</text>\n<text text-anchor=\"middle\" x=\"2984.5\" y=\"-275.8\" font-family=\"Helvetica,sans-Serif\" font-size=\"14.00\" fill=\"#000000\">gini = 0.479</text>\n<text text-anchor=\"middle\" x=\"2984.5\" y=\"-260.8\" font-family=\"Helvetica,sans-Serif\" font-size=\"14.00\" fill=\"#000000\">samples = 158</text>\n<text text-anchor=\"middle\" x=\"2984.5\" y=\"-245.8\" font-family=\"Helvetica,sans-Serif\" font-size=\"14.00\" fill=\"#000000\">value = [95, 63]</text>\n<text text-anchor=\"middle\" x=\"2984.5\" y=\"-230.8\" font-family=\"Helvetica,sans-Serif\" font-size=\"14.00\" fill=\"#000000\">class = 0</text>\n</g>\n<!-- 93&#45;&gt;94 -->\n<g id=\"edge94\" class=\"edge\">\n<title>93&#45;&gt;94</title>\n<path fill=\"none\" stroke=\"#000000\" d=\"M3216.1502,-358.2632C3169.0407,-339.195 3104.3362,-313.0051 3055.2836,-293.1505\"/>\n<polygon fill=\"#000000\" stroke=\"#000000\" points=\"3056.586,-289.9019 3046.0033,-289.3942 3053.9596,-296.3905 3056.586,-289.9019\"/>\n</g>\n<!-- 101 -->\n<g id=\"node102\" class=\"node\">\n<title>101</title>\n<polygon fill=\"#eca06a\" stroke=\"#000000\" points=\"3340,-306 3217,-306 3217,-223 3340,-223 3340,-306\"/>\n<text text-anchor=\"middle\" x=\"3278.5\" y=\"-290.8\" font-family=\"Helvetica,sans-Serif\" font-size=\"14.00\" fill=\"#000000\">여행활동5 &lt;= 0.5</text>\n<text text-anchor=\"middle\" x=\"3278.5\" y=\"-275.8\" font-family=\"Helvetica,sans-Serif\" font-size=\"14.00\" fill=\"#000000\">gini = 0.32</text>\n<text text-anchor=\"middle\" x=\"3278.5\" y=\"-260.8\" font-family=\"Helvetica,sans-Serif\" font-size=\"14.00\" fill=\"#000000\">samples = 35</text>\n<text text-anchor=\"middle\" x=\"3278.5\" y=\"-245.8\" font-family=\"Helvetica,sans-Serif\" font-size=\"14.00\" fill=\"#000000\">value = [28, 7]</text>\n<text text-anchor=\"middle\" x=\"3278.5\" y=\"-230.8\" font-family=\"Helvetica,sans-Serif\" font-size=\"14.00\" fill=\"#000000\">class = 0</text>\n</g>\n<!-- 93&#45;&gt;101 -->\n<g id=\"edge101\" class=\"edge\">\n<title>93&#45;&gt;101</title>\n<path fill=\"none\" stroke=\"#000000\" d=\"M3278.5,-341.8796C3278.5,-333.6838 3278.5,-324.9891 3278.5,-316.5013\"/>\n<polygon fill=\"#000000\" stroke=\"#000000\" points=\"3282.0001,-316.298 3278.5,-306.2981 3275.0001,-316.2981 3282.0001,-316.298\"/>\n</g>\n<!-- 95 -->\n<g id=\"node96\" class=\"node\">\n<title>95</title>\n<polygon fill=\"#f1ba93\" stroke=\"#000000\" points=\"2775.5,-187 2659.5,-187 2659.5,-104 2775.5,-104 2775.5,-187\"/>\n<text text-anchor=\"middle\" x=\"2717.5\" y=\"-171.8\" font-family=\"Helvetica,sans-Serif\" font-size=\"14.00\" fill=\"#000000\">월 &lt;= 5.5</text>\n<text text-anchor=\"middle\" x=\"2717.5\" y=\"-156.8\" font-family=\"Helvetica,sans-Serif\" font-size=\"14.00\" fill=\"#000000\">gini = 0.43</text>\n<text text-anchor=\"middle\" x=\"2717.5\" y=\"-141.8\" font-family=\"Helvetica,sans-Serif\" font-size=\"14.00\" fill=\"#000000\">samples = 80</text>\n<text text-anchor=\"middle\" x=\"2717.5\" y=\"-126.8\" font-family=\"Helvetica,sans-Serif\" font-size=\"14.00\" fill=\"#000000\">value = [55, 25]</text>\n<text text-anchor=\"middle\" x=\"2717.5\" y=\"-111.8\" font-family=\"Helvetica,sans-Serif\" font-size=\"14.00\" fill=\"#000000\">class = 0</text>\n</g>\n<!-- 94&#45;&gt;95 -->\n<g id=\"edge95\" class=\"edge\">\n<title>94&#45;&gt;95</title>\n<path fill=\"none\" stroke=\"#000000\" d=\"M2922.8472,-227.719C2919.709,-226.0816 2916.5814,-224.4989 2913.5,-223 2871.7907,-202.7107 2823.3324,-183.513 2785.0345,-169.3003\"/>\n<polygon fill=\"#000000\" stroke=\"#000000\" points=\"2786.1203,-165.9704 2775.5269,-165.7967 2783.6998,-172.5386 2786.1203,-165.9704\"/>\n</g>\n<!-- 98 -->\n<g id=\"node99\" class=\"node\">\n<title>98</title>\n<polygon fill=\"#fef9f5\" stroke=\"#000000\" points=\"3050,-187 2913,-187 2913,-104 3050,-104 3050,-187\"/>\n<text text-anchor=\"middle\" x=\"2981.5\" y=\"-171.8\" font-family=\"Helvetica,sans-Serif\" font-size=\"14.00\" fill=\"#000000\">여행일수(박) &lt;= 0.5</text>\n<text text-anchor=\"middle\" x=\"2981.5\" y=\"-156.8\" font-family=\"Helvetica,sans-Serif\" font-size=\"14.00\" fill=\"#000000\">gini = 0.5</text>\n<text text-anchor=\"middle\" x=\"2981.5\" y=\"-141.8\" font-family=\"Helvetica,sans-Serif\" font-size=\"14.00\" fill=\"#000000\">samples = 78</text>\n<text text-anchor=\"middle\" x=\"2981.5\" y=\"-126.8\" font-family=\"Helvetica,sans-Serif\" font-size=\"14.00\" fill=\"#000000\">value = [40, 38]</text>\n<text text-anchor=\"middle\" x=\"2981.5\" y=\"-111.8\" font-family=\"Helvetica,sans-Serif\" font-size=\"14.00\" fill=\"#000000\">class = 0</text>\n</g>\n<!-- 94&#45;&gt;98 -->\n<g id=\"edge98\" class=\"edge\">\n<title>94&#45;&gt;98</title>\n<path fill=\"none\" stroke=\"#000000\" d=\"M2983.4507,-222.8796C2983.2441,-214.6838 2983.0249,-205.9891 2982.811,-197.5013\"/>\n<polygon fill=\"#000000\" stroke=\"#000000\" points=\"2986.3047,-197.2067 2982.5537,-187.2981 2979.307,-197.3831 2986.3047,-197.2067\"/>\n</g>\n<!-- 96 -->\n<g id=\"node97\" class=\"node\">\n<title>96</title>\n<polygon fill=\"#f8dbc6\" stroke=\"#000000\" points=\"2641.5,-68 2525.5,-68 2525.5,0 2641.5,0 2641.5,-68\"/>\n<text text-anchor=\"middle\" x=\"2583.5\" y=\"-52.8\" font-family=\"Helvetica,sans-Serif\" font-size=\"14.00\" fill=\"#000000\">gini = 0.486</text>\n<text text-anchor=\"middle\" x=\"2583.5\" y=\"-37.8\" font-family=\"Helvetica,sans-Serif\" font-size=\"14.00\" fill=\"#000000\">samples = 36</text>\n<text text-anchor=\"middle\" x=\"2583.5\" y=\"-22.8\" font-family=\"Helvetica,sans-Serif\" font-size=\"14.00\" fill=\"#000000\">value = [21, 15]</text>\n<text text-anchor=\"middle\" x=\"2583.5\" y=\"-7.8\" font-family=\"Helvetica,sans-Serif\" font-size=\"14.00\" fill=\"#000000\">class = 0</text>\n</g>\n<!-- 95&#45;&gt;96 -->\n<g id=\"edge96\" class=\"edge\">\n<title>95&#45;&gt;96</title>\n<path fill=\"none\" stroke=\"#000000\" d=\"M2667.6033,-103.9815C2656.1162,-94.4232 2643.9103,-84.2668 2632.4633,-74.7419\"/>\n<polygon fill=\"#000000\" stroke=\"#000000\" points=\"2634.6035,-71.9695 2624.6779,-68.2637 2630.1261,-77.3503 2634.6035,-71.9695\"/>\n</g>\n<!-- 97 -->\n<g id=\"node98\" class=\"node\">\n<title>97</title>\n<polygon fill=\"#eda673\" stroke=\"#000000\" points=\"2775.5,-68 2659.5,-68 2659.5,0 2775.5,0 2775.5,-68\"/>\n<text text-anchor=\"middle\" x=\"2717.5\" y=\"-52.8\" font-family=\"Helvetica,sans-Serif\" font-size=\"14.00\" fill=\"#000000\">gini = 0.351</text>\n<text text-anchor=\"middle\" x=\"2717.5\" y=\"-37.8\" font-family=\"Helvetica,sans-Serif\" font-size=\"14.00\" fill=\"#000000\">samples = 44</text>\n<text text-anchor=\"middle\" x=\"2717.5\" y=\"-22.8\" font-family=\"Helvetica,sans-Serif\" font-size=\"14.00\" fill=\"#000000\">value = [34, 10]</text>\n<text text-anchor=\"middle\" x=\"2717.5\" y=\"-7.8\" font-family=\"Helvetica,sans-Serif\" font-size=\"14.00\" fill=\"#000000\">class = 0</text>\n</g>\n<!-- 95&#45;&gt;97 -->\n<g id=\"edge97\" class=\"edge\">\n<title>95&#45;&gt;97</title>\n<path fill=\"none\" stroke=\"#000000\" d=\"M2717.5,-103.9815C2717.5,-95.618 2717.5,-86.7965 2717.5,-78.3409\"/>\n<polygon fill=\"#000000\" stroke=\"#000000\" points=\"2721.0001,-78.2636 2717.5,-68.2637 2714.0001,-78.2637 2721.0001,-78.2636\"/>\n</g>\n<!-- 99 -->\n<g id=\"node100\" class=\"node\">\n<title>99</title>\n<polygon fill=\"#f9e0cf\" stroke=\"#000000\" points=\"2909.5,-68 2793.5,-68 2793.5,0 2909.5,0 2909.5,-68\"/>\n<text text-anchor=\"middle\" x=\"2851.5\" y=\"-52.8\" font-family=\"Helvetica,sans-Serif\" font-size=\"14.00\" fill=\"#000000\">gini = 0.49</text>\n<text text-anchor=\"middle\" x=\"2851.5\" y=\"-37.8\" font-family=\"Helvetica,sans-Serif\" font-size=\"14.00\" fill=\"#000000\">samples = 65</text>\n<text text-anchor=\"middle\" x=\"2851.5\" y=\"-22.8\" font-family=\"Helvetica,sans-Serif\" font-size=\"14.00\" fill=\"#000000\">value = [37, 28]</text>\n<text text-anchor=\"middle\" x=\"2851.5\" y=\"-7.8\" font-family=\"Helvetica,sans-Serif\" font-size=\"14.00\" fill=\"#000000\">class = 0</text>\n</g>\n<!-- 98&#45;&gt;99 -->\n<g id=\"edge99\" class=\"edge\">\n<title>98&#45;&gt;99</title>\n<path fill=\"none\" stroke=\"#000000\" d=\"M2933.0928,-103.9815C2922.0558,-94.5151 2910.3347,-84.462 2899.3223,-75.0168\"/>\n<polygon fill=\"#000000\" stroke=\"#000000\" points=\"2901.3178,-72.1173 2891.4487,-68.2637 2896.7606,-77.4307 2901.3178,-72.1173\"/>\n</g>\n<!-- 100 -->\n<g id=\"node101\" class=\"node\">\n<title>100</title>\n<polygon fill=\"#74baed\" stroke=\"#000000\" points=\"3035,-68 2928,-68 2928,0 3035,0 3035,-68\"/>\n<text text-anchor=\"middle\" x=\"2981.5\" y=\"-52.8\" font-family=\"Helvetica,sans-Serif\" font-size=\"14.00\" fill=\"#000000\">gini = 0.355</text>\n<text text-anchor=\"middle\" x=\"2981.5\" y=\"-37.8\" font-family=\"Helvetica,sans-Serif\" font-size=\"14.00\" fill=\"#000000\">samples = 13</text>\n<text text-anchor=\"middle\" x=\"2981.5\" y=\"-22.8\" font-family=\"Helvetica,sans-Serif\" font-size=\"14.00\" fill=\"#000000\">value = [3, 10]</text>\n<text text-anchor=\"middle\" x=\"2981.5\" y=\"-7.8\" font-family=\"Helvetica,sans-Serif\" font-size=\"14.00\" fill=\"#000000\">class = 1</text>\n</g>\n<!-- 98&#45;&gt;100 -->\n<g id=\"edge100\" class=\"edge\">\n<title>98&#45;&gt;100</title>\n<path fill=\"none\" stroke=\"#000000\" d=\"M2981.5,-103.9815C2981.5,-95.618 2981.5,-86.7965 2981.5,-78.3409\"/>\n<polygon fill=\"#000000\" stroke=\"#000000\" points=\"2985.0001,-78.2636 2981.5,-68.2637 2978.0001,-78.2637 2985.0001,-78.2636\"/>\n</g>\n<!-- 102 -->\n<g id=\"node103\" class=\"node\">\n<title>102</title>\n<polygon fill=\"#ffffff\" stroke=\"#000000\" points=\"3282.5,-187 3112.5,-187 3112.5,-104 3282.5,-104 3282.5,-187\"/>\n<text text-anchor=\"middle\" x=\"3197.5\" y=\"-171.8\" font-family=\"Helvetica,sans-Serif\" font-size=\"14.00\" fill=\"#000000\">1인지출비용 &lt;= 45000.0</text>\n<text text-anchor=\"middle\" x=\"3197.5\" y=\"-156.8\" font-family=\"Helvetica,sans-Serif\" font-size=\"14.00\" fill=\"#000000\">gini = 0.5</text>\n<text text-anchor=\"middle\" x=\"3197.5\" y=\"-141.8\" font-family=\"Helvetica,sans-Serif\" font-size=\"14.00\" fill=\"#000000\">samples = 10</text>\n<text text-anchor=\"middle\" x=\"3197.5\" y=\"-126.8\" font-family=\"Helvetica,sans-Serif\" font-size=\"14.00\" fill=\"#000000\">value = [5, 5]</text>\n<text text-anchor=\"middle\" x=\"3197.5\" y=\"-111.8\" font-family=\"Helvetica,sans-Serif\" font-size=\"14.00\" fill=\"#000000\">class = 0</text>\n</g>\n<!-- 101&#45;&gt;102 -->\n<g id=\"edge102\" class=\"edge\">\n<title>101&#45;&gt;102</title>\n<path fill=\"none\" stroke=\"#000000\" d=\"M3250.1701,-222.8796C3244.2237,-214.1434 3237.8914,-204.8404 3231.755,-195.8253\"/>\n<polygon fill=\"#000000\" stroke=\"#000000\" points=\"3234.4711,-193.5953 3225.9508,-187.2981 3228.6844,-197.5342 3234.4711,-193.5953\"/>\n</g>\n<!-- 105 -->\n<g id=\"node106\" class=\"node\">\n<title>105</title>\n<polygon fill=\"#e78c4a\" stroke=\"#000000\" points=\"3416,-187 3301,-187 3301,-104 3416,-104 3416,-187\"/>\n<text text-anchor=\"middle\" x=\"3358.5\" y=\"-171.8\" font-family=\"Helvetica,sans-Serif\" font-size=\"14.00\" fill=\"#000000\">거주지역 &lt;= 4.5</text>\n<text text-anchor=\"middle\" x=\"3358.5\" y=\"-156.8\" font-family=\"Helvetica,sans-Serif\" font-size=\"14.00\" fill=\"#000000\">gini = 0.147</text>\n<text text-anchor=\"middle\" x=\"3358.5\" y=\"-141.8\" font-family=\"Helvetica,sans-Serif\" font-size=\"14.00\" fill=\"#000000\">samples = 25</text>\n<text text-anchor=\"middle\" x=\"3358.5\" y=\"-126.8\" font-family=\"Helvetica,sans-Serif\" font-size=\"14.00\" fill=\"#000000\">value = [23, 2]</text>\n<text text-anchor=\"middle\" x=\"3358.5\" y=\"-111.8\" font-family=\"Helvetica,sans-Serif\" font-size=\"14.00\" fill=\"#000000\">class = 0</text>\n</g>\n<!-- 101&#45;&gt;105 -->\n<g id=\"edge105\" class=\"edge\">\n<title>101&#45;&gt;105</title>\n<path fill=\"none\" stroke=\"#000000\" d=\"M3306.4801,-222.8796C3312.3531,-214.1434 3318.6073,-204.8404 3324.6679,-195.8253\"/>\n<polygon fill=\"#000000\" stroke=\"#000000\" points=\"3327.7259,-197.5498 3330.4005,-187.2981 3321.9166,-193.6444 3327.7259,-197.5498\"/>\n</g>\n<!-- 103 -->\n<g id=\"node104\" class=\"node\">\n<title>103</title>\n<polygon fill=\"#e58139\" stroke=\"#000000\" points=\"3152,-68 3053,-68 3053,0 3152,0 3152,-68\"/>\n<text text-anchor=\"middle\" x=\"3102.5\" y=\"-52.8\" font-family=\"Helvetica,sans-Serif\" font-size=\"14.00\" fill=\"#000000\">gini = 0.0</text>\n<text text-anchor=\"middle\" x=\"3102.5\" y=\"-37.8\" font-family=\"Helvetica,sans-Serif\" font-size=\"14.00\" fill=\"#000000\">samples = 3</text>\n<text text-anchor=\"middle\" x=\"3102.5\" y=\"-22.8\" font-family=\"Helvetica,sans-Serif\" font-size=\"14.00\" fill=\"#000000\">value = [3, 0]</text>\n<text text-anchor=\"middle\" x=\"3102.5\" y=\"-7.8\" font-family=\"Helvetica,sans-Serif\" font-size=\"14.00\" fill=\"#000000\">class = 0</text>\n</g>\n<!-- 102&#45;&gt;103 -->\n<g id=\"edge103\" class=\"edge\">\n<title>102&#45;&gt;103</title>\n<path fill=\"none\" stroke=\"#000000\" d=\"M3162.1255,-103.9815C3154.3732,-94.8828 3146.1591,-85.242 3138.3869,-76.1199\"/>\n<polygon fill=\"#000000\" stroke=\"#000000\" points=\"3140.8428,-73.6056 3131.6933,-68.2637 3135.5146,-78.1454 3140.8428,-73.6056\"/>\n</g>\n<!-- 104 -->\n<g id=\"node105\" class=\"node\">\n<title>104</title>\n<polygon fill=\"#88c4ef\" stroke=\"#000000\" points=\"3269,-68 3170,-68 3170,0 3269,0 3269,-68\"/>\n<text text-anchor=\"middle\" x=\"3219.5\" y=\"-52.8\" font-family=\"Helvetica,sans-Serif\" font-size=\"14.00\" fill=\"#000000\">gini = 0.408</text>\n<text text-anchor=\"middle\" x=\"3219.5\" y=\"-37.8\" font-family=\"Helvetica,sans-Serif\" font-size=\"14.00\" fill=\"#000000\">samples = 7</text>\n<text text-anchor=\"middle\" x=\"3219.5\" y=\"-22.8\" font-family=\"Helvetica,sans-Serif\" font-size=\"14.00\" fill=\"#000000\">value = [2, 5]</text>\n<text text-anchor=\"middle\" x=\"3219.5\" y=\"-7.8\" font-family=\"Helvetica,sans-Serif\" font-size=\"14.00\" fill=\"#000000\">class = 1</text>\n</g>\n<!-- 102&#45;&gt;104 -->\n<g id=\"edge104\" class=\"edge\">\n<title>102&#45;&gt;104</title>\n<path fill=\"none\" stroke=\"#000000\" d=\"M3205.692,-103.9815C3207.3422,-95.618 3209.0827,-86.7965 3210.7511,-78.3409\"/>\n<polygon fill=\"#000000\" stroke=\"#000000\" points=\"3214.2374,-78.7521 3212.7395,-68.2637 3207.3698,-77.397 3214.2374,-78.7521\"/>\n</g>\n<!-- 106 -->\n<g id=\"node107\" class=\"node\">\n<title>106</title>\n<polygon fill=\"#f2c09c\" stroke=\"#000000\" points=\"3386,-68 3287,-68 3287,0 3386,0 3386,-68\"/>\n<text text-anchor=\"middle\" x=\"3336.5\" y=\"-52.8\" font-family=\"Helvetica,sans-Serif\" font-size=\"14.00\" fill=\"#000000\">gini = 0.444</text>\n<text text-anchor=\"middle\" x=\"3336.5\" y=\"-37.8\" font-family=\"Helvetica,sans-Serif\" font-size=\"14.00\" fill=\"#000000\">samples = 3</text>\n<text text-anchor=\"middle\" x=\"3336.5\" y=\"-22.8\" font-family=\"Helvetica,sans-Serif\" font-size=\"14.00\" fill=\"#000000\">value = [2, 1]</text>\n<text text-anchor=\"middle\" x=\"3336.5\" y=\"-7.8\" font-family=\"Helvetica,sans-Serif\" font-size=\"14.00\" fill=\"#000000\">class = 0</text>\n</g>\n<!-- 105&#45;&gt;106 -->\n<g id=\"edge106\" class=\"edge\">\n<title>105&#45;&gt;106</title>\n<path fill=\"none\" stroke=\"#000000\" d=\"M3350.308,-103.9815C3348.6578,-95.618 3346.9173,-86.7965 3345.2489,-78.3409\"/>\n<polygon fill=\"#000000\" stroke=\"#000000\" points=\"3348.6302,-77.397 3343.2605,-68.2637 3341.7626,-78.7521 3348.6302,-77.397\"/>\n</g>\n<!-- 107 -->\n<g id=\"node108\" class=\"node\">\n<title>107</title>\n<polygon fill=\"#e68742\" stroke=\"#000000\" points=\"3511,-68 3404,-68 3404,0 3511,0 3511,-68\"/>\n<text text-anchor=\"middle\" x=\"3457.5\" y=\"-52.8\" font-family=\"Helvetica,sans-Serif\" font-size=\"14.00\" fill=\"#000000\">gini = 0.087</text>\n<text text-anchor=\"middle\" x=\"3457.5\" y=\"-37.8\" font-family=\"Helvetica,sans-Serif\" font-size=\"14.00\" fill=\"#000000\">samples = 22</text>\n<text text-anchor=\"middle\" x=\"3457.5\" y=\"-22.8\" font-family=\"Helvetica,sans-Serif\" font-size=\"14.00\" fill=\"#000000\">value = [21, 1]</text>\n<text text-anchor=\"middle\" x=\"3457.5\" y=\"-7.8\" font-family=\"Helvetica,sans-Serif\" font-size=\"14.00\" fill=\"#000000\">class = 0</text>\n</g>\n<!-- 105&#45;&gt;107 -->\n<g id=\"edge107\" class=\"edge\">\n<title>105&#45;&gt;107</title>\n<path fill=\"none\" stroke=\"#000000\" d=\"M3395.3639,-103.9815C3403.5243,-94.7908 3412.1756,-85.0472 3420.3474,-75.8436\"/>\n<polygon fill=\"#000000\" stroke=\"#000000\" points=\"3423.0553,-78.0653 3427.0775,-68.2637 3417.8208,-73.4177 3423.0553,-78.0653\"/>\n</g>\n<!-- 109 -->\n<g id=\"node110\" class=\"node\">\n<title>109</title>\n<polygon fill=\"#e99456\" stroke=\"#000000\" points=\"3730,-306 3623,-306 3623,-223 3730,-223 3730,-306\"/>\n<text text-anchor=\"middle\" x=\"3676.5\" y=\"-290.8\" font-family=\"Helvetica,sans-Serif\" font-size=\"14.00\" fill=\"#000000\">주업 &lt;= 3.5</text>\n<text text-anchor=\"middle\" x=\"3676.5\" y=\"-275.8\" font-family=\"Helvetica,sans-Serif\" font-size=\"14.00\" fill=\"#000000\">gini = 0.224</text>\n<text text-anchor=\"middle\" x=\"3676.5\" y=\"-260.8\" font-family=\"Helvetica,sans-Serif\" font-size=\"14.00\" fill=\"#000000\">samples = 39</text>\n<text text-anchor=\"middle\" x=\"3676.5\" y=\"-245.8\" font-family=\"Helvetica,sans-Serif\" font-size=\"14.00\" fill=\"#000000\">value = [34, 5]</text>\n<text text-anchor=\"middle\" x=\"3676.5\" y=\"-230.8\" font-family=\"Helvetica,sans-Serif\" font-size=\"14.00\" fill=\"#000000\">class = 0</text>\n</g>\n<!-- 108&#45;&gt;109 -->\n<g id=\"edge109\" class=\"edge\">\n<title>108&#45;&gt;109</title>\n<path fill=\"none\" stroke=\"#000000\" d=\"M3718.1159,-341.8796C3713.5144,-333.3236 3708.6204,-324.2238 3703.8658,-315.3833\"/>\n<polygon fill=\"#000000\" stroke=\"#000000\" points=\"3706.7988,-313.4473 3698.9796,-306.2981 3700.6338,-316.763 3706.7988,-313.4473\"/>\n</g>\n<!-- 114 -->\n<g id=\"node115\" class=\"node\">\n<title>114</title>\n<polygon fill=\"#9ccef2\" stroke=\"#000000\" points=\"3863,-306 3748,-306 3748,-223 3863,-223 3863,-306\"/>\n<text text-anchor=\"middle\" x=\"3805.5\" y=\"-290.8\" font-family=\"Helvetica,sans-Serif\" font-size=\"14.00\" fill=\"#000000\">거주지역 &lt;= 8.0</text>\n<text text-anchor=\"middle\" x=\"3805.5\" y=\"-275.8\" font-family=\"Helvetica,sans-Serif\" font-size=\"14.00\" fill=\"#000000\">gini = 0.444</text>\n<text text-anchor=\"middle\" x=\"3805.5\" y=\"-260.8\" font-family=\"Helvetica,sans-Serif\" font-size=\"14.00\" fill=\"#000000\">samples = 3</text>\n<text text-anchor=\"middle\" x=\"3805.5\" y=\"-245.8\" font-family=\"Helvetica,sans-Serif\" font-size=\"14.00\" fill=\"#000000\">value = [1, 2]</text>\n<text text-anchor=\"middle\" x=\"3805.5\" y=\"-230.8\" font-family=\"Helvetica,sans-Serif\" font-size=\"14.00\" fill=\"#000000\">class = 1</text>\n</g>\n<!-- 108&#45;&gt;114 -->\n<g id=\"edge114\" class=\"edge\">\n<title>108&#45;&gt;114</title>\n<path fill=\"none\" stroke=\"#000000\" d=\"M3763.2338,-341.8796C3767.9565,-333.2335 3772.9824,-324.0322 3777.859,-315.1042\"/>\n<polygon fill=\"#000000\" stroke=\"#000000\" points=\"3780.947,-316.752 3782.6691,-306.2981 3774.8037,-313.3964 3780.947,-316.752\"/>\n</g>\n<!-- 110 -->\n<g id=\"node111\" class=\"node\">\n<title>110</title>\n<polygon fill=\"#eca06a\" stroke=\"#000000\" points=\"3609,-187 3486,-187 3486,-104 3609,-104 3609,-187\"/>\n<text text-anchor=\"middle\" x=\"3547.5\" y=\"-171.8\" font-family=\"Helvetica,sans-Serif\" font-size=\"14.00\" fill=\"#000000\">여행활동5 &lt;= 0.5</text>\n<text text-anchor=\"middle\" x=\"3547.5\" y=\"-156.8\" font-family=\"Helvetica,sans-Serif\" font-size=\"14.00\" fill=\"#000000\">gini = 0.32</text>\n<text text-anchor=\"middle\" x=\"3547.5\" y=\"-141.8\" font-family=\"Helvetica,sans-Serif\" font-size=\"14.00\" fill=\"#000000\">samples = 25</text>\n<text text-anchor=\"middle\" x=\"3547.5\" y=\"-126.8\" font-family=\"Helvetica,sans-Serif\" font-size=\"14.00\" fill=\"#000000\">value = [20, 5]</text>\n<text text-anchor=\"middle\" x=\"3547.5\" y=\"-111.8\" font-family=\"Helvetica,sans-Serif\" font-size=\"14.00\" fill=\"#000000\">class = 0</text>\n</g>\n<!-- 109&#45;&gt;110 -->\n<g id=\"edge110\" class=\"edge\">\n<title>109&#45;&gt;110</title>\n<path fill=\"none\" stroke=\"#000000\" d=\"M3631.3821,-222.8796C3621.326,-213.6031 3610.577,-203.6874 3600.2446,-194.1559\"/>\n<polygon fill=\"#000000\" stroke=\"#000000\" points=\"3602.5339,-191.506 3592.8105,-187.2981 3597.7876,-196.6511 3602.5339,-191.506\"/>\n</g>\n<!-- 113 -->\n<g id=\"node114\" class=\"node\">\n<title>113</title>\n<polygon fill=\"#e58139\" stroke=\"#000000\" points=\"3734,-179.5 3627,-179.5 3627,-111.5 3734,-111.5 3734,-179.5\"/>\n<text text-anchor=\"middle\" x=\"3680.5\" y=\"-164.3\" font-family=\"Helvetica,sans-Serif\" font-size=\"14.00\" fill=\"#000000\">gini = 0.0</text>\n<text text-anchor=\"middle\" x=\"3680.5\" y=\"-149.3\" font-family=\"Helvetica,sans-Serif\" font-size=\"14.00\" fill=\"#000000\">samples = 14</text>\n<text text-anchor=\"middle\" x=\"3680.5\" y=\"-134.3\" font-family=\"Helvetica,sans-Serif\" font-size=\"14.00\" fill=\"#000000\">value = [14, 0]</text>\n<text text-anchor=\"middle\" x=\"3680.5\" y=\"-119.3\" font-family=\"Helvetica,sans-Serif\" font-size=\"14.00\" fill=\"#000000\">class = 0</text>\n</g>\n<!-- 109&#45;&gt;113 -->\n<g id=\"edge113\" class=\"edge\">\n<title>109&#45;&gt;113</title>\n<path fill=\"none\" stroke=\"#000000\" d=\"M3677.899,-222.8796C3678.2575,-212.2134 3678.6445,-200.7021 3679.0075,-189.9015\"/>\n<polygon fill=\"#000000\" stroke=\"#000000\" points=\"3682.5085,-189.9269 3679.3466,-179.8149 3675.5125,-189.6917 3682.5085,-189.9269\"/>\n</g>\n<!-- 111 -->\n<g id=\"node112\" class=\"node\">\n<title>111</title>\n<polygon fill=\"#f8e0ce\" stroke=\"#000000\" points=\"3628,-68 3529,-68 3529,0 3628,0 3628,-68\"/>\n<text text-anchor=\"middle\" x=\"3578.5\" y=\"-52.8\" font-family=\"Helvetica,sans-Serif\" font-size=\"14.00\" fill=\"#000000\">gini = 0.49</text>\n<text text-anchor=\"middle\" x=\"3578.5\" y=\"-37.8\" font-family=\"Helvetica,sans-Serif\" font-size=\"14.00\" fill=\"#000000\">samples = 7</text>\n<text text-anchor=\"middle\" x=\"3578.5\" y=\"-22.8\" font-family=\"Helvetica,sans-Serif\" font-size=\"14.00\" fill=\"#000000\">value = [4, 3]</text>\n<text text-anchor=\"middle\" x=\"3578.5\" y=\"-7.8\" font-family=\"Helvetica,sans-Serif\" font-size=\"14.00\" fill=\"#000000\">class = 0</text>\n</g>\n<!-- 110&#45;&gt;111 -->\n<g id=\"edge111\" class=\"edge\">\n<title>110&#45;&gt;111</title>\n<path fill=\"none\" stroke=\"#000000\" d=\"M3559.0433,-103.9815C3561.3941,-95.5261 3563.8751,-86.6026 3566.2495,-78.0623\"/>\n<polygon fill=\"#000000\" stroke=\"#000000\" points=\"3569.6671,-78.8358 3568.9738,-68.2637 3562.9229,-76.9607 3569.6671,-78.8358\"/>\n</g>\n<!-- 112 -->\n<g id=\"node113\" class=\"node\">\n<title>112</title>\n<polygon fill=\"#e89152\" stroke=\"#000000\" points=\"3753,-68 3646,-68 3646,0 3753,0 3753,-68\"/>\n<text text-anchor=\"middle\" x=\"3699.5\" y=\"-52.8\" font-family=\"Helvetica,sans-Serif\" font-size=\"14.00\" fill=\"#000000\">gini = 0.198</text>\n<text text-anchor=\"middle\" x=\"3699.5\" y=\"-37.8\" font-family=\"Helvetica,sans-Serif\" font-size=\"14.00\" fill=\"#000000\">samples = 18</text>\n<text text-anchor=\"middle\" x=\"3699.5\" y=\"-22.8\" font-family=\"Helvetica,sans-Serif\" font-size=\"14.00\" fill=\"#000000\">value = [16, 2]</text>\n<text text-anchor=\"middle\" x=\"3699.5\" y=\"-7.8\" font-family=\"Helvetica,sans-Serif\" font-size=\"14.00\" fill=\"#000000\">class = 0</text>\n</g>\n<!-- 110&#45;&gt;112 -->\n<g id=\"edge112\" class=\"edge\">\n<title>110&#45;&gt;112</title>\n<path fill=\"none\" stroke=\"#000000\" d=\"M3604.0992,-103.9815C3617.3799,-94.2394 3631.5077,-83.8759 3644.7077,-74.193\"/>\n<polygon fill=\"#000000\" stroke=\"#000000\" points=\"3646.7977,-77.0006 3652.7908,-68.2637 3642.6574,-71.3564 3646.7977,-77.0006\"/>\n</g>\n<!-- 115 -->\n<g id=\"node116\" class=\"node\">\n<title>115</title>\n<polygon fill=\"#399de5\" stroke=\"#000000\" points=\"3851,-179.5 3752,-179.5 3752,-111.5 3851,-111.5 3851,-179.5\"/>\n<text text-anchor=\"middle\" x=\"3801.5\" y=\"-164.3\" font-family=\"Helvetica,sans-Serif\" font-size=\"14.00\" fill=\"#000000\">gini = 0.0</text>\n<text text-anchor=\"middle\" x=\"3801.5\" y=\"-149.3\" font-family=\"Helvetica,sans-Serif\" font-size=\"14.00\" fill=\"#000000\">samples = 2</text>\n<text text-anchor=\"middle\" x=\"3801.5\" y=\"-134.3\" font-family=\"Helvetica,sans-Serif\" font-size=\"14.00\" fill=\"#000000\">value = [0, 2]</text>\n<text text-anchor=\"middle\" x=\"3801.5\" y=\"-119.3\" font-family=\"Helvetica,sans-Serif\" font-size=\"14.00\" fill=\"#000000\">class = 1</text>\n</g>\n<!-- 114&#45;&gt;115 -->\n<g id=\"edge115\" class=\"edge\">\n<title>114&#45;&gt;115</title>\n<path fill=\"none\" stroke=\"#000000\" d=\"M3804.101,-222.8796C3803.7425,-212.2134 3803.3555,-200.7021 3802.9925,-189.9015\"/>\n<polygon fill=\"#000000\" stroke=\"#000000\" points=\"3806.4875,-189.6917 3802.6534,-179.8149 3799.4915,-189.9269 3806.4875,-189.6917\"/>\n</g>\n<!-- 116 -->\n<g id=\"node117\" class=\"node\">\n<title>116</title>\n<polygon fill=\"#e58139\" stroke=\"#000000\" points=\"3968,-179.5 3869,-179.5 3869,-111.5 3968,-111.5 3968,-179.5\"/>\n<text text-anchor=\"middle\" x=\"3918.5\" y=\"-164.3\" font-family=\"Helvetica,sans-Serif\" font-size=\"14.00\" fill=\"#000000\">gini = 0.0</text>\n<text text-anchor=\"middle\" x=\"3918.5\" y=\"-149.3\" font-family=\"Helvetica,sans-Serif\" font-size=\"14.00\" fill=\"#000000\">samples = 1</text>\n<text text-anchor=\"middle\" x=\"3918.5\" y=\"-134.3\" font-family=\"Helvetica,sans-Serif\" font-size=\"14.00\" fill=\"#000000\">value = [1, 0]</text>\n<text text-anchor=\"middle\" x=\"3918.5\" y=\"-119.3\" font-family=\"Helvetica,sans-Serif\" font-size=\"14.00\" fill=\"#000000\">class = 0</text>\n</g>\n<!-- 114&#45;&gt;116 -->\n<g id=\"edge116\" class=\"edge\">\n<title>114&#45;&gt;116</title>\n<path fill=\"none\" stroke=\"#000000\" d=\"M3845.0219,-222.8796C3855.9857,-211.3337 3867.8897,-198.7976 3878.8601,-187.2446\"/>\n<polygon fill=\"#000000\" stroke=\"#000000\" points=\"3881.5673,-189.4766 3885.9152,-179.8149 3876.4913,-184.6564 3881.5673,-189.4766\"/>\n</g>\n<!-- 118 -->\n<g id=\"node119\" class=\"node\">\n<title>118</title>\n<polygon fill=\"#f8e0ce\" stroke=\"#000000\" points=\"4305,-425 4182,-425 4182,-342 4305,-342 4305,-425\"/>\n<text text-anchor=\"middle\" x=\"4243.5\" y=\"-409.8\" font-family=\"Helvetica,sans-Serif\" font-size=\"14.00\" fill=\"#000000\">여행활동1 &lt;= 0.5</text>\n<text text-anchor=\"middle\" x=\"4243.5\" y=\"-394.8\" font-family=\"Helvetica,sans-Serif\" font-size=\"14.00\" fill=\"#000000\">gini = 0.49</text>\n<text text-anchor=\"middle\" x=\"4243.5\" y=\"-379.8\" font-family=\"Helvetica,sans-Serif\" font-size=\"14.00\" fill=\"#000000\">samples = 42</text>\n<text text-anchor=\"middle\" x=\"4243.5\" y=\"-364.8\" font-family=\"Helvetica,sans-Serif\" font-size=\"14.00\" fill=\"#000000\">value = [24, 18]</text>\n<text text-anchor=\"middle\" x=\"4243.5\" y=\"-349.8\" font-family=\"Helvetica,sans-Serif\" font-size=\"14.00\" fill=\"#000000\">class = 0</text>\n</g>\n<!-- 117&#45;&gt;118 -->\n<g id=\"edge118\" class=\"edge\">\n<title>117&#45;&gt;118</title>\n<path fill=\"none\" stroke=\"#000000\" d=\"M4243.5,-460.8796C4243.5,-452.6838 4243.5,-443.9891 4243.5,-435.5013\"/>\n<polygon fill=\"#000000\" stroke=\"#000000\" points=\"4247.0001,-435.298 4243.5,-425.2981 4240.0001,-435.2981 4247.0001,-435.298\"/>\n</g>\n<!-- 129 -->\n<g id=\"node130\" class=\"node\">\n<title>129</title>\n<polygon fill=\"#7fc0ee\" stroke=\"#000000\" points=\"4710.5,-425 4532.5,-425 4532.5,-342 4710.5,-342 4710.5,-425\"/>\n<text text-anchor=\"middle\" x=\"4621.5\" y=\"-409.8\" font-family=\"Helvetica,sans-Serif\" font-size=\"14.00\" fill=\"#000000\">1인지출비용 &lt;= 210000.0</text>\n<text text-anchor=\"middle\" x=\"4621.5\" y=\"-394.8\" font-family=\"Helvetica,sans-Serif\" font-size=\"14.00\" fill=\"#000000\">gini = 0.387</text>\n<text text-anchor=\"middle\" x=\"4621.5\" y=\"-379.8\" font-family=\"Helvetica,sans-Serif\" font-size=\"14.00\" fill=\"#000000\">samples = 42</text>\n<text text-anchor=\"middle\" x=\"4621.5\" y=\"-364.8\" font-family=\"Helvetica,sans-Serif\" font-size=\"14.00\" fill=\"#000000\">value = [11, 31]</text>\n<text text-anchor=\"middle\" x=\"4621.5\" y=\"-349.8\" font-family=\"Helvetica,sans-Serif\" font-size=\"14.00\" fill=\"#000000\">class = 1</text>\n</g>\n<!-- 117&#45;&gt;129 -->\n<g id=\"edge129\" class=\"edge\">\n<title>117&#45;&gt;129</title>\n<path fill=\"none\" stroke=\"#000000\" d=\"M4301.7341,-484.167C4360.478,-465.6736 4452.2796,-436.7731 4522.479,-414.6733\"/>\n<polygon fill=\"#000000\" stroke=\"#000000\" points=\"4523.7479,-417.9432 4532.2354,-411.6018 4521.6458,-411.2663 4523.7479,-417.9432\"/>\n</g>\n<!-- 119 -->\n<g id=\"node120\" class=\"node\">\n<title>119</title>\n<polygon fill=\"#a4d2f3\" stroke=\"#000000\" points=\"4232.5,-306 4062.5,-306 4062.5,-223 4232.5,-223 4232.5,-306\"/>\n<text text-anchor=\"middle\" x=\"4147.5\" y=\"-290.8\" font-family=\"Helvetica,sans-Serif\" font-size=\"14.00\" fill=\"#000000\">1인지출비용 &lt;= 38750.0</text>\n<text text-anchor=\"middle\" x=\"4147.5\" y=\"-275.8\" font-family=\"Helvetica,sans-Serif\" font-size=\"14.00\" fill=\"#000000\">gini = 0.455</text>\n<text text-anchor=\"middle\" x=\"4147.5\" y=\"-260.8\" font-family=\"Helvetica,sans-Serif\" font-size=\"14.00\" fill=\"#000000\">samples = 20</text>\n<text text-anchor=\"middle\" x=\"4147.5\" y=\"-245.8\" font-family=\"Helvetica,sans-Serif\" font-size=\"14.00\" fill=\"#000000\">value = [7, 13]</text>\n<text text-anchor=\"middle\" x=\"4147.5\" y=\"-230.8\" font-family=\"Helvetica,sans-Serif\" font-size=\"14.00\" fill=\"#000000\">class = 1</text>\n</g>\n<!-- 118&#45;&gt;119 -->\n<g id=\"edge119\" class=\"edge\">\n<title>118&#45;&gt;119</title>\n<path fill=\"none\" stroke=\"#000000\" d=\"M4209.9239,-341.8796C4202.7309,-332.9633 4195.0616,-323.4565 4187.649,-314.268\"/>\n<polygon fill=\"#000000\" stroke=\"#000000\" points=\"4190.2224,-311.8836 4181.2195,-306.2981 4184.7742,-316.2788 4190.2224,-311.8836\"/>\n</g>\n<!-- 124 -->\n<g id=\"node125\" class=\"node\">\n<title>124</title>\n<polygon fill=\"#eda673\" stroke=\"#000000\" points=\"4428.5,-306 4250.5,-306 4250.5,-223 4428.5,-223 4428.5,-306\"/>\n<text text-anchor=\"middle\" x=\"4339.5\" y=\"-290.8\" font-family=\"Helvetica,sans-Serif\" font-size=\"14.00\" fill=\"#000000\">1인지출비용 &lt;= 147500.0</text>\n<text text-anchor=\"middle\" x=\"4339.5\" y=\"-275.8\" font-family=\"Helvetica,sans-Serif\" font-size=\"14.00\" fill=\"#000000\">gini = 0.351</text>\n<text text-anchor=\"middle\" x=\"4339.5\" y=\"-260.8\" font-family=\"Helvetica,sans-Serif\" font-size=\"14.00\" fill=\"#000000\">samples = 22</text>\n<text text-anchor=\"middle\" x=\"4339.5\" y=\"-245.8\" font-family=\"Helvetica,sans-Serif\" font-size=\"14.00\" fill=\"#000000\">value = [17, 5]</text>\n<text text-anchor=\"middle\" x=\"4339.5\" y=\"-230.8\" font-family=\"Helvetica,sans-Serif\" font-size=\"14.00\" fill=\"#000000\">class = 0</text>\n</g>\n<!-- 118&#45;&gt;124 -->\n<g id=\"edge124\" class=\"edge\">\n<title>118&#45;&gt;124</title>\n<path fill=\"none\" stroke=\"#000000\" d=\"M4277.0761,-341.8796C4284.2691,-332.9633 4291.9384,-323.4565 4299.351,-314.268\"/>\n<polygon fill=\"#000000\" stroke=\"#000000\" points=\"4302.2258,-316.2788 4305.7805,-306.2981 4296.7776,-311.8836 4302.2258,-316.2788\"/>\n</g>\n<!-- 120 -->\n<g id=\"node121\" class=\"node\">\n<title>120</title>\n<polygon fill=\"#e58139\" stroke=\"#000000\" points=\"4085,-179.5 3986,-179.5 3986,-111.5 4085,-111.5 4085,-179.5\"/>\n<text text-anchor=\"middle\" x=\"4035.5\" y=\"-164.3\" font-family=\"Helvetica,sans-Serif\" font-size=\"14.00\" fill=\"#000000\">gini = 0.0</text>\n<text text-anchor=\"middle\" x=\"4035.5\" y=\"-149.3\" font-family=\"Helvetica,sans-Serif\" font-size=\"14.00\" fill=\"#000000\">samples = 2</text>\n<text text-anchor=\"middle\" x=\"4035.5\" y=\"-134.3\" font-family=\"Helvetica,sans-Serif\" font-size=\"14.00\" fill=\"#000000\">value = [2, 0]</text>\n<text text-anchor=\"middle\" x=\"4035.5\" y=\"-119.3\" font-family=\"Helvetica,sans-Serif\" font-size=\"14.00\" fill=\"#000000\">class = 0</text>\n</g>\n<!-- 119&#45;&gt;120 -->\n<g id=\"edge120\" class=\"edge\">\n<title>119&#45;&gt;120</title>\n<path fill=\"none\" stroke=\"#000000\" d=\"M4108.3278,-222.8796C4097.4611,-211.3337 4085.6624,-198.7976 4074.7891,-187.2446\"/>\n<polygon fill=\"#000000\" stroke=\"#000000\" points=\"4077.1988,-184.6982 4067.7964,-179.8149 4072.1014,-189.4958 4077.1988,-184.6982\"/>\n</g>\n<!-- 121 -->\n<g id=\"node122\" class=\"node\">\n<title>121</title>\n<polygon fill=\"#85c3ef\" stroke=\"#000000\" points=\"4210,-187 4103,-187 4103,-104 4210,-104 4210,-187\"/>\n<text text-anchor=\"middle\" x=\"4156.5\" y=\"-171.8\" font-family=\"Helvetica,sans-Serif\" font-size=\"14.00\" fill=\"#000000\">월 &lt;= 5.0</text>\n<text text-anchor=\"middle\" x=\"4156.5\" y=\"-156.8\" font-family=\"Helvetica,sans-Serif\" font-size=\"14.00\" fill=\"#000000\">gini = 0.401</text>\n<text text-anchor=\"middle\" x=\"4156.5\" y=\"-141.8\" font-family=\"Helvetica,sans-Serif\" font-size=\"14.00\" fill=\"#000000\">samples = 18</text>\n<text text-anchor=\"middle\" x=\"4156.5\" y=\"-126.8\" font-family=\"Helvetica,sans-Serif\" font-size=\"14.00\" fill=\"#000000\">value = [5, 13]</text>\n<text text-anchor=\"middle\" x=\"4156.5\" y=\"-111.8\" font-family=\"Helvetica,sans-Serif\" font-size=\"14.00\" fill=\"#000000\">class = 1</text>\n</g>\n<!-- 119&#45;&gt;121 -->\n<g id=\"edge121\" class=\"edge\">\n<title>119&#45;&gt;121</title>\n<path fill=\"none\" stroke=\"#000000\" d=\"M4150.6478,-222.8796C4151.2676,-214.6838 4151.9252,-205.9891 4152.5671,-197.5013\"/>\n<polygon fill=\"#000000\" stroke=\"#000000\" points=\"4156.0746,-197.5336 4153.3388,-187.2981 4149.0945,-197.0056 4156.0746,-197.5336\"/>\n</g>\n<!-- 122 -->\n<g id=\"node123\" class=\"node\">\n<title>122</title>\n<polygon fill=\"#ffffff\" stroke=\"#000000\" points=\"4077,-68 3978,-68 3978,0 4077,0 4077,-68\"/>\n<text text-anchor=\"middle\" x=\"4027.5\" y=\"-52.8\" font-family=\"Helvetica,sans-Serif\" font-size=\"14.00\" fill=\"#000000\">gini = 0.5</text>\n<text text-anchor=\"middle\" x=\"4027.5\" y=\"-37.8\" font-family=\"Helvetica,sans-Serif\" font-size=\"14.00\" fill=\"#000000\">samples = 8</text>\n<text text-anchor=\"middle\" x=\"4027.5\" y=\"-22.8\" font-family=\"Helvetica,sans-Serif\" font-size=\"14.00\" fill=\"#000000\">value = [4, 4]</text>\n<text text-anchor=\"middle\" x=\"4027.5\" y=\"-7.8\" font-family=\"Helvetica,sans-Serif\" font-size=\"14.00\" fill=\"#000000\">class = 0</text>\n</g>\n<!-- 121&#45;&gt;122 -->\n<g id=\"edge122\" class=\"edge\">\n<title>121&#45;&gt;122</title>\n<path fill=\"none\" stroke=\"#000000\" d=\"M4108.4652,-103.9815C4097.513,-94.5151 4085.8821,-84.462 4074.9544,-75.0168\"/>\n<polygon fill=\"#000000\" stroke=\"#000000\" points=\"4076.9957,-72.155 4067.1414,-68.2637 4072.4182,-77.4509 4076.9957,-72.155\"/>\n</g>\n<!-- 123 -->\n<g id=\"node124\" class=\"node\">\n<title>123</title>\n<polygon fill=\"#4fa8e8\" stroke=\"#000000\" points=\"4199.5,-68 4095.5,-68 4095.5,0 4199.5,0 4199.5,-68\"/>\n<text text-anchor=\"middle\" x=\"4147.5\" y=\"-52.8\" font-family=\"Helvetica,sans-Serif\" font-size=\"14.00\" fill=\"#000000\">gini = 0.18</text>\n<text text-anchor=\"middle\" x=\"4147.5\" y=\"-37.8\" font-family=\"Helvetica,sans-Serif\" font-size=\"14.00\" fill=\"#000000\">samples = 10</text>\n<text text-anchor=\"middle\" x=\"4147.5\" y=\"-22.8\" font-family=\"Helvetica,sans-Serif\" font-size=\"14.00\" fill=\"#000000\">value = [1, 9]</text>\n<text text-anchor=\"middle\" x=\"4147.5\" y=\"-7.8\" font-family=\"Helvetica,sans-Serif\" font-size=\"14.00\" fill=\"#000000\">class = 1</text>\n</g>\n<!-- 121&#45;&gt;123 -->\n<g id=\"edge123\" class=\"edge\">\n<title>121&#45;&gt;123</title>\n<path fill=\"none\" stroke=\"#000000\" d=\"M4153.1487,-103.9815C4152.4737,-95.618 4151.7616,-86.7965 4151.0791,-78.3409\"/>\n<polygon fill=\"#000000\" stroke=\"#000000\" points=\"4154.559,-77.9496 4150.2657,-68.2637 4147.5817,-78.5129 4154.559,-77.9496\"/>\n</g>\n<!-- 125 -->\n<g id=\"node126\" class=\"node\">\n<title>125</title>\n<polygon fill=\"#ea975c\" stroke=\"#000000\" points=\"4415.5,-187 4245.5,-187 4245.5,-104 4415.5,-104 4415.5,-187\"/>\n<text text-anchor=\"middle\" x=\"4330.5\" y=\"-171.8\" font-family=\"Helvetica,sans-Serif\" font-size=\"14.00\" fill=\"#000000\">1인지출비용 &lt;= 40000.0</text>\n<text text-anchor=\"middle\" x=\"4330.5\" y=\"-156.8\" font-family=\"Helvetica,sans-Serif\" font-size=\"14.00\" fill=\"#000000\">gini = 0.255</text>\n<text text-anchor=\"middle\" x=\"4330.5\" y=\"-141.8\" font-family=\"Helvetica,sans-Serif\" font-size=\"14.00\" fill=\"#000000\">samples = 20</text>\n<text text-anchor=\"middle\" x=\"4330.5\" y=\"-126.8\" font-family=\"Helvetica,sans-Serif\" font-size=\"14.00\" fill=\"#000000\">value = [17, 3]</text>\n<text text-anchor=\"middle\" x=\"4330.5\" y=\"-111.8\" font-family=\"Helvetica,sans-Serif\" font-size=\"14.00\" fill=\"#000000\">class = 0</text>\n</g>\n<!-- 124&#45;&gt;125 -->\n<g id=\"edge125\" class=\"edge\">\n<title>124&#45;&gt;125</title>\n<path fill=\"none\" stroke=\"#000000\" d=\"M4336.3522,-222.8796C4335.7324,-214.6838 4335.0748,-205.9891 4334.4329,-197.5013\"/>\n<polygon fill=\"#000000\" stroke=\"#000000\" points=\"4337.9055,-197.0056 4333.6612,-187.2981 4330.9254,-197.5336 4337.9055,-197.0056\"/>\n</g>\n<!-- 128 -->\n<g id=\"node129\" class=\"node\">\n<title>128</title>\n<polygon fill=\"#399de5\" stroke=\"#000000\" points=\"4533,-179.5 4434,-179.5 4434,-111.5 4533,-111.5 4533,-179.5\"/>\n<text text-anchor=\"middle\" x=\"4483.5\" y=\"-164.3\" font-family=\"Helvetica,sans-Serif\" font-size=\"14.00\" fill=\"#000000\">gini = 0.0</text>\n<text text-anchor=\"middle\" x=\"4483.5\" y=\"-149.3\" font-family=\"Helvetica,sans-Serif\" font-size=\"14.00\" fill=\"#000000\">samples = 2</text>\n<text text-anchor=\"middle\" x=\"4483.5\" y=\"-134.3\" font-family=\"Helvetica,sans-Serif\" font-size=\"14.00\" fill=\"#000000\">value = [0, 2]</text>\n<text text-anchor=\"middle\" x=\"4483.5\" y=\"-119.3\" font-family=\"Helvetica,sans-Serif\" font-size=\"14.00\" fill=\"#000000\">class = 1</text>\n</g>\n<!-- 124&#45;&gt;128 -->\n<g id=\"edge128\" class=\"edge\">\n<title>124&#45;&gt;128</title>\n<path fill=\"none\" stroke=\"#000000\" d=\"M4389.8642,-222.8796C4404.2349,-211.0038 4419.8733,-198.0804 4434.1808,-186.2568\"/>\n<polygon fill=\"#000000\" stroke=\"#000000\" points=\"4436.4971,-188.8831 4441.976,-179.8149 4432.038,-183.4872 4436.4971,-188.8831\"/>\n</g>\n<!-- 126 -->\n<g id=\"node127\" class=\"node\">\n<title>126</title>\n<polygon fill=\"#9ccef2\" stroke=\"#000000\" points=\"4317,-68 4218,-68 4218,0 4317,0 4317,-68\"/>\n<text text-anchor=\"middle\" x=\"4267.5\" y=\"-52.8\" font-family=\"Helvetica,sans-Serif\" font-size=\"14.00\" fill=\"#000000\">gini = 0.444</text>\n<text text-anchor=\"middle\" x=\"4267.5\" y=\"-37.8\" font-family=\"Helvetica,sans-Serif\" font-size=\"14.00\" fill=\"#000000\">samples = 3</text>\n<text text-anchor=\"middle\" x=\"4267.5\" y=\"-22.8\" font-family=\"Helvetica,sans-Serif\" font-size=\"14.00\" fill=\"#000000\">value = [1, 2]</text>\n<text text-anchor=\"middle\" x=\"4267.5\" y=\"-7.8\" font-family=\"Helvetica,sans-Serif\" font-size=\"14.00\" fill=\"#000000\">class = 1</text>\n</g>\n<!-- 125&#45;&gt;126 -->\n<g id=\"edge126\" class=\"edge\">\n<title>125&#45;&gt;126</title>\n<path fill=\"none\" stroke=\"#000000\" d=\"M4307.0411,-103.9815C4302.1078,-95.2504 4296.8926,-86.0202 4291.9248,-77.2281\"/>\n<polygon fill=\"#000000\" stroke=\"#000000\" points=\"4294.8263,-75.2483 4286.8597,-68.2637 4288.7319,-78.6918 4294.8263,-75.2483\"/>\n</g>\n<!-- 127 -->\n<g id=\"node128\" class=\"node\">\n<title>127</title>\n<polygon fill=\"#e78945\" stroke=\"#000000\" points=\"4442,-68 4335,-68 4335,0 4442,0 4442,-68\"/>\n<text text-anchor=\"middle\" x=\"4388.5\" y=\"-52.8\" font-family=\"Helvetica,sans-Serif\" font-size=\"14.00\" fill=\"#000000\">gini = 0.111</text>\n<text text-anchor=\"middle\" x=\"4388.5\" y=\"-37.8\" font-family=\"Helvetica,sans-Serif\" font-size=\"14.00\" fill=\"#000000\">samples = 17</text>\n<text text-anchor=\"middle\" x=\"4388.5\" y=\"-22.8\" font-family=\"Helvetica,sans-Serif\" font-size=\"14.00\" fill=\"#000000\">value = [16, 1]</text>\n<text text-anchor=\"middle\" x=\"4388.5\" y=\"-7.8\" font-family=\"Helvetica,sans-Serif\" font-size=\"14.00\" fill=\"#000000\">class = 0</text>\n</g>\n<!-- 125&#45;&gt;127 -->\n<g id=\"edge127\" class=\"edge\">\n<title>125&#45;&gt;127</title>\n<path fill=\"none\" stroke=\"#000000\" d=\"M4352.0971,-103.9815C4356.6388,-95.2504 4361.4402,-86.0202 4366.0137,-77.2281\"/>\n<polygon fill=\"#000000\" stroke=\"#000000\" points=\"4369.1669,-78.7504 4370.6767,-68.2637 4362.9569,-75.52 4369.1669,-78.7504\"/>\n</g>\n<!-- 130 -->\n<g id=\"node131\" class=\"node\">\n<title>130</title>\n<polygon fill=\"#72b9ed\" stroke=\"#000000\" points=\"4683,-306 4560,-306 4560,-223 4683,-223 4683,-306\"/>\n<text text-anchor=\"middle\" x=\"4621.5\" y=\"-290.8\" font-family=\"Helvetica,sans-Serif\" font-size=\"14.00\" fill=\"#000000\">여행활동5 &lt;= 0.5</text>\n<text text-anchor=\"middle\" x=\"4621.5\" y=\"-275.8\" font-family=\"Helvetica,sans-Serif\" font-size=\"14.00\" fill=\"#000000\">gini = 0.349</text>\n<text text-anchor=\"middle\" x=\"4621.5\" y=\"-260.8\" font-family=\"Helvetica,sans-Serif\" font-size=\"14.00\" fill=\"#000000\">samples = 40</text>\n<text text-anchor=\"middle\" x=\"4621.5\" y=\"-245.8\" font-family=\"Helvetica,sans-Serif\" font-size=\"14.00\" fill=\"#000000\">value = [9, 31]</text>\n<text text-anchor=\"middle\" x=\"4621.5\" y=\"-230.8\" font-family=\"Helvetica,sans-Serif\" font-size=\"14.00\" fill=\"#000000\">class = 1</text>\n</g>\n<!-- 129&#45;&gt;130 -->\n<g id=\"edge130\" class=\"edge\">\n<title>129&#45;&gt;130</title>\n<path fill=\"none\" stroke=\"#000000\" d=\"M4621.5,-341.8796C4621.5,-333.6838 4621.5,-324.9891 4621.5,-316.5013\"/>\n<polygon fill=\"#000000\" stroke=\"#000000\" points=\"4625.0001,-316.298 4621.5,-306.2981 4618.0001,-316.2981 4625.0001,-316.298\"/>\n</g>\n<!-- 137 -->\n<g id=\"node138\" class=\"node\">\n<title>137</title>\n<polygon fill=\"#e58139\" stroke=\"#000000\" points=\"4800,-298.5 4701,-298.5 4701,-230.5 4800,-230.5 4800,-298.5\"/>\n<text text-anchor=\"middle\" x=\"4750.5\" y=\"-283.3\" font-family=\"Helvetica,sans-Serif\" font-size=\"14.00\" fill=\"#000000\">gini = 0.0</text>\n<text text-anchor=\"middle\" x=\"4750.5\" y=\"-268.3\" font-family=\"Helvetica,sans-Serif\" font-size=\"14.00\" fill=\"#000000\">samples = 2</text>\n<text text-anchor=\"middle\" x=\"4750.5\" y=\"-253.3\" font-family=\"Helvetica,sans-Serif\" font-size=\"14.00\" fill=\"#000000\">value = [2, 0]</text>\n<text text-anchor=\"middle\" x=\"4750.5\" y=\"-238.3\" font-family=\"Helvetica,sans-Serif\" font-size=\"14.00\" fill=\"#000000\">class = 0</text>\n</g>\n<!-- 129&#45;&gt;137 -->\n<g id=\"edge137\" class=\"edge\">\n<title>129&#45;&gt;137</title>\n<path fill=\"none\" stroke=\"#000000\" d=\"M4666.6179,-341.8796C4679.2533,-330.2237 4692.9826,-317.5587 4705.605,-305.9148\"/>\n<polygon fill=\"#000000\" stroke=\"#000000\" points=\"4708.3244,-308.168 4713.3015,-298.8149 4703.578,-303.0228 4708.3244,-308.168\"/>\n</g>\n<!-- 131 -->\n<g id=\"node132\" class=\"node\">\n<title>131</title>\n<polygon fill=\"#b7dbf6\" stroke=\"#000000\" points=\"4675,-187 4568,-187 4568,-104 4675,-104 4675,-187\"/>\n<text text-anchor=\"middle\" x=\"4621.5\" y=\"-171.8\" font-family=\"Helvetica,sans-Serif\" font-size=\"14.00\" fill=\"#000000\">월 &lt;= 8.5</text>\n<text text-anchor=\"middle\" x=\"4621.5\" y=\"-156.8\" font-family=\"Helvetica,sans-Serif\" font-size=\"14.00\" fill=\"#000000\">gini = 0.475</text>\n<text text-anchor=\"middle\" x=\"4621.5\" y=\"-141.8\" font-family=\"Helvetica,sans-Serif\" font-size=\"14.00\" fill=\"#000000\">samples = 18</text>\n<text text-anchor=\"middle\" x=\"4621.5\" y=\"-126.8\" font-family=\"Helvetica,sans-Serif\" font-size=\"14.00\" fill=\"#000000\">value = [7, 11]</text>\n<text text-anchor=\"middle\" x=\"4621.5\" y=\"-111.8\" font-family=\"Helvetica,sans-Serif\" font-size=\"14.00\" fill=\"#000000\">class = 1</text>\n</g>\n<!-- 130&#45;&gt;131 -->\n<g id=\"edge131\" class=\"edge\">\n<title>130&#45;&gt;131</title>\n<path fill=\"none\" stroke=\"#000000\" d=\"M4621.5,-222.8796C4621.5,-214.6838 4621.5,-205.9891 4621.5,-197.5013\"/>\n<polygon fill=\"#000000\" stroke=\"#000000\" points=\"4625.0001,-197.298 4621.5,-187.2981 4618.0001,-197.2981 4625.0001,-197.298\"/>\n</g>\n<!-- 134 -->\n<g id=\"node135\" class=\"node\">\n<title>134</title>\n<polygon fill=\"#4da7e8\" stroke=\"#000000\" points=\"4809,-187 4702,-187 4702,-104 4809,-104 4809,-187\"/>\n<text text-anchor=\"middle\" x=\"4755.5\" y=\"-171.8\" font-family=\"Helvetica,sans-Serif\" font-size=\"14.00\" fill=\"#000000\">주업 &lt;= 9.0</text>\n<text text-anchor=\"middle\" x=\"4755.5\" y=\"-156.8\" font-family=\"Helvetica,sans-Serif\" font-size=\"14.00\" fill=\"#000000\">gini = 0.165</text>\n<text text-anchor=\"middle\" x=\"4755.5\" y=\"-141.8\" font-family=\"Helvetica,sans-Serif\" font-size=\"14.00\" fill=\"#000000\">samples = 22</text>\n<text text-anchor=\"middle\" x=\"4755.5\" y=\"-126.8\" font-family=\"Helvetica,sans-Serif\" font-size=\"14.00\" fill=\"#000000\">value = [2, 20]</text>\n<text text-anchor=\"middle\" x=\"4755.5\" y=\"-111.8\" font-family=\"Helvetica,sans-Serif\" font-size=\"14.00\" fill=\"#000000\">class = 1</text>\n</g>\n<!-- 130&#45;&gt;134 -->\n<g id=\"edge134\" class=\"edge\">\n<title>130&#45;&gt;134</title>\n<path fill=\"none\" stroke=\"#000000\" d=\"M4668.3667,-222.8796C4678.8125,-213.6031 4689.9781,-203.6874 4700.711,-194.1559\"/>\n<polygon fill=\"#000000\" stroke=\"#000000\" points=\"4703.2801,-196.5553 4708.4333,-187.2981 4698.632,-191.3213 4703.2801,-196.5553\"/>\n</g>\n<!-- 132 -->\n<g id=\"node133\" class=\"node\">\n<title>132</title>\n<polygon fill=\"#6fb8ec\" stroke=\"#000000\" points=\"4567,-68 4460,-68 4460,0 4567,0 4567,-68\"/>\n<text text-anchor=\"middle\" x=\"4513.5\" y=\"-52.8\" font-family=\"Helvetica,sans-Serif\" font-size=\"14.00\" fill=\"#000000\">gini = 0.337</text>\n<text text-anchor=\"middle\" x=\"4513.5\" y=\"-37.8\" font-family=\"Helvetica,sans-Serif\" font-size=\"14.00\" fill=\"#000000\">samples = 14</text>\n<text text-anchor=\"middle\" x=\"4513.5\" y=\"-22.8\" font-family=\"Helvetica,sans-Serif\" font-size=\"14.00\" fill=\"#000000\">value = [3, 11]</text>\n<text text-anchor=\"middle\" x=\"4513.5\" y=\"-7.8\" font-family=\"Helvetica,sans-Serif\" font-size=\"14.00\" fill=\"#000000\">class = 1</text>\n</g>\n<!-- 131&#45;&gt;132 -->\n<g id=\"edge132\" class=\"edge\">\n<title>131&#45;&gt;132</title>\n<path fill=\"none\" stroke=\"#000000\" d=\"M4581.2848,-103.9815C4572.2936,-94.6989 4562.756,-84.8522 4553.7629,-75.5677\"/>\n<polygon fill=\"#000000\" stroke=\"#000000\" points=\"4556.1596,-73.0115 4546.6881,-68.2637 4551.1316,-77.8817 4556.1596,-73.0115\"/>\n</g>\n<!-- 133 -->\n<g id=\"node134\" class=\"node\">\n<title>133</title>\n<polygon fill=\"#e58139\" stroke=\"#000000\" points=\"4684,-68 4585,-68 4585,0 4684,0 4684,-68\"/>\n<text text-anchor=\"middle\" x=\"4634.5\" y=\"-52.8\" font-family=\"Helvetica,sans-Serif\" font-size=\"14.00\" fill=\"#000000\">gini = 0.0</text>\n<text text-anchor=\"middle\" x=\"4634.5\" y=\"-37.8\" font-family=\"Helvetica,sans-Serif\" font-size=\"14.00\" fill=\"#000000\">samples = 4</text>\n<text text-anchor=\"middle\" x=\"4634.5\" y=\"-22.8\" font-family=\"Helvetica,sans-Serif\" font-size=\"14.00\" fill=\"#000000\">value = [4, 0]</text>\n<text text-anchor=\"middle\" x=\"4634.5\" y=\"-7.8\" font-family=\"Helvetica,sans-Serif\" font-size=\"14.00\" fill=\"#000000\">class = 0</text>\n</g>\n<!-- 131&#45;&gt;133 -->\n<g id=\"edge133\" class=\"edge\">\n<title>131&#45;&gt;133</title>\n<path fill=\"none\" stroke=\"#000000\" d=\"M4626.3407,-103.9815C4627.3158,-95.618 4628.3443,-86.7965 4629.3302,-78.3409\"/>\n<polygon fill=\"#000000\" stroke=\"#000000\" points=\"4632.8234,-78.6017 4630.5051,-68.2637 4625.8705,-77.791 4632.8234,-78.6017\"/>\n</g>\n<!-- 135 -->\n<g id=\"node136\" class=\"node\">\n<title>135</title>\n<polygon fill=\"#43a2e6\" stroke=\"#000000\" points=\"4809,-68 4702,-68 4702,0 4809,0 4809,-68\"/>\n<text text-anchor=\"middle\" x=\"4755.5\" y=\"-52.8\" font-family=\"Helvetica,sans-Serif\" font-size=\"14.00\" fill=\"#000000\">gini = 0.091</text>\n<text text-anchor=\"middle\" x=\"4755.5\" y=\"-37.8\" font-family=\"Helvetica,sans-Serif\" font-size=\"14.00\" fill=\"#000000\">samples = 21</text>\n<text text-anchor=\"middle\" x=\"4755.5\" y=\"-22.8\" font-family=\"Helvetica,sans-Serif\" font-size=\"14.00\" fill=\"#000000\">value = [1, 20]</text>\n<text text-anchor=\"middle\" x=\"4755.5\" y=\"-7.8\" font-family=\"Helvetica,sans-Serif\" font-size=\"14.00\" fill=\"#000000\">class = 1</text>\n</g>\n<!-- 134&#45;&gt;135 -->\n<g id=\"edge135\" class=\"edge\">\n<title>134&#45;&gt;135</title>\n<path fill=\"none\" stroke=\"#000000\" d=\"M4755.5,-103.9815C4755.5,-95.618 4755.5,-86.7965 4755.5,-78.3409\"/>\n<polygon fill=\"#000000\" stroke=\"#000000\" points=\"4759.0001,-78.2636 4755.5,-68.2637 4752.0001,-78.2637 4759.0001,-78.2636\"/>\n</g>\n<!-- 136 -->\n<g id=\"node137\" class=\"node\">\n<title>136</title>\n<polygon fill=\"#e58139\" stroke=\"#000000\" points=\"4926,-68 4827,-68 4827,0 4926,0 4926,-68\"/>\n<text text-anchor=\"middle\" x=\"4876.5\" y=\"-52.8\" font-family=\"Helvetica,sans-Serif\" font-size=\"14.00\" fill=\"#000000\">gini = 0.0</text>\n<text text-anchor=\"middle\" x=\"4876.5\" y=\"-37.8\" font-family=\"Helvetica,sans-Serif\" font-size=\"14.00\" fill=\"#000000\">samples = 1</text>\n<text text-anchor=\"middle\" x=\"4876.5\" y=\"-22.8\" font-family=\"Helvetica,sans-Serif\" font-size=\"14.00\" fill=\"#000000\">value = [1, 0]</text>\n<text text-anchor=\"middle\" x=\"4876.5\" y=\"-7.8\" font-family=\"Helvetica,sans-Serif\" font-size=\"14.00\" fill=\"#000000\">class = 0</text>\n</g>\n<!-- 134&#45;&gt;136 -->\n<g id=\"edge136\" class=\"edge\">\n<title>134&#45;&gt;136</title>\n<path fill=\"none\" stroke=\"#000000\" d=\"M4800.5559,-103.9815C4810.7291,-94.607 4821.5267,-84.6572 4831.6898,-75.2921\"/>\n<polygon fill=\"#000000\" stroke=\"#000000\" points=\"4834.3349,-77.6141 4839.317,-68.2637 4829.5913,-72.4663 4834.3349,-77.6141\"/>\n</g>\n<!-- 139 -->\n<g id=\"node140\" class=\"node\">\n<title>139</title>\n<polygon fill=\"#eca571\" stroke=\"#000000\" points=\"5536.5,-544 5412.5,-544 5412.5,-461 5536.5,-461 5536.5,-544\"/>\n<text text-anchor=\"middle\" x=\"5474.5\" y=\"-528.8\" font-family=\"Helvetica,sans-Serif\" font-size=\"14.00\" fill=\"#000000\">개인소득 &lt;= 2.5</text>\n<text text-anchor=\"middle\" x=\"5474.5\" y=\"-513.8\" font-family=\"Helvetica,sans-Serif\" font-size=\"14.00\" fill=\"#000000\">gini = 0.344</text>\n<text text-anchor=\"middle\" x=\"5474.5\" y=\"-498.8\" font-family=\"Helvetica,sans-Serif\" font-size=\"14.00\" fill=\"#000000\">samples = 236</text>\n<text text-anchor=\"middle\" x=\"5474.5\" y=\"-483.8\" font-family=\"Helvetica,sans-Serif\" font-size=\"14.00\" fill=\"#000000\">value = [184, 52]</text>\n<text text-anchor=\"middle\" x=\"5474.5\" y=\"-468.8\" font-family=\"Helvetica,sans-Serif\" font-size=\"14.00\" fill=\"#000000\">class = 0</text>\n</g>\n<!-- 138&#45;&gt;139 -->\n<g id=\"edge139\" class=\"edge\">\n<title>138&#45;&gt;139</title>\n<path fill=\"none\" stroke=\"#000000\" d=\"M5474.5,-579.8796C5474.5,-571.6838 5474.5,-562.9891 5474.5,-554.5013\"/>\n<polygon fill=\"#000000\" stroke=\"#000000\" points=\"5478.0001,-554.298 5474.5,-544.2981 5471.0001,-554.2981 5478.0001,-554.298\"/>\n</g>\n<!-- 166 -->\n<g id=\"node167\" class=\"node\">\n<title>166</title>\n<polygon fill=\"#c6e3f8\" stroke=\"#000000\" points=\"5994.5,-544 5890.5,-544 5890.5,-461 5994.5,-461 5994.5,-544\"/>\n<text text-anchor=\"middle\" x=\"5942.5\" y=\"-528.8\" font-family=\"Helvetica,sans-Serif\" font-size=\"14.00\" fill=\"#000000\">주업 &lt;= 3.5</text>\n<text text-anchor=\"middle\" x=\"5942.5\" y=\"-513.8\" font-family=\"Helvetica,sans-Serif\" font-size=\"14.00\" fill=\"#000000\">gini = 0.486</text>\n<text text-anchor=\"middle\" x=\"5942.5\" y=\"-498.8\" font-family=\"Helvetica,sans-Serif\" font-size=\"14.00\" fill=\"#000000\">samples = 12</text>\n<text text-anchor=\"middle\" x=\"5942.5\" y=\"-483.8\" font-family=\"Helvetica,sans-Serif\" font-size=\"14.00\" fill=\"#000000\">value = [5, 7]</text>\n<text text-anchor=\"middle\" x=\"5942.5\" y=\"-468.8\" font-family=\"Helvetica,sans-Serif\" font-size=\"14.00\" fill=\"#000000\">class = 1</text>\n</g>\n<!-- 138&#45;&gt;166 -->\n<g id=\"edge166\" class=\"edge\">\n<title>138&#45;&gt;166</title>\n<path fill=\"none\" stroke=\"#000000\" d=\"M5536.6468,-605.6977C5626.2792,-582.9066 5790.8859,-541.0515 5880.4591,-518.2754\"/>\n<polygon fill=\"#000000\" stroke=\"#000000\" points=\"5881.3794,-521.6528 5890.2085,-515.7964 5879.6543,-514.8687 5881.3794,-521.6528\"/>\n</g>\n<!-- 140 -->\n<g id=\"node141\" class=\"node\">\n<title>140</title>\n<polygon fill=\"#f8dbc6\" stroke=\"#000000\" points=\"5418.5,-425 5248.5,-425 5248.5,-342 5418.5,-342 5418.5,-425\"/>\n<text text-anchor=\"middle\" x=\"5333.5\" y=\"-409.8\" font-family=\"Helvetica,sans-Serif\" font-size=\"14.00\" fill=\"#000000\">1인지출비용 &lt;= 61300.0</text>\n<text text-anchor=\"middle\" x=\"5333.5\" y=\"-394.8\" font-family=\"Helvetica,sans-Serif\" font-size=\"14.00\" fill=\"#000000\">gini = 0.486</text>\n<text text-anchor=\"middle\" x=\"5333.5\" y=\"-379.8\" font-family=\"Helvetica,sans-Serif\" font-size=\"14.00\" fill=\"#000000\">samples = 24</text>\n<text text-anchor=\"middle\" x=\"5333.5\" y=\"-364.8\" font-family=\"Helvetica,sans-Serif\" font-size=\"14.00\" fill=\"#000000\">value = [14, 10]</text>\n<text text-anchor=\"middle\" x=\"5333.5\" y=\"-349.8\" font-family=\"Helvetica,sans-Serif\" font-size=\"14.00\" fill=\"#000000\">class = 0</text>\n</g>\n<!-- 139&#45;&gt;140 -->\n<g id=\"edge140\" class=\"edge\">\n<title>139&#45;&gt;140</title>\n<path fill=\"none\" stroke=\"#000000\" d=\"M5425.185,-460.8796C5414.0868,-451.513 5402.2165,-441.4948 5390.8223,-431.8784\"/>\n<polygon fill=\"#000000\" stroke=\"#000000\" points=\"5392.925,-429.0731 5383.0254,-425.2981 5388.4101,-434.4225 5392.925,-429.0731\"/>\n</g>\n<!-- 151 -->\n<g id=\"node152\" class=\"node\">\n<title>151</title>\n<polygon fill=\"#eba06a\" stroke=\"#000000\" points=\"5724.5,-425 5600.5,-425 5600.5,-342 5724.5,-342 5724.5,-425\"/>\n<text text-anchor=\"middle\" x=\"5662.5\" y=\"-409.8\" font-family=\"Helvetica,sans-Serif\" font-size=\"14.00\" fill=\"#000000\">지역코드 &lt;= 14.5</text>\n<text text-anchor=\"middle\" x=\"5662.5\" y=\"-394.8\" font-family=\"Helvetica,sans-Serif\" font-size=\"14.00\" fill=\"#000000\">gini = 0.318</text>\n<text text-anchor=\"middle\" x=\"5662.5\" y=\"-379.8\" font-family=\"Helvetica,sans-Serif\" font-size=\"14.00\" fill=\"#000000\">samples = 212</text>\n<text text-anchor=\"middle\" x=\"5662.5\" y=\"-364.8\" font-family=\"Helvetica,sans-Serif\" font-size=\"14.00\" fill=\"#000000\">value = [170, 42]</text>\n<text text-anchor=\"middle\" x=\"5662.5\" y=\"-349.8\" font-family=\"Helvetica,sans-Serif\" font-size=\"14.00\" fill=\"#000000\">class = 0</text>\n</g>\n<!-- 139&#45;&gt;151 -->\n<g id=\"edge151\" class=\"edge\">\n<title>139&#45;&gt;151</title>\n<path fill=\"none\" stroke=\"#000000\" d=\"M5536.5793,-463.2052C5554.2266,-452.0348 5573.5772,-439.7862 5591.7005,-428.3146\"/>\n<polygon fill=\"#000000\" stroke=\"#000000\" points=\"5593.9083,-431.0594 5600.4859,-422.7536 5590.1644,-425.1447 5593.9083,-431.0594\"/>\n</g>\n<!-- 141 -->\n<g id=\"node142\" class=\"node\">\n<title>141</title>\n<polygon fill=\"#a7d3f3\" stroke=\"#000000\" points=\"5208,-306 5085,-306 5085,-223 5208,-223 5208,-306\"/>\n<text text-anchor=\"middle\" x=\"5146.5\" y=\"-290.8\" font-family=\"Helvetica,sans-Serif\" font-size=\"14.00\" fill=\"#000000\">여행활동5 &lt;= 0.5</text>\n<text text-anchor=\"middle\" x=\"5146.5\" y=\"-275.8\" font-family=\"Helvetica,sans-Serif\" font-size=\"14.00\" fill=\"#000000\">gini = 0.459</text>\n<text text-anchor=\"middle\" x=\"5146.5\" y=\"-260.8\" font-family=\"Helvetica,sans-Serif\" font-size=\"14.00\" fill=\"#000000\">samples = 14</text>\n<text text-anchor=\"middle\" x=\"5146.5\" y=\"-245.8\" font-family=\"Helvetica,sans-Serif\" font-size=\"14.00\" fill=\"#000000\">value = [5, 9]</text>\n<text text-anchor=\"middle\" x=\"5146.5\" y=\"-230.8\" font-family=\"Helvetica,sans-Serif\" font-size=\"14.00\" fill=\"#000000\">class = 1</text>\n</g>\n<!-- 140&#45;&gt;141 -->\n<g id=\"edge141\" class=\"edge\">\n<title>140&#45;&gt;141</title>\n<path fill=\"none\" stroke=\"#000000\" d=\"M5268.0965,-341.8796C5251.504,-331.3207 5233.6101,-319.9337 5216.7866,-309.2278\"/>\n<polygon fill=\"#000000\" stroke=\"#000000\" points=\"5218.4148,-306.1154 5208.0991,-303.6995 5214.6567,-312.0211 5218.4148,-306.1154\"/>\n</g>\n<!-- 146 -->\n<g id=\"node147\" class=\"node\">\n<title>146</title>\n<polygon fill=\"#e88f4f\" stroke=\"#000000\" points=\"5395,-306 5272,-306 5272,-223 5395,-223 5395,-306\"/>\n<text text-anchor=\"middle\" x=\"5333.5\" y=\"-290.8\" font-family=\"Helvetica,sans-Serif\" font-size=\"14.00\" fill=\"#000000\">지역코드 &lt;= 22.5</text>\n<text text-anchor=\"middle\" x=\"5333.5\" y=\"-275.8\" font-family=\"Helvetica,sans-Serif\" font-size=\"14.00\" fill=\"#000000\">gini = 0.18</text>\n<text text-anchor=\"middle\" x=\"5333.5\" y=\"-260.8\" font-family=\"Helvetica,sans-Serif\" font-size=\"14.00\" fill=\"#000000\">samples = 10</text>\n<text text-anchor=\"middle\" x=\"5333.5\" y=\"-245.8\" font-family=\"Helvetica,sans-Serif\" font-size=\"14.00\" fill=\"#000000\">value = [9, 1]</text>\n<text text-anchor=\"middle\" x=\"5333.5\" y=\"-230.8\" font-family=\"Helvetica,sans-Serif\" font-size=\"14.00\" fill=\"#000000\">class = 0</text>\n</g>\n<!-- 140&#45;&gt;146 -->\n<g id=\"edge146\" class=\"edge\">\n<title>140&#45;&gt;146</title>\n<path fill=\"none\" stroke=\"#000000\" d=\"M5333.5,-341.8796C5333.5,-333.6838 5333.5,-324.9891 5333.5,-316.5013\"/>\n<polygon fill=\"#000000\" stroke=\"#000000\" points=\"5337.0001,-316.298 5333.5,-306.2981 5330.0001,-316.2981 5337.0001,-316.298\"/>\n</g>\n<!-- 142 -->\n<g id=\"node143\" class=\"node\">\n<title>142</title>\n<polygon fill=\"#f5cdb0\" stroke=\"#000000\" points=\"5078.5,-187 4908.5,-187 4908.5,-104 5078.5,-104 5078.5,-187\"/>\n<text text-anchor=\"middle\" x=\"4993.5\" y=\"-171.8\" font-family=\"Helvetica,sans-Serif\" font-size=\"14.00\" fill=\"#000000\">1인지출비용 &lt;= 45000.0</text>\n<text text-anchor=\"middle\" x=\"4993.5\" y=\"-156.8\" font-family=\"Helvetica,sans-Serif\" font-size=\"14.00\" fill=\"#000000\">gini = 0.469</text>\n<text text-anchor=\"middle\" x=\"4993.5\" y=\"-141.8\" font-family=\"Helvetica,sans-Serif\" font-size=\"14.00\" fill=\"#000000\">samples = 8</text>\n<text text-anchor=\"middle\" x=\"4993.5\" y=\"-126.8\" font-family=\"Helvetica,sans-Serif\" font-size=\"14.00\" fill=\"#000000\">value = [5, 3]</text>\n<text text-anchor=\"middle\" x=\"4993.5\" y=\"-111.8\" font-family=\"Helvetica,sans-Serif\" font-size=\"14.00\" fill=\"#000000\">class = 0</text>\n</g>\n<!-- 141&#45;&gt;142 -->\n<g id=\"edge142\" class=\"edge\">\n<title>141&#45;&gt;142</title>\n<path fill=\"none\" stroke=\"#000000\" d=\"M5092.988,-222.8796C5080.7588,-213.368 5067.6656,-203.1843 5055.1268,-193.432\"/>\n<polygon fill=\"#000000\" stroke=\"#000000\" points=\"5057.0241,-190.4736 5046.9818,-187.0969 5052.7265,-195.9991 5057.0241,-190.4736\"/>\n</g>\n<!-- 145 -->\n<g id=\"node146\" class=\"node\">\n<title>145</title>\n<polygon fill=\"#399de5\" stroke=\"#000000\" points=\"5196,-179.5 5097,-179.5 5097,-111.5 5196,-111.5 5196,-179.5\"/>\n<text text-anchor=\"middle\" x=\"5146.5\" y=\"-164.3\" font-family=\"Helvetica,sans-Serif\" font-size=\"14.00\" fill=\"#000000\">gini = 0.0</text>\n<text text-anchor=\"middle\" x=\"5146.5\" y=\"-149.3\" font-family=\"Helvetica,sans-Serif\" font-size=\"14.00\" fill=\"#000000\">samples = 6</text>\n<text text-anchor=\"middle\" x=\"5146.5\" y=\"-134.3\" font-family=\"Helvetica,sans-Serif\" font-size=\"14.00\" fill=\"#000000\">value = [0, 6]</text>\n<text text-anchor=\"middle\" x=\"5146.5\" y=\"-119.3\" font-family=\"Helvetica,sans-Serif\" font-size=\"14.00\" fill=\"#000000\">class = 1</text>\n</g>\n<!-- 141&#45;&gt;145 -->\n<g id=\"edge145\" class=\"edge\">\n<title>141&#45;&gt;145</title>\n<path fill=\"none\" stroke=\"#000000\" d=\"M5146.5,-222.8796C5146.5,-212.2134 5146.5,-200.7021 5146.5,-189.9015\"/>\n<polygon fill=\"#000000\" stroke=\"#000000\" points=\"5150.0001,-189.8149 5146.5,-179.8149 5143.0001,-189.815 5150.0001,-189.8149\"/>\n</g>\n<!-- 143 -->\n<g id=\"node144\" class=\"node\">\n<title>143</title>\n<polygon fill=\"#e58139\" stroke=\"#000000\" points=\"5043,-68 4944,-68 4944,0 5043,0 5043,-68\"/>\n<text text-anchor=\"middle\" x=\"4993.5\" y=\"-52.8\" font-family=\"Helvetica,sans-Serif\" font-size=\"14.00\" fill=\"#000000\">gini = 0.0</text>\n<text text-anchor=\"middle\" x=\"4993.5\" y=\"-37.8\" font-family=\"Helvetica,sans-Serif\" font-size=\"14.00\" fill=\"#000000\">samples = 4</text>\n<text text-anchor=\"middle\" x=\"4993.5\" y=\"-22.8\" font-family=\"Helvetica,sans-Serif\" font-size=\"14.00\" fill=\"#000000\">value = [4, 0]</text>\n<text text-anchor=\"middle\" x=\"4993.5\" y=\"-7.8\" font-family=\"Helvetica,sans-Serif\" font-size=\"14.00\" fill=\"#000000\">class = 0</text>\n</g>\n<!-- 142&#45;&gt;143 -->\n<g id=\"edge143\" class=\"edge\">\n<title>142&#45;&gt;143</title>\n<path fill=\"none\" stroke=\"#000000\" d=\"M4993.5,-103.9815C4993.5,-95.618 4993.5,-86.7965 4993.5,-78.3409\"/>\n<polygon fill=\"#000000\" stroke=\"#000000\" points=\"4997.0001,-78.2636 4993.5,-68.2637 4990.0001,-78.2637 4997.0001,-78.2636\"/>\n</g>\n<!-- 144 -->\n<g id=\"node145\" class=\"node\">\n<title>144</title>\n<polygon fill=\"#7bbeee\" stroke=\"#000000\" points=\"5160,-68 5061,-68 5061,0 5160,0 5160,-68\"/>\n<text text-anchor=\"middle\" x=\"5110.5\" y=\"-52.8\" font-family=\"Helvetica,sans-Serif\" font-size=\"14.00\" fill=\"#000000\">gini = 0.375</text>\n<text text-anchor=\"middle\" x=\"5110.5\" y=\"-37.8\" font-family=\"Helvetica,sans-Serif\" font-size=\"14.00\" fill=\"#000000\">samples = 4</text>\n<text text-anchor=\"middle\" x=\"5110.5\" y=\"-22.8\" font-family=\"Helvetica,sans-Serif\" font-size=\"14.00\" fill=\"#000000\">value = [1, 3]</text>\n<text text-anchor=\"middle\" x=\"5110.5\" y=\"-7.8\" font-family=\"Helvetica,sans-Serif\" font-size=\"14.00\" fill=\"#000000\">class = 1</text>\n</g>\n<!-- 142&#45;&gt;144 -->\n<g id=\"edge144\" class=\"edge\">\n<title>142&#45;&gt;144</title>\n<path fill=\"none\" stroke=\"#000000\" d=\"M5037.0665,-103.9815C5046.9034,-94.607 5057.344,-84.6572 5067.1711,-75.2921\"/>\n<polygon fill=\"#000000\" stroke=\"#000000\" points=\"5069.7216,-77.6963 5074.5462,-68.2637 5064.8924,-72.6289 5069.7216,-77.6963\"/>\n</g>\n<!-- 147 -->\n<g id=\"node148\" class=\"node\">\n<title>147</title>\n<polygon fill=\"#e58139\" stroke=\"#000000\" points=\"5313,-179.5 5214,-179.5 5214,-111.5 5313,-111.5 5313,-179.5\"/>\n<text text-anchor=\"middle\" x=\"5263.5\" y=\"-164.3\" font-family=\"Helvetica,sans-Serif\" font-size=\"14.00\" fill=\"#000000\">gini = 0.0</text>\n<text text-anchor=\"middle\" x=\"5263.5\" y=\"-149.3\" font-family=\"Helvetica,sans-Serif\" font-size=\"14.00\" fill=\"#000000\">samples = 7</text>\n<text text-anchor=\"middle\" x=\"5263.5\" y=\"-134.3\" font-family=\"Helvetica,sans-Serif\" font-size=\"14.00\" fill=\"#000000\">value = [7, 0]</text>\n<text text-anchor=\"middle\" x=\"5263.5\" y=\"-119.3\" font-family=\"Helvetica,sans-Serif\" font-size=\"14.00\" fill=\"#000000\">class = 0</text>\n</g>\n<!-- 146&#45;&gt;147 -->\n<g id=\"edge147\" class=\"edge\">\n<title>146&#45;&gt;147</title>\n<path fill=\"none\" stroke=\"#000000\" d=\"M5309.0174,-222.8796C5302.4844,-211.7735 5295.4125,-199.7513 5288.8348,-188.5691\"/>\n<polygon fill=\"#000000\" stroke=\"#000000\" points=\"5291.7723,-186.6597 5283.6853,-179.8149 5285.7387,-190.2089 5291.7723,-186.6597\"/>\n</g>\n<!-- 148 -->\n<g id=\"node149\" class=\"node\">\n<title>148</title>\n<polygon fill=\"#f2c09c\" stroke=\"#000000\" points=\"5430,-187 5331,-187 5331,-104 5430,-104 5430,-187\"/>\n<text text-anchor=\"middle\" x=\"5380.5\" y=\"-171.8\" font-family=\"Helvetica,sans-Serif\" font-size=\"14.00\" fill=\"#000000\">성별 &lt;= 1.5</text>\n<text text-anchor=\"middle\" x=\"5380.5\" y=\"-156.8\" font-family=\"Helvetica,sans-Serif\" font-size=\"14.00\" fill=\"#000000\">gini = 0.444</text>\n<text text-anchor=\"middle\" x=\"5380.5\" y=\"-141.8\" font-family=\"Helvetica,sans-Serif\" font-size=\"14.00\" fill=\"#000000\">samples = 3</text>\n<text text-anchor=\"middle\" x=\"5380.5\" y=\"-126.8\" font-family=\"Helvetica,sans-Serif\" font-size=\"14.00\" fill=\"#000000\">value = [2, 1]</text>\n<text text-anchor=\"middle\" x=\"5380.5\" y=\"-111.8\" font-family=\"Helvetica,sans-Serif\" font-size=\"14.00\" fill=\"#000000\">class = 0</text>\n</g>\n<!-- 146&#45;&gt;148 -->\n<g id=\"edge148\" class=\"edge\">\n<title>146&#45;&gt;148</title>\n<path fill=\"none\" stroke=\"#000000\" d=\"M5349.9383,-222.8796C5353.282,-214.4136 5356.836,-205.4153 5360.2929,-196.6626\"/>\n<polygon fill=\"#000000\" stroke=\"#000000\" points=\"5363.5733,-197.8847 5363.9915,-187.2981 5357.0627,-195.3132 5363.5733,-197.8847\"/>\n</g>\n<!-- 149 -->\n<g id=\"node150\" class=\"node\">\n<title>149</title>\n<polygon fill=\"#e58139\" stroke=\"#000000\" points=\"5295,-68 5196,-68 5196,0 5295,0 5295,-68\"/>\n<text text-anchor=\"middle\" x=\"5245.5\" y=\"-52.8\" font-family=\"Helvetica,sans-Serif\" font-size=\"14.00\" fill=\"#000000\">gini = 0.0</text>\n<text text-anchor=\"middle\" x=\"5245.5\" y=\"-37.8\" font-family=\"Helvetica,sans-Serif\" font-size=\"14.00\" fill=\"#000000\">samples = 2</text>\n<text text-anchor=\"middle\" x=\"5245.5\" y=\"-22.8\" font-family=\"Helvetica,sans-Serif\" font-size=\"14.00\" fill=\"#000000\">value = [2, 0]</text>\n<text text-anchor=\"middle\" x=\"5245.5\" y=\"-7.8\" font-family=\"Helvetica,sans-Serif\" font-size=\"14.00\" fill=\"#000000\">class = 0</text>\n</g>\n<!-- 148&#45;&gt;149 -->\n<g id=\"edge149\" class=\"edge\">\n<title>148&#45;&gt;149</title>\n<path fill=\"none\" stroke=\"#000000\" d=\"M5330.9976,-104.6146C5319.2583,-94.9189 5306.7355,-84.576 5294.9965,-74.8804\"/>\n<polygon fill=\"#000000\" stroke=\"#000000\" points=\"5296.953,-71.957 5287.0139,-68.2874 5292.4953,-77.3541 5296.953,-71.957\"/>\n</g>\n<!-- 150 -->\n<g id=\"node151\" class=\"node\">\n<title>150</title>\n<polygon fill=\"#399de5\" stroke=\"#000000\" points=\"5412,-68 5313,-68 5313,0 5412,0 5412,-68\"/>\n<text text-anchor=\"middle\" x=\"5362.5\" y=\"-52.8\" font-family=\"Helvetica,sans-Serif\" font-size=\"14.00\" fill=\"#000000\">gini = 0.0</text>\n<text text-anchor=\"middle\" x=\"5362.5\" y=\"-37.8\" font-family=\"Helvetica,sans-Serif\" font-size=\"14.00\" fill=\"#000000\">samples = 1</text>\n<text text-anchor=\"middle\" x=\"5362.5\" y=\"-22.8\" font-family=\"Helvetica,sans-Serif\" font-size=\"14.00\" fill=\"#000000\">value = [0, 1]</text>\n<text text-anchor=\"middle\" x=\"5362.5\" y=\"-7.8\" font-family=\"Helvetica,sans-Serif\" font-size=\"14.00\" fill=\"#000000\">class = 1</text>\n</g>\n<!-- 148&#45;&gt;150 -->\n<g id=\"edge150\" class=\"edge\">\n<title>148&#45;&gt;150</title>\n<path fill=\"none\" stroke=\"#000000\" d=\"M5373.7975,-103.9815C5372.4473,-95.618 5371.0232,-86.7965 5369.6582,-78.3409\"/>\n<polygon fill=\"#000000\" stroke=\"#000000\" points=\"5373.0804,-77.578 5368.0314,-68.2637 5366.1699,-78.6937 5373.0804,-77.578\"/>\n</g>\n<!-- 152 -->\n<g id=\"node153\" class=\"node\">\n<title>152</title>\n<polygon fill=\"#efb184\" stroke=\"#000000\" points=\"5720.5,-306 5604.5,-306 5604.5,-223 5720.5,-223 5720.5,-306\"/>\n<text text-anchor=\"middle\" x=\"5662.5\" y=\"-290.8\" font-family=\"Helvetica,sans-Serif\" font-size=\"14.00\" fill=\"#000000\">연령 &lt;= 5.5</text>\n<text text-anchor=\"middle\" x=\"5662.5\" y=\"-275.8\" font-family=\"Helvetica,sans-Serif\" font-size=\"14.00\" fill=\"#000000\">gini = 0.398</text>\n<text text-anchor=\"middle\" x=\"5662.5\" y=\"-260.8\" font-family=\"Helvetica,sans-Serif\" font-size=\"14.00\" fill=\"#000000\">samples = 84</text>\n<text text-anchor=\"middle\" x=\"5662.5\" y=\"-245.8\" font-family=\"Helvetica,sans-Serif\" font-size=\"14.00\" fill=\"#000000\">value = [61, 23]</text>\n<text text-anchor=\"middle\" x=\"5662.5\" y=\"-230.8\" font-family=\"Helvetica,sans-Serif\" font-size=\"14.00\" fill=\"#000000\">class = 0</text>\n</g>\n<!-- 151&#45;&gt;152 -->\n<g id=\"edge152\" class=\"edge\">\n<title>151&#45;&gt;152</title>\n<path fill=\"none\" stroke=\"#000000\" d=\"M5662.5,-341.8796C5662.5,-333.6838 5662.5,-324.9891 5662.5,-316.5013\"/>\n<polygon fill=\"#000000\" stroke=\"#000000\" points=\"5666.0001,-316.298 5662.5,-306.2981 5659.0001,-316.2981 5666.0001,-316.298\"/>\n</g>\n<!-- 159 -->\n<g id=\"node160\" class=\"node\">\n<title>159</title>\n<polygon fill=\"#ea975c\" stroke=\"#000000\" points=\"6060.5,-306 5936.5,-306 5936.5,-223 6060.5,-223 6060.5,-306\"/>\n<text text-anchor=\"middle\" x=\"5998.5\" y=\"-290.8\" font-family=\"Helvetica,sans-Serif\" font-size=\"14.00\" fill=\"#000000\">숙박시설 &lt;= 1.5</text>\n<text text-anchor=\"middle\" x=\"5998.5\" y=\"-275.8\" font-family=\"Helvetica,sans-Serif\" font-size=\"14.00\" fill=\"#000000\">gini = 0.253</text>\n<text text-anchor=\"middle\" x=\"5998.5\" y=\"-260.8\" font-family=\"Helvetica,sans-Serif\" font-size=\"14.00\" fill=\"#000000\">samples = 128</text>\n<text text-anchor=\"middle\" x=\"5998.5\" y=\"-245.8\" font-family=\"Helvetica,sans-Serif\" font-size=\"14.00\" fill=\"#000000\">value = [109, 19]</text>\n<text text-anchor=\"middle\" x=\"5998.5\" y=\"-230.8\" font-family=\"Helvetica,sans-Serif\" font-size=\"14.00\" fill=\"#000000\">class = 0</text>\n</g>\n<!-- 151&#45;&gt;159 -->\n<g id=\"edge159\" class=\"edge\">\n<title>151&#45;&gt;159</title>\n<path fill=\"none\" stroke=\"#000000\" d=\"M5724.5191,-361.5349C5781.7561,-341.2635 5866.7331,-311.1674 5926.8475,-289.8769\"/>\n<polygon fill=\"#000000\" stroke=\"#000000\" points=\"5928.0162,-293.1761 5936.274,-286.5384 5925.6793,-286.5777 5928.0162,-293.1761\"/>\n</g>\n<!-- 153 -->\n<g id=\"node154\" class=\"node\">\n<title>153</title>\n<polygon fill=\"#eca571\" stroke=\"#000000\" points=\"5645.5,-187 5529.5,-187 5529.5,-104 5645.5,-104 5645.5,-187\"/>\n<text text-anchor=\"middle\" x=\"5587.5\" y=\"-171.8\" font-family=\"Helvetica,sans-Serif\" font-size=\"14.00\" fill=\"#000000\">지역코드 &lt;= 1.5</text>\n<text text-anchor=\"middle\" x=\"5587.5\" y=\"-156.8\" font-family=\"Helvetica,sans-Serif\" font-size=\"14.00\" fill=\"#000000\">gini = 0.344</text>\n<text text-anchor=\"middle\" x=\"5587.5\" y=\"-141.8\" font-family=\"Helvetica,sans-Serif\" font-size=\"14.00\" fill=\"#000000\">samples = 77</text>\n<text text-anchor=\"middle\" x=\"5587.5\" y=\"-126.8\" font-family=\"Helvetica,sans-Serif\" font-size=\"14.00\" fill=\"#000000\">value = [60, 17]</text>\n<text text-anchor=\"middle\" x=\"5587.5\" y=\"-111.8\" font-family=\"Helvetica,sans-Serif\" font-size=\"14.00\" fill=\"#000000\">class = 0</text>\n</g>\n<!-- 152&#45;&gt;153 -->\n<g id=\"edge153\" class=\"edge\">\n<title>152&#45;&gt;153</title>\n<path fill=\"none\" stroke=\"#000000\" d=\"M5636.2686,-222.8796C5630.7627,-214.1434 5624.8994,-204.8404 5619.2176,-195.8253\"/>\n<polygon fill=\"#000000\" stroke=\"#000000\" points=\"5622.1363,-193.8919 5613.8433,-187.2981 5616.2143,-197.6242 5622.1363,-193.8919\"/>\n</g>\n<!-- 156 -->\n<g id=\"node157\" class=\"node\">\n<title>156</title>\n<polygon fill=\"#5aade9\" stroke=\"#000000\" points=\"5833,-187 5664,-187 5664,-104 5833,-104 5833,-187\"/>\n<text text-anchor=\"middle\" x=\"5748.5\" y=\"-171.8\" font-family=\"Helvetica,sans-Serif\" font-size=\"14.00\" fill=\"#000000\">주요이동교통수단 &lt;= 3.5</text>\n<text text-anchor=\"middle\" x=\"5748.5\" y=\"-156.8\" font-family=\"Helvetica,sans-Serif\" font-size=\"14.00\" fill=\"#000000\">gini = 0.245</text>\n<text text-anchor=\"middle\" x=\"5748.5\" y=\"-141.8\" font-family=\"Helvetica,sans-Serif\" font-size=\"14.00\" fill=\"#000000\">samples = 7</text>\n<text text-anchor=\"middle\" x=\"5748.5\" y=\"-126.8\" font-family=\"Helvetica,sans-Serif\" font-size=\"14.00\" fill=\"#000000\">value = [1, 6]</text>\n<text text-anchor=\"middle\" x=\"5748.5\" y=\"-111.8\" font-family=\"Helvetica,sans-Serif\" font-size=\"14.00\" fill=\"#000000\">class = 1</text>\n</g>\n<!-- 152&#45;&gt;156 -->\n<g id=\"edge156\" class=\"edge\">\n<title>152&#45;&gt;156</title>\n<path fill=\"none\" stroke=\"#000000\" d=\"M5692.5786,-222.8796C5698.9572,-214.0534 5705.754,-204.6485 5712.3319,-195.5466\"/>\n<polygon fill=\"#000000\" stroke=\"#000000\" points=\"5715.2723,-197.4532 5718.293,-187.2981 5709.5988,-193.353 5715.2723,-197.4532\"/>\n</g>\n<!-- 154 -->\n<g id=\"node155\" class=\"node\">\n<title>154</title>\n<polygon fill=\"#fae6d7\" stroke=\"#000000\" points=\"5529,-68 5430,-68 5430,0 5529,0 5529,-68\"/>\n<text text-anchor=\"middle\" x=\"5479.5\" y=\"-52.8\" font-family=\"Helvetica,sans-Serif\" font-size=\"14.00\" fill=\"#000000\">gini = 0.494</text>\n<text text-anchor=\"middle\" x=\"5479.5\" y=\"-37.8\" font-family=\"Helvetica,sans-Serif\" font-size=\"14.00\" fill=\"#000000\">samples = 9</text>\n<text text-anchor=\"middle\" x=\"5479.5\" y=\"-22.8\" font-family=\"Helvetica,sans-Serif\" font-size=\"14.00\" fill=\"#000000\">value = [5, 4]</text>\n<text text-anchor=\"middle\" x=\"5479.5\" y=\"-7.8\" font-family=\"Helvetica,sans-Serif\" font-size=\"14.00\" fill=\"#000000\">class = 0</text>\n</g>\n<!-- 153&#45;&gt;154 -->\n<g id=\"edge154\" class=\"edge\">\n<title>153&#45;&gt;154</title>\n<path fill=\"none\" stroke=\"#000000\" d=\"M5547.2848,-103.9815C5538.2936,-94.6989 5528.756,-84.8522 5519.7629,-75.5677\"/>\n<polygon fill=\"#000000\" stroke=\"#000000\" points=\"5522.1596,-73.0115 5512.6881,-68.2637 5517.1316,-77.8817 5522.1596,-73.0115\"/>\n</g>\n<!-- 155 -->\n<g id=\"node156\" class=\"node\">\n<title>155</title>\n<polygon fill=\"#eb9f68\" stroke=\"#000000\" points=\"5663.5,-68 5547.5,-68 5547.5,0 5663.5,0 5663.5,-68\"/>\n<text text-anchor=\"middle\" x=\"5605.5\" y=\"-52.8\" font-family=\"Helvetica,sans-Serif\" font-size=\"14.00\" fill=\"#000000\">gini = 0.309</text>\n<text text-anchor=\"middle\" x=\"5605.5\" y=\"-37.8\" font-family=\"Helvetica,sans-Serif\" font-size=\"14.00\" fill=\"#000000\">samples = 68</text>\n<text text-anchor=\"middle\" x=\"5605.5\" y=\"-22.8\" font-family=\"Helvetica,sans-Serif\" font-size=\"14.00\" fill=\"#000000\">value = [55, 13]</text>\n<text text-anchor=\"middle\" x=\"5605.5\" y=\"-7.8\" font-family=\"Helvetica,sans-Serif\" font-size=\"14.00\" fill=\"#000000\">class = 0</text>\n</g>\n<!-- 153&#45;&gt;155 -->\n<g id=\"edge155\" class=\"edge\">\n<title>153&#45;&gt;155</title>\n<path fill=\"none\" stroke=\"#000000\" d=\"M5594.2025,-103.9815C5595.5527,-95.618 5596.9768,-86.7965 5598.3418,-78.3409\"/>\n<polygon fill=\"#000000\" stroke=\"#000000\" points=\"5601.8301,-78.6937 5599.9686,-68.2637 5594.9196,-77.578 5601.8301,-78.6937\"/>\n</g>\n<!-- 157 -->\n<g id=\"node158\" class=\"node\">\n<title>157</title>\n<polygon fill=\"#399de5\" stroke=\"#000000\" points=\"5781,-68 5682,-68 5682,0 5781,0 5781,-68\"/>\n<text text-anchor=\"middle\" x=\"5731.5\" y=\"-52.8\" font-family=\"Helvetica,sans-Serif\" font-size=\"14.00\" fill=\"#000000\">gini = 0.0</text>\n<text text-anchor=\"middle\" x=\"5731.5\" y=\"-37.8\" font-family=\"Helvetica,sans-Serif\" font-size=\"14.00\" fill=\"#000000\">samples = 6</text>\n<text text-anchor=\"middle\" x=\"5731.5\" y=\"-22.8\" font-family=\"Helvetica,sans-Serif\" font-size=\"14.00\" fill=\"#000000\">value = [0, 6]</text>\n<text text-anchor=\"middle\" x=\"5731.5\" y=\"-7.8\" font-family=\"Helvetica,sans-Serif\" font-size=\"14.00\" fill=\"#000000\">class = 1</text>\n</g>\n<!-- 156&#45;&gt;157 -->\n<g id=\"edge157\" class=\"edge\">\n<title>156&#45;&gt;157</title>\n<path fill=\"none\" stroke=\"#000000\" d=\"M5742.1698,-103.9815C5740.8947,-95.618 5739.5497,-86.7965 5738.2605,-78.3409\"/>\n<polygon fill=\"#000000\" stroke=\"#000000\" points=\"5741.6914,-77.6219 5736.7241,-68.2637 5734.7714,-78.677 5741.6914,-77.6219\"/>\n</g>\n<!-- 158 -->\n<g id=\"node159\" class=\"node\">\n<title>158</title>\n<polygon fill=\"#e58139\" stroke=\"#000000\" points=\"5898,-68 5799,-68 5799,0 5898,0 5898,-68\"/>\n<text text-anchor=\"middle\" x=\"5848.5\" y=\"-52.8\" font-family=\"Helvetica,sans-Serif\" font-size=\"14.00\" fill=\"#000000\">gini = 0.0</text>\n<text text-anchor=\"middle\" x=\"5848.5\" y=\"-37.8\" font-family=\"Helvetica,sans-Serif\" font-size=\"14.00\" fill=\"#000000\">samples = 1</text>\n<text text-anchor=\"middle\" x=\"5848.5\" y=\"-22.8\" font-family=\"Helvetica,sans-Serif\" font-size=\"14.00\" fill=\"#000000\">value = [1, 0]</text>\n<text text-anchor=\"middle\" x=\"5848.5\" y=\"-7.8\" font-family=\"Helvetica,sans-Serif\" font-size=\"14.00\" fill=\"#000000\">class = 0</text>\n</g>\n<!-- 156&#45;&gt;158 -->\n<g id=\"edge158\" class=\"edge\">\n<title>156&#45;&gt;158</title>\n<path fill=\"none\" stroke=\"#000000\" d=\"M5785.7363,-103.9815C5793.9791,-94.7908 5802.7178,-85.0472 5810.9721,-75.8436\"/>\n<polygon fill=\"#000000\" stroke=\"#000000\" points=\"5813.6991,-78.0451 5817.7702,-68.2637 5808.4879,-73.3714 5813.6991,-78.0451\"/>\n</g>\n<!-- 160 -->\n<g id=\"node161\" class=\"node\">\n<title>160</title>\n<polygon fill=\"#e89153\" stroke=\"#000000\" points=\"6056.5,-187 5940.5,-187 5940.5,-104 6056.5,-104 6056.5,-187\"/>\n<text text-anchor=\"middle\" x=\"5998.5\" y=\"-171.8\" font-family=\"Helvetica,sans-Serif\" font-size=\"14.00\" fill=\"#000000\">월 &lt;= 6.5</text>\n<text text-anchor=\"middle\" x=\"5998.5\" y=\"-156.8\" font-family=\"Helvetica,sans-Serif\" font-size=\"14.00\" fill=\"#000000\">gini = 0.202</text>\n<text text-anchor=\"middle\" x=\"5998.5\" y=\"-141.8\" font-family=\"Helvetica,sans-Serif\" font-size=\"14.00\" fill=\"#000000\">samples = 105</text>\n<text text-anchor=\"middle\" x=\"5998.5\" y=\"-126.8\" font-family=\"Helvetica,sans-Serif\" font-size=\"14.00\" fill=\"#000000\">value = [93, 12]</text>\n<text text-anchor=\"middle\" x=\"5998.5\" y=\"-111.8\" font-family=\"Helvetica,sans-Serif\" font-size=\"14.00\" fill=\"#000000\">class = 0</text>\n</g>\n<!-- 159&#45;&gt;160 -->\n<g id=\"edge160\" class=\"edge\">\n<title>159&#45;&gt;160</title>\n<path fill=\"none\" stroke=\"#000000\" d=\"M5998.5,-222.8796C5998.5,-214.6838 5998.5,-205.9891 5998.5,-197.5013\"/>\n<polygon fill=\"#000000\" stroke=\"#000000\" points=\"6002.0001,-197.298 5998.5,-187.2981 5995.0001,-197.2981 6002.0001,-197.298\"/>\n</g>\n<!-- 163 -->\n<g id=\"node164\" class=\"node\">\n<title>163</title>\n<polygon fill=\"#f0b890\" stroke=\"#000000\" points=\"6248,-187 6133,-187 6133,-104 6248,-104 6248,-187\"/>\n<text text-anchor=\"middle\" x=\"6190.5\" y=\"-171.8\" font-family=\"Helvetica,sans-Serif\" font-size=\"14.00\" fill=\"#000000\">개인소득 &lt;= 5.5</text>\n<text text-anchor=\"middle\" x=\"6190.5\" y=\"-156.8\" font-family=\"Helvetica,sans-Serif\" font-size=\"14.00\" fill=\"#000000\">gini = 0.423</text>\n<text text-anchor=\"middle\" x=\"6190.5\" y=\"-141.8\" font-family=\"Helvetica,sans-Serif\" font-size=\"14.00\" fill=\"#000000\">samples = 23</text>\n<text text-anchor=\"middle\" x=\"6190.5\" y=\"-126.8\" font-family=\"Helvetica,sans-Serif\" font-size=\"14.00\" fill=\"#000000\">value = [16, 7]</text>\n<text text-anchor=\"middle\" x=\"6190.5\" y=\"-111.8\" font-family=\"Helvetica,sans-Serif\" font-size=\"14.00\" fill=\"#000000\">class = 0</text>\n</g>\n<!-- 159&#45;&gt;163 -->\n<g id=\"edge163\" class=\"edge\">\n<title>159&#45;&gt;163</title>\n<path fill=\"none\" stroke=\"#000000\" d=\"M6060.5717,-226.0284C6080.8954,-213.432 6103.5474,-199.3925 6124.1727,-186.6091\"/>\n<polygon fill=\"#000000\" stroke=\"#000000\" points=\"6126.2194,-189.4584 6132.8754,-181.2153 6122.5317,-183.5085 6126.2194,-189.4584\"/>\n</g>\n<!-- 161 -->\n<g id=\"node162\" class=\"node\">\n<title>161</title>\n<polygon fill=\"#e78a46\" stroke=\"#000000\" points=\"6023,-68 5916,-68 5916,0 6023,0 6023,-68\"/>\n<text text-anchor=\"middle\" x=\"5969.5\" y=\"-52.8\" font-family=\"Helvetica,sans-Serif\" font-size=\"14.00\" fill=\"#000000\">gini = 0.119</text>\n<text text-anchor=\"middle\" x=\"5969.5\" y=\"-37.8\" font-family=\"Helvetica,sans-Serif\" font-size=\"14.00\" fill=\"#000000\">samples = 63</text>\n<text text-anchor=\"middle\" x=\"5969.5\" y=\"-22.8\" font-family=\"Helvetica,sans-Serif\" font-size=\"14.00\" fill=\"#000000\">value = [59, 4]</text>\n<text text-anchor=\"middle\" x=\"5969.5\" y=\"-7.8\" font-family=\"Helvetica,sans-Serif\" font-size=\"14.00\" fill=\"#000000\">class = 0</text>\n</g>\n<!-- 160&#45;&gt;161 -->\n<g id=\"edge161\" class=\"edge\">\n<title>160&#45;&gt;161</title>\n<path fill=\"none\" stroke=\"#000000\" d=\"M5987.7015,-103.9815C5985.5023,-95.5261 5983.1814,-86.6026 5980.9601,-78.0623\"/>\n<polygon fill=\"#000000\" stroke=\"#000000\" points=\"5984.3162,-77.0607 5978.4116,-68.2637 5977.5415,-78.8227 5984.3162,-77.0607\"/>\n</g>\n<!-- 162 -->\n<g id=\"node163\" class=\"node\">\n<title>162</title>\n<polygon fill=\"#eb9f68\" stroke=\"#000000\" points=\"6148,-68 6041,-68 6041,0 6148,0 6148,-68\"/>\n<text text-anchor=\"middle\" x=\"6094.5\" y=\"-52.8\" font-family=\"Helvetica,sans-Serif\" font-size=\"14.00\" fill=\"#000000\">gini = 0.308</text>\n<text text-anchor=\"middle\" x=\"6094.5\" y=\"-37.8\" font-family=\"Helvetica,sans-Serif\" font-size=\"14.00\" fill=\"#000000\">samples = 42</text>\n<text text-anchor=\"middle\" x=\"6094.5\" y=\"-22.8\" font-family=\"Helvetica,sans-Serif\" font-size=\"14.00\" fill=\"#000000\">value = [34, 8]</text>\n<text text-anchor=\"middle\" x=\"6094.5\" y=\"-7.8\" font-family=\"Helvetica,sans-Serif\" font-size=\"14.00\" fill=\"#000000\">class = 0</text>\n</g>\n<!-- 160&#45;&gt;162 -->\n<g id=\"edge162\" class=\"edge\">\n<title>160&#45;&gt;162</title>\n<path fill=\"none\" stroke=\"#000000\" d=\"M6034.2469,-103.9815C6042.1599,-94.7908 6050.5491,-85.0472 6058.4732,-75.8436\"/>\n<polygon fill=\"#000000\" stroke=\"#000000\" points=\"6061.1271,-78.1255 6064.9994,-68.2637 6055.8224,-73.5582 6061.1271,-78.1255\"/>\n</g>\n<!-- 164 -->\n<g id=\"node165\" class=\"node\">\n<title>164</title>\n<polygon fill=\"#eca36e\" stroke=\"#000000\" points=\"6273,-68 6166,-68 6166,0 6273,0 6273,-68\"/>\n<text text-anchor=\"middle\" x=\"6219.5\" y=\"-52.8\" font-family=\"Helvetica,sans-Serif\" font-size=\"14.00\" fill=\"#000000\">gini = 0.332</text>\n<text text-anchor=\"middle\" x=\"6219.5\" y=\"-37.8\" font-family=\"Helvetica,sans-Serif\" font-size=\"14.00\" fill=\"#000000\">samples = 19</text>\n<text text-anchor=\"middle\" x=\"6219.5\" y=\"-22.8\" font-family=\"Helvetica,sans-Serif\" font-size=\"14.00\" fill=\"#000000\">value = [15, 4]</text>\n<text text-anchor=\"middle\" x=\"6219.5\" y=\"-7.8\" font-family=\"Helvetica,sans-Serif\" font-size=\"14.00\" fill=\"#000000\">class = 0</text>\n</g>\n<!-- 163&#45;&gt;164 -->\n<g id=\"edge164\" class=\"edge\">\n<title>163&#45;&gt;164</title>\n<path fill=\"none\" stroke=\"#000000\" d=\"M6201.2985,-103.9815C6203.4977,-95.5261 6205.8186,-86.6026 6208.0399,-78.0623\"/>\n<polygon fill=\"#000000\" stroke=\"#000000\" points=\"6211.4585,-78.8227 6210.5884,-68.2637 6204.6838,-77.0607 6211.4585,-78.8227\"/>\n</g>\n<!-- 165 -->\n<g id=\"node166\" class=\"node\">\n<title>165</title>\n<polygon fill=\"#7bbeee\" stroke=\"#000000\" points=\"6390,-68 6291,-68 6291,0 6390,0 6390,-68\"/>\n<text text-anchor=\"middle\" x=\"6340.5\" y=\"-52.8\" font-family=\"Helvetica,sans-Serif\" font-size=\"14.00\" fill=\"#000000\">gini = 0.375</text>\n<text text-anchor=\"middle\" x=\"6340.5\" y=\"-37.8\" font-family=\"Helvetica,sans-Serif\" font-size=\"14.00\" fill=\"#000000\">samples = 4</text>\n<text text-anchor=\"middle\" x=\"6340.5\" y=\"-22.8\" font-family=\"Helvetica,sans-Serif\" font-size=\"14.00\" fill=\"#000000\">value = [1, 3]</text>\n<text text-anchor=\"middle\" x=\"6340.5\" y=\"-7.8\" font-family=\"Helvetica,sans-Serif\" font-size=\"14.00\" fill=\"#000000\">class = 1</text>\n</g>\n<!-- 163&#45;&gt;165 -->\n<g id=\"edge165\" class=\"edge\">\n<title>163&#45;&gt;165</title>\n<path fill=\"none\" stroke=\"#000000\" d=\"M6246.3545,-103.9815C6259.3368,-94.3313 6273.1394,-84.0714 6286.0597,-74.4673\"/>\n<polygon fill=\"#000000\" stroke=\"#000000\" points=\"6288.4678,-77.0384 6294.4054,-68.2637 6284.2917,-71.4204 6288.4678,-77.0384\"/>\n</g>\n<!-- 167 -->\n<g id=\"node168\" class=\"node\">\n<title>167</title>\n<polygon fill=\"#399de5\" stroke=\"#000000\" points=\"5992,-417.5 5893,-417.5 5893,-349.5 5992,-349.5 5992,-417.5\"/>\n<text text-anchor=\"middle\" x=\"5942.5\" y=\"-402.3\" font-family=\"Helvetica,sans-Serif\" font-size=\"14.00\" fill=\"#000000\">gini = 0.0</text>\n<text text-anchor=\"middle\" x=\"5942.5\" y=\"-387.3\" font-family=\"Helvetica,sans-Serif\" font-size=\"14.00\" fill=\"#000000\">samples = 5</text>\n<text text-anchor=\"middle\" x=\"5942.5\" y=\"-372.3\" font-family=\"Helvetica,sans-Serif\" font-size=\"14.00\" fill=\"#000000\">value = [0, 5]</text>\n<text text-anchor=\"middle\" x=\"5942.5\" y=\"-357.3\" font-family=\"Helvetica,sans-Serif\" font-size=\"14.00\" fill=\"#000000\">class = 1</text>\n</g>\n<!-- 166&#45;&gt;167 -->\n<g id=\"edge167\" class=\"edge\">\n<title>166&#45;&gt;167</title>\n<path fill=\"none\" stroke=\"#000000\" d=\"M5942.5,-460.8796C5942.5,-450.2134 5942.5,-438.7021 5942.5,-427.9015\"/>\n<polygon fill=\"#000000\" stroke=\"#000000\" points=\"5946.0001,-427.8149 5942.5,-417.8149 5939.0001,-427.815 5946.0001,-427.8149\"/>\n</g>\n<!-- 168 -->\n<g id=\"node169\" class=\"node\">\n<title>168</title>\n<polygon fill=\"#efb388\" stroke=\"#000000\" points=\"6221,-425 6098,-425 6098,-342 6221,-342 6221,-425\"/>\n<text text-anchor=\"middle\" x=\"6159.5\" y=\"-409.8\" font-family=\"Helvetica,sans-Serif\" font-size=\"14.00\" fill=\"#000000\">지역코드 &lt;= 13.5</text>\n<text text-anchor=\"middle\" x=\"6159.5\" y=\"-394.8\" font-family=\"Helvetica,sans-Serif\" font-size=\"14.00\" fill=\"#000000\">gini = 0.408</text>\n<text text-anchor=\"middle\" x=\"6159.5\" y=\"-379.8\" font-family=\"Helvetica,sans-Serif\" font-size=\"14.00\" fill=\"#000000\">samples = 7</text>\n<text text-anchor=\"middle\" x=\"6159.5\" y=\"-364.8\" font-family=\"Helvetica,sans-Serif\" font-size=\"14.00\" fill=\"#000000\">value = [5, 2]</text>\n<text text-anchor=\"middle\" x=\"6159.5\" y=\"-349.8\" font-family=\"Helvetica,sans-Serif\" font-size=\"14.00\" fill=\"#000000\">class = 0</text>\n</g>\n<!-- 166&#45;&gt;168 -->\n<g id=\"edge168\" class=\"edge\">\n<title>166&#45;&gt;168</title>\n<path fill=\"none\" stroke=\"#000000\" d=\"M5994.7531,-473.8451C6022.9464,-458.3843 6058.1431,-439.0828 6088.7578,-422.2941\"/>\n<polygon fill=\"#000000\" stroke=\"#000000\" points=\"6090.5937,-425.2791 6097.6789,-417.4019 6087.2278,-419.1414 6090.5937,-425.2791\"/>\n</g>\n<!-- 169 -->\n<g id=\"node170\" class=\"node\">\n<title>169</title>\n<polygon fill=\"#e58139\" stroke=\"#000000\" points=\"6209,-298.5 6110,-298.5 6110,-230.5 6209,-230.5 6209,-298.5\"/>\n<text text-anchor=\"middle\" x=\"6159.5\" y=\"-283.3\" font-family=\"Helvetica,sans-Serif\" font-size=\"14.00\" fill=\"#000000\">gini = 0.0</text>\n<text text-anchor=\"middle\" x=\"6159.5\" y=\"-268.3\" font-family=\"Helvetica,sans-Serif\" font-size=\"14.00\" fill=\"#000000\">samples = 4</text>\n<text text-anchor=\"middle\" x=\"6159.5\" y=\"-253.3\" font-family=\"Helvetica,sans-Serif\" font-size=\"14.00\" fill=\"#000000\">value = [4, 0]</text>\n<text text-anchor=\"middle\" x=\"6159.5\" y=\"-238.3\" font-family=\"Helvetica,sans-Serif\" font-size=\"14.00\" fill=\"#000000\">class = 0</text>\n</g>\n<!-- 168&#45;&gt;169 -->\n<g id=\"edge169\" class=\"edge\">\n<title>168&#45;&gt;169</title>\n<path fill=\"none\" stroke=\"#000000\" d=\"M6159.5,-341.8796C6159.5,-331.2134 6159.5,-319.7021 6159.5,-308.9015\"/>\n<polygon fill=\"#000000\" stroke=\"#000000\" points=\"6163.0001,-308.8149 6159.5,-298.8149 6156.0001,-308.815 6163.0001,-308.8149\"/>\n</g>\n<!-- 170 -->\n<g id=\"node171\" class=\"node\">\n<title>170</title>\n<polygon fill=\"#9ccef2\" stroke=\"#000000\" points=\"6373,-306 6258,-306 6258,-223 6373,-223 6373,-306\"/>\n<text text-anchor=\"middle\" x=\"6315.5\" y=\"-290.8\" font-family=\"Helvetica,sans-Serif\" font-size=\"14.00\" fill=\"#000000\">직장지위 &lt;= 1.5</text>\n<text text-anchor=\"middle\" x=\"6315.5\" y=\"-275.8\" font-family=\"Helvetica,sans-Serif\" font-size=\"14.00\" fill=\"#000000\">gini = 0.444</text>\n<text text-anchor=\"middle\" x=\"6315.5\" y=\"-260.8\" font-family=\"Helvetica,sans-Serif\" font-size=\"14.00\" fill=\"#000000\">samples = 3</text>\n<text text-anchor=\"middle\" x=\"6315.5\" y=\"-245.8\" font-family=\"Helvetica,sans-Serif\" font-size=\"14.00\" fill=\"#000000\">value = [1, 2]</text>\n<text text-anchor=\"middle\" x=\"6315.5\" y=\"-230.8\" font-family=\"Helvetica,sans-Serif\" font-size=\"14.00\" fill=\"#000000\">class = 1</text>\n</g>\n<!-- 168&#45;&gt;170 -->\n<g id=\"edge170\" class=\"edge\">\n<title>168&#45;&gt;170</title>\n<path fill=\"none\" stroke=\"#000000\" d=\"M6214.0612,-341.8796C6226.5302,-332.368 6239.8802,-322.1843 6252.6648,-312.432\"/>\n<polygon fill=\"#000000\" stroke=\"#000000\" points=\"6255.1415,-314.9448 6260.9696,-306.0969 6250.896,-309.3792 6255.1415,-314.9448\"/>\n</g>\n<!-- 171 -->\n<g id=\"node172\" class=\"node\">\n<title>171</title>\n<polygon fill=\"#e58139\" stroke=\"#000000\" points=\"6365,-179.5 6266,-179.5 6266,-111.5 6365,-111.5 6365,-179.5\"/>\n<text text-anchor=\"middle\" x=\"6315.5\" y=\"-164.3\" font-family=\"Helvetica,sans-Serif\" font-size=\"14.00\" fill=\"#000000\">gini = 0.0</text>\n<text text-anchor=\"middle\" x=\"6315.5\" y=\"-149.3\" font-family=\"Helvetica,sans-Serif\" font-size=\"14.00\" fill=\"#000000\">samples = 1</text>\n<text text-anchor=\"middle\" x=\"6315.5\" y=\"-134.3\" font-family=\"Helvetica,sans-Serif\" font-size=\"14.00\" fill=\"#000000\">value = [1, 0]</text>\n<text text-anchor=\"middle\" x=\"6315.5\" y=\"-119.3\" font-family=\"Helvetica,sans-Serif\" font-size=\"14.00\" fill=\"#000000\">class = 0</text>\n</g>\n<!-- 170&#45;&gt;171 -->\n<g id=\"edge171\" class=\"edge\">\n<title>170&#45;&gt;171</title>\n<path fill=\"none\" stroke=\"#000000\" d=\"M6315.5,-222.8796C6315.5,-212.2134 6315.5,-200.7021 6315.5,-189.9015\"/>\n<polygon fill=\"#000000\" stroke=\"#000000\" points=\"6319.0001,-189.8149 6315.5,-179.8149 6312.0001,-189.815 6319.0001,-189.8149\"/>\n</g>\n<!-- 172 -->\n<g id=\"node173\" class=\"node\">\n<title>172</title>\n<polygon fill=\"#399de5\" stroke=\"#000000\" points=\"6482,-179.5 6383,-179.5 6383,-111.5 6482,-111.5 6482,-179.5\"/>\n<text text-anchor=\"middle\" x=\"6432.5\" y=\"-164.3\" font-family=\"Helvetica,sans-Serif\" font-size=\"14.00\" fill=\"#000000\">gini = 0.0</text>\n<text text-anchor=\"middle\" x=\"6432.5\" y=\"-149.3\" font-family=\"Helvetica,sans-Serif\" font-size=\"14.00\" fill=\"#000000\">samples = 2</text>\n<text text-anchor=\"middle\" x=\"6432.5\" y=\"-134.3\" font-family=\"Helvetica,sans-Serif\" font-size=\"14.00\" fill=\"#000000\">value = [0, 2]</text>\n<text text-anchor=\"middle\" x=\"6432.5\" y=\"-119.3\" font-family=\"Helvetica,sans-Serif\" font-size=\"14.00\" fill=\"#000000\">class = 1</text>\n</g>\n<!-- 170&#45;&gt;172 -->\n<g id=\"edge172\" class=\"edge\">\n<title>170&#45;&gt;172</title>\n<path fill=\"none\" stroke=\"#000000\" d=\"M6356.4209,-222.8796C6367.7728,-211.3337 6380.0982,-198.7976 6391.457,-187.2446\"/>\n<polygon fill=\"#000000\" stroke=\"#000000\" points=\"6394.2466,-189.3995 6398.7618,-179.8149 6389.2551,-184.4919 6394.2466,-189.3995\"/>\n</g>\n</g>\n</svg>\n"
          },
          "metadata": {}
        }
      ]
    },
    {
      "cell_type": "markdown",
      "source": [
        "##1. 랜덤포레스트"
      ],
      "metadata": {
        "id": "KT9ONuQkMu2R"
      }
    },
    {
      "cell_type": "code",
      "source": [
        "df1.info()"
      ],
      "metadata": {
        "colab": {
          "base_uri": "https://localhost:8080/"
        },
        "id": "bROvmICglI_D",
        "outputId": "33642b85-6cc5-40d5-a112-c9eb63a46f84"
      },
      "execution_count": null,
      "outputs": [
        {
          "output_type": "stream",
          "name": "stdout",
          "text": [
            "<class 'pandas.core.frame.DataFrame'>\n",
            "RangeIndex: 1184 entries, 0 to 1183\n",
            "Data columns (total 22 columns):\n",
            " #   Column    Non-Null Count  Dtype \n",
            "---  ------    --------------  ----- \n",
            " 0   성별        1184 non-null   object\n",
            " 1   연령        1184 non-null   object\n",
            " 2   거주지역      1184 non-null   object\n",
            " 3   직업        1184 non-null   object\n",
            " 4   주업        1184 non-null   object\n",
            " 5   직장지위      1184 non-null   object\n",
            " 6   차량보유여부    1184 non-null   object\n",
            " 7   개인소득      1184 non-null   object\n",
            " 8   관광휴양여부    1184 non-null   object\n",
            " 9   여행유형      1184 non-null   object\n",
            " 10  월         1184 non-null   object\n",
            " 11  여행일수(박)   1184 non-null   int64 \n",
            " 12  1인지출비용    1184 non-null   int64 \n",
            " 13  지역코드      1184 non-null   object\n",
            " 14  숙박시설      1184 non-null   object\n",
            " 15  여행활동1     1184 non-null   object\n",
            " 16  여행활동2     1184 non-null   object\n",
            " 17  여행활동3     1184 non-null   object\n",
            " 18  여행활동4     1184 non-null   object\n",
            " 19  여행활동5     1184 non-null   object\n",
            " 20  주요이동교통수단  1184 non-null   object\n",
            " 21  총만족도_이진   1184 non-null   object\n",
            "dtypes: int64(2), object(20)\n",
            "memory usage: 203.6+ KB\n"
          ]
        }
      ]
    },
    {
      "cell_type": "code",
      "source": [
        "from sklearn.ensemble import RandomForestClassifier\n",
        "\n",
        "X = df1.iloc[:, :-1]\n",
        "y = df1.iloc[:, -1]\n",
        "\n",
        "X_train, X_test, y_train, y_test = train_test_split(X, y, test_size = 0.25, random_state=3)\n",
        "\n",
        "forest = RandomForestClassifier(n_estimators=100, random_state=3)\n",
        "forest.fit(X_train, y_train)\n",
        "\n",
        "print(\"학습용 데이터 세트 정확도: {:.3f}\".format(forest.score(X_train, y_train)))\n",
        "print(\"시험용 데이터 세트 정확도: {:.3f}\".format(forest.score(X_test, y_test)))"
      ],
      "metadata": {
        "id": "fGGd0WppMM_y",
        "colab": {
          "base_uri": "https://localhost:8080/"
        },
        "outputId": "b60b344d-7ee9-40b9-e5f3-519f370ac8b2"
      },
      "execution_count": null,
      "outputs": [
        {
          "output_type": "stream",
          "name": "stdout",
          "text": [
            "학습용 데이터 세트 정확도: 1.000\n",
            "시험용 데이터 세트 정확도: 0.753\n"
          ]
        }
      ]
    },
    {
      "cell_type": "code",
      "source": [
        "for i in range(3,10):\n",
        "  X_train, X_test, y_train, y_test = train_test_split(X, y, test_size = 0.25, random_state=3)\n",
        "  forest = RandomForestClassifier(n_estimators=100, random_state=3, max_depth = i)\n",
        "  forest.fit(X_train, y_train)\n",
        "  print(\"========나무의 깊이:\", i, \"========\")\n",
        "  print(\"학습용 데이터 세트 정확도: {:.3f}\".format(forest.score(X_train, y_train)))\n",
        "  print(\"시험용 데이터 세트 정확도: {:.3f}\".format(forest.score(X_test, y_test)),\"\\n\")"
      ],
      "metadata": {
        "id": "9r7Xcdx2M_aW",
        "colab": {
          "base_uri": "https://localhost:8080/"
        },
        "outputId": "d579a3c6-acdc-4b3b-f676-c264f81b70b9"
      },
      "execution_count": null,
      "outputs": [
        {
          "output_type": "stream",
          "name": "stdout",
          "text": [
            "========나무의 깊이: 3 ========\n",
            "학습용 데이터 세트 정확도: 0.735\n",
            "시험용 데이터 세트 정확도: 0.740 \n",
            "\n",
            "========나무의 깊이: 4 ========\n",
            "학습용 데이터 세트 정확도: 0.739\n",
            "시험용 데이터 세트 정확도: 0.740 \n",
            "\n",
            "========나무의 깊이: 5 ========\n",
            "학습용 데이터 세트 정확도: 0.743\n",
            "시험용 데이터 세트 정확도: 0.740 \n",
            "\n",
            "========나무의 깊이: 6 ========\n",
            "학습용 데이터 세트 정확도: 0.758\n",
            "시험용 데이터 세트 정확도: 0.743 \n",
            "\n",
            "========나무의 깊이: 7 ========\n",
            "학습용 데이터 세트 정확도: 0.774\n",
            "시험용 데이터 세트 정확도: 0.753 \n",
            "\n",
            "========나무의 깊이: 8 ========\n",
            "학습용 데이터 세트 정확도: 0.812\n",
            "시험용 데이터 세트 정확도: 0.760 \n",
            "\n",
            "========나무의 깊이: 9 ========\n",
            "학습용 데이터 세트 정확도: 0.864\n",
            "시험용 데이터 세트 정확도: 0.753 \n",
            "\n"
          ]
        }
      ]
    },
    {
      "cell_type": "markdown",
      "source": [
        "중요 변수"
      ],
      "metadata": {
        "id": "hXN2PNX5Wl_P"
      }
    },
    {
      "cell_type": "code",
      "source": [
        "#max_depth = 8\n",
        "X_train, X_test, y_train, y_test = train_test_split(X, y, test_size = 0.25, random_state=3)\n",
        "forest = RandomForestClassifier(n_estimators=100, random_state=3, max_depth = 8)\n",
        "forest.fit(X_train, y_train)"
      ],
      "metadata": {
        "colab": {
          "base_uri": "https://localhost:8080/"
        },
        "id": "RtTku6iznaYK",
        "outputId": "197cc84b-902b-4c79-ce19-bbd1a30b9fde"
      },
      "execution_count": null,
      "outputs": [
        {
          "output_type": "execute_result",
          "data": {
            "text/plain": [
              "RandomForestClassifier(max_depth=8, random_state=3)"
            ]
          },
          "metadata": {},
          "execution_count": 19
        }
      ]
    },
    {
      "cell_type": "code",
      "source": [
        "def plot_feature_importances(model):\n",
        "    plt.rcParams[\"figure.figsize\"] = (9,6)\n",
        "    plt.rc('font', family='NanumBarunGothic') \n",
        "    n_features = len(df1.columns[:21])\n",
        "    plt.barh(np.arange(n_features), model.feature_importances_, align='center') \n",
        "    plt.yticks(np.arange(n_features), df1.columns[:21])  \n",
        "    plt.xlabel(\"feature importance\")\n",
        "    plt.ylabel(\"feature\")\n",
        "    plt.ylim(-1, n_features)\n",
        "\n",
        "plot_feature_importances(forest)"
      ],
      "metadata": {
        "id": "TOyQM5GeNY6-",
        "colab": {
          "base_uri": "https://localhost:8080/",
          "height": 389
        },
        "outputId": "38d252d1-60ec-45e1-f1dd-af8106e46591"
      },
      "execution_count": null,
      "outputs": [
        {
          "output_type": "display_data",
          "data": {
            "text/plain": [
              "<Figure size 648x432 with 1 Axes>"
            ],
            "image/png": "[encoded data removed]"
          },
          "metadata": {
            "needs_background": "light"
          }
        }
      ]
    },
    {
      "cell_type": "markdown",
      "source": [
        "##2. 그래디언트부스팅"
      ],
      "metadata": {
        "id": "7grub9NMNmjh"
      }
    },
    {
      "cell_type": "code",
      "source": [
        "from sklearn.ensemble import GradientBoostingClassifier # 기본값은 max_depth= 3, n_estimators=100, learning_rate = 0.1\n",
        "\n",
        "X = df1.iloc[:, :-1]\n",
        "y = df1.iloc[:, -1]\n",
        "X_train, X_test, y_train, y_test = train_test_split(X, y, test_size = 0.25, random_state=3)\n",
        "\n",
        "gbrt = GradientBoostingClassifier(random_state=3)\n",
        "gbrt.fit(X_train, y_train)\n",
        "print(\"학습용 데이터 세트 정확도: {:.3f}\".format(gbrt.score(X_train, y_train)))\n",
        "print(\"시험용 데이터 세트 정확도: {:.3f}\".format(gbrt.score(X_test, y_test)))"
      ],
      "metadata": {
        "id": "d4lcNyHQNl_7",
        "colab": {
          "base_uri": "https://localhost:8080/"
        },
        "outputId": "65191bca-4d4e-461f-9c6d-b33885007491"
      },
      "execution_count": null,
      "outputs": [
        {
          "output_type": "stream",
          "name": "stdout",
          "text": [
            "학습용 데이터 세트 정확도: 0.847\n",
            "시험용 데이터 세트 정확도: 0.757\n"
          ]
        }
      ]
    },
    {
      "cell_type": "code",
      "source": [
        "for i in range(3,10):\n",
        "  gbrt = GradientBoostingClassifier(random_state=3, max_depth = i)  \n",
        "  gbrt.fit(X_train, y_train)\n",
        "  print(\"========나무의 깊이:\", i, \"========\")\n",
        "  print(\"학습용 데이터 세트 정확도: {:.3f}\".format(gbrt.score(X_train, y_train)))\n",
        "  print(\"시험용 데이터 세트 정확도: {:.3f}\".format(gbrt.score(X_test, y_test)), \"\\n\")"
      ],
      "metadata": {
        "id": "94o8cZwWNuzz",
        "colab": {
          "base_uri": "https://localhost:8080/"
        },
        "outputId": "f20e8d7c-7ff0-4351-9fde-f2275e4f4790"
      },
      "execution_count": null,
      "outputs": [
        {
          "output_type": "stream",
          "name": "stdout",
          "text": [
            "========나무의 깊이: 3 ========\n",
            "학습용 데이터 세트 정확도: 0.847\n",
            "시험용 데이터 세트 정확도: 0.757 \n",
            "\n",
            "========나무의 깊이: 4 ========\n",
            "학습용 데이터 세트 정확도: 0.918\n",
            "시험용 데이터 세트 정확도: 0.757 \n",
            "\n",
            "========나무의 깊이: 5 ========\n",
            "학습용 데이터 세트 정확도: 0.971\n",
            "시험용 데이터 세트 정확도: 0.757 \n",
            "\n",
            "========나무의 깊이: 6 ========\n",
            "학습용 데이터 세트 정확도: 0.999\n",
            "시험용 데이터 세트 정확도: 0.740 \n",
            "\n",
            "========나무의 깊이: 7 ========\n",
            "학습용 데이터 세트 정확도: 1.000\n",
            "시험용 데이터 세트 정확도: 0.747 \n",
            "\n",
            "========나무의 깊이: 8 ========\n",
            "학습용 데이터 세트 정확도: 1.000\n",
            "시험용 데이터 세트 정확도: 0.740 \n",
            "\n",
            "========나무의 깊이: 9 ========\n",
            "학습용 데이터 세트 정확도: 1.000\n",
            "시험용 데이터 세트 정확도: 0.747 \n",
            "\n"
          ]
        }
      ]
    },
    {
      "cell_type": "code",
      "source": [
        "for j in range(1, 101, 5):\n",
        "  i = j/1000\n",
        "  gbrt = GradientBoostingClassifier(random_state=3, max_depth = 5, learning_rate = i)  \n",
        "  gbrt.fit(X_train, y_train)\n",
        "  print(\"========학습률:\", i, \"========\")\n",
        "  print(\"학습용 데이터 세트 정확도: {:.3f}\".format(gbrt.score(X_train, y_train)))\n",
        "  print(\"시험용 데이터 세트 정확도: {:.3f}\".format(gbrt.score(X_test, y_test)), \"\\n\")"
      ],
      "metadata": {
        "colab": {
          "base_uri": "https://localhost:8080/"
        },
        "id": "o0179Bw1uB0g",
        "outputId": "c10c74f4-0cf2-424a-abc2-4af04b2aaf8a"
      },
      "execution_count": null,
      "outputs": [
        {
          "output_type": "stream",
          "name": "stdout",
          "text": [
            "========학습률: 0.001 ========\n",
            "학습용 데이터 세트 정확도: 0.735\n",
            "시험용 데이터 세트 정확도: 0.740 \n",
            "\n",
            "========학습률: 0.006 ========\n",
            "학습용 데이터 세트 정확도: 0.749\n",
            "시험용 데이터 세트 정확도: 0.740 \n",
            "\n",
            "========학습률: 0.011 ========\n",
            "학습용 데이터 세트 정확도: 0.780\n",
            "시험용 데이터 세트 정확도: 0.757 \n",
            "\n",
            "========학습률: 0.016 ========\n",
            "학습용 데이터 세트 정확도: 0.809\n",
            "시험용 데이터 세트 정확도: 0.764 \n",
            "\n",
            "========학습률: 0.021 ========\n",
            "학습용 데이터 세트 정확도: 0.830\n",
            "시험용 데이터 세트 정확도: 0.764 \n",
            "\n",
            "========학습률: 0.026 ========\n",
            "학습용 데이터 세트 정확도: 0.854\n",
            "시험용 데이터 세트 정확도: 0.767 \n",
            "\n",
            "========학습률: 0.031 ========\n",
            "학습용 데이터 세트 정확도: 0.860\n",
            "시험용 데이터 세트 정확도: 0.760 \n",
            "\n",
            "========학습률: 0.036 ========\n",
            "학습용 데이터 세트 정확도: 0.878\n",
            "시험용 데이터 세트 정확도: 0.767 \n",
            "\n",
            "========학습률: 0.041 ========\n",
            "학습용 데이터 세트 정확도: 0.887\n",
            "시험용 데이터 세트 정확도: 0.760 \n",
            "\n",
            "========학습률: 0.046 ========\n",
            "학습용 데이터 세트 정확도: 0.908\n",
            "시험용 데이터 세트 정확도: 0.760 \n",
            "\n",
            "========학습률: 0.051 ========\n",
            "학습용 데이터 세트 정확도: 0.911\n",
            "시험용 데이터 세트 정확도: 0.760 \n",
            "\n",
            "========학습률: 0.056 ========\n",
            "학습용 데이터 세트 정확도: 0.919\n",
            "시험용 데이터 세트 정확도: 0.764 \n",
            "\n",
            "========학습률: 0.061 ========\n",
            "학습용 데이터 세트 정확도: 0.931\n",
            "시험용 데이터 세트 정확도: 0.767 \n",
            "\n",
            "========학습률: 0.066 ========\n",
            "학습용 데이터 세트 정확도: 0.938\n",
            "시험용 데이터 세트 정확도: 0.774 \n",
            "\n",
            "========학습률: 0.071 ========\n",
            "학습용 데이터 세트 정확도: 0.949\n",
            "시험용 데이터 세트 정확도: 0.753 \n",
            "\n",
            "========학습률: 0.076 ========\n",
            "학습용 데이터 세트 정확도: 0.945\n",
            "시험용 데이터 세트 정확도: 0.753 \n",
            "\n",
            "========학습률: 0.081 ========\n",
            "학습용 데이터 세트 정확도: 0.959\n",
            "시험용 데이터 세트 정확도: 0.743 \n",
            "\n",
            "========학습률: 0.086 ========\n",
            "학습용 데이터 세트 정확도: 0.961\n",
            "시험용 데이터 세트 정확도: 0.767 \n",
            "\n",
            "========학습률: 0.091 ========\n",
            "학습용 데이터 세트 정확도: 0.965\n",
            "시험용 데이터 세트 정확도: 0.760 \n",
            "\n",
            "========학습률: 0.096 ========\n",
            "학습용 데이터 세트 정확도: 0.973\n",
            "시험용 데이터 세트 정확도: 0.760 \n",
            "\n"
          ]
        }
      ]
    },
    {
      "cell_type": "code",
      "source": [
        "gbrt = GradientBoostingClassifier(random_state=0, learning_rate = 0.066, max_depth = 5)    #학습률: 0.066\n",
        "gbrt.fit(X_train, y_train)\n",
        "print(\"학습용 데이터 세트 정확도: {:.3f}\".format(gbrt.score(X_train, y_train)))\n",
        "print(\"시험용 데이터 세트 정확도: {:.3f}\".format(gbrt.score(X_test, y_test)))"
      ],
      "metadata": {
        "id": "uap453YnODFE",
        "colab": {
          "base_uri": "https://localhost:8080/"
        },
        "outputId": "84c4daf7-7b20-472f-c311-66fa8159b7f4"
      },
      "execution_count": null,
      "outputs": [
        {
          "output_type": "stream",
          "name": "stdout",
          "text": [
            "학습용 데이터 세트 정확도: 0.938\n",
            "시험용 데이터 세트 정확도: 0.774\n"
          ]
        }
      ]
    },
    {
      "cell_type": "code",
      "source": [
        "#변수 중요도"
      ],
      "metadata": {
        "id": "2vFf1MU0OPtT"
      },
      "execution_count": null,
      "outputs": []
    },
    {
      "cell_type": "code",
      "source": [
        "def plot_feature_importances(model):\n",
        "    plt.rcParams[\"figure.figsize\"] = (9,6)\n",
        "    plt.rc('font', family='NanumBarunGothic') \n",
        "    n_features = len(df1.columns[:-1])\n",
        "    plt.barh(np.arange(n_features), model.feature_importances_, align='center') \n",
        "    plt.yticks(np.arange(n_features), df1.columns[:-1])  \n",
        "    plt.xlabel(\"feature importance\")\n",
        "    plt.ylabel(\"feature\")\n",
        "    plt.ylim(-1, n_features)\n",
        "\n",
        "plot_feature_importances(gbrt)\n"
      ],
      "metadata": {
        "id": "2BERMHTCOV_n",
        "colab": {
          "base_uri": "https://localhost:8080/",
          "height": 389
        },
        "outputId": "00333f03-172f-497a-8c3a-ec46322068a1"
      },
      "execution_count": null,
      "outputs": [
        {
          "output_type": "display_data",
          "data": {
            "text/plain": [
              "<Figure size 648x432 with 1 Axes>"
            ],
            "image/png": "[encoded data removed]"
          },
          "metadata": {
            "needs_background": "light"
          }
        }
      ]
    },
    {
      "cell_type": "markdown",
      "source": [
        "##3. 교차검증"
      ],
      "metadata": {
        "id": "DOggZ44lOiUU"
      }
    },
    {
      "cell_type": "code",
      "source": [
        "rf_scores = cross_val_score(forest, X_train, y_train, cv=10, scoring='accuracy')\n",
        "gbrt_scores = cross_val_score(gbrt, X_train, y_train, cv=10, scoring='accuracy')\n",
        "\n",
        "print(\"Accuracy mean\")\n",
        "print(\"Random forest :{:.3f}\".format(rf_scores.mean())) \n",
        "print(\"Gradient boosting :{:.3f}\".format(gbrt_scores.mean())) "
      ],
      "metadata": {
        "colab": {
          "base_uri": "https://localhost:8080/"
        },
        "id": "GdlRRvLQEXYG",
        "outputId": "63b7c613-84fd-42bc-8f9e-1c461c1e6812"
      },
      "execution_count": null,
      "outputs": [
        {
          "output_type": "stream",
          "name": "stdout",
          "text": [
            "Accuracy mean\n",
            "Random forest :0.742\n",
            "Gradient boosting :0.730\n"
          ]
        }
      ]
    },
    {
      "cell_type": "markdown",
      "source": [
        "## 4. 그리드서치"
      ],
      "metadata": {
        "id": "F5lV-EQNOoDm"
      }
    },
    {
      "cell_type": "code",
      "source": [
        "from sklearn.model_selection import GridSearchCV\n",
        "\n",
        "# 파라미터를 dictionary 형태로 설정\n",
        "parameters1 = {'max_depth':[3,5,6,7,8,9], 'n_estimators':[80, 90, 100, 110]}\n",
        "parameters2 = {'max_depth':[1,3,5,7,8,9], 'learning_rate':[0.1,0.08, 0.01]}"
      ],
      "metadata": {
        "id": "BqTOPy4YOq_G"
      },
      "execution_count": null,
      "outputs": []
    },
    {
      "cell_type": "code",
      "source": [
        "grid_forest = GridSearchCV(forest, param_grid=parameters1, cv=5, refit=True)\n",
        "grid_forest.fit(X_train, y_train)\n",
        "\n",
        "print('GridSearchCV 최적 파라미터:', grid_forest.best_params_)\n",
        "print('GridSearchCV 최고 정확도: {0:.4f}'.format(grid_forest.best_score_))\n",
        "\n",
        "grid_gbrt = GridSearchCV(gbrt, param_grid=parameters2, cv=5, refit=True)\n",
        "grid_gbrt.fit(X_train, y_train)\n",
        "\n",
        "print('GridSearchCV 최적 파라미터:', grid_gbrt.best_params_)\n",
        "print('GridSearchCV 최고 정확도: {0:.4f}'.format(grid_gbrt.best_score_))"
      ],
      "metadata": {
        "id": "AbqKdfjuOry5",
        "colab": {
          "base_uri": "https://localhost:8080/"
        },
        "outputId": "697c9a8e-0ef8-4219-fb45-4350be6b0947"
      },
      "execution_count": null,
      "outputs": [
        {
          "output_type": "stream",
          "name": "stdout",
          "text": [
            "GridSearchCV 최적 파라미터: {'max_depth': 7, 'n_estimators': 100}\n",
            "GridSearchCV 최고 정확도: 0.7421\n",
            "GridSearchCV 최적 파라미터: {'learning_rate': 0.1, 'max_depth': 3}\n",
            "GridSearchCV 최고 정확도: 0.7410\n"
          ]
        }
      ]
    },
    {
      "cell_type": "code",
      "source": [
        "print(\"forest: 시험용 데이터 세트 정확도: {:.3f}\".format(grid_forest.score(X_test, y_test)))\n",
        "print(\"gbrt: 시험용 데이터 세트 정확도: {:.3f}\".format(grid_gbrt.score(X_test, y_test)))"
      ],
      "metadata": {
        "id": "on59zMm7OsBi",
        "colab": {
          "base_uri": "https://localhost:8080/"
        },
        "outputId": "9784f5a7-0eeb-4394-cbb0-ab4fcb070aa4"
      },
      "execution_count": null,
      "outputs": [
        {
          "output_type": "stream",
          "name": "stdout",
          "text": [
            "forest: 시험용 데이터 세트 정확도: 0.753\n",
            "gbrt: 시험용 데이터 세트 정확도: 0.757\n"
          ]
        }
      ]
    },
    {
      "cell_type": "markdown",
      "source": [
        "## 5. 정오분류표"
      ],
      "metadata": {
        "id": "nkjMXdcUG84L"
      }
    },
    {
      "cell_type": "code",
      "source": [
        "from sklearn.metrics import accuracy_score, precision_score, recall_score, f1_score\n",
        "from sklearn.metrics import confusion_matrix \n",
        "\n",
        "forest_pred= grid_forest.predict(X_test)\n",
        "gbrt_pred = grid_gbrt.predict(X_test)\n",
        "\n",
        "\n",
        "print('Random forest 시험용 데이터 세트 정확도:{:.3f}'.format(accuracy_score(y_test, forest_pred)))\n",
        "print(confusion_matrix(y_test, forest_pred))\n",
        "print('Gradient boosting 시험용 데이터 세트 정확도:{:.3f}'.format(accuracy_score(y_test, gbrt_pred)))\n",
        "print(confusion_matrix(y_test, gbrt_pred))"
      ],
      "metadata": {
        "colab": {
          "base_uri": "https://localhost:8080/"
        },
        "id": "R_NVx5tUHCtN",
        "outputId": "26447e4c-df21-41d1-ea3c-6a2ebd062c33"
      },
      "execution_count": null,
      "outputs": [
        {
          "output_type": "stream",
          "name": "stdout",
          "text": [
            "Random forest 시험용 데이터 세트 정확도:0.753\n",
            "[[219   0]\n",
            " [ 73   4]]\n",
            "Gradient boosting 시험용 데이터 세트 정확도:0.757\n",
            "[[207  12]\n",
            " [ 60  17]]\n"
          ]
        }
      ]
    },
    {
      "cell_type": "code",
      "source": [
        "print(\"Random forest\")\n",
        "print('정밀도:{:.3f}'.format(precision_score (y_test, forest_pred, average='binary', pos_label=\"만족\")))  # pos_label = 1 기본값\n",
        "print('재현율:{:.3f}'.format(recall_score(y_test, forest_pred, average='binary', pos_label=\"만족\")))\n",
        "print('f1-measure:{:.3f}'.format(f1_score(y_test, forest_pred, average='binary', pos_label=\"만족\")))\n",
        "\n",
        "print(\"Gradienc boosting\")\n",
        "print('정밀도:{:.3f}'.format(precision_score (y_test, gbrt_pred, average='binary', pos_label=\"만족\")))  # pos_label = 1 기본값\n",
        "print('재현율:{:.3f}'.format(recall_score(y_test, gbrt_pred, average='binary', pos_label=\"만족\")))\n",
        "print('f1-measure:{:.3f}'.format(f1_score(y_test, gbrt_pred, average='binary', pos_label=\"만족\")))\n"
      ],
      "metadata": {
        "colab": {
          "base_uri": "https://localhost:8080/"
        },
        "id": "lTWmwOmbMmpZ",
        "outputId": "e4b43b8a-a9d3-488f-8cc5-53ac2a65d07b"
      },
      "execution_count": null,
      "outputs": [
        {
          "output_type": "stream",
          "name": "stdout",
          "text": [
            "Random forest\n",
            "정밀도:0.750\n",
            "재현율:1.000\n",
            "f1-measure:0.857\n",
            "Gradienc boosting\n",
            "정밀도:0.775\n",
            "재현율:0.945\n",
            "f1-measure:0.852\n"
          ]
        }
      ]
    },
    {
      "cell_type": "markdown",
      "source": [
        "##6. ROC"
      ],
      "metadata": {
        "id": "Av_0wQHIG4w2"
      }
    },
    {
      "cell_type": "code",
      "source": [
        "forest.predict_proba(X_test)"
      ],
      "metadata": {
        "colab": {
          "base_uri": "https://localhost:8080/"
        },
        "id": "fdJRQZrMn_cQ",
        "outputId": "cdccad74-7cd8-40de-f356-d6865d734b3e"
      },
      "execution_count": null,
      "outputs": [
        {
          "output_type": "execute_result",
          "data": {
            "text/plain": [
              "array([[0.74974775, 0.25025225],\n",
              "       [0.84635041, 0.15364959],\n",
              "       [0.79425152, 0.20574848],\n",
              "       [0.77358634, 0.22641366],\n",
              "       [0.65029475, 0.34970525],\n",
              "       [0.61544793, 0.38455207],\n",
              "       [0.4378601 , 0.5621399 ],\n",
              "       [0.72653849, 0.27346151],\n",
              "       [0.74006826, 0.25993174],\n",
              "       [0.68441426, 0.31558574],\n",
              "       [0.79506449, 0.20493551],\n",
              "       [0.68771093, 0.31228907],\n",
              "       [0.80490428, 0.19509572],\n",
              "       [0.53385248, 0.46614752],\n",
              "       [0.89033366, 0.10966634],\n",
              "       [0.61936414, 0.38063586],\n",
              "       [0.76652658, 0.23347342],\n",
              "       [0.72878595, 0.27121405],\n",
              "       [0.69932555, 0.30067445],\n",
              "       [0.7291554 , 0.2708446 ],\n",
              "       [0.86483108, 0.13516892],\n",
              "       [0.80690938, 0.19309062],\n",
              "       [0.61550311, 0.38449689],\n",
              "       [0.79401822, 0.20598178],\n",
              "       [0.57527877, 0.42472123],\n",
              "       [0.89097029, 0.10902971],\n",
              "       [0.86220013, 0.13779987],\n",
              "       [0.89167251, 0.10832749],\n",
              "       [0.80625519, 0.19374481],\n",
              "       [0.65110582, 0.34889418],\n",
              "       [0.77631264, 0.22368736],\n",
              "       [0.83802241, 0.16197759],\n",
              "       [0.8317472 , 0.1682528 ],\n",
              "       [0.79605391, 0.20394609],\n",
              "       [0.68676617, 0.31323383],\n",
              "       [0.73335909, 0.26664091],\n",
              "       [0.72239096, 0.27760904],\n",
              "       [0.7807309 , 0.2192691 ],\n",
              "       [0.76464398, 0.23535602],\n",
              "       [0.73121161, 0.26878839],\n",
              "       [0.56651501, 0.43348499],\n",
              "       [0.71626674, 0.28373326],\n",
              "       [0.77263317, 0.22736683],\n",
              "       [0.76272963, 0.23727037],\n",
              "       [0.72388434, 0.27611566],\n",
              "       [0.84878777, 0.15121223],\n",
              "       [0.74724238, 0.25275762],\n",
              "       [0.80115837, 0.19884163],\n",
              "       [0.49245254, 0.50754746],\n",
              "       [0.58334226, 0.41665774],\n",
              "       [0.8306662 , 0.1693338 ],\n",
              "       [0.8032675 , 0.1967325 ],\n",
              "       [0.71320554, 0.28679446],\n",
              "       [0.68966726, 0.31033274],\n",
              "       [0.77667937, 0.22332063],\n",
              "       [0.80275753, 0.19724247],\n",
              "       [0.69738391, 0.30261609],\n",
              "       [0.71925732, 0.28074268],\n",
              "       [0.83611181, 0.16388819],\n",
              "       [0.88646461, 0.11353539],\n",
              "       [0.77527159, 0.22472841],\n",
              "       [0.66140664, 0.33859336],\n",
              "       [0.72599166, 0.27400834],\n",
              "       [0.71719254, 0.28280746],\n",
              "       [0.80553916, 0.19446084],\n",
              "       [0.76884469, 0.23115531],\n",
              "       [0.84274023, 0.15725977],\n",
              "       [0.5480562 , 0.4519438 ],\n",
              "       [0.60479764, 0.39520236],\n",
              "       [0.81083701, 0.18916299],\n",
              "       [0.82277308, 0.17722692],\n",
              "       [0.64962206, 0.35037794],\n",
              "       [0.71865702, 0.28134298],\n",
              "       [0.45527402, 0.54472598],\n",
              "       [0.77376335, 0.22623665],\n",
              "       [0.87223043, 0.12776957],\n",
              "       [0.5911378 , 0.4088622 ],\n",
              "       [0.66354985, 0.33645015],\n",
              "       [0.77671077, 0.22328923],\n",
              "       [0.81840247, 0.18159753],\n",
              "       [0.65527646, 0.34472354],\n",
              "       [0.62342749, 0.37657251],\n",
              "       [0.4464324 , 0.5535676 ],\n",
              "       [0.61502954, 0.38497046],\n",
              "       [0.88948026, 0.11051974],\n",
              "       [0.67892891, 0.32107109],\n",
              "       [0.69770411, 0.30229589],\n",
              "       [0.80940498, 0.19059502],\n",
              "       [0.86216748, 0.13783252],\n",
              "       [0.61152946, 0.38847054],\n",
              "       [0.78292739, 0.21707261],\n",
              "       [0.74675099, 0.25324901],\n",
              "       [0.77861095, 0.22138905],\n",
              "       [0.70215817, 0.29784183],\n",
              "       [0.7063685 , 0.2936315 ],\n",
              "       [0.8196388 , 0.1803612 ],\n",
              "       [0.69697392, 0.30302608],\n",
              "       [0.83107994, 0.16892006],\n",
              "       [0.84351486, 0.15648514],\n",
              "       [0.80592478, 0.19407522],\n",
              "       [0.67067928, 0.32932072],\n",
              "       [0.60990523, 0.39009477],\n",
              "       [0.75157421, 0.24842579],\n",
              "       [0.71954286, 0.28045714],\n",
              "       [0.82147789, 0.17852211],\n",
              "       [0.64592947, 0.35407053],\n",
              "       [0.78381994, 0.21618006],\n",
              "       [0.73156133, 0.26843867],\n",
              "       [0.74562469, 0.25437531],\n",
              "       [0.72768814, 0.27231186],\n",
              "       [0.76981375, 0.23018625],\n",
              "       [0.74148023, 0.25851977],\n",
              "       [0.63067772, 0.36932228],\n",
              "       [0.82987828, 0.17012172],\n",
              "       [0.89748553, 0.10251447],\n",
              "       [0.81992848, 0.18007152],\n",
              "       [0.73190113, 0.26809887],\n",
              "       [0.73054524, 0.26945476],\n",
              "       [0.70290458, 0.29709542],\n",
              "       [0.87522233, 0.12477767],\n",
              "       [0.87895678, 0.12104322],\n",
              "       [0.66573696, 0.33426304],\n",
              "       [0.68886713, 0.31113287],\n",
              "       [0.6344674 , 0.3655326 ],\n",
              "       [0.87728798, 0.12271202],\n",
              "       [0.69655446, 0.30344554],\n",
              "       [0.56530332, 0.43469668],\n",
              "       [0.66041684, 0.33958316],\n",
              "       [0.84127636, 0.15872364],\n",
              "       [0.82112668, 0.17887332],\n",
              "       [0.8258007 , 0.1741993 ],\n",
              "       [0.79288125, 0.20711875],\n",
              "       [0.78569126, 0.21430874],\n",
              "       [0.91449673, 0.08550327],\n",
              "       [0.6068241 , 0.3931759 ],\n",
              "       [0.84836515, 0.15163485],\n",
              "       [0.57211958, 0.42788042],\n",
              "       [0.87091228, 0.12908772],\n",
              "       [0.67667323, 0.32332677],\n",
              "       [0.76303437, 0.23696563],\n",
              "       [0.8919603 , 0.1080397 ],\n",
              "       [0.82307398, 0.17692602],\n",
              "       [0.70650351, 0.29349649],\n",
              "       [0.71074364, 0.28925636],\n",
              "       [0.56277091, 0.43722909],\n",
              "       [0.74843013, 0.25156987],\n",
              "       [0.67046121, 0.32953879],\n",
              "       [0.85850382, 0.14149618],\n",
              "       [0.81868367, 0.18131633],\n",
              "       [0.7047345 , 0.2952655 ],\n",
              "       [0.79285663, 0.20714337],\n",
              "       [0.69258728, 0.30741272],\n",
              "       [0.66448697, 0.33551303],\n",
              "       [0.77136894, 0.22863106],\n",
              "       [0.61731289, 0.38268711],\n",
              "       [0.81714327, 0.18285673],\n",
              "       [0.76923859, 0.23076141],\n",
              "       [0.651092  , 0.348908  ],\n",
              "       [0.62396561, 0.37603439],\n",
              "       [0.68856517, 0.31143483],\n",
              "       [0.90380693, 0.09619307],\n",
              "       [0.76540965, 0.23459035],\n",
              "       [0.84809378, 0.15190622],\n",
              "       [0.85474771, 0.14525229],\n",
              "       [0.76379124, 0.23620876],\n",
              "       [0.70717755, 0.29282245],\n",
              "       [0.77938415, 0.22061585],\n",
              "       [0.70805439, 0.29194561],\n",
              "       [0.59908733, 0.40091267],\n",
              "       [0.78876114, 0.21123886],\n",
              "       [0.77840024, 0.22159976],\n",
              "       [0.82303756, 0.17696244],\n",
              "       [0.58313935, 0.41686065],\n",
              "       [0.82350909, 0.17649091],\n",
              "       [0.81174742, 0.18825258],\n",
              "       [0.68928344, 0.31071656],\n",
              "       [0.52688113, 0.47311887],\n",
              "       [0.79927478, 0.20072522],\n",
              "       [0.63993316, 0.36006684],\n",
              "       [0.6765485 , 0.3234515 ],\n",
              "       [0.81705132, 0.18294868],\n",
              "       [0.67854435, 0.32145565],\n",
              "       [0.61387852, 0.38612148],\n",
              "       [0.55744555, 0.44255445],\n",
              "       [0.67273863, 0.32726137],\n",
              "       [0.75093435, 0.24906565],\n",
              "       [0.86669661, 0.13330339],\n",
              "       [0.74339404, 0.25660596],\n",
              "       [0.75384864, 0.24615136],\n",
              "       [0.82886164, 0.17113836],\n",
              "       [0.74949732, 0.25050268],\n",
              "       [0.79392933, 0.20607067],\n",
              "       [0.65059217, 0.34940783],\n",
              "       [0.74101185, 0.25898815],\n",
              "       [0.83782994, 0.16217006],\n",
              "       [0.6967356 , 0.3032644 ],\n",
              "       [0.68456455, 0.31543545],\n",
              "       [0.66586541, 0.33413459],\n",
              "       [0.70023739, 0.29976261],\n",
              "       [0.87315745, 0.12684255],\n",
              "       [0.76872608, 0.23127392],\n",
              "       [0.79815801, 0.20184199],\n",
              "       [0.75421641, 0.24578359],\n",
              "       [0.90203202, 0.09796798],\n",
              "       [0.67099485, 0.32900515],\n",
              "       [0.76101901, 0.23898099],\n",
              "       [0.61933803, 0.38066197],\n",
              "       [0.77461565, 0.22538435],\n",
              "       [0.86082619, 0.13917381],\n",
              "       [0.69400128, 0.30599872],\n",
              "       [0.68953335, 0.31046665],\n",
              "       [0.80874431, 0.19125569],\n",
              "       [0.80963838, 0.19036162],\n",
              "       [0.71165738, 0.28834262],\n",
              "       [0.85339545, 0.14660455],\n",
              "       [0.7158708 , 0.2841292 ],\n",
              "       [0.68295931, 0.31704069],\n",
              "       [0.72442811, 0.27557189],\n",
              "       [0.82815152, 0.17184848],\n",
              "       [0.74719232, 0.25280768],\n",
              "       [0.76810928, 0.23189072],\n",
              "       [0.69100177, 0.30899823],\n",
              "       [0.70149469, 0.29850531],\n",
              "       [0.73151882, 0.26848118],\n",
              "       [0.68611716, 0.31388284],\n",
              "       [0.79365977, 0.20634023],\n",
              "       [0.77931154, 0.22068846],\n",
              "       [0.72651483, 0.27348517],\n",
              "       [0.5580207 , 0.4419793 ],\n",
              "       [0.67494125, 0.32505875],\n",
              "       [0.85531657, 0.14468343],\n",
              "       [0.6089525 , 0.3910475 ],\n",
              "       [0.68331005, 0.31668995],\n",
              "       [0.65913532, 0.34086468],\n",
              "       [0.75113226, 0.24886774],\n",
              "       [0.82195749, 0.17804251],\n",
              "       [0.84816031, 0.15183969],\n",
              "       [0.82240341, 0.17759659],\n",
              "       [0.7072791 , 0.2927209 ],\n",
              "       [0.91665045, 0.08334955],\n",
              "       [0.70428721, 0.29571279],\n",
              "       [0.80172568, 0.19827432],\n",
              "       [0.69274201, 0.30725799],\n",
              "       [0.80969255, 0.19030745],\n",
              "       [0.69131041, 0.30868959],\n",
              "       [0.66970896, 0.33029104],\n",
              "       [0.76942765, 0.23057235],\n",
              "       [0.78989707, 0.21010293],\n",
              "       [0.77338969, 0.22661031],\n",
              "       [0.65596911, 0.34403089],\n",
              "       [0.80744875, 0.19255125],\n",
              "       [0.64131691, 0.35868309],\n",
              "       [0.73127544, 0.26872456],\n",
              "       [0.43110831, 0.56889169],\n",
              "       [0.69610291, 0.30389709],\n",
              "       [0.73501736, 0.26498264],\n",
              "       [0.88769152, 0.11230848],\n",
              "       [0.70390982, 0.29609018],\n",
              "       [0.83465074, 0.16534926],\n",
              "       [0.69502762, 0.30497238],\n",
              "       [0.86054357, 0.13945643],\n",
              "       [0.68756673, 0.31243327],\n",
              "       [0.77216383, 0.22783617],\n",
              "       [0.70467456, 0.29532544],\n",
              "       [0.86405268, 0.13594732],\n",
              "       [0.779544  , 0.220456  ],\n",
              "       [0.66799061, 0.33200939],\n",
              "       [0.79433572, 0.20566428],\n",
              "       [0.61232169, 0.38767831],\n",
              "       [0.87310461, 0.12689539],\n",
              "       [0.77103418, 0.22896582],\n",
              "       [0.55904414, 0.44095586],\n",
              "       [0.7534702 , 0.2465298 ],\n",
              "       [0.67568555, 0.32431445],\n",
              "       [0.69782793, 0.30217207],\n",
              "       [0.59392275, 0.40607725],\n",
              "       [0.69779889, 0.30220111],\n",
              "       [0.89050817, 0.10949183],\n",
              "       [0.85053806, 0.14946194],\n",
              "       [0.67178729, 0.32821271],\n",
              "       [0.80230598, 0.19769402],\n",
              "       [0.89557305, 0.10442695],\n",
              "       [0.72800757, 0.27199243],\n",
              "       [0.40075333, 0.59924667],\n",
              "       [0.74836383, 0.25163617],\n",
              "       [0.82720112, 0.17279888],\n",
              "       [0.76674632, 0.23325368],\n",
              "       [0.78573777, 0.21426223],\n",
              "       [0.87875619, 0.12124381],\n",
              "       [0.62938286, 0.37061714],\n",
              "       [0.7716242 , 0.2283758 ],\n",
              "       [0.86943981, 0.13056019],\n",
              "       [0.91113856, 0.08886144],\n",
              "       [0.79457309, 0.20542691],\n",
              "       [0.6462244 , 0.3537756 ],\n",
              "       [0.72176029, 0.27823971]])"
            ]
          },
          "metadata": {},
          "execution_count": 33
        }
      ]
    },
    {
      "cell_type": "code",
      "source": [
        "auc_rf = roc_auc_score(y_test, forest.predict_proba(X_test)[:, -1])\n",
        "auc_gbrt = roc_auc_score(y_test, grid_gbrt.predict_proba(X_test)[:,-1])\n",
        "print(\"Random Forest의 AUC: {:.3f}\".format(auc_rf))\n",
        "print(\"Gradient Boosting의 AUC: {:.3f}\".format(auc_gbrt))"
      ],
      "metadata": {
        "id": "adZJHRKZOlWY",
        "colab": {
          "base_uri": "https://localhost:8080/"
        },
        "outputId": "6487af02-ba0f-46b8-a153-cf487dc6d602"
      },
      "execution_count": null,
      "outputs": [
        {
          "output_type": "stream",
          "name": "stdout",
          "text": [
            "Random Forest의 AUC: 0.689\n",
            "Gradient Boosting의 AUC: 0.702\n"
          ]
        }
      ]
    },
    {
      "cell_type": "markdown",
      "source": [
        "#고객의 개인정보와 여행 만족도 정보만으로 '총만족도'를 예측할 수 있을까?"
      ],
      "metadata": {
        "id": "eeK4qw6toF7j"
      }
    },
    {
      "cell_type": "markdown",
      "source": [
        "##1. 랜덤 포레스트"
      ],
      "metadata": {
        "id": "cu6lYt-p-_CP"
      }
    },
    {
      "cell_type": "code",
      "source": [
        "df2 = df.drop(['ID', '연도',  '학력',  '주5일근무제실시여부', '계절', '여행총경비', \n",
        "              '지출비용포함인원수', '개인휴가사용여부','시', \n",
        "               '여행활동1', '여행활동2', '여행활동3', '여행활동4', '여행활동5',\n",
        "              '전반적만족도', '재방문의도', '타인추천의도', '만족도점수', '총만족도', '재방문여부'], axis = 1)\n",
        "\n",
        "df2.info()"
      ],
      "metadata": {
        "colab": {
          "base_uri": "https://localhost:8080/"
        },
        "id": "cNonJr2xkeDL",
        "outputId": "e2334296-3abd-4ec0-edb2-98b5c841ab84"
      },
      "execution_count": null,
      "outputs": [
        {
          "output_type": "stream",
          "name": "stdout",
          "text": [
            "<class 'pandas.core.frame.DataFrame'>\n",
            "RangeIndex: 1184 entries, 0 to 1183\n",
            "Data columns (total 31 columns):\n",
            " #   Column           Non-Null Count  Dtype \n",
            "---  ------           --------------  ----- \n",
            " 0   성별               1184 non-null   object\n",
            " 1   연령               1184 non-null   object\n",
            " 2   혼인상태             1184 non-null   object\n",
            " 3   거주지역             1184 non-null   object\n",
            " 4   직업               1184 non-null   object\n",
            " 5   주업               1184 non-null   object\n",
            " 6   직장지위             1184 non-null   object\n",
            " 7   차량보유여부           1184 non-null   object\n",
            " 8   개인소득             1184 non-null   object\n",
            " 9   관광휴양여부           1184 non-null   object\n",
            " 10  여행유형             1184 non-null   object\n",
            " 11  월                1184 non-null   object\n",
            " 12  여행일수(박)          1184 non-null   int64 \n",
            " 13  1인지출비용           1184 non-null   int64 \n",
            " 14  지역코드             1184 non-null   object\n",
            " 15  숙박시설             1184 non-null   object\n",
            " 16  주요이동교통수단         1184 non-null   object\n",
            " 17  여행지선택이유_1순위      1184 non-null   object\n",
            " 18  여행지선택이유_2순위      1184 non-null   object\n",
            " 19  만족도_자연경관         1184 non-null   object\n",
            " 20  만족도_문화유산         1184 non-null   object\n",
            " 21  만족도_교통           1184 non-null   object\n",
            " 22  만족도_식당및음식        1184 non-null   object\n",
            " 23  만족도_쇼핑           1184 non-null   object\n",
            " 24  만족도_관광정보및안내시설    1184 non-null   object\n",
            " 25  만족도_관광지편의시설      1184 non-null   object\n",
            " 26  만족도_지역관광종사자의친절성  1184 non-null   object\n",
            " 27  만족도_체험프로그램       1184 non-null   object\n",
            " 28  만족도_관광지물가        1184 non-null   object\n",
            " 29  만족도_관광지혼잡도       1184 non-null   object\n",
            " 30  총만족도_이진          1184 non-null   object\n",
            "dtypes: int64(2), object(29)\n",
            "memory usage: 286.9+ KB\n"
          ]
        }
      ]
    },
    {
      "cell_type": "code",
      "source": [
        "from sklearn.ensemble import RandomForestClassifier\n",
        "\n",
        "X = df2.iloc[:, :-1]\n",
        "y = df2.iloc[:, -1]\n",
        "\n",
        "X_train, X_test, y_train, y_test = train_test_split(X, y, test_size = 0.25, random_state=3)\n",
        "\n",
        "forest = RandomForestClassifier(n_estimators=100, random_state=3)\n",
        "forest.fit(X_train, y_train)\n",
        "\n",
        "print(\"학습용 데이터 세트 정확도: {:.3f}\".format(forest.score(X_train, y_train)))\n",
        "print(\"시험용 데이터 세트 정확도: {:.3f}\".format(forest.score(X_test, y_test)))"
      ],
      "metadata": {
        "colab": {
          "base_uri": "https://localhost:8080/"
        },
        "id": "7RVmHFJVoJNB",
        "outputId": "851d416f-dee8-4c8b-b65d-4dce2c08da84"
      },
      "execution_count": null,
      "outputs": [
        {
          "output_type": "stream",
          "name": "stdout",
          "text": [
            "학습용 데이터 세트 정확도: 1.000\n",
            "시험용 데이터 세트 정확도: 0.838\n"
          ]
        }
      ]
    },
    {
      "cell_type": "code",
      "source": [
        "for i in range(3,10):\n",
        "  X_train, X_test, y_train, y_test = train_test_split(X, y, test_size = 0.25, random_state=3)\n",
        "  forest = RandomForestClassifier(n_estimators=100, random_state=3, max_depth = i)\n",
        "  forest.fit(X_train, y_train)\n",
        "  print(\"========나무의 깊이:\", i, \"========\")\n",
        "  print(\"학습용 데이터 세트 정확도: {:.3f}\".format(forest.score(X_train, y_train)))\n",
        "  print(\"시험용 데이터 세트 정확도: {:.3f}\".format(forest.score(X_test, y_test)),\"\\n\")"
      ],
      "metadata": {
        "colab": {
          "base_uri": "https://localhost:8080/"
        },
        "id": "l9PRzqPyoPvz",
        "outputId": "e8046786-70a9-470c-d6fa-6685120be17b"
      },
      "execution_count": null,
      "outputs": [
        {
          "output_type": "stream",
          "name": "stdout",
          "text": [
            "========나무의 깊이: 3 ========\n",
            "학습용 데이터 세트 정확도: 0.810\n",
            "시험용 데이터 세트 정확도: 0.797 \n",
            "\n",
            "========나무의 깊이: 4 ========\n",
            "학습용 데이터 세트 정확도: 0.831\n",
            "시험용 데이터 세트 정확도: 0.811 \n",
            "\n",
            "========나무의 깊이: 5 ========\n",
            "학습용 데이터 세트 정확도: 0.851\n",
            "시험용 데이터 세트 정확도: 0.821 \n",
            "\n",
            "========나무의 깊이: 6 ========\n",
            "학습용 데이터 세트 정확도: 0.872\n",
            "시험용 데이터 세트 정확도: 0.838 \n",
            "\n",
            "========나무의 깊이: 7 ========\n",
            "학습용 데이터 세트 정확도: 0.893\n",
            "시험용 데이터 세트 정확도: 0.838 \n",
            "\n",
            "========나무의 깊이: 8 ========\n",
            "학습용 데이터 세트 정확도: 0.909\n",
            "시험용 데이터 세트 정확도: 0.831 \n",
            "\n",
            "========나무의 깊이: 9 ========\n",
            "학습용 데이터 세트 정확도: 0.923\n",
            "시험용 데이터 세트 정확도: 0.841 \n",
            "\n"
          ]
        }
      ]
    },
    {
      "cell_type": "code",
      "source": [
        "#max_depth = 7일때 시험용데이터 정확도가 가장 높음\n",
        "X_train, X_test, y_train, y_test = train_test_split(X, y, test_size = 0.25, random_state=3)\n",
        "forest = RandomForestClassifier(n_estimators=100, random_state=3, max_depth = 7)\n",
        "forest.fit(X_train, y_train)"
      ],
      "metadata": {
        "id": "DhiIkaQ3qquM",
        "colab": {
          "base_uri": "https://localhost:8080/"
        },
        "outputId": "bfdb0b83-0c35-4400-f42d-4040212bde4c"
      },
      "execution_count": null,
      "outputs": [
        {
          "output_type": "execute_result",
          "data": {
            "text/plain": [
              "RandomForestClassifier(max_depth=7, random_state=3)"
            ]
          },
          "metadata": {},
          "execution_count": 39
        }
      ]
    },
    {
      "cell_type": "code",
      "source": [
        "def plot_feature_importances(model):\n",
        "    plt.rcParams[\"figure.figsize\"] = (9,6)\n",
        "    plt.rc('font', family='NanumBarunGothic') \n",
        "    n_features = len(df2.columns[:-1])\n",
        "    plt.barh(np.arange(n_features), model.feature_importances_, align='center') \n",
        "    plt.yticks(np.arange(n_features), df2.columns[:-1])  \n",
        "    plt.xlabel(\"feature importance\")\n",
        "    plt.ylabel(\"feature\")\n",
        "    plt.ylim(-1, n_features)\n",
        "\n",
        "plot_feature_importances(forest)"
      ],
      "metadata": {
        "colab": {
          "base_uri": "https://localhost:8080/",
          "height": 389
        },
        "id": "tmVWMbF8qn_R",
        "outputId": "1a33a06c-244e-4ebd-e5d0-d7ad1f174fb8"
      },
      "execution_count": null,
      "outputs": [
        {
          "output_type": "display_data",
          "data": {
            "text/plain": [
              "<Figure size 648x432 with 1 Axes>"
            ],
            "image/png": "[encoded data removed]"
          },
          "metadata": {
            "needs_background": "light"
          }
        }
      ]
    },
    {
      "cell_type": "markdown",
      "source": [
        "##2. 그래디언트 부스팅"
      ],
      "metadata": {
        "id": "qxI2lJYr_FP7"
      }
    },
    {
      "cell_type": "code",
      "source": [
        "from sklearn.ensemble import GradientBoostingClassifier # 기본값은 max_depth= 3, n_estimators=100, learning_rate = 0.1\n",
        "\n",
        "X = df2.iloc[:, :-1]\n",
        "y = df2.iloc[:, -1]\n",
        "X_train, X_test, y_train, y_test = train_test_split(X, y, test_size = 0.25, random_state=3)\n",
        "\n",
        "gbrt = GradientBoostingClassifier(random_state=3)\n",
        "gbrt.fit(X_train, y_train)\n",
        "print(\"학습용 데이터 세트 정확도: {:.3f}\".format(gbrt.score(X_train, y_train)))\n",
        "print(\"시험용 데이터 세트 정확도: {:.3f}\".format(gbrt.score(X_test, y_test)))"
      ],
      "metadata": {
        "colab": {
          "base_uri": "https://localhost:8080/"
        },
        "id": "5eyt6VWR_bKX",
        "outputId": "96442df1-4088-4d91-8e5f-3ade838a5ba6"
      },
      "execution_count": null,
      "outputs": [
        {
          "output_type": "stream",
          "name": "stdout",
          "text": [
            "학습용 데이터 세트 정확도: 0.923\n",
            "시험용 데이터 세트 정확도: 0.831\n"
          ]
        }
      ]
    },
    {
      "cell_type": "code",
      "source": [
        "for i in range(3,7):\n",
        "  gbrt = GradientBoostingClassifier(random_state=3, max_depth = i)  \n",
        "  gbrt.fit(X_train, y_train)\n",
        "  print(\"========나무의 깊이:\", i, \"========\")\n",
        "  print(\"학습용 데이터 세트 정확도: {:.3f}\".format(gbrt.score(X_train, y_train)))\n",
        "  print(\"시험용 데이터 세트 정확도: {:.3f}\".format(gbrt.score(X_test, y_test)), \"\\n\")"
      ],
      "metadata": {
        "colab": {
          "base_uri": "https://localhost:8080/"
        },
        "id": "uB4ZOUQp_fTZ",
        "outputId": "db791991-c269-4b55-b61e-f0014ab3d1c8"
      },
      "execution_count": null,
      "outputs": [
        {
          "output_type": "stream",
          "name": "stdout",
          "text": [
            "========나무의 깊이: 3 ========\n",
            "학습용 데이터 세트 정확도: 0.923\n",
            "시험용 데이터 세트 정확도: 0.831 \n",
            "\n",
            "========나무의 깊이: 4 ========\n",
            "학습용 데이터 세트 정확도: 0.975\n",
            "시험용 데이터 세트 정확도: 0.818 \n",
            "\n",
            "========나무의 깊이: 5 ========\n",
            "학습용 데이터 세트 정확도: 0.997\n",
            "시험용 데이터 세트 정확도: 0.818 \n",
            "\n",
            "========나무의 깊이: 6 ========\n",
            "학습용 데이터 세트 정확도: 1.000\n",
            "시험용 데이터 세트 정확도: 0.824 \n",
            "\n"
          ]
        }
      ]
    },
    {
      "cell_type": "code",
      "source": [
        "for j in range(1, 101, 5):\n",
        "  i = j/1000\n",
        "  gbrt = GradientBoostingClassifier(random_state=3, max_depth = 5, learning_rate = i)  \n",
        "  gbrt.fit(X_train, y_train)\n",
        "  print(\"========학습률:\", i, \"========\")\n",
        "  print(\"학습용 데이터 세트 정확도: {:.3f}\".format(gbrt.score(X_train, y_train)))\n",
        "  print(\"시험용 데이터 세트 정확도: {:.3f}\".format(gbrt.score(X_test, y_test)), \"\\n\")"
      ],
      "metadata": {
        "colab": {
          "base_uri": "https://localhost:8080/"
        },
        "id": "lJigPH9c_km5",
        "outputId": "3472d8e6-2333-4a0d-f084-10fc95927eb5"
      },
      "execution_count": null,
      "outputs": [
        {
          "output_type": "stream",
          "name": "stdout",
          "text": [
            "========학습률: 0.001 ========\n",
            "학습용 데이터 세트 정확도: 0.735\n",
            "시험용 데이터 세트 정확도: 0.740 \n",
            "\n",
            "========학습률: 0.006 ========\n",
            "학습용 데이터 세트 정확도: 0.821\n",
            "시험용 데이터 세트 정확도: 0.797 \n",
            "\n",
            "========학습률: 0.011 ========\n",
            "학습용 데이터 세트 정확도: 0.863\n",
            "시험용 데이터 세트 정확도: 0.814 \n",
            "\n",
            "========학습률: 0.016 ========\n",
            "학습용 데이터 세트 정확도: 0.891\n",
            "시험용 데이터 세트 정확도: 0.818 \n",
            "\n",
            "========학습률: 0.021 ========\n",
            "학습용 데이터 세트 정확도: 0.903\n",
            "시험용 데이터 세트 정확도: 0.824 \n",
            "\n",
            "========학습률: 0.026 ========\n",
            "학습용 데이터 세트 정확도: 0.918\n",
            "시험용 데이터 세트 정확도: 0.821 \n",
            "\n",
            "========학습률: 0.031 ========\n",
            "학습용 데이터 세트 정확도: 0.934\n",
            "시험용 데이터 세트 정확도: 0.821 \n",
            "\n",
            "========학습률: 0.036 ========\n",
            "학습용 데이터 세트 정확도: 0.943\n",
            "시험용 데이터 세트 정확도: 0.834 \n",
            "\n",
            "========학습률: 0.041 ========\n",
            "학습용 데이터 세트 정확도: 0.953\n",
            "시험용 데이터 세트 정확도: 0.824 \n",
            "\n",
            "========학습률: 0.046 ========\n",
            "학습용 데이터 세트 정확도: 0.962\n",
            "시험용 데이터 세트 정확도: 0.821 \n",
            "\n",
            "========학습률: 0.051 ========\n",
            "학습용 데이터 세트 정확도: 0.966\n",
            "시험용 데이터 세트 정확도: 0.824 \n",
            "\n",
            "========학습률: 0.056 ========\n",
            "학습용 데이터 세트 정확도: 0.976\n",
            "시험용 데이터 세트 정확도: 0.814 \n",
            "\n",
            "========학습률: 0.061 ========\n",
            "학습용 데이터 세트 정확도: 0.980\n",
            "시험용 데이터 세트 정확도: 0.814 \n",
            "\n",
            "========학습률: 0.066 ========\n",
            "학습용 데이터 세트 정확도: 0.984\n",
            "시험용 데이터 세트 정확도: 0.831 \n",
            "\n",
            "========학습률: 0.071 ========\n",
            "학습용 데이터 세트 정확도: 0.989\n",
            "시험용 데이터 세트 정확도: 0.811 \n",
            "\n",
            "========학습률: 0.076 ========\n",
            "학습용 데이터 세트 정확도: 0.990\n",
            "시험용 데이터 세트 정확도: 0.821 \n",
            "\n",
            "========학습률: 0.081 ========\n",
            "학습용 데이터 세트 정확도: 0.992\n",
            "시험용 데이터 세트 정확도: 0.814 \n",
            "\n",
            "========학습률: 0.086 ========\n",
            "학습용 데이터 세트 정확도: 0.993\n",
            "시험용 데이터 세트 정확도: 0.804 \n",
            "\n",
            "========학습률: 0.091 ========\n",
            "학습용 데이터 세트 정확도: 0.994\n",
            "시험용 데이터 세트 정확도: 0.811 \n",
            "\n",
            "========학습률: 0.096 ========\n",
            "학습용 데이터 세트 정확도: 0.995\n",
            "시험용 데이터 세트 정확도: 0.811 \n",
            "\n"
          ]
        }
      ]
    },
    {
      "cell_type": "code",
      "source": [
        "gbrt = GradientBoostingClassifier(random_state=0, learning_rate = 0.066, max_depth = 5)    #학습률: 0.066\n",
        "gbrt.fit(X_train, y_train)\n",
        "print(\"학습용 데이터 세트 정확도: {:.3f}\".format(gbrt.score(X_train, y_train)))\n",
        "print(\"시험용 데이터 세트 정확도: {:.3f}\".format(gbrt.score(X_test, y_test)))"
      ],
      "metadata": {
        "colab": {
          "base_uri": "https://localhost:8080/"
        },
        "id": "3I6lP9C9_nOK",
        "outputId": "9b610e5a-cb4f-4405-e870-5978eb3abbb5"
      },
      "execution_count": null,
      "outputs": [
        {
          "output_type": "stream",
          "name": "stdout",
          "text": [
            "학습용 데이터 세트 정확도: 0.984\n",
            "시험용 데이터 세트 정확도: 0.828\n"
          ]
        }
      ]
    },
    {
      "cell_type": "code",
      "source": [
        "def plot_feature_importances(model):\n",
        "    plt.rcParams[\"figure.figsize\"] = (9,6)\n",
        "    plt.rc('font', family='NanumBarunGothic') \n",
        "    n_features = len(df2.columns[:-1])\n",
        "    plt.barh(np.arange(n_features), model.feature_importances_, align='center') \n",
        "    plt.yticks(np.arange(n_features), df2.columns[:-1])  \n",
        "    plt.xlabel(\"feature importance\")\n",
        "    plt.ylabel(\"feature\")\n",
        "    plt.ylim(-1, n_features)\n",
        "\n",
        "plot_feature_importances(gbrt)"
      ],
      "metadata": {
        "colab": {
          "base_uri": "https://localhost:8080/",
          "height": 389
        },
        "id": "imbYaA-V_HkI",
        "outputId": "7119afee-4816-4f05-8991-baa04653ac5f"
      },
      "execution_count": null,
      "outputs": [
        {
          "output_type": "display_data",
          "data": {
            "text/plain": [
              "<Figure size 648x432 with 1 Axes>"
            ],
            "image/png": "[encoded data removed]"
          },
          "metadata": {
            "needs_background": "light"
          }
        }
      ]
    },
    {
      "cell_type": "markdown",
      "source": [
        "##3. 교차검증"
      ],
      "metadata": {
        "id": "QZyrL6zmHOJN"
      }
    },
    {
      "cell_type": "code",
      "source": [
        "rf_scores = cross_val_score(forest, X_train, y_train, cv=10, scoring='accuracy')\n",
        "gbrt_scores = cross_val_score(gbrt, X_train, y_train, cv=10, scoring='accuracy')\n",
        "\n",
        "print(\"Accuracy mean\")\n",
        "print(\"Random forest :{:.3f}\".format(rf_scores.mean())) \n",
        "print(\"Gradient boosting :{:.3f}\".format(gbrt_scores.mean())) "
      ],
      "metadata": {
        "colab": {
          "base_uri": "https://localhost:8080/"
        },
        "id": "IRcd9CSlHSnf",
        "outputId": "55fb7042-bc16-4377-c471-c160eac3bb4e"
      },
      "execution_count": null,
      "outputs": [
        {
          "output_type": "stream",
          "name": "stdout",
          "text": [
            "Accuracy mean\n",
            "Random forest :0.809\n",
            "Gradient boosting :0.804\n"
          ]
        }
      ]
    },
    {
      "cell_type": "markdown",
      "source": [
        "##4. 그리드서치"
      ],
      "metadata": {
        "id": "tWcifXFeG1pf"
      }
    },
    {
      "cell_type": "code",
      "source": [
        "from sklearn.model_selection import GridSearchCV\n",
        "\n",
        "parameters1 = {'max_depth':[3,5,6,7,8], 'n_estimators':[80, 90, 100]}\n",
        "parameters2 = {'max_depth':[1,3,5,6,7], 'learning_rate':[0.1,0.02,0.08, 0.01]}\n",
        "\n",
        "grid_forest = GridSearchCV(forest, param_grid=parameters1, cv=5, refit=True)\n",
        "grid_forest.fit(X_train, y_train)\n",
        "\n",
        "print('GridSearchCV 최적 파라미터:', grid_forest.best_params_)\n",
        "print('GridSearchCV 최고 정확도: {0:.4f}'.format(grid_forest.best_score_))\n",
        "\n",
        "grid_gbrt = GridSearchCV(gbrt, param_grid=parameters2, cv=5, refit=True)\n",
        "grid_gbrt.fit(X_train, y_train)\n",
        "\n",
        "print('GridSearchCV 최적 파라미터:', grid_gbrt.best_params_)\n",
        "print('GridSearchCV 최고 정확도: {0:.4f}'.format(grid_gbrt.best_score_))"
      ],
      "metadata": {
        "colab": {
          "base_uri": "https://localhost:8080/"
        },
        "id": "9m1iPKtHHZI3",
        "outputId": "c05d4745-3bd6-4429-d8ef-616bc5e1888f"
      },
      "execution_count": null,
      "outputs": [
        {
          "output_type": "stream",
          "name": "stdout",
          "text": [
            "GridSearchCV 최적 파라미터: {'max_depth': 8, 'n_estimators': 80}\n",
            "GridSearchCV 최고 정확도: 0.8130\n",
            "GridSearchCV 최적 파라미터: {'learning_rate': 0.1, 'max_depth': 1}\n",
            "GridSearchCV 최고 정확도: 0.8018\n"
          ]
        }
      ]
    },
    {
      "cell_type": "code",
      "source": [
        "print(\"forest: 시험용 데이터 세트 정확도: {:.3f}\".format(grid_forest.score(X_test, y_test)))\n",
        "print(\"gbrt: 시험용 데이터 세트 정확도: {:.3f}\".format(grid_gbrt.score(X_test, y_test)))"
      ],
      "metadata": {
        "colab": {
          "base_uri": "https://localhost:8080/"
        },
        "id": "A_U6LuNXHgBd",
        "outputId": "97be508d-2f7e-4d4a-8176-5670870d7464"
      },
      "execution_count": null,
      "outputs": [
        {
          "output_type": "stream",
          "name": "stdout",
          "text": [
            "forest: 시험용 데이터 세트 정확도: 0.838\n",
            "gbrt: 시험용 데이터 세트 정확도: 0.824\n"
          ]
        }
      ]
    },
    {
      "cell_type": "markdown",
      "source": [
        "##5. 정오분류표"
      ],
      "metadata": {
        "id": "3FkOPjFnHe5_"
      }
    },
    {
      "cell_type": "code",
      "source": [
        "from sklearn.metrics import accuracy_score, precision_score, recall_score, f1_score\n",
        "from sklearn.metrics import confusion_matrix \n",
        "\n",
        "forest_pred= grid_forest.predict(X_test)\n",
        "gbrt_pred = grid_gbrt.predict(X_test)\n",
        "\n",
        "\n",
        "print('Random forest 시험용 데이터 세트 정확도:{:.3f}'.format(accuracy_score(y_test, forest_pred)))\n",
        "print(confusion_matrix(y_test, forest_pred))\n",
        "print('Gradient boosting 시험용 데이터 세트 정확도:{:.3f}'.format(accuracy_score(y_test, gbrt_pred)))\n",
        "print(confusion_matrix(y_test, gbrt_pred))"
      ],
      "metadata": {
        "colab": {
          "base_uri": "https://localhost:8080/"
        },
        "id": "oUXqN6AnHjdo",
        "outputId": "59ccfd2d-c279-4d59-d7a1-6b56152fe51b"
      },
      "execution_count": null,
      "outputs": [
        {
          "output_type": "stream",
          "name": "stdout",
          "text": [
            "Random forest 시험용 데이터 세트 정확도:0.838\n",
            "[[209  10]\n",
            " [ 38  39]]\n",
            "Gradient boosting 시험용 데이터 세트 정확도:0.824\n",
            "[[208  11]\n",
            " [ 41  36]]\n"
          ]
        }
      ]
    },
    {
      "cell_type": "code",
      "source": [
        "print(\"Random forest\")\n",
        "print('정밀도:{:.3f}'.format(precision_score (y_test, forest_pred, average='binary', pos_label=\"만족\")))  # pos_label = 1 기본값\n",
        "print('재현율:{:.3f}'.format(recall_score(y_test, forest_pred, average='binary', pos_label=\"만족\")))\n",
        "print('f1-measure:{:.3f}'.format(f1_score(y_test, forest_pred, average='binary', pos_label=\"만족\")))\n",
        "\n",
        "print(\"Gradienc boosting\")\n",
        "print('정밀도:{:.3f}'.format(precision_score (y_test, gbrt_pred, average='binary', pos_label=\"만족\")))  # pos_label = 1 기본값\n",
        "print('재현율:{:.3f}'.format(recall_score(y_test, gbrt_pred, average='binary', pos_label=\"만족\")))\n",
        "print('f1-measure:{:.3f}'.format(f1_score(y_test, gbrt_pred, average='binary', pos_label=\"만족\")))\n"
      ],
      "metadata": {
        "colab": {
          "base_uri": "https://localhost:8080/"
        },
        "id": "0CJa_jUnHpDo",
        "outputId": "7420a19f-7da7-4ed4-f8f1-a122cd4963cc"
      },
      "execution_count": null,
      "outputs": [
        {
          "output_type": "stream",
          "name": "stdout",
          "text": [
            "Random forest\n",
            "정밀도:0.846\n",
            "재현율:0.954\n",
            "f1-measure:0.897\n",
            "Gradienc boosting\n",
            "정밀도:0.835\n",
            "재현율:0.950\n",
            "f1-measure:0.889\n"
          ]
        }
      ]
    },
    {
      "cell_type": "markdown",
      "source": [
        "##6. ROC"
      ],
      "metadata": {
        "id": "ur4KL2C_OEYx"
      }
    },
    {
      "cell_type": "code",
      "source": [
        "auc_rf = roc_auc_score(y_test, forest.predict_proba(X_test)[:, -1])\n",
        "auc_gbrt = roc_auc_score(y_test, grid_gbrt.predict_proba(X_test)[:, -1])\n",
        "print(\"Random Forest의 AUC: {:.3f}\".format(auc_rf))\n",
        "print(\"Gradient Boosting의 AUC: {:.3f}\".format(auc_gbrt))"
      ],
      "metadata": {
        "colab": {
          "base_uri": "https://localhost:8080/"
        },
        "id": "MOFxyoxnO8zU",
        "outputId": "5a206d56-c7f4-4c44-ff5c-606e1dd7a9c3"
      },
      "execution_count": null,
      "outputs": [
        {
          "output_type": "stream",
          "name": "stdout",
          "text": [
            "Random Forest의 AUC: 0.889\n",
            "Gradient Boosting의 AUC: 0.862\n"
          ]
        }
      ]
    },
    {
      "cell_type": "markdown",
      "source": [
        "#고객기본정보와 여행활동 정보로 '재방문여부'를 예측할 수 있을까?"
      ],
      "metadata": {
        "id": "WH7b-8vk15gQ"
      }
    },
    {
      "cell_type": "markdown",
      "source": [
        "##1. 랜덤포레스트"
      ],
      "metadata": {
        "id": "-cWMCVxUAqUA"
      }
    },
    {
      "cell_type": "code",
      "source": [
        "df21 = df.drop(['ID', '연도', '학력',  '주5일근무제실시여부', '계절', '차량보유여부', \n",
        "              '지출비용포함인원수', '개인휴가사용여부','시', '여행지선택이유_1순위', '여행지선택이유_2순위',\n",
        "              '만족도_자연경관', '만족도_문화유산', '만족도_교통', '만족도_식당및음식', '만족도_쇼핑',\n",
        "              '만족도_관광정보및안내시설', '만족도_관광지편의시설', '만족도_지역관광종사자의친절성', '만족도_체험프로그램',\n",
        "              '만족도_관광지물가', '만족도_관광지혼잡도', '전반적만족도', '재방문의도', '타인추천의도', '만족도점수','총만족도', '총만족도_이진'], axis = 1)\n",
        "df21.info()"
      ],
      "metadata": {
        "colab": {
          "base_uri": "https://localhost:8080/"
        },
        "id": "bHj1yhA72L0P",
        "outputId": "11457a08-03b5-4b3a-f302-4baefc814492"
      },
      "execution_count": null,
      "outputs": [
        {
          "output_type": "stream",
          "name": "stdout",
          "text": [
            "<class 'pandas.core.frame.DataFrame'>\n",
            "RangeIndex: 1184 entries, 0 to 1183\n",
            "Data columns (total 23 columns):\n",
            " #   Column    Non-Null Count  Dtype \n",
            "---  ------    --------------  ----- \n",
            " 0   성별        1184 non-null   object\n",
            " 1   연령        1184 non-null   object\n",
            " 2   혼인상태      1184 non-null   object\n",
            " 3   거주지역      1184 non-null   object\n",
            " 4   직업        1184 non-null   object\n",
            " 5   주업        1184 non-null   object\n",
            " 6   직장지위      1184 non-null   object\n",
            " 7   개인소득      1184 non-null   object\n",
            " 8   관광휴양여부    1184 non-null   object\n",
            " 9   여행유형      1184 non-null   object\n",
            " 10  월         1184 non-null   object\n",
            " 11  여행일수(박)   1184 non-null   int64 \n",
            " 12  여행총경비     1184 non-null   int64 \n",
            " 13  1인지출비용    1184 non-null   int64 \n",
            " 14  지역코드      1184 non-null   object\n",
            " 15  숙박시설      1184 non-null   object\n",
            " 16  여행활동1     1184 non-null   object\n",
            " 17  여행활동2     1184 non-null   object\n",
            " 18  여행활동3     1184 non-null   object\n",
            " 19  여행활동4     1184 non-null   object\n",
            " 20  여행활동5     1184 non-null   object\n",
            " 21  주요이동교통수단  1184 non-null   object\n",
            " 22  재방문여부     1184 non-null   object\n",
            "dtypes: int64(3), object(20)\n",
            "memory usage: 212.9+ KB\n"
          ]
        }
      ]
    },
    {
      "cell_type": "code",
      "source": [
        "from sklearn.ensemble import RandomForestClassifier\n",
        "\n",
        "X1 = df21.iloc[:, :-1]\n",
        "y1 = df21.iloc[:, -1]\n",
        "\n",
        "X1_train, X1_test, y1_train, y1_test = train_test_split(X1, y1, test_size = 0.25, random_state=3)\n",
        "\n",
        "forest = RandomForestClassifier(n_estimators=100, random_state=3)\n",
        "forest.fit(X1_train, y1_train)\n",
        "\n",
        "print(\"학습용 데이터 세트 정확도: {:.3f}\".format(forest.score(X1_train, y1_train)))\n",
        "print(\"시험용 데이터 세트 정확도: {:.3f}\".format(forest.score(X1_test, y1_test)))"
      ],
      "metadata": {
        "colab": {
          "base_uri": "https://localhost:8080/"
        },
        "id": "TXZJTyew2U1m",
        "outputId": "f8fca8ea-2337-4bbb-abbe-9539a6f252b4"
      },
      "execution_count": null,
      "outputs": [
        {
          "output_type": "stream",
          "name": "stdout",
          "text": [
            "학습용 데이터 세트 정확도: 1.000\n",
            "시험용 데이터 세트 정확도: 0.811\n"
          ]
        }
      ]
    },
    {
      "cell_type": "code",
      "source": [
        "for i in range(3,15):\n",
        "  X1_train, X1_test, y1_train, y1_test = train_test_split(X1, y1, test_size = 0.25, random_state=3)\n",
        "  forest = RandomForestClassifier(n_estimators=100, random_state=3, max_depth = i)\n",
        "  forest.fit(X1_train, y1_train)\n",
        "  print(\"========나무의 깊이:\", i, \"========\")\n",
        "  print(\"학습용 데이터 세트 정확도: {:.3f}\".format(forest.score(X1_train, y1_train)))\n",
        "  print(\"시험용 데이터 세트 정확도: {:.3f}\".format(forest.score(X1_test, y1_test)),\"\\n\")"
      ],
      "metadata": {
        "colab": {
          "base_uri": "https://localhost:8080/"
        },
        "id": "y5GBdh5M3h4q",
        "outputId": "fed18a9d-5df1-4775-8746-523e44e647c7"
      },
      "execution_count": null,
      "outputs": [
        {
          "output_type": "stream",
          "name": "stdout",
          "text": [
            "========나무의 깊이: 3 ========\n",
            "학습용 데이터 세트 정확도: 0.812\n",
            "시험용 데이터 세트 정확도: 0.801 \n",
            "\n",
            "========나무의 깊이: 4 ========\n",
            "학습용 데이터 세트 정확도: 0.814\n",
            "시험용 데이터 세트 정확도: 0.801 \n",
            "\n",
            "========나무의 깊이: 5 ========\n",
            "학습용 데이터 세트 정확도: 0.816\n",
            "시험용 데이터 세트 정확도: 0.801 \n",
            "\n",
            "========나무의 깊이: 6 ========\n",
            "학습용 데이터 세트 정확도: 0.824\n",
            "시험용 데이터 세트 정확도: 0.804 \n",
            "\n",
            "========나무의 깊이: 7 ========\n",
            "학습용 데이터 세트 정확도: 0.831\n",
            "시험용 데이터 세트 정확도: 0.807 \n",
            "\n",
            "========나무의 깊이: 8 ========\n",
            "학습용 데이터 세트 정확도: 0.845\n",
            "시험용 데이터 세트 정확도: 0.807 \n",
            "\n",
            "========나무의 깊이: 9 ========\n",
            "학습용 데이터 세트 정확도: 0.865\n",
            "시험용 데이터 세트 정확도: 0.807 \n",
            "\n",
            "========나무의 깊이: 10 ========\n",
            "학습용 데이터 세트 정확도: 0.887\n",
            "시험용 데이터 세트 정확도: 0.807 \n",
            "\n",
            "========나무의 깊이: 11 ========\n",
            "학습용 데이터 세트 정확도: 0.912\n",
            "시험용 데이터 세트 정확도: 0.804 \n",
            "\n",
            "========나무의 깊이: 12 ========\n",
            "학습용 데이터 세트 정확도: 0.936\n",
            "시험용 데이터 세트 정확도: 0.811 \n",
            "\n",
            "========나무의 깊이: 13 ========\n",
            "학습용 데이터 세트 정확도: 0.959\n",
            "시험용 데이터 세트 정확도: 0.807 \n",
            "\n",
            "========나무의 깊이: 14 ========\n",
            "학습용 데이터 세트 정확도: 0.981\n",
            "시험용 데이터 세트 정확도: 0.804 \n",
            "\n"
          ]
        }
      ]
    },
    {
      "cell_type": "code",
      "source": [
        "#max_depth = 12\n",
        "X1_train, X1_test, y1_train, y1_test = train_test_split(X1, y1, test_size = 0.25, random_state=3)\n",
        "forest = RandomForestClassifier(n_estimators=100, random_state=3, max_depth = 12)\n",
        "forest.fit(X1_train, y1_train)"
      ],
      "metadata": {
        "colab": {
          "base_uri": "https://localhost:8080/"
        },
        "id": "E-cMecUM30ii",
        "outputId": "b59388aa-a15d-4b0b-882e-e7d50551eb47"
      },
      "execution_count": null,
      "outputs": [
        {
          "output_type": "execute_result",
          "data": {
            "text/plain": [
              "RandomForestClassifier(max_depth=12, random_state=3)"
            ]
          },
          "metadata": {},
          "execution_count": 56
        }
      ]
    },
    {
      "cell_type": "code",
      "source": [
        "def plot_feature_importances(model):\n",
        "    plt.rcParams[\"figure.figsize\"] = (9,6)\n",
        "    plt.rc('font', family='NanumBarunGothic') \n",
        "    n_features = len(df21.columns[:-1])\n",
        "    plt.barh(np.arange(n_features), model.feature_importances_, align='center') \n",
        "    plt.yticks(np.arange(n_features), df21.columns[:-1])  \n",
        "    plt.xlabel(\"feature importance\")\n",
        "    plt.ylabel(\"feature\")\n",
        "    plt.ylim(-1, n_features)\n",
        "\n",
        "plot_feature_importances(forest)"
      ],
      "metadata": {
        "colab": {
          "base_uri": "https://localhost:8080/",
          "height": 389
        },
        "id": "9Nikq_Fh36hI",
        "outputId": "c90dcdfd-4376-403f-f763-8e6fe174e212"
      },
      "execution_count": null,
      "outputs": [
        {
          "output_type": "display_data",
          "data": {
            "text/plain": [
              "<Figure size 648x432 with 1 Axes>"
            ],
            "image/png": "[encoded data removed]"
          },
          "metadata": {
            "needs_background": "light"
          }
        }
      ]
    },
    {
      "cell_type": "markdown",
      "source": [
        "##2. 그래디언트부스팅"
      ],
      "metadata": {
        "id": "xydz3sMvB7we"
      }
    },
    {
      "cell_type": "code",
      "source": [
        "from sklearn.ensemble import GradientBoostingClassifier # 기본값은 max_depth= 3, n_estimators=100, learning_rate = 0.1\n",
        "\n",
        "X1 = df21.iloc[:, :-1]\n",
        "y1 = df21.iloc[:, -1]\n",
        "X1_train, X1_test, y1_train, y1_test = train_test_split(X1, y1, test_size = 0.25, random_state=3)\n",
        "\n",
        "gbrt = GradientBoostingClassifier(random_state=3)\n",
        "gbrt.fit(X1_train, y1_train)\n",
        "print(\"학습용 데이터 세트 정확도: {:.3f}\".format(gbrt.score(X1_train, y1_train)))\n",
        "print(\"시험용 데이터 세트 정확도: {:.3f}\".format(gbrt.score(X1_test, y1_test)))"
      ],
      "metadata": {
        "colab": {
          "base_uri": "https://localhost:8080/"
        },
        "id": "hllwNidXAhV2",
        "outputId": "40df7e95-823e-431b-bd1c-7c825fc2e373"
      },
      "execution_count": null,
      "outputs": [
        {
          "output_type": "stream",
          "name": "stdout",
          "text": [
            "학습용 데이터 세트 정확도: 0.874\n",
            "시험용 데이터 세트 정확도: 0.811\n"
          ]
        }
      ]
    },
    {
      "cell_type": "code",
      "source": [
        "for i in range(3,7):\n",
        "  gbrt = GradientBoostingClassifier(random_state=3, max_depth = i)  \n",
        "  gbrt.fit(X1_train, y1_train)\n",
        "  print(\"========나무의 깊이:\", i, \"========\")\n",
        "  print(\"학습용 데이터 세트 정확도: {:.3f}\".format(gbrt.score(X1_train, y1_train)))\n",
        "  print(\"시험용 데이터 세트 정확도: {:.3f}\".format(gbrt.score(X1_test, y1_test)), \"\\n\")"
      ],
      "metadata": {
        "colab": {
          "base_uri": "https://localhost:8080/"
        },
        "id": "9qa9YBHoB99Q",
        "outputId": "1a891afc-f9db-4a45-c71a-e851d361538c"
      },
      "execution_count": null,
      "outputs": [
        {
          "output_type": "stream",
          "name": "stdout",
          "text": [
            "========나무의 깊이: 3 ========\n",
            "학습용 데이터 세트 정확도: 0.874\n",
            "시험용 데이터 세트 정확도: 0.811 \n",
            "\n",
            "========나무의 깊이: 4 ========\n",
            "학습용 데이터 세트 정확도: 0.946\n",
            "시험용 데이터 세트 정확도: 0.794 \n",
            "\n",
            "========나무의 깊이: 5 ========\n",
            "학습용 데이터 세트 정확도: 0.974\n",
            "시험용 데이터 세트 정확도: 0.797 \n",
            "\n",
            "========나무의 깊이: 6 ========\n",
            "학습용 데이터 세트 정확도: 1.000\n",
            "시험용 데이터 세트 정확도: 0.797 \n",
            "\n"
          ]
        }
      ]
    },
    {
      "cell_type": "code",
      "source": [
        "for j in range(1, 101, 5):\n",
        "  i = j/1000\n",
        "  gbrt = GradientBoostingClassifier(random_state=3, max_depth = 3, learning_rate = i)  \n",
        "  gbrt.fit(X1_train, y1_train)\n",
        "  print(\"========학습률:\", i, \"========\")\n",
        "  print(\"학습용 데이터 세트 정확도: {:.3f}\".format(gbrt.score(X1_train, y1_train)))\n",
        "  print(\"시험용 데이터 세트 정확도: {:.3f}\".format(gbrt.score(X1_test, y1_test)), \"\\n\")\n"
      ],
      "metadata": {
        "colab": {
          "base_uri": "https://localhost:8080/"
        },
        "id": "BFCKPSsqCDIF",
        "outputId": "cf6de943-cad9-44bf-c69f-4cfecbb4152f"
      },
      "execution_count": null,
      "outputs": [
        {
          "output_type": "stream",
          "name": "stdout",
          "text": [
            "========학습률: 0.001 ========\n",
            "학습용 데이터 세트 정확도: 0.811\n",
            "시험용 데이터 세트 정확도: 0.801 \n",
            "\n",
            "========학습률: 0.006 ========\n",
            "학습용 데이터 세트 정확도: 0.811\n",
            "시험용 데이터 세트 정확도: 0.801 \n",
            "\n",
            "========학습률: 0.011 ========\n",
            "학습용 데이터 세트 정확도: 0.818\n",
            "시험용 데이터 세트 정확도: 0.807 \n",
            "\n",
            "========학습률: 0.016 ========\n",
            "학습용 데이터 세트 정확도: 0.824\n",
            "시험용 데이터 세트 정확도: 0.807 \n",
            "\n",
            "========학습률: 0.021 ========\n",
            "학습용 데이터 세트 정확도: 0.828\n",
            "시험용 데이터 세트 정확도: 0.811 \n",
            "\n",
            "========학습률: 0.026 ========\n",
            "학습용 데이터 세트 정확도: 0.829\n",
            "시험용 데이터 세트 정확도: 0.811 \n",
            "\n",
            "========학습률: 0.031 ========\n",
            "학습용 데이터 세트 정확도: 0.834\n",
            "시험용 데이터 세트 정확도: 0.814 \n",
            "\n",
            "========학습률: 0.036 ========\n",
            "학습용 데이터 세트 정확도: 0.836\n",
            "시험용 데이터 세트 정확도: 0.814 \n",
            "\n",
            "========학습률: 0.041 ========\n",
            "학습용 데이터 세트 정확도: 0.837\n",
            "시험용 데이터 세트 정확도: 0.814 \n",
            "\n",
            "========학습률: 0.046 ========\n",
            "학습용 데이터 세트 정확도: 0.838\n",
            "시험용 데이터 세트 정확도: 0.814 \n",
            "\n",
            "========학습률: 0.051 ========\n",
            "학습용 데이터 세트 정확도: 0.840\n",
            "시험용 데이터 세트 정확도: 0.814 \n",
            "\n",
            "========학습률: 0.056 ========\n",
            "학습용 데이터 세트 정확도: 0.843\n",
            "시험용 데이터 세트 정확도: 0.811 \n",
            "\n",
            "========학습률: 0.061 ========\n",
            "학습용 데이터 세트 정확도: 0.849\n",
            "시험용 데이터 세트 정확도: 0.814 \n",
            "\n",
            "========학습률: 0.066 ========\n",
            "학습용 데이터 세트 정확도: 0.855\n",
            "시험용 데이터 세트 정확도: 0.814 \n",
            "\n",
            "========학습률: 0.071 ========\n",
            "학습용 데이터 세트 정확도: 0.858\n",
            "시험용 데이터 세트 정확도: 0.811 \n",
            "\n",
            "========학습률: 0.076 ========\n",
            "학습용 데이터 세트 정확도: 0.855\n",
            "시험용 데이터 세트 정확도: 0.814 \n",
            "\n",
            "========학습률: 0.081 ========\n",
            "학습용 데이터 세트 정확도: 0.864\n",
            "시험용 데이터 세트 정확도: 0.807 \n",
            "\n",
            "========학습률: 0.086 ========\n",
            "학습용 데이터 세트 정확도: 0.860\n",
            "시험용 데이터 세트 정확도: 0.811 \n",
            "\n",
            "========학습률: 0.091 ========\n",
            "학습용 데이터 세트 정확도: 0.867\n",
            "시험용 데이터 세트 정확도: 0.811 \n",
            "\n",
            "========학습률: 0.096 ========\n",
            "학습용 데이터 세트 정확도: 0.875\n",
            "시험용 데이터 세트 정확도: 0.804 \n",
            "\n"
          ]
        }
      ]
    },
    {
      "cell_type": "code",
      "source": [
        "gbrt = GradientBoostingClassifier(random_state=0, learning_rate = 0.076, max_depth = 3)    #학습률: 0.076\n",
        "gbrt.fit(X1_train, y1_train)\n",
        "print(\"학습용 데이터 세트 정확도: {:.3f}\".format(gbrt.score(X1_train, y1_train)))\n",
        "print(\"시험용 데이터 세트 정확도: {:.3f}\".format(gbrt.score(X1_test, y1_test)))"
      ],
      "metadata": {
        "colab": {
          "base_uri": "https://localhost:8080/"
        },
        "id": "NHydbTDhBxzl",
        "outputId": "52ec5761-2c53-4655-ae08-c5bb63f8c7db"
      },
      "execution_count": null,
      "outputs": [
        {
          "output_type": "stream",
          "name": "stdout",
          "text": [
            "학습용 데이터 세트 정확도: 0.855\n",
            "시험용 데이터 세트 정확도: 0.814\n"
          ]
        }
      ]
    },
    {
      "cell_type": "code",
      "source": [
        "def plot_feature_importances(model):\n",
        "    plt.rcParams[\"figure.figsize\"] = (9,6)\n",
        "    plt.rc('font', family='NanumBarunGothic') \n",
        "    n_features = len(df21.columns[:-1])\n",
        "    plt.barh(np.arange(n_features), model.feature_importances_, align='center') \n",
        "    plt.yticks(np.arange(n_features), df21.columns[:-1])  \n",
        "    plt.xlabel(\"feature importance\")\n",
        "    plt.ylabel(\"feature\")\n",
        "    plt.ylim(-1, n_features)\n",
        "\n",
        "plot_feature_importances(gbrt)"
      ],
      "metadata": {
        "colab": {
          "base_uri": "https://localhost:8080/",
          "height": 389
        },
        "id": "0sE93rtEBxxE",
        "outputId": "015d68af-36f0-4386-9af8-4486b5130a39"
      },
      "execution_count": null,
      "outputs": [
        {
          "output_type": "display_data",
          "data": {
            "text/plain": [
              "<Figure size 648x432 with 1 Axes>"
            ],
            "image/png": "[encoded data removed]"
          },
          "metadata": {
            "needs_background": "light"
          }
        }
      ]
    },
    {
      "cell_type": "markdown",
      "source": [
        "##3. 교차검증"
      ],
      "metadata": {
        "id": "Og9ZB0rhH4es"
      }
    },
    {
      "cell_type": "code",
      "source": [
        "rf_scores = cross_val_score(forest, X1_train, y1_train, cv=10, scoring='accuracy')\n",
        "gbrt_scores = cross_val_score(gbrt, X1_train, y1_train, cv=10, scoring='accuracy')\n",
        "\n",
        "print(\"Accuracy mean\")\n",
        "print(\"Random forest :{:.3f}\".format(rf_scores.mean())) \n",
        "print(\"Gradient boosting :{:.3f}\".format(gbrt_scores.mean())) "
      ],
      "metadata": {
        "colab": {
          "base_uri": "https://localhost:8080/"
        },
        "id": "FaSa9x14H7TS",
        "outputId": "4c42927a-db1b-45d7-c114-85d1beb95a5f"
      },
      "execution_count": null,
      "outputs": [
        {
          "output_type": "stream",
          "name": "stdout",
          "text": [
            "Accuracy mean\n",
            "Random forest :0.814\n",
            "Gradient boosting :0.815\n"
          ]
        }
      ]
    },
    {
      "cell_type": "markdown",
      "source": [
        "##4. 그리드서치"
      ],
      "metadata": {
        "id": "cVuoQGPtH8vE"
      }
    },
    {
      "cell_type": "code",
      "source": [
        "from sklearn.model_selection import GridSearchCV\n",
        "\n",
        "# 파라미터를 dictionary 형태로 설정\n",
        "parameters1 = {'max_depth':[3,5,6,7,8], 'n_estimators':[80, 90, 100]}\n",
        "parameters2 = {'max_depth':[1,3,5,6,7], 'learning_rate':[0.1,0.02,0.08, 0.01]}\n",
        "\n",
        "grid_forest = GridSearchCV(forest, param_grid=parameters1, cv=5, refit=True)\n",
        "grid_forest.fit(X1_train, y1_train)\n",
        "\n",
        "print('GridSearchCV 최적 파라미터:', grid_forest.best_params_)\n",
        "print('GridSearchCV 최고 정확도: {0:.4f}'.format(grid_forest.best_score_))\n",
        "\n",
        "grid_gbrt = GridSearchCV(gbrt, param_grid=parameters2, cv=5, refit=True)\n",
        "grid_gbrt.fit(X1_train, y1_train)\n",
        "\n",
        "print('GridSearchCV 최적 파라미터:', grid_gbrt.best_params_)\n",
        "print('GridSearchCV 최고 정확도: {0:.4f}'.format(grid_gbrt.best_score_))"
      ],
      "metadata": {
        "colab": {
          "base_uri": "https://localhost:8080/"
        },
        "id": "SZDo3dtTH-UK",
        "outputId": "363789dd-c0fe-45b3-cadd-0128f47496c9"
      },
      "execution_count": null,
      "outputs": [
        {
          "output_type": "stream",
          "name": "stdout",
          "text": [
            "GridSearchCV 최적 파라미터: {'max_depth': 8, 'n_estimators': 100}\n",
            "GridSearchCV 최고 정확도: 0.8176\n",
            "GridSearchCV 최적 파라미터: {'learning_rate': 0.1, 'max_depth': 3}\n",
            "GridSearchCV 최고 정확도: 0.8243\n"
          ]
        }
      ]
    },
    {
      "cell_type": "code",
      "source": [
        "print(\"forest: 시험용 데이터 세트 정확도: {:.3f}\".format(grid_forest.score(X1_test, y1_test)))\n",
        "print(\"gbrt: 시험용 데이터 세트 정확도: {:.3f}\".format(grid_gbrt.score(X1_test, y1_test)))"
      ],
      "metadata": {
        "colab": {
          "base_uri": "https://localhost:8080/"
        },
        "id": "Q_UScmIgIA15",
        "outputId": "08e999db-d89e-4a69-85d0-d82e52a36add"
      },
      "execution_count": null,
      "outputs": [
        {
          "output_type": "stream",
          "name": "stdout",
          "text": [
            "forest: 시험용 데이터 세트 정확도: 0.807\n",
            "gbrt: 시험용 데이터 세트 정확도: 0.811\n"
          ]
        }
      ]
    },
    {
      "cell_type": "markdown",
      "source": [
        "##5. 정오분류표"
      ],
      "metadata": {
        "id": "N8YUZNrcICOh"
      }
    },
    {
      "cell_type": "code",
      "source": [
        "from sklearn.metrics import accuracy_score, precision_score, recall_score, f1_score\n",
        "from sklearn.metrics import confusion_matrix \n",
        "\n",
        "forest_pred = grid_forest.predict(X1_test)\n",
        "gbrt_pred = grid_gbrt.predict(X1_test)\n",
        "\n",
        "print('Random forest 시험용 데이터 세트 정확도:{:.3f}'.format(accuracy_score(y1_test, forest_pred)))\n",
        "print(confusion_matrix(y1_test, forest_pred))\n",
        "print('Gradient boosting 시험용 데이터 세트 정확도:{:.3f}'.format(accuracy_score(y1_test, gbrt_pred)))\n",
        "print(confusion_matrix(y1_test, gbrt_pred))"
      ],
      "metadata": {
        "colab": {
          "base_uri": "https://localhost:8080/"
        },
        "id": "vGZ0fOUqID6k",
        "outputId": "f1aea268-e742-4759-e299-80500074e5a2"
      },
      "execution_count": null,
      "outputs": [
        {
          "output_type": "stream",
          "name": "stdout",
          "text": [
            "Random forest 시험용 데이터 세트 정확도:0.807\n",
            "[[  2  57]\n",
            " [  0 237]]\n",
            "Gradient boosting 시험용 데이터 세트 정확도:0.811\n",
            "[[  5  54]\n",
            " [  2 235]]\n"
          ]
        }
      ]
    },
    {
      "cell_type": "code",
      "source": [
        "print(\"Random forest\")\n",
        "print('정밀도:{:.3f}'.format(precision_score (y1_test, forest_pred, average='binary', pos_label=\"재방문YES\")))  # pos_label = 1 기본값\n",
        "print('재현율:{:.3f}'.format(recall_score(y1_test, forest_pred, average='binary', pos_label=\"재방문YES\")))\n",
        "print('f1-measure:{:.3f}'.format(f1_score(y1_test, forest_pred, average='binary', pos_label=\"재방문YES\")))\n",
        "\n",
        "print(\"Gradienc boosting\")\n",
        "print('정밀도:{:.3f}'.format(precision_score (y1_test, gbrt_pred, average='binary', pos_label=\"재방문YES\")))  # pos_label = 1 기본값\n",
        "print('재현율:{:.3f}'.format(recall_score(y1_test, gbrt_pred, average='binary', pos_label=\"재방문YES\")))\n",
        "print('f1-measure:{:.3f}'.format(f1_score(y1_test, gbrt_pred, average='binary', pos_label=\"재방문YES\")))"
      ],
      "metadata": {
        "colab": {
          "base_uri": "https://localhost:8080/"
        },
        "id": "gkgoabt2IFp3",
        "outputId": "9a8c26af-d5b8-45a9-99e6-35bc009cbede"
      },
      "execution_count": null,
      "outputs": [
        {
          "output_type": "stream",
          "name": "stdout",
          "text": [
            "Random forest\n",
            "정밀도:0.806\n",
            "재현율:1.000\n",
            "f1-measure:0.893\n",
            "Gradienc boosting\n",
            "정밀도:0.813\n",
            "재현율:0.992\n",
            "f1-measure:0.894\n"
          ]
        }
      ]
    },
    {
      "cell_type": "markdown",
      "source": [
        "##6. ROC"
      ],
      "metadata": {
        "id": "mdikUsgAJa-r"
      }
    },
    {
      "cell_type": "code",
      "source": [
        "X1 = df21.iloc[:, :-1]\n",
        "y1 = df21.iloc[:, -1]\n",
        "X1_train, X1_test, y1_train, y1_test = train_test_split(X1, y1, test_size = 0.25, random_state=3)"
      ],
      "metadata": {
        "id": "epQK1liDc7qe"
      },
      "execution_count": null,
      "outputs": []
    },
    {
      "cell_type": "code",
      "source": [
        "X1.columns"
      ],
      "metadata": {
        "colab": {
          "base_uri": "https://localhost:8080/"
        },
        "id": "Z7bnPZSYiDYM",
        "outputId": "b9840c5e-88ea-4bed-a3ab-45615b03f17a"
      },
      "execution_count": null,
      "outputs": [
        {
          "output_type": "execute_result",
          "data": {
            "text/plain": [
              "Index(['성별', '연령', '혼인상태', '거주지역', '직업', '주업', '직장지위', '개인소득', '관광휴양여부',\n",
              "       '여행유형', '월', '여행일수(박)', '여행총경비', '1인지출비용', '지역코드', '숙박시설', '여행활동1',\n",
              "       '여행활동2', '여행활동3', '여행활동4', '여행활동5', '주요이동교통수단'],\n",
              "      dtype='object')"
            ]
          },
          "metadata": {},
          "execution_count": 69
        }
      ]
    },
    {
      "cell_type": "code",
      "source": [
        "forest = RandomForestClassifier(n_estimators=100, random_state=3, max_depth = 12)\n",
        "forest.fit(X1_train, y1_train)\n",
        "print(\"학습용 데이터 세트 정확도: {:.3f}\".format(forest.score(X1_train, y1_train)))\n",
        "print(\"시험용 데이터 세트 정확도: {:.3f}\".format(forest.score(X1_test, y1_test)))\n",
        "\n",
        "\n",
        "gbrt = GradientBoostingClassifier(random_state=0, learning_rate = 0.076, max_depth = 3)    #학습률: 0.076\n",
        "gbrt.fit(X1_train, y1_train)\n",
        "print(\"학습용 데이터 세트 정확도: {:.3f}\".format(gbrt.score(X1_train, y1_train)))\n",
        "print(\"시험용 데이터 세트 정확도: {:.3f}\".format(gbrt.score(X1_test, y1_test)))"
      ],
      "metadata": {
        "colab": {
          "base_uri": "https://localhost:8080/"
        },
        "id": "D1BHRa0udCty",
        "outputId": "cecfd671-f8a8-43ab-afb9-571b921c3feb"
      },
      "execution_count": null,
      "outputs": [
        {
          "output_type": "stream",
          "name": "stdout",
          "text": [
            "학습용 데이터 세트 정확도: 0.936\n",
            "시험용 데이터 세트 정확도: 0.811\n",
            "학습용 데이터 세트 정확도: 0.855\n",
            "시험용 데이터 세트 정확도: 0.814\n"
          ]
        }
      ]
    },
    {
      "cell_type": "code",
      "source": [
        "X1_test.columns"
      ],
      "metadata": {
        "colab": {
          "base_uri": "https://localhost:8080/"
        },
        "id": "kLDgHMR3cZAr",
        "outputId": "15139da8-ee7c-414f-a5e7-2ac4641c8f10"
      },
      "execution_count": null,
      "outputs": [
        {
          "output_type": "execute_result",
          "data": {
            "text/plain": [
              "Index(['성별', '연령', '혼인상태', '거주지역', '직업', '주업', '직장지위', '개인소득', '관광휴양여부',\n",
              "       '여행유형', '월', '여행일수(박)', '여행총경비', '1인지출비용', '지역코드', '숙박시설', '여행활동1',\n",
              "       '여행활동2', '여행활동3', '여행활동4', '여행활동5', '주요이동교통수단'],\n",
              "      dtype='object')"
            ]
          },
          "metadata": {},
          "execution_count": 71
        }
      ]
    },
    {
      "cell_type": "code",
      "source": [
        "from sklearn.metrics import roc_auc_score, roc_curve\n",
        "\n",
        "fpr_rf, tpr_rf, cutoff_rf = roc_curve(y1_test, forest.predict_proba(X1_test)[:, -1], pos_label=\"재방문YES\")\n",
        "fpr_gbrt, tpr_gbrt, cutoff_gbrt = roc_curve(y1_test, grid_gbrt.predict_proba(X1_test)[:, -1], pos_label=\"재방문YES\")\n",
        "\n",
        "plt.plot(fpr_rf, tpr_rf, label=\"Random Forest ROC Curve\")\n",
        "plt.plot(fpr_gbrt, tpr_gbrt, label=\"Gradient Boosting ROC Curve\")\n",
        "plt.plot([0,1], [0, 1], \"k--\", label =\"Random\") \n",
        "\n",
        "plt.xlabel(\"False Positive Rate\") \n",
        "plt.ylabel(\"True Positive Rate\")\n",
        "\n",
        "plt.legend(loc=4)\n",
        "plt.show() "
      ],
      "metadata": {
        "colab": {
          "base_uri": "https://localhost:8080/",
          "height": 388
        },
        "id": "3Dy29BQEKYiT",
        "outputId": "2c22c46f-5bcd-4a9f-9908-d992f69cec8d"
      },
      "execution_count": null,
      "outputs": [
        {
          "output_type": "display_data",
          "data": {
            "text/plain": [
              "<Figure size 648x432 with 1 Axes>"
            ],
            "image/png": "[encoded data removed]"
          },
          "metadata": {
            "needs_background": "light"
          }
        }
      ]
    },
    {
      "cell_type": "code",
      "source": [
        "auc_rf = roc_auc_score(y1_test, forest.predict_proba(X1_test)[:, -1])\n",
        "auc_gbrt = roc_auc_score(y1_test, grid_gbrt.predict_proba(X1_test)[:, -1])\n",
        "print(\"Random Forest의 AUC: {:.3f}\".format(auc_rf))\n",
        "print(\"Gradient Boosting의 AUC: {:.3f}\".format(auc_gbrt))"
      ],
      "metadata": {
        "colab": {
          "base_uri": "https://localhost:8080/"
        },
        "id": "IsKsI4Q7JgW2",
        "outputId": "8f9f63f8-e829-40a6-f3c7-278d57bf9e99"
      },
      "execution_count": null,
      "outputs": [
        {
          "output_type": "stream",
          "name": "stdout",
          "text": [
            "Random Forest의 AUC: 0.673\n",
            "Gradient Boosting의 AUC: 0.652\n"
          ]
        }
      ]
    },
    {
      "cell_type": "markdown",
      "source": [
        "#고객의 개인정보와 여행 만족도 정보만으로 '재방문여부'를 예측할 수 있을까?"
      ],
      "metadata": {
        "id": "0IvQtHsBAh0K"
      }
    },
    {
      "cell_type": "code",
      "source": [
        "df22 = df.drop(['ID', '연도', '학력',  '주5일근무제실시여부', '계절', '차량보유여부', \n",
        "              '지출비용포함인원수', '개인휴가사용여부','시', \n",
        "              '여행활동1','여행활동2','여행활동3','여행활동4','여행활동5',\n",
        "              '전반적만족도', '재방문의도', '타인추천의도', '만족도점수','총만족도', '총만족도_이진'], axis = 1)\n",
        "df22.info()"
      ],
      "metadata": {
        "id": "kU-aJkjxLrnh",
        "colab": {
          "base_uri": "https://localhost:8080/"
        },
        "outputId": "c071a284-14d2-4f0e-ee82-7c2da2605b8c"
      },
      "execution_count": null,
      "outputs": [
        {
          "output_type": "stream",
          "name": "stdout",
          "text": [
            "<class 'pandas.core.frame.DataFrame'>\n",
            "RangeIndex: 1184 entries, 0 to 1183\n",
            "Data columns (total 31 columns):\n",
            " #   Column           Non-Null Count  Dtype \n",
            "---  ------           --------------  ----- \n",
            " 0   성별               1184 non-null   object\n",
            " 1   연령               1184 non-null   object\n",
            " 2   혼인상태             1184 non-null   object\n",
            " 3   거주지역             1184 non-null   object\n",
            " 4   직업               1184 non-null   object\n",
            " 5   주업               1184 non-null   object\n",
            " 6   직장지위             1184 non-null   object\n",
            " 7   개인소득             1184 non-null   object\n",
            " 8   관광휴양여부           1184 non-null   object\n",
            " 9   여행유형             1184 non-null   object\n",
            " 10  월                1184 non-null   object\n",
            " 11  여행일수(박)          1184 non-null   int64 \n",
            " 12  여행총경비            1184 non-null   int64 \n",
            " 13  1인지출비용           1184 non-null   int64 \n",
            " 14  지역코드             1184 non-null   object\n",
            " 15  숙박시설             1184 non-null   object\n",
            " 16  주요이동교통수단         1184 non-null   object\n",
            " 17  여행지선택이유_1순위      1184 non-null   object\n",
            " 18  여행지선택이유_2순위      1184 non-null   object\n",
            " 19  만족도_자연경관         1184 non-null   object\n",
            " 20  만족도_문화유산         1184 non-null   object\n",
            " 21  만족도_교통           1184 non-null   object\n",
            " 22  만족도_식당및음식        1184 non-null   object\n",
            " 23  만족도_쇼핑           1184 non-null   object\n",
            " 24  만족도_관광정보및안내시설    1184 non-null   object\n",
            " 25  만족도_관광지편의시설      1184 non-null   object\n",
            " 26  만족도_지역관광종사자의친절성  1184 non-null   object\n",
            " 27  만족도_체험프로그램       1184 non-null   object\n",
            " 28  만족도_관광지물가        1184 non-null   object\n",
            " 29  만족도_관광지혼잡도       1184 non-null   object\n",
            " 30  재방문여부            1184 non-null   object\n",
            "dtypes: int64(3), object(28)\n",
            "memory usage: 286.9+ KB\n"
          ]
        }
      ]
    },
    {
      "cell_type": "code",
      "source": [
        "from sklearn.tree import DecisionTreeClassifier\n",
        "from sklearn.model_selection import train_test_split\n",
        "\n",
        "X = df22.iloc[:, :-1]\n",
        "y = df22.iloc[:, -1]\n",
        "X_train, X_test, y_train, y_test = train_test_split(X, y, test_size = 0.25, random_state=3)\n",
        "tree = DecisionTreeClassifier(max_depth=8, random_state=0)\n",
        "tree.fit(X_train, y_train)\n",
        "\n",
        "print(\"학습용 데이터 정확도: {:.3f}\".format(tree.score(X_train, y_train)))\n",
        "print(\"시험용 데이터 정확도: {:.3f}\".format(tree.score(X_test, y_test)))\n",
        "\n",
        "from sklearn.tree import export_graphviz\n",
        "import graphviz\n",
        "\n",
        "export_graphviz(tree, out_file=\"tree.dot\", class_names=[ \"0\", \"1\"],\n",
        "                feature_names=df22.columns[:-1], impurity=True, filled=True)\n",
        "\n",
        "with open(\"tree.dot\") as f:\n",
        "    dot_graph = f.read()\n",
        "\n",
        "display(graphviz.Source(dot_graph))"
      ],
      "metadata": {
        "colab": {
          "base_uri": "https://localhost:8080/",
          "height": 1000
        },
        "id": "U2S7Vc63DOjX",
        "outputId": "6f241ceb-0146-4b87-83a6-73e2dbca3f99"
      },
      "execution_count": null,
      "outputs": [
        {
          "output_type": "stream",
          "name": "stdout",
          "text": [
            "학습용 데이터 정확도: 0.941\n",
            "시험용 데이터 정확도: 0.838\n"
          ]
        },
        {
          "output_type": "display_data",
          "data": {
            "text/plain": [
              "<graphviz.files.Source at 0x7fdfca7da730>"
            ],
            "image/svg+xml": "<?xml version=\"1.0\" encoding=\"UTF-8\" standalone=\"no\"?>\n<!DOCTYPE svg PUBLIC \"-//W3C//DTD SVG 1.1//EN\"\n \"http://www.w3.org/Graphics/SVG/1.1/DTD/svg11.dtd\">\n<!-- Generated by graphviz version 2.40.1 (20161225.0304)\n -->\n<!-- Title: Tree Pages: 1 -->\n<svg width=\"4491pt\" height=\"1028pt\"\n viewBox=\"0.00 0.00 4491.00 1028.00\" xmlns=\"http://www.w3.org/2000/svg\" xmlns:xlink=\"http://www.w3.org/1999/xlink\">\n<g id=\"graph0\" class=\"graph\" transform=\"scale(1 1) rotate(0) translate(4 1024)\">\n<title>Tree</title>\n<polygon fill=\"#ffffff\" stroke=\"transparent\" points=\"-4,4 -4,-1024 4487,-1024 4487,4 -4,4\"/>\n<!-- 0 -->\n<g id=\"node1\" class=\"node\">\n<title>0</title>\n<polygon fill=\"#67b4eb\" stroke=\"#000000\" points=\"899.5,-1020 735.5,-1020 735.5,-937 899.5,-937 899.5,-1020\"/>\n<text text-anchor=\"middle\" x=\"817.5\" y=\"-1004.8\" font-family=\"Helvetica,sans-Serif\" font-size=\"14.00\" fill=\"#000000\">만족도_자연경관 &lt;= 3.5</text>\n<text text-anchor=\"middle\" x=\"817.5\" y=\"-989.8\" font-family=\"Helvetica,sans-Serif\" font-size=\"14.00\" fill=\"#000000\">gini = 0.307</text>\n<text text-anchor=\"middle\" x=\"817.5\" y=\"-974.8\" font-family=\"Helvetica,sans-Serif\" font-size=\"14.00\" fill=\"#000000\">samples = 888</text>\n<text text-anchor=\"middle\" x=\"817.5\" y=\"-959.8\" font-family=\"Helvetica,sans-Serif\" font-size=\"14.00\" fill=\"#000000\">value = [168, 720]</text>\n<text text-anchor=\"middle\" x=\"817.5\" y=\"-944.8\" font-family=\"Helvetica,sans-Serif\" font-size=\"14.00\" fill=\"#000000\">class = 1</text>\n</g>\n<!-- 1 -->\n<g id=\"node2\" class=\"node\">\n<title>1</title>\n<polygon fill=\"#f5d0b6\" stroke=\"#000000\" points=\"657.5,-901 453.5,-901 453.5,-818 657.5,-818 657.5,-901\"/>\n<text text-anchor=\"middle\" x=\"555.5\" y=\"-885.8\" font-family=\"Helvetica,sans-Serif\" font-size=\"14.00\" fill=\"#000000\">만족도_관광지편의시설 &lt;= 3.5</text>\n<text text-anchor=\"middle\" x=\"555.5\" y=\"-870.8\" font-family=\"Helvetica,sans-Serif\" font-size=\"14.00\" fill=\"#000000\">gini = 0.474</text>\n<text text-anchor=\"middle\" x=\"555.5\" y=\"-855.8\" font-family=\"Helvetica,sans-Serif\" font-size=\"14.00\" fill=\"#000000\">samples = 88</text>\n<text text-anchor=\"middle\" x=\"555.5\" y=\"-840.8\" font-family=\"Helvetica,sans-Serif\" font-size=\"14.00\" fill=\"#000000\">value = [54, 34]</text>\n<text text-anchor=\"middle\" x=\"555.5\" y=\"-825.8\" font-family=\"Helvetica,sans-Serif\" font-size=\"14.00\" fill=\"#000000\">class = 0</text>\n</g>\n<!-- 0&#45;&gt;1 -->\n<g id=\"edge1\" class=\"edge\">\n<title>0&#45;&gt;1</title>\n<path fill=\"none\" stroke=\"#000000\" d=\"M735.3204,-941.1742C710.217,-929.7722 682.3226,-917.1026 656.1403,-905.2107\"/>\n<polygon fill=\"#000000\" stroke=\"#000000\" points=\"657.5104,-901.9889 646.9581,-901.0401 654.6156,-908.3623 657.5104,-901.9889\"/>\n<text text-anchor=\"middle\" x=\"655.7429\" y=\"-920.7458\" font-family=\"Helvetica,sans-Serif\" font-size=\"14.00\" fill=\"#000000\">True</text>\n</g>\n<!-- 32 -->\n<g id=\"node33\" class=\"node\">\n<title>32</title>\n<polygon fill=\"#5aade9\" stroke=\"#000000\" points=\"1274.5,-901 1016.5,-901 1016.5,-818 1274.5,-818 1274.5,-901\"/>\n<text text-anchor=\"middle\" x=\"1145.5\" y=\"-885.8\" font-family=\"Helvetica,sans-Serif\" font-size=\"14.00\" fill=\"#000000\">만족도_지역관광종사자의친절성 &lt;= 3.5</text>\n<text text-anchor=\"middle\" x=\"1145.5\" y=\"-870.8\" font-family=\"Helvetica,sans-Serif\" font-size=\"14.00\" fill=\"#000000\">gini = 0.244</text>\n<text text-anchor=\"middle\" x=\"1145.5\" y=\"-855.8\" font-family=\"Helvetica,sans-Serif\" font-size=\"14.00\" fill=\"#000000\">samples = 800</text>\n<text text-anchor=\"middle\" x=\"1145.5\" y=\"-840.8\" font-family=\"Helvetica,sans-Serif\" font-size=\"14.00\" fill=\"#000000\">value = [114, 686]</text>\n<text text-anchor=\"middle\" x=\"1145.5\" y=\"-825.8\" font-family=\"Helvetica,sans-Serif\" font-size=\"14.00\" fill=\"#000000\">class = 1</text>\n</g>\n<!-- 0&#45;&gt;32 -->\n<g id=\"edge32\" class=\"edge\">\n<title>0&#45;&gt;32</title>\n<path fill=\"none\" stroke=\"#000000\" d=\"M899.8449,-948.6249C936.6397,-935.2755 980.7969,-919.2551 1021.4632,-904.5012\"/>\n<polygon fill=\"#000000\" stroke=\"#000000\" points=\"1022.6908,-907.7791 1030.8976,-901.0783 1020.3034,-901.1988 1022.6908,-907.7791\"/>\n<text text-anchor=\"middle\" x=\"1020.3088\" y=\"-920.0251\" font-family=\"Helvetica,sans-Serif\" font-size=\"14.00\" fill=\"#000000\">False</text>\n</g>\n<!-- 2 -->\n<g id=\"node3\" class=\"node\">\n<title>2</title>\n<polygon fill=\"#e89153\" stroke=\"#000000\" points=\"232,-782 117,-782 117,-699 232,-699 232,-782\"/>\n<text text-anchor=\"middle\" x=\"174.5\" y=\"-766.8\" font-family=\"Helvetica,sans-Serif\" font-size=\"14.00\" fill=\"#000000\">거주지역 &lt;= 2.5</text>\n<text text-anchor=\"middle\" x=\"174.5\" y=\"-751.8\" font-family=\"Helvetica,sans-Serif\" font-size=\"14.00\" fill=\"#000000\">gini = 0.204</text>\n<text text-anchor=\"middle\" x=\"174.5\" y=\"-736.8\" font-family=\"Helvetica,sans-Serif\" font-size=\"14.00\" fill=\"#000000\">samples = 26</text>\n<text text-anchor=\"middle\" x=\"174.5\" y=\"-721.8\" font-family=\"Helvetica,sans-Serif\" font-size=\"14.00\" fill=\"#000000\">value = [23, 3]</text>\n<text text-anchor=\"middle\" x=\"174.5\" y=\"-706.8\" font-family=\"Helvetica,sans-Serif\" font-size=\"14.00\" fill=\"#000000\">class = 0</text>\n</g>\n<!-- 1&#45;&gt;2 -->\n<g id=\"edge2\" class=\"edge\">\n<title>1&#45;&gt;2</title>\n<path fill=\"none\" stroke=\"#000000\" d=\"M453.399,-827.6102C386.4083,-806.6866 300.6779,-779.9099 242.0592,-761.6012\"/>\n<polygon fill=\"#000000\" stroke=\"#000000\" points=\"242.7556,-758.152 232.1668,-758.5114 240.6686,-764.8337 242.7556,-758.152\"/>\n</g>\n<!-- 7 -->\n<g id=\"node8\" class=\"node\">\n<title>7</title>\n<polygon fill=\"#ffffff\" stroke=\"#000000\" points=\"640.5,-782 470.5,-782 470.5,-699 640.5,-699 640.5,-782\"/>\n<text text-anchor=\"middle\" x=\"555.5\" y=\"-766.8\" font-family=\"Helvetica,sans-Serif\" font-size=\"14.00\" fill=\"#000000\">여행총경비 &lt;= 196250.0</text>\n<text text-anchor=\"middle\" x=\"555.5\" y=\"-751.8\" font-family=\"Helvetica,sans-Serif\" font-size=\"14.00\" fill=\"#000000\">gini = 0.5</text>\n<text text-anchor=\"middle\" x=\"555.5\" y=\"-736.8\" font-family=\"Helvetica,sans-Serif\" font-size=\"14.00\" fill=\"#000000\">samples = 62</text>\n<text text-anchor=\"middle\" x=\"555.5\" y=\"-721.8\" font-family=\"Helvetica,sans-Serif\" font-size=\"14.00\" fill=\"#000000\">value = [31, 31]</text>\n<text text-anchor=\"middle\" x=\"555.5\" y=\"-706.8\" font-family=\"Helvetica,sans-Serif\" font-size=\"14.00\" fill=\"#000000\">class = 0</text>\n</g>\n<!-- 1&#45;&gt;7 -->\n<g id=\"edge7\" class=\"edge\">\n<title>1&#45;&gt;7</title>\n<path fill=\"none\" stroke=\"#000000\" d=\"M555.5,-817.8796C555.5,-809.6838 555.5,-800.9891 555.5,-792.5013\"/>\n<polygon fill=\"#000000\" stroke=\"#000000\" points=\"559.0001,-792.298 555.5,-782.2981 552.0001,-792.2981 559.0001,-792.298\"/>\n</g>\n<!-- 3 -->\n<g id=\"node4\" class=\"node\">\n<title>3</title>\n<polygon fill=\"#399de5\" stroke=\"#000000\" points=\"99,-655.5 0,-655.5 0,-587.5 99,-587.5 99,-655.5\"/>\n<text text-anchor=\"middle\" x=\"49.5\" y=\"-640.3\" font-family=\"Helvetica,sans-Serif\" font-size=\"14.00\" fill=\"#000000\">gini = 0.0</text>\n<text text-anchor=\"middle\" x=\"49.5\" y=\"-625.3\" font-family=\"Helvetica,sans-Serif\" font-size=\"14.00\" fill=\"#000000\">samples = 2</text>\n<text text-anchor=\"middle\" x=\"49.5\" y=\"-610.3\" font-family=\"Helvetica,sans-Serif\" font-size=\"14.00\" fill=\"#000000\">value = [0, 2]</text>\n<text text-anchor=\"middle\" x=\"49.5\" y=\"-595.3\" font-family=\"Helvetica,sans-Serif\" font-size=\"14.00\" fill=\"#000000\">class = 1</text>\n</g>\n<!-- 2&#45;&gt;3 -->\n<g id=\"edge3\" class=\"edge\">\n<title>2&#45;&gt;3</title>\n<path fill=\"none\" stroke=\"#000000\" d=\"M130.7811,-698.8796C118.5375,-687.2237 105.2339,-674.5587 93.0029,-662.9148\"/>\n<polygon fill=\"#000000\" stroke=\"#000000\" points=\"95.2012,-660.1751 85.5451,-655.8149 90.3746,-665.245 95.2012,-660.1751\"/>\n</g>\n<!-- 4 -->\n<g id=\"node5\" class=\"node\">\n<title>4</title>\n<polygon fill=\"#e68642\" stroke=\"#000000\" points=\"232,-663 117,-663 117,-580 232,-580 232,-663\"/>\n<text text-anchor=\"middle\" x=\"174.5\" y=\"-647.8\" font-family=\"Helvetica,sans-Serif\" font-size=\"14.00\" fill=\"#000000\">여행유형 &lt;= 1.5</text>\n<text text-anchor=\"middle\" x=\"174.5\" y=\"-632.8\" font-family=\"Helvetica,sans-Serif\" font-size=\"14.00\" fill=\"#000000\">gini = 0.08</text>\n<text text-anchor=\"middle\" x=\"174.5\" y=\"-617.8\" font-family=\"Helvetica,sans-Serif\" font-size=\"14.00\" fill=\"#000000\">samples = 24</text>\n<text text-anchor=\"middle\" x=\"174.5\" y=\"-602.8\" font-family=\"Helvetica,sans-Serif\" font-size=\"14.00\" fill=\"#000000\">value = [23, 1]</text>\n<text text-anchor=\"middle\" x=\"174.5\" y=\"-587.8\" font-family=\"Helvetica,sans-Serif\" font-size=\"14.00\" fill=\"#000000\">class = 0</text>\n</g>\n<!-- 2&#45;&gt;4 -->\n<g id=\"edge4\" class=\"edge\">\n<title>2&#45;&gt;4</title>\n<path fill=\"none\" stroke=\"#000000\" d=\"M174.5,-698.8796C174.5,-690.6838 174.5,-681.9891 174.5,-673.5013\"/>\n<polygon fill=\"#000000\" stroke=\"#000000\" points=\"178.0001,-673.298 174.5,-663.2981 171.0001,-673.2981 178.0001,-673.298\"/>\n</g>\n<!-- 5 -->\n<g id=\"node6\" class=\"node\">\n<title>5</title>\n<polygon fill=\"#399de5\" stroke=\"#000000\" points=\"103,-536.5 4,-536.5 4,-468.5 103,-468.5 103,-536.5\"/>\n<text text-anchor=\"middle\" x=\"53.5\" y=\"-521.3\" font-family=\"Helvetica,sans-Serif\" font-size=\"14.00\" fill=\"#000000\">gini = 0.0</text>\n<text text-anchor=\"middle\" x=\"53.5\" y=\"-506.3\" font-family=\"Helvetica,sans-Serif\" font-size=\"14.00\" fill=\"#000000\">samples = 1</text>\n<text text-anchor=\"middle\" x=\"53.5\" y=\"-491.3\" font-family=\"Helvetica,sans-Serif\" font-size=\"14.00\" fill=\"#000000\">value = [0, 1]</text>\n<text text-anchor=\"middle\" x=\"53.5\" y=\"-476.3\" font-family=\"Helvetica,sans-Serif\" font-size=\"14.00\" fill=\"#000000\">class = 1</text>\n</g>\n<!-- 4&#45;&gt;5 -->\n<g id=\"edge5\" class=\"edge\">\n<title>4&#45;&gt;5</title>\n<path fill=\"none\" stroke=\"#000000\" d=\"M132.1801,-579.8796C120.3283,-568.2237 107.4505,-555.5587 95.6109,-543.9148\"/>\n<polygon fill=\"#000000\" stroke=\"#000000\" points=\"97.9756,-541.3314 88.3917,-536.8149 93.0673,-546.3223 97.9756,-541.3314\"/>\n</g>\n<!-- 6 -->\n<g id=\"node7\" class=\"node\">\n<title>6</title>\n<polygon fill=\"#e58139\" stroke=\"#000000\" points=\"228,-536.5 121,-536.5 121,-468.5 228,-468.5 228,-536.5\"/>\n<text text-anchor=\"middle\" x=\"174.5\" y=\"-521.3\" font-family=\"Helvetica,sans-Serif\" font-size=\"14.00\" fill=\"#000000\">gini = 0.0</text>\n<text text-anchor=\"middle\" x=\"174.5\" y=\"-506.3\" font-family=\"Helvetica,sans-Serif\" font-size=\"14.00\" fill=\"#000000\">samples = 23</text>\n<text text-anchor=\"middle\" x=\"174.5\" y=\"-491.3\" font-family=\"Helvetica,sans-Serif\" font-size=\"14.00\" fill=\"#000000\">value = [23, 0]</text>\n<text text-anchor=\"middle\" x=\"174.5\" y=\"-476.3\" font-family=\"Helvetica,sans-Serif\" font-size=\"14.00\" fill=\"#000000\">class = 0</text>\n</g>\n<!-- 4&#45;&gt;6 -->\n<g id=\"edge6\" class=\"edge\">\n<title>4&#45;&gt;6</title>\n<path fill=\"none\" stroke=\"#000000\" d=\"M174.5,-579.8796C174.5,-569.2134 174.5,-557.7021 174.5,-546.9015\"/>\n<polygon fill=\"#000000\" stroke=\"#000000\" points=\"178.0001,-546.8149 174.5,-536.8149 171.0001,-546.815 178.0001,-546.8149\"/>\n</g>\n<!-- 8 -->\n<g id=\"node9\" class=\"node\">\n<title>8</title>\n<polygon fill=\"#f8ddca\" stroke=\"#000000\" points=\"541.5,-663 425.5,-663 425.5,-580 541.5,-580 541.5,-663\"/>\n<text text-anchor=\"middle\" x=\"483.5\" y=\"-647.8\" font-family=\"Helvetica,sans-Serif\" font-size=\"14.00\" fill=\"#000000\">거주지역 &lt;= 5.5</text>\n<text text-anchor=\"middle\" x=\"483.5\" y=\"-632.8\" font-family=\"Helvetica,sans-Serif\" font-size=\"14.00\" fill=\"#000000\">gini = 0.488</text>\n<text text-anchor=\"middle\" x=\"483.5\" y=\"-617.8\" font-family=\"Helvetica,sans-Serif\" font-size=\"14.00\" fill=\"#000000\">samples = 52</text>\n<text text-anchor=\"middle\" x=\"483.5\" y=\"-602.8\" font-family=\"Helvetica,sans-Serif\" font-size=\"14.00\" fill=\"#000000\">value = [30, 22]</text>\n<text text-anchor=\"middle\" x=\"483.5\" y=\"-587.8\" font-family=\"Helvetica,sans-Serif\" font-size=\"14.00\" fill=\"#000000\">class = 0</text>\n</g>\n<!-- 7&#45;&gt;8 -->\n<g id=\"edge8\" class=\"edge\">\n<title>7&#45;&gt;8</title>\n<path fill=\"none\" stroke=\"#000000\" d=\"M530.3179,-698.8796C525.0867,-690.2335 519.5195,-681.0322 514.1177,-672.1042\"/>\n<polygon fill=\"#000000\" stroke=\"#000000\" points=\"516.9608,-670.0421 508.7896,-663.2981 510.9717,-673.6658 516.9608,-670.0421\"/>\n</g>\n<!-- 29 -->\n<g id=\"node30\" class=\"node\">\n<title>29</title>\n<polygon fill=\"#4fa8e8\" stroke=\"#000000\" points=\"697,-663 560,-663 560,-580 697,-580 697,-663\"/>\n<text text-anchor=\"middle\" x=\"628.5\" y=\"-647.8\" font-family=\"Helvetica,sans-Serif\" font-size=\"14.00\" fill=\"#000000\">만족도_교통 &lt;= 4.5</text>\n<text text-anchor=\"middle\" x=\"628.5\" y=\"-632.8\" font-family=\"Helvetica,sans-Serif\" font-size=\"14.00\" fill=\"#000000\">gini = 0.18</text>\n<text text-anchor=\"middle\" x=\"628.5\" y=\"-617.8\" font-family=\"Helvetica,sans-Serif\" font-size=\"14.00\" fill=\"#000000\">samples = 10</text>\n<text text-anchor=\"middle\" x=\"628.5\" y=\"-602.8\" font-family=\"Helvetica,sans-Serif\" font-size=\"14.00\" fill=\"#000000\">value = [1, 9]</text>\n<text text-anchor=\"middle\" x=\"628.5\" y=\"-587.8\" font-family=\"Helvetica,sans-Serif\" font-size=\"14.00\" fill=\"#000000\">class = 1</text>\n</g>\n<!-- 7&#45;&gt;29 -->\n<g id=\"edge29\" class=\"edge\">\n<title>7&#45;&gt;29</title>\n<path fill=\"none\" stroke=\"#000000\" d=\"M581.0319,-698.8796C586.391,-690.1434 592.0979,-680.8404 597.6282,-671.8253\"/>\n<polygon fill=\"#000000\" stroke=\"#000000\" points=\"600.6135,-673.6522 602.8592,-663.2981 594.6467,-669.9919 600.6135,-673.6522\"/>\n</g>\n<!-- 9 -->\n<g id=\"node10\" class=\"node\">\n<title>9</title>\n<polygon fill=\"#61b1ea\" stroke=\"#000000\" points=\"416.5,-544 246.5,-544 246.5,-461 416.5,-461 416.5,-544\"/>\n<text text-anchor=\"middle\" x=\"331.5\" y=\"-528.8\" font-family=\"Helvetica,sans-Serif\" font-size=\"14.00\" fill=\"#000000\">여행총경비 &lt;= 122500.0</text>\n<text text-anchor=\"middle\" x=\"331.5\" y=\"-513.8\" font-family=\"Helvetica,sans-Serif\" font-size=\"14.00\" fill=\"#000000\">gini = 0.278</text>\n<text text-anchor=\"middle\" x=\"331.5\" y=\"-498.8\" font-family=\"Helvetica,sans-Serif\" font-size=\"14.00\" fill=\"#000000\">samples = 6</text>\n<text text-anchor=\"middle\" x=\"331.5\" y=\"-483.8\" font-family=\"Helvetica,sans-Serif\" font-size=\"14.00\" fill=\"#000000\">value = [1, 5]</text>\n<text text-anchor=\"middle\" x=\"331.5\" y=\"-468.8\" font-family=\"Helvetica,sans-Serif\" font-size=\"14.00\" fill=\"#000000\">class = 1</text>\n</g>\n<!-- 8&#45;&gt;9 -->\n<g id=\"edge9\" class=\"edge\">\n<title>8&#45;&gt;9</title>\n<path fill=\"none\" stroke=\"#000000\" d=\"M430.3378,-579.8796C418.1885,-570.368 405.1808,-560.1843 392.724,-550.432\"/>\n<polygon fill=\"#000000\" stroke=\"#000000\" points=\"394.6638,-547.5055 384.6322,-544.0969 390.3486,-553.0173 394.6638,-547.5055\"/>\n</g>\n<!-- 12 -->\n<g id=\"node13\" class=\"node\">\n<title>12</title>\n<polygon fill=\"#f4cbad\" stroke=\"#000000\" points=\"550.5,-544 434.5,-544 434.5,-461 550.5,-461 550.5,-544\"/>\n<text text-anchor=\"middle\" x=\"492.5\" y=\"-528.8\" font-family=\"Helvetica,sans-Serif\" font-size=\"14.00\" fill=\"#000000\">월 &lt;= 5.5</text>\n<text text-anchor=\"middle\" x=\"492.5\" y=\"-513.8\" font-family=\"Helvetica,sans-Serif\" font-size=\"14.00\" fill=\"#000000\">gini = 0.466</text>\n<text text-anchor=\"middle\" x=\"492.5\" y=\"-498.8\" font-family=\"Helvetica,sans-Serif\" font-size=\"14.00\" fill=\"#000000\">samples = 46</text>\n<text text-anchor=\"middle\" x=\"492.5\" y=\"-483.8\" font-family=\"Helvetica,sans-Serif\" font-size=\"14.00\" fill=\"#000000\">value = [29, 17]</text>\n<text text-anchor=\"middle\" x=\"492.5\" y=\"-468.8\" font-family=\"Helvetica,sans-Serif\" font-size=\"14.00\" fill=\"#000000\">class = 0</text>\n</g>\n<!-- 8&#45;&gt;12 -->\n<g id=\"edge12\" class=\"edge\">\n<title>8&#45;&gt;12</title>\n<path fill=\"none\" stroke=\"#000000\" d=\"M486.6478,-579.8796C487.2676,-571.6838 487.9252,-562.9891 488.5671,-554.5013\"/>\n<polygon fill=\"#000000\" stroke=\"#000000\" points=\"492.0746,-554.5336 489.3388,-544.2981 485.0945,-554.0056 492.0746,-554.5336\"/>\n</g>\n<!-- 10 -->\n<g id=\"node11\" class=\"node\">\n<title>10</title>\n<polygon fill=\"#399de5\" stroke=\"#000000\" points=\"265,-417.5 166,-417.5 166,-349.5 265,-349.5 265,-417.5\"/>\n<text text-anchor=\"middle\" x=\"215.5\" y=\"-402.3\" font-family=\"Helvetica,sans-Serif\" font-size=\"14.00\" fill=\"#000000\">gini = 0.0</text>\n<text text-anchor=\"middle\" x=\"215.5\" y=\"-387.3\" font-family=\"Helvetica,sans-Serif\" font-size=\"14.00\" fill=\"#000000\">samples = 5</text>\n<text text-anchor=\"middle\" x=\"215.5\" y=\"-372.3\" font-family=\"Helvetica,sans-Serif\" font-size=\"14.00\" fill=\"#000000\">value = [0, 5]</text>\n<text text-anchor=\"middle\" x=\"215.5\" y=\"-357.3\" font-family=\"Helvetica,sans-Serif\" font-size=\"14.00\" fill=\"#000000\">class = 1</text>\n</g>\n<!-- 9&#45;&gt;10 -->\n<g id=\"edge10\" class=\"edge\">\n<title>9&#45;&gt;10</title>\n<path fill=\"none\" stroke=\"#000000\" d=\"M290.9288,-460.8796C279.674,-449.3337 267.4539,-436.7976 256.1922,-425.2446\"/>\n<polygon fill=\"#000000\" stroke=\"#000000\" points=\"258.4364,-422.5326 248.9499,-417.8149 253.4238,-427.4188 258.4364,-422.5326\"/>\n</g>\n<!-- 11 -->\n<g id=\"node12\" class=\"node\">\n<title>11</title>\n<polygon fill=\"#e58139\" stroke=\"#000000\" points=\"382,-417.5 283,-417.5 283,-349.5 382,-349.5 382,-417.5\"/>\n<text text-anchor=\"middle\" x=\"332.5\" y=\"-402.3\" font-family=\"Helvetica,sans-Serif\" font-size=\"14.00\" fill=\"#000000\">gini = 0.0</text>\n<text text-anchor=\"middle\" x=\"332.5\" y=\"-387.3\" font-family=\"Helvetica,sans-Serif\" font-size=\"14.00\" fill=\"#000000\">samples = 1</text>\n<text text-anchor=\"middle\" x=\"332.5\" y=\"-372.3\" font-family=\"Helvetica,sans-Serif\" font-size=\"14.00\" fill=\"#000000\">value = [1, 0]</text>\n<text text-anchor=\"middle\" x=\"332.5\" y=\"-357.3\" font-family=\"Helvetica,sans-Serif\" font-size=\"14.00\" fill=\"#000000\">class = 0</text>\n</g>\n<!-- 9&#45;&gt;11 -->\n<g id=\"edge11\" class=\"edge\">\n<title>9&#45;&gt;11</title>\n<path fill=\"none\" stroke=\"#000000\" d=\"M331.8498,-460.8796C331.9394,-450.2134 332.0361,-438.7021 332.1269,-427.9015\"/>\n<polygon fill=\"#000000\" stroke=\"#000000\" points=\"335.6274,-427.844 332.2116,-417.8149 328.6276,-427.7851 335.6274,-427.844\"/>\n</g>\n<!-- 13 -->\n<g id=\"node14\" class=\"node\">\n<title>13</title>\n<polygon fill=\"#deeffb\" stroke=\"#000000\" points=\"517.5,-425 401.5,-425 401.5,-342 517.5,-342 517.5,-425\"/>\n<text text-anchor=\"middle\" x=\"459.5\" y=\"-409.8\" font-family=\"Helvetica,sans-Serif\" font-size=\"14.00\" fill=\"#000000\">개인소득 &lt;= 2.5</text>\n<text text-anchor=\"middle\" x=\"459.5\" y=\"-394.8\" font-family=\"Helvetica,sans-Serif\" font-size=\"14.00\" fill=\"#000000\">gini = 0.496</text>\n<text text-anchor=\"middle\" x=\"459.5\" y=\"-379.8\" font-family=\"Helvetica,sans-Serif\" font-size=\"14.00\" fill=\"#000000\">samples = 22</text>\n<text text-anchor=\"middle\" x=\"459.5\" y=\"-364.8\" font-family=\"Helvetica,sans-Serif\" font-size=\"14.00\" fill=\"#000000\">value = [10, 12]</text>\n<text text-anchor=\"middle\" x=\"459.5\" y=\"-349.8\" font-family=\"Helvetica,sans-Serif\" font-size=\"14.00\" fill=\"#000000\">class = 1</text>\n</g>\n<!-- 12&#45;&gt;13 -->\n<g id=\"edge13\" class=\"edge\">\n<title>12&#45;&gt;13</title>\n<path fill=\"none\" stroke=\"#000000\" d=\"M480.9582,-460.8796C478.6355,-452.5037 476.1682,-443.6067 473.7654,-434.942\"/>\n<polygon fill=\"#000000\" stroke=\"#000000\" points=\"477.1361,-433.9991 471.0911,-425.2981 470.3907,-435.8697 477.1361,-433.9991\"/>\n</g>\n<!-- 20 -->\n<g id=\"node21\" class=\"node\">\n<title>20</title>\n<polygon fill=\"#eca26d\" stroke=\"#000000\" points=\"702,-425 587,-425 587,-342 702,-342 702,-425\"/>\n<text text-anchor=\"middle\" x=\"644.5\" y=\"-409.8\" font-family=\"Helvetica,sans-Serif\" font-size=\"14.00\" fill=\"#000000\">개인소득 &lt;= 5.5</text>\n<text text-anchor=\"middle\" x=\"644.5\" y=\"-394.8\" font-family=\"Helvetica,sans-Serif\" font-size=\"14.00\" fill=\"#000000\">gini = 0.33</text>\n<text text-anchor=\"middle\" x=\"644.5\" y=\"-379.8\" font-family=\"Helvetica,sans-Serif\" font-size=\"14.00\" fill=\"#000000\">samples = 24</text>\n<text text-anchor=\"middle\" x=\"644.5\" y=\"-364.8\" font-family=\"Helvetica,sans-Serif\" font-size=\"14.00\" fill=\"#000000\">value = [19, 5]</text>\n<text text-anchor=\"middle\" x=\"644.5\" y=\"-349.8\" font-family=\"Helvetica,sans-Serif\" font-size=\"14.00\" fill=\"#000000\">class = 0</text>\n</g>\n<!-- 12&#45;&gt;20 -->\n<g id=\"edge20\" class=\"edge\">\n<title>12&#45;&gt;20</title>\n<path fill=\"none\" stroke=\"#000000\" d=\"M545.6622,-460.8796C557.8115,-451.368 570.8192,-441.1843 583.276,-431.432\"/>\n<polygon fill=\"#000000\" stroke=\"#000000\" points=\"585.6514,-434.0173 591.3678,-425.0969 581.3362,-428.5055 585.6514,-434.0173\"/>\n</g>\n<!-- 14 -->\n<g id=\"node15\" class=\"node\">\n<title>14</title>\n<polygon fill=\"#e58139\" stroke=\"#000000\" points=\"342,-298.5 243,-298.5 243,-230.5 342,-230.5 342,-298.5\"/>\n<text text-anchor=\"middle\" x=\"292.5\" y=\"-283.3\" font-family=\"Helvetica,sans-Serif\" font-size=\"14.00\" fill=\"#000000\">gini = 0.0</text>\n<text text-anchor=\"middle\" x=\"292.5\" y=\"-268.3\" font-family=\"Helvetica,sans-Serif\" font-size=\"14.00\" fill=\"#000000\">samples = 3</text>\n<text text-anchor=\"middle\" x=\"292.5\" y=\"-253.3\" font-family=\"Helvetica,sans-Serif\" font-size=\"14.00\" fill=\"#000000\">value = [3, 0]</text>\n<text text-anchor=\"middle\" x=\"292.5\" y=\"-238.3\" font-family=\"Helvetica,sans-Serif\" font-size=\"14.00\" fill=\"#000000\">class = 0</text>\n</g>\n<!-- 13&#45;&gt;14 -->\n<g id=\"edge14\" class=\"edge\">\n<title>13&#45;&gt;14</title>\n<path fill=\"none\" stroke=\"#000000\" d=\"M401.4946,-342.3061C385.008,-330.5845 367.0406,-317.7977 350.5,-306 349.8763,-305.5551 349.2488,-305.1075 348.6182,-304.6576\"/>\n<polygon fill=\"#000000\" stroke=\"#000000\" points=\"350.4571,-301.67 340.2847,-298.7079 346.3897,-307.367 350.4571,-301.67\"/>\n</g>\n<!-- 15 -->\n<g id=\"node16\" class=\"node\">\n<title>15</title>\n<polygon fill=\"#acd6f4\" stroke=\"#000000\" points=\"559,-306 360,-306 360,-223 559,-223 559,-306\"/>\n<text text-anchor=\"middle\" x=\"459.5\" y=\"-290.8\" font-family=\"Helvetica,sans-Serif\" font-size=\"14.00\" fill=\"#000000\">여행지선택이유_1순위 &lt;= 1.5</text>\n<text text-anchor=\"middle\" x=\"459.5\" y=\"-275.8\" font-family=\"Helvetica,sans-Serif\" font-size=\"14.00\" fill=\"#000000\">gini = 0.465</text>\n<text text-anchor=\"middle\" x=\"459.5\" y=\"-260.8\" font-family=\"Helvetica,sans-Serif\" font-size=\"14.00\" fill=\"#000000\">samples = 19</text>\n<text text-anchor=\"middle\" x=\"459.5\" y=\"-245.8\" font-family=\"Helvetica,sans-Serif\" font-size=\"14.00\" fill=\"#000000\">value = [7, 12]</text>\n<text text-anchor=\"middle\" x=\"459.5\" y=\"-230.8\" font-family=\"Helvetica,sans-Serif\" font-size=\"14.00\" fill=\"#000000\">class = 1</text>\n</g>\n<!-- 13&#45;&gt;15 -->\n<g id=\"edge15\" class=\"edge\">\n<title>13&#45;&gt;15</title>\n<path fill=\"none\" stroke=\"#000000\" d=\"M459.5,-341.8796C459.5,-333.6838 459.5,-324.9891 459.5,-316.5013\"/>\n<polygon fill=\"#000000\" stroke=\"#000000\" points=\"463.0001,-316.298 459.5,-306.2981 456.0001,-316.2981 463.0001,-316.298\"/>\n</g>\n<!-- 16 -->\n<g id=\"node17\" class=\"node\">\n<title>16</title>\n<polygon fill=\"#e58139\" stroke=\"#000000\" points=\"359,-179.5 260,-179.5 260,-111.5 359,-111.5 359,-179.5\"/>\n<text text-anchor=\"middle\" x=\"309.5\" y=\"-164.3\" font-family=\"Helvetica,sans-Serif\" font-size=\"14.00\" fill=\"#000000\">gini = 0.0</text>\n<text text-anchor=\"middle\" x=\"309.5\" y=\"-149.3\" font-family=\"Helvetica,sans-Serif\" font-size=\"14.00\" fill=\"#000000\">samples = 2</text>\n<text text-anchor=\"middle\" x=\"309.5\" y=\"-134.3\" font-family=\"Helvetica,sans-Serif\" font-size=\"14.00\" fill=\"#000000\">value = [2, 0]</text>\n<text text-anchor=\"middle\" x=\"309.5\" y=\"-119.3\" font-family=\"Helvetica,sans-Serif\" font-size=\"14.00\" fill=\"#000000\">class = 0</text>\n</g>\n<!-- 15&#45;&gt;16 -->\n<g id=\"edge16\" class=\"edge\">\n<title>15&#45;&gt;16</title>\n<path fill=\"none\" stroke=\"#000000\" d=\"M407.0373,-222.8796C392.0678,-211.0038 375.7778,-198.0804 360.8741,-186.2568\"/>\n<polygon fill=\"#000000\" stroke=\"#000000\" points=\"362.7635,-183.2881 352.7541,-179.8149 358.413,-188.772 362.7635,-183.2881\"/>\n</g>\n<!-- 17 -->\n<g id=\"node18\" class=\"node\">\n<title>17</title>\n<polygon fill=\"#8bc6f0\" stroke=\"#000000\" points=\"541.5,-187 377.5,-187 377.5,-104 541.5,-104 541.5,-187\"/>\n<text text-anchor=\"middle\" x=\"459.5\" y=\"-171.8\" font-family=\"Helvetica,sans-Serif\" font-size=\"14.00\" fill=\"#000000\">만족도_문화유산 &lt;= 2.5</text>\n<text text-anchor=\"middle\" x=\"459.5\" y=\"-156.8\" font-family=\"Helvetica,sans-Serif\" font-size=\"14.00\" fill=\"#000000\">gini = 0.415</text>\n<text text-anchor=\"middle\" x=\"459.5\" y=\"-141.8\" font-family=\"Helvetica,sans-Serif\" font-size=\"14.00\" fill=\"#000000\">samples = 17</text>\n<text text-anchor=\"middle\" x=\"459.5\" y=\"-126.8\" font-family=\"Helvetica,sans-Serif\" font-size=\"14.00\" fill=\"#000000\">value = [5, 12]</text>\n<text text-anchor=\"middle\" x=\"459.5\" y=\"-111.8\" font-family=\"Helvetica,sans-Serif\" font-size=\"14.00\" fill=\"#000000\">class = 1</text>\n</g>\n<!-- 15&#45;&gt;17 -->\n<g id=\"edge17\" class=\"edge\">\n<title>15&#45;&gt;17</title>\n<path fill=\"none\" stroke=\"#000000\" d=\"M459.5,-222.8796C459.5,-214.6838 459.5,-205.9891 459.5,-197.5013\"/>\n<polygon fill=\"#000000\" stroke=\"#000000\" points=\"463.0001,-197.298 459.5,-187.2981 456.0001,-197.2981 463.0001,-197.298\"/>\n</g>\n<!-- 18 -->\n<g id=\"node19\" class=\"node\">\n<title>18</title>\n<polygon fill=\"#eeab7b\" stroke=\"#000000\" points=\"388,-68 289,-68 289,0 388,0 388,-68\"/>\n<text text-anchor=\"middle\" x=\"338.5\" y=\"-52.8\" font-family=\"Helvetica,sans-Serif\" font-size=\"14.00\" fill=\"#000000\">gini = 0.375</text>\n<text text-anchor=\"middle\" x=\"338.5\" y=\"-37.8\" font-family=\"Helvetica,sans-Serif\" font-size=\"14.00\" fill=\"#000000\">samples = 4</text>\n<text text-anchor=\"middle\" x=\"338.5\" y=\"-22.8\" font-family=\"Helvetica,sans-Serif\" font-size=\"14.00\" fill=\"#000000\">value = [3, 1]</text>\n<text text-anchor=\"middle\" x=\"338.5\" y=\"-7.8\" font-family=\"Helvetica,sans-Serif\" font-size=\"14.00\" fill=\"#000000\">class = 0</text>\n</g>\n<!-- 17&#45;&gt;18 -->\n<g id=\"edge18\" class=\"edge\">\n<title>17&#45;&gt;18</title>\n<path fill=\"none\" stroke=\"#000000\" d=\"M414.4441,-103.9815C404.2709,-94.607 393.4733,-84.6572 383.3102,-75.2921\"/>\n<polygon fill=\"#000000\" stroke=\"#000000\" points=\"385.4087,-72.4663 375.683,-68.2637 380.6651,-77.6141 385.4087,-72.4663\"/>\n</g>\n<!-- 19 -->\n<g id=\"node20\" class=\"node\">\n<title>19</title>\n<polygon fill=\"#5dafea\" stroke=\"#000000\" points=\"513,-68 406,-68 406,0 513,0 513,-68\"/>\n<text text-anchor=\"middle\" x=\"459.5\" y=\"-52.8\" font-family=\"Helvetica,sans-Serif\" font-size=\"14.00\" fill=\"#000000\">gini = 0.26</text>\n<text text-anchor=\"middle\" x=\"459.5\" y=\"-37.8\" font-family=\"Helvetica,sans-Serif\" font-size=\"14.00\" fill=\"#000000\">samples = 13</text>\n<text text-anchor=\"middle\" x=\"459.5\" y=\"-22.8\" font-family=\"Helvetica,sans-Serif\" font-size=\"14.00\" fill=\"#000000\">value = [2, 11]</text>\n<text text-anchor=\"middle\" x=\"459.5\" y=\"-7.8\" font-family=\"Helvetica,sans-Serif\" font-size=\"14.00\" fill=\"#000000\">class = 1</text>\n</g>\n<!-- 17&#45;&gt;19 -->\n<g id=\"edge19\" class=\"edge\">\n<title>17&#45;&gt;19</title>\n<path fill=\"none\" stroke=\"#000000\" d=\"M459.5,-103.9815C459.5,-95.618 459.5,-86.7965 459.5,-78.3409\"/>\n<polygon fill=\"#000000\" stroke=\"#000000\" points=\"463.0001,-78.2636 459.5,-68.2637 456.0001,-78.2637 463.0001,-78.2636\"/>\n</g>\n<!-- 21 -->\n<g id=\"node22\" class=\"node\">\n<title>21</title>\n<polygon fill=\"#ea9c63\" stroke=\"#000000\" points=\"702,-306 587,-306 587,-223 702,-223 702,-306\"/>\n<text text-anchor=\"middle\" x=\"644.5\" y=\"-290.8\" font-family=\"Helvetica,sans-Serif\" font-size=\"14.00\" fill=\"#000000\">거주지역 &lt;= 7.5</text>\n<text text-anchor=\"middle\" x=\"644.5\" y=\"-275.8\" font-family=\"Helvetica,sans-Serif\" font-size=\"14.00\" fill=\"#000000\">gini = 0.287</text>\n<text text-anchor=\"middle\" x=\"644.5\" y=\"-260.8\" font-family=\"Helvetica,sans-Serif\" font-size=\"14.00\" fill=\"#000000\">samples = 23</text>\n<text text-anchor=\"middle\" x=\"644.5\" y=\"-245.8\" font-family=\"Helvetica,sans-Serif\" font-size=\"14.00\" fill=\"#000000\">value = [19, 4]</text>\n<text text-anchor=\"middle\" x=\"644.5\" y=\"-230.8\" font-family=\"Helvetica,sans-Serif\" font-size=\"14.00\" fill=\"#000000\">class = 0</text>\n</g>\n<!-- 20&#45;&gt;21 -->\n<g id=\"edge21\" class=\"edge\">\n<title>20&#45;&gt;21</title>\n<path fill=\"none\" stroke=\"#000000\" d=\"M644.5,-341.8796C644.5,-333.6838 644.5,-324.9891 644.5,-316.5013\"/>\n<polygon fill=\"#000000\" stroke=\"#000000\" points=\"648.0001,-316.298 644.5,-306.2981 641.0001,-316.2981 648.0001,-316.298\"/>\n</g>\n<!-- 28 -->\n<g id=\"node29\" class=\"node\">\n<title>28</title>\n<polygon fill=\"#399de5\" stroke=\"#000000\" points=\"819,-298.5 720,-298.5 720,-230.5 819,-230.5 819,-298.5\"/>\n<text text-anchor=\"middle\" x=\"769.5\" y=\"-283.3\" font-family=\"Helvetica,sans-Serif\" font-size=\"14.00\" fill=\"#000000\">gini = 0.0</text>\n<text text-anchor=\"middle\" x=\"769.5\" y=\"-268.3\" font-family=\"Helvetica,sans-Serif\" font-size=\"14.00\" fill=\"#000000\">samples = 1</text>\n<text text-anchor=\"middle\" x=\"769.5\" y=\"-253.3\" font-family=\"Helvetica,sans-Serif\" font-size=\"14.00\" fill=\"#000000\">value = [0, 1]</text>\n<text text-anchor=\"middle\" x=\"769.5\" y=\"-238.3\" font-family=\"Helvetica,sans-Serif\" font-size=\"14.00\" fill=\"#000000\">class = 1</text>\n</g>\n<!-- 20&#45;&gt;28 -->\n<g id=\"edge28\" class=\"edge\">\n<title>20&#45;&gt;28</title>\n<path fill=\"none\" stroke=\"#000000\" d=\"M688.2189,-341.8796C700.4625,-330.2237 713.7661,-317.5587 725.9971,-305.9148\"/>\n<polygon fill=\"#000000\" stroke=\"#000000\" points=\"728.6254,-308.245 733.4549,-298.8149 723.7988,-303.1751 728.6254,-308.245\"/>\n</g>\n<!-- 22 -->\n<g id=\"node23\" class=\"node\">\n<title>22</title>\n<polygon fill=\"#f2c09c\" stroke=\"#000000\" points=\"729.5,-187 559.5,-187 559.5,-104 729.5,-104 729.5,-187\"/>\n<text text-anchor=\"middle\" x=\"644.5\" y=\"-171.8\" font-family=\"Helvetica,sans-Serif\" font-size=\"14.00\" fill=\"#000000\">1인지출비용 &lt;= 55000.0</text>\n<text text-anchor=\"middle\" x=\"644.5\" y=\"-156.8\" font-family=\"Helvetica,sans-Serif\" font-size=\"14.00\" fill=\"#000000\">gini = 0.444</text>\n<text text-anchor=\"middle\" x=\"644.5\" y=\"-141.8\" font-family=\"Helvetica,sans-Serif\" font-size=\"14.00\" fill=\"#000000\">samples = 9</text>\n<text text-anchor=\"middle\" x=\"644.5\" y=\"-126.8\" font-family=\"Helvetica,sans-Serif\" font-size=\"14.00\" fill=\"#000000\">value = [6, 3]</text>\n<text text-anchor=\"middle\" x=\"644.5\" y=\"-111.8\" font-family=\"Helvetica,sans-Serif\" font-size=\"14.00\" fill=\"#000000\">class = 0</text>\n</g>\n<!-- 21&#45;&gt;22 -->\n<g id=\"edge22\" class=\"edge\">\n<title>21&#45;&gt;22</title>\n<path fill=\"none\" stroke=\"#000000\" d=\"M644.5,-222.8796C644.5,-214.6838 644.5,-205.9891 644.5,-197.5013\"/>\n<polygon fill=\"#000000\" stroke=\"#000000\" points=\"648.0001,-197.298 644.5,-187.2981 641.0001,-197.2981 648.0001,-197.298\"/>\n</g>\n<!-- 25 -->\n<g id=\"node26\" class=\"node\">\n<title>25</title>\n<polygon fill=\"#e78b48\" stroke=\"#000000\" points=\"925,-187 748,-187 748,-104 925,-104 925,-187\"/>\n<text text-anchor=\"middle\" x=\"836.5\" y=\"-171.8\" font-family=\"Helvetica,sans-Serif\" font-size=\"14.00\" fill=\"#000000\">만족도_관광지물가 &lt;= 2.5</text>\n<text text-anchor=\"middle\" x=\"836.5\" y=\"-156.8\" font-family=\"Helvetica,sans-Serif\" font-size=\"14.00\" fill=\"#000000\">gini = 0.133</text>\n<text text-anchor=\"middle\" x=\"836.5\" y=\"-141.8\" font-family=\"Helvetica,sans-Serif\" font-size=\"14.00\" fill=\"#000000\">samples = 14</text>\n<text text-anchor=\"middle\" x=\"836.5\" y=\"-126.8\" font-family=\"Helvetica,sans-Serif\" font-size=\"14.00\" fill=\"#000000\">value = [13, 1]</text>\n<text text-anchor=\"middle\" x=\"836.5\" y=\"-111.8\" font-family=\"Helvetica,sans-Serif\" font-size=\"14.00\" fill=\"#000000\">class = 0</text>\n</g>\n<!-- 21&#45;&gt;25 -->\n<g id=\"edge25\" class=\"edge\">\n<title>21&#45;&gt;25</title>\n<path fill=\"none\" stroke=\"#000000\" d=\"M702.0719,-228.2527C704.9201,-226.4742 707.7415,-224.7156 710.5,-223 726.4166,-213.1013 743.4989,-202.5476 759.7885,-192.5169\"/>\n<polygon fill=\"#000000\" stroke=\"#000000\" points=\"762.0621,-195.2274 768.7443,-187.0056 758.3934,-189.2658 762.0621,-195.2274\"/>\n</g>\n<!-- 23 -->\n<g id=\"node24\" class=\"node\">\n<title>23</title>\n<polygon fill=\"#bddef6\" stroke=\"#000000\" points=\"641,-68 542,-68 542,0 641,0 641,-68\"/>\n<text text-anchor=\"middle\" x=\"591.5\" y=\"-52.8\" font-family=\"Helvetica,sans-Serif\" font-size=\"14.00\" fill=\"#000000\">gini = 0.48</text>\n<text text-anchor=\"middle\" x=\"591.5\" y=\"-37.8\" font-family=\"Helvetica,sans-Serif\" font-size=\"14.00\" fill=\"#000000\">samples = 5</text>\n<text text-anchor=\"middle\" x=\"591.5\" y=\"-22.8\" font-family=\"Helvetica,sans-Serif\" font-size=\"14.00\" fill=\"#000000\">value = [2, 3]</text>\n<text text-anchor=\"middle\" x=\"591.5\" y=\"-7.8\" font-family=\"Helvetica,sans-Serif\" font-size=\"14.00\" fill=\"#000000\">class = 1</text>\n</g>\n<!-- 22&#45;&gt;23 -->\n<g id=\"edge23\" class=\"edge\">\n<title>22&#45;&gt;23</title>\n<path fill=\"none\" stroke=\"#000000\" d=\"M624.7648,-103.9815C620.6582,-95.3423 616.3194,-86.2144 612.1799,-77.5059\"/>\n<polygon fill=\"#000000\" stroke=\"#000000\" points=\"615.2409,-75.7927 607.7868,-68.2637 608.9188,-78.7979 615.2409,-75.7927\"/>\n</g>\n<!-- 24 -->\n<g id=\"node25\" class=\"node\">\n<title>24</title>\n<polygon fill=\"#e58139\" stroke=\"#000000\" points=\"758,-68 659,-68 659,0 758,0 758,-68\"/>\n<text text-anchor=\"middle\" x=\"708.5\" y=\"-52.8\" font-family=\"Helvetica,sans-Serif\" font-size=\"14.00\" fill=\"#000000\">gini = 0.0</text>\n<text text-anchor=\"middle\" x=\"708.5\" y=\"-37.8\" font-family=\"Helvetica,sans-Serif\" font-size=\"14.00\" fill=\"#000000\">samples = 4</text>\n<text text-anchor=\"middle\" x=\"708.5\" y=\"-22.8\" font-family=\"Helvetica,sans-Serif\" font-size=\"14.00\" fill=\"#000000\">value = [4, 0]</text>\n<text text-anchor=\"middle\" x=\"708.5\" y=\"-7.8\" font-family=\"Helvetica,sans-Serif\" font-size=\"14.00\" fill=\"#000000\">class = 0</text>\n</g>\n<!-- 22&#45;&gt;24 -->\n<g id=\"edge24\" class=\"edge\">\n<title>22&#45;&gt;24</title>\n<path fill=\"none\" stroke=\"#000000\" d=\"M668.3312,-103.9815C673.3956,-95.1585 678.7525,-85.8258 683.8468,-76.9506\"/>\n<polygon fill=\"#000000\" stroke=\"#000000\" points=\"686.8903,-78.6789 688.833,-68.2637 680.8193,-75.1942 686.8903,-78.6789\"/>\n</g>\n<!-- 26 -->\n<g id=\"node27\" class=\"node\">\n<title>26</title>\n<polygon fill=\"#399de5\" stroke=\"#000000\" points=\"880,-68 781,-68 781,0 880,0 880,-68\"/>\n<text text-anchor=\"middle\" x=\"830.5\" y=\"-52.8\" font-family=\"Helvetica,sans-Serif\" font-size=\"14.00\" fill=\"#000000\">gini = 0.0</text>\n<text text-anchor=\"middle\" x=\"830.5\" y=\"-37.8\" font-family=\"Helvetica,sans-Serif\" font-size=\"14.00\" fill=\"#000000\">samples = 1</text>\n<text text-anchor=\"middle\" x=\"830.5\" y=\"-22.8\" font-family=\"Helvetica,sans-Serif\" font-size=\"14.00\" fill=\"#000000\">value = [0, 1]</text>\n<text text-anchor=\"middle\" x=\"830.5\" y=\"-7.8\" font-family=\"Helvetica,sans-Serif\" font-size=\"14.00\" fill=\"#000000\">class = 1</text>\n</g>\n<!-- 25&#45;&gt;26 -->\n<g id=\"edge26\" class=\"edge\">\n<title>25&#45;&gt;26</title>\n<path fill=\"none\" stroke=\"#000000\" d=\"M834.2658,-103.9815C833.8158,-95.618 833.3411,-86.7965 832.8861,-78.3409\"/>\n<polygon fill=\"#000000\" stroke=\"#000000\" points=\"836.3762,-78.0611 832.3438,-68.2637 829.3863,-78.4373 836.3762,-78.0611\"/>\n</g>\n<!-- 27 -->\n<g id=\"node28\" class=\"node\">\n<title>27</title>\n<polygon fill=\"#e58139\" stroke=\"#000000\" points=\"1005,-68 898,-68 898,0 1005,0 1005,-68\"/>\n<text text-anchor=\"middle\" x=\"951.5\" y=\"-52.8\" font-family=\"Helvetica,sans-Serif\" font-size=\"14.00\" fill=\"#000000\">gini = 0.0</text>\n<text text-anchor=\"middle\" x=\"951.5\" y=\"-37.8\" font-family=\"Helvetica,sans-Serif\" font-size=\"14.00\" fill=\"#000000\">samples = 13</text>\n<text text-anchor=\"middle\" x=\"951.5\" y=\"-22.8\" font-family=\"Helvetica,sans-Serif\" font-size=\"14.00\" fill=\"#000000\">value = [13, 0]</text>\n<text text-anchor=\"middle\" x=\"951.5\" y=\"-7.8\" font-family=\"Helvetica,sans-Serif\" font-size=\"14.00\" fill=\"#000000\">class = 0</text>\n</g>\n<!-- 25&#45;&gt;27 -->\n<g id=\"edge27\" class=\"edge\">\n<title>25&#45;&gt;27</title>\n<path fill=\"none\" stroke=\"#000000\" d=\"M879.3218,-103.9815C888.9905,-94.607 899.2527,-84.6572 908.9118,-75.2921\"/>\n<polygon fill=\"#000000\" stroke=\"#000000\" points=\"911.4176,-77.7375 916.1608,-68.2637 906.5449,-72.7118 911.4176,-77.7375\"/>\n</g>\n<!-- 30 -->\n<g id=\"node31\" class=\"node\">\n<title>30</title>\n<polygon fill=\"#399de5\" stroke=\"#000000\" points=\"668,-536.5 569,-536.5 569,-468.5 668,-468.5 668,-536.5\"/>\n<text text-anchor=\"middle\" x=\"618.5\" y=\"-521.3\" font-family=\"Helvetica,sans-Serif\" font-size=\"14.00\" fill=\"#000000\">gini = 0.0</text>\n<text text-anchor=\"middle\" x=\"618.5\" y=\"-506.3\" font-family=\"Helvetica,sans-Serif\" font-size=\"14.00\" fill=\"#000000\">samples = 9</text>\n<text text-anchor=\"middle\" x=\"618.5\" y=\"-491.3\" font-family=\"Helvetica,sans-Serif\" font-size=\"14.00\" fill=\"#000000\">value = [0, 9]</text>\n<text text-anchor=\"middle\" x=\"618.5\" y=\"-476.3\" font-family=\"Helvetica,sans-Serif\" font-size=\"14.00\" fill=\"#000000\">class = 1</text>\n</g>\n<!-- 29&#45;&gt;30 -->\n<g id=\"edge30\" class=\"edge\">\n<title>29&#45;&gt;30</title>\n<path fill=\"none\" stroke=\"#000000\" d=\"M625.0025,-579.8796C624.1062,-569.2134 623.1388,-557.7021 622.2312,-546.9015\"/>\n<polygon fill=\"#000000\" stroke=\"#000000\" points=\"625.7088,-546.4867 621.3836,-536.8149 618.7334,-547.0729 625.7088,-546.4867\"/>\n</g>\n<!-- 31 -->\n<g id=\"node32\" class=\"node\">\n<title>31</title>\n<polygon fill=\"#e58139\" stroke=\"#000000\" points=\"785,-536.5 686,-536.5 686,-468.5 785,-468.5 785,-536.5\"/>\n<text text-anchor=\"middle\" x=\"735.5\" y=\"-521.3\" font-family=\"Helvetica,sans-Serif\" font-size=\"14.00\" fill=\"#000000\">gini = 0.0</text>\n<text text-anchor=\"middle\" x=\"735.5\" y=\"-506.3\" font-family=\"Helvetica,sans-Serif\" font-size=\"14.00\" fill=\"#000000\">samples = 1</text>\n<text text-anchor=\"middle\" x=\"735.5\" y=\"-491.3\" font-family=\"Helvetica,sans-Serif\" font-size=\"14.00\" fill=\"#000000\">value = [1, 0]</text>\n<text text-anchor=\"middle\" x=\"735.5\" y=\"-476.3\" font-family=\"Helvetica,sans-Serif\" font-size=\"14.00\" fill=\"#000000\">class = 0</text>\n</g>\n<!-- 29&#45;&gt;31 -->\n<g id=\"edge31\" class=\"edge\">\n<title>29&#45;&gt;31</title>\n<path fill=\"none\" stroke=\"#000000\" d=\"M665.9234,-579.8796C676.2061,-568.4436 687.3623,-556.0363 697.6679,-544.575\"/>\n<polygon fill=\"#000000\" stroke=\"#000000\" points=\"700.5618,-546.5912 704.6454,-536.8149 695.3565,-541.9108 700.5618,-546.5912\"/>\n</g>\n<!-- 33 -->\n<g id=\"node34\" class=\"node\">\n<title>33</title>\n<polygon fill=\"#d5eaf9\" stroke=\"#000000\" points=\"1216.5,-782 1074.5,-782 1074.5,-699 1216.5,-699 1216.5,-782\"/>\n<text text-anchor=\"middle\" x=\"1145.5\" y=\"-766.8\" font-family=\"Helvetica,sans-Serif\" font-size=\"14.00\" fill=\"#000000\">관광휴양여부 &lt;= 0.5</text>\n<text text-anchor=\"middle\" x=\"1145.5\" y=\"-751.8\" font-family=\"Helvetica,sans-Serif\" font-size=\"14.00\" fill=\"#000000\">gini = 0.493</text>\n<text text-anchor=\"middle\" x=\"1145.5\" y=\"-736.8\" font-family=\"Helvetica,sans-Serif\" font-size=\"14.00\" fill=\"#000000\">samples = 75</text>\n<text text-anchor=\"middle\" x=\"1145.5\" y=\"-721.8\" font-family=\"Helvetica,sans-Serif\" font-size=\"14.00\" fill=\"#000000\">value = [33, 42]</text>\n<text text-anchor=\"middle\" x=\"1145.5\" y=\"-706.8\" font-family=\"Helvetica,sans-Serif\" font-size=\"14.00\" fill=\"#000000\">class = 1</text>\n</g>\n<!-- 32&#45;&gt;33 -->\n<g id=\"edge33\" class=\"edge\">\n<title>32&#45;&gt;33</title>\n<path fill=\"none\" stroke=\"#000000\" d=\"M1145.5,-817.8796C1145.5,-809.6838 1145.5,-800.9891 1145.5,-792.5013\"/>\n<polygon fill=\"#000000\" stroke=\"#000000\" points=\"1149.0001,-792.298 1145.5,-782.2981 1142.0001,-792.2981 1149.0001,-792.298\"/>\n</g>\n<!-- 60 -->\n<g id=\"node61\" class=\"node\">\n<title>60</title>\n<polygon fill=\"#52a9e8\" stroke=\"#000000\" points=\"2408,-782 2271,-782 2271,-699 2408,-699 2408,-782\"/>\n<text text-anchor=\"middle\" x=\"2339.5\" y=\"-766.8\" font-family=\"Helvetica,sans-Serif\" font-size=\"14.00\" fill=\"#000000\">만족도_교통 &lt;= 3.5</text>\n<text text-anchor=\"middle\" x=\"2339.5\" y=\"-751.8\" font-family=\"Helvetica,sans-Serif\" font-size=\"14.00\" fill=\"#000000\">gini = 0.198</text>\n<text text-anchor=\"middle\" x=\"2339.5\" y=\"-736.8\" font-family=\"Helvetica,sans-Serif\" font-size=\"14.00\" fill=\"#000000\">samples = 725</text>\n<text text-anchor=\"middle\" x=\"2339.5\" y=\"-721.8\" font-family=\"Helvetica,sans-Serif\" font-size=\"14.00\" fill=\"#000000\">value = [81, 644]</text>\n<text text-anchor=\"middle\" x=\"2339.5\" y=\"-706.8\" font-family=\"Helvetica,sans-Serif\" font-size=\"14.00\" fill=\"#000000\">class = 1</text>\n</g>\n<!-- 32&#45;&gt;60 -->\n<g id=\"edge60\" class=\"edge\">\n<title>32&#45;&gt;60</title>\n<path fill=\"none\" stroke=\"#000000\" d=\"M1274.6976,-846.6235C1522.7415,-821.9022 2058.9409,-768.4619 2260.6415,-748.3594\"/>\n<polygon fill=\"#000000\" stroke=\"#000000\" points=\"2261.2522,-751.816 2270.8557,-747.3414 2260.5579,-744.8505 2261.2522,-751.816\"/>\n</g>\n<!-- 34 -->\n<g id=\"node35\" class=\"node\">\n<title>34</title>\n<polygon fill=\"#53aae8\" stroke=\"#000000\" points=\"1070,-663 963,-663 963,-580 1070,-580 1070,-663\"/>\n<text text-anchor=\"middle\" x=\"1016.5\" y=\"-647.8\" font-family=\"Helvetica,sans-Serif\" font-size=\"14.00\" fill=\"#000000\">연령 &lt;= 4.5</text>\n<text text-anchor=\"middle\" x=\"1016.5\" y=\"-632.8\" font-family=\"Helvetica,sans-Serif\" font-size=\"14.00\" fill=\"#000000\">gini = 0.208</text>\n<text text-anchor=\"middle\" x=\"1016.5\" y=\"-617.8\" font-family=\"Helvetica,sans-Serif\" font-size=\"14.00\" fill=\"#000000\">samples = 17</text>\n<text text-anchor=\"middle\" x=\"1016.5\" y=\"-602.8\" font-family=\"Helvetica,sans-Serif\" font-size=\"14.00\" fill=\"#000000\">value = [2, 15]</text>\n<text text-anchor=\"middle\" x=\"1016.5\" y=\"-587.8\" font-family=\"Helvetica,sans-Serif\" font-size=\"14.00\" fill=\"#000000\">class = 1</text>\n</g>\n<!-- 33&#45;&gt;34 -->\n<g id=\"edge34\" class=\"edge\">\n<title>33&#45;&gt;34</title>\n<path fill=\"none\" stroke=\"#000000\" d=\"M1100.3821,-698.8796C1090.326,-689.6031 1079.577,-679.6874 1069.2446,-670.1559\"/>\n<polygon fill=\"#000000\" stroke=\"#000000\" points=\"1071.5339,-667.506 1061.8105,-663.2981 1066.7876,-672.6511 1071.5339,-667.506\"/>\n</g>\n<!-- 39 -->\n<g id=\"node40\" class=\"node\">\n<title>39</title>\n<polygon fill=\"#fcefe5\" stroke=\"#000000\" points=\"1305,-663 1182,-663 1182,-580 1305,-580 1305,-663\"/>\n<text text-anchor=\"middle\" x=\"1243.5\" y=\"-647.8\" font-family=\"Helvetica,sans-Serif\" font-size=\"14.00\" fill=\"#000000\">거주지역 &lt;= 11.5</text>\n<text text-anchor=\"middle\" x=\"1243.5\" y=\"-632.8\" font-family=\"Helvetica,sans-Serif\" font-size=\"14.00\" fill=\"#000000\">gini = 0.498</text>\n<text text-anchor=\"middle\" x=\"1243.5\" y=\"-617.8\" font-family=\"Helvetica,sans-Serif\" font-size=\"14.00\" fill=\"#000000\">samples = 58</text>\n<text text-anchor=\"middle\" x=\"1243.5\" y=\"-602.8\" font-family=\"Helvetica,sans-Serif\" font-size=\"14.00\" fill=\"#000000\">value = [31, 27]</text>\n<text text-anchor=\"middle\" x=\"1243.5\" y=\"-587.8\" font-family=\"Helvetica,sans-Serif\" font-size=\"14.00\" fill=\"#000000\">class = 0</text>\n</g>\n<!-- 33&#45;&gt;39 -->\n<g id=\"edge39\" class=\"edge\">\n<title>33&#45;&gt;39</title>\n<path fill=\"none\" stroke=\"#000000\" d=\"M1179.7756,-698.8796C1187.1184,-689.9633 1194.9476,-680.4565 1202.5146,-671.268\"/>\n<polygon fill=\"#000000\" stroke=\"#000000\" points=\"1205.4227,-673.2424 1209.0781,-663.2981 1200.0192,-668.7924 1205.4227,-673.2424\"/>\n</g>\n<!-- 35 -->\n<g id=\"node36\" class=\"node\">\n<title>35</title>\n<polygon fill=\"#399de5\" stroke=\"#000000\" points=\"910,-536.5 803,-536.5 803,-468.5 910,-468.5 910,-536.5\"/>\n<text text-anchor=\"middle\" x=\"856.5\" y=\"-521.3\" font-family=\"Helvetica,sans-Serif\" font-size=\"14.00\" fill=\"#000000\">gini = 0.0</text>\n<text text-anchor=\"middle\" x=\"856.5\" y=\"-506.3\" font-family=\"Helvetica,sans-Serif\" font-size=\"14.00\" fill=\"#000000\">samples = 14</text>\n<text text-anchor=\"middle\" x=\"856.5\" y=\"-491.3\" font-family=\"Helvetica,sans-Serif\" font-size=\"14.00\" fill=\"#000000\">value = [0, 14]</text>\n<text text-anchor=\"middle\" x=\"856.5\" y=\"-476.3\" font-family=\"Helvetica,sans-Serif\" font-size=\"14.00\" fill=\"#000000\">class = 1</text>\n</g>\n<!-- 34&#45;&gt;35 -->\n<g id=\"edge35\" class=\"edge\">\n<title>34&#45;&gt;35</title>\n<path fill=\"none\" stroke=\"#000000\" d=\"M962.7772,-581.5437C945.9253,-569.0101 927.3235,-555.1749 910.4555,-542.6294\"/>\n<polygon fill=\"#000000\" stroke=\"#000000\" points=\"912.4423,-539.7452 902.3295,-536.5857 908.2648,-545.362 912.4423,-539.7452\"/>\n</g>\n<!-- 36 -->\n<g id=\"node37\" class=\"node\">\n<title>36</title>\n<polygon fill=\"#f2c09c\" stroke=\"#000000\" points=\"1105,-544 928,-544 928,-461 1105,-461 1105,-544\"/>\n<text text-anchor=\"middle\" x=\"1016.5\" y=\"-528.8\" font-family=\"Helvetica,sans-Serif\" font-size=\"14.00\" fill=\"#000000\">만족도_관광지물가 &lt;= 6.0</text>\n<text text-anchor=\"middle\" x=\"1016.5\" y=\"-513.8\" font-family=\"Helvetica,sans-Serif\" font-size=\"14.00\" fill=\"#000000\">gini = 0.444</text>\n<text text-anchor=\"middle\" x=\"1016.5\" y=\"-498.8\" font-family=\"Helvetica,sans-Serif\" font-size=\"14.00\" fill=\"#000000\">samples = 3</text>\n<text text-anchor=\"middle\" x=\"1016.5\" y=\"-483.8\" font-family=\"Helvetica,sans-Serif\" font-size=\"14.00\" fill=\"#000000\">value = [2, 1]</text>\n<text text-anchor=\"middle\" x=\"1016.5\" y=\"-468.8\" font-family=\"Helvetica,sans-Serif\" font-size=\"14.00\" fill=\"#000000\">class = 0</text>\n</g>\n<!-- 34&#45;&gt;36 -->\n<g id=\"edge36\" class=\"edge\">\n<title>34&#45;&gt;36</title>\n<path fill=\"none\" stroke=\"#000000\" d=\"M1016.5,-579.8796C1016.5,-571.6838 1016.5,-562.9891 1016.5,-554.5013\"/>\n<polygon fill=\"#000000\" stroke=\"#000000\" points=\"1020.0001,-554.298 1016.5,-544.2981 1013.0001,-554.2981 1020.0001,-554.298\"/>\n</g>\n<!-- 37 -->\n<g id=\"node38\" class=\"node\">\n<title>37</title>\n<polygon fill=\"#e58139\" stroke=\"#000000\" points=\"948,-417.5 849,-417.5 849,-349.5 948,-349.5 948,-417.5\"/>\n<text text-anchor=\"middle\" x=\"898.5\" y=\"-402.3\" font-family=\"Helvetica,sans-Serif\" font-size=\"14.00\" fill=\"#000000\">gini = 0.0</text>\n<text text-anchor=\"middle\" x=\"898.5\" y=\"-387.3\" font-family=\"Helvetica,sans-Serif\" font-size=\"14.00\" fill=\"#000000\">samples = 2</text>\n<text text-anchor=\"middle\" x=\"898.5\" y=\"-372.3\" font-family=\"Helvetica,sans-Serif\" font-size=\"14.00\" fill=\"#000000\">value = [2, 0]</text>\n<text text-anchor=\"middle\" x=\"898.5\" y=\"-357.3\" font-family=\"Helvetica,sans-Serif\" font-size=\"14.00\" fill=\"#000000\">class = 0</text>\n</g>\n<!-- 36&#45;&gt;37 -->\n<g id=\"edge37\" class=\"edge\">\n<title>36&#45;&gt;37</title>\n<path fill=\"none\" stroke=\"#000000\" d=\"M975.2293,-460.8796C963.7805,-449.3337 951.3497,-436.7976 939.8938,-425.2446\"/>\n<polygon fill=\"#000000\" stroke=\"#000000\" points=\"942.0531,-422.4514 932.5266,-417.8149 937.0825,-427.3802 942.0531,-422.4514\"/>\n</g>\n<!-- 38 -->\n<g id=\"node39\" class=\"node\">\n<title>38</title>\n<polygon fill=\"#399de5\" stroke=\"#000000\" points=\"1065,-417.5 966,-417.5 966,-349.5 1065,-349.5 1065,-417.5\"/>\n<text text-anchor=\"middle\" x=\"1015.5\" y=\"-402.3\" font-family=\"Helvetica,sans-Serif\" font-size=\"14.00\" fill=\"#000000\">gini = 0.0</text>\n<text text-anchor=\"middle\" x=\"1015.5\" y=\"-387.3\" font-family=\"Helvetica,sans-Serif\" font-size=\"14.00\" fill=\"#000000\">samples = 1</text>\n<text text-anchor=\"middle\" x=\"1015.5\" y=\"-372.3\" font-family=\"Helvetica,sans-Serif\" font-size=\"14.00\" fill=\"#000000\">value = [0, 1]</text>\n<text text-anchor=\"middle\" x=\"1015.5\" y=\"-357.3\" font-family=\"Helvetica,sans-Serif\" font-size=\"14.00\" fill=\"#000000\">class = 1</text>\n</g>\n<!-- 36&#45;&gt;38 -->\n<g id=\"edge38\" class=\"edge\">\n<title>36&#45;&gt;38</title>\n<path fill=\"none\" stroke=\"#000000\" d=\"M1016.1502,-460.8796C1016.0606,-450.2134 1015.9639,-438.7021 1015.8731,-427.9015\"/>\n<polygon fill=\"#000000\" stroke=\"#000000\" points=\"1019.3724,-427.7851 1015.7884,-417.8149 1012.3726,-427.844 1019.3724,-427.7851\"/>\n</g>\n<!-- 40 -->\n<g id=\"node41\" class=\"node\">\n<title>40</title>\n<polygon fill=\"#f3c3a0\" stroke=\"#000000\" points=\"1332,-544 1155,-544 1155,-461 1332,-461 1332,-544\"/>\n<text text-anchor=\"middle\" x=\"1243.5\" y=\"-528.8\" font-family=\"Helvetica,sans-Serif\" font-size=\"14.00\" fill=\"#000000\">만족도_식당및음식 &lt;= 3.5</text>\n<text text-anchor=\"middle\" x=\"1243.5\" y=\"-513.8\" font-family=\"Helvetica,sans-Serif\" font-size=\"14.00\" fill=\"#000000\">gini = 0.45</text>\n<text text-anchor=\"middle\" x=\"1243.5\" y=\"-498.8\" font-family=\"Helvetica,sans-Serif\" font-size=\"14.00\" fill=\"#000000\">samples = 38</text>\n<text text-anchor=\"middle\" x=\"1243.5\" y=\"-483.8\" font-family=\"Helvetica,sans-Serif\" font-size=\"14.00\" fill=\"#000000\">value = [25, 13]</text>\n<text text-anchor=\"middle\" x=\"1243.5\" y=\"-468.8\" font-family=\"Helvetica,sans-Serif\" font-size=\"14.00\" fill=\"#000000\">class = 0</text>\n</g>\n<!-- 39&#45;&gt;40 -->\n<g id=\"edge40\" class=\"edge\">\n<title>39&#45;&gt;40</title>\n<path fill=\"none\" stroke=\"#000000\" d=\"M1243.5,-579.8796C1243.5,-571.6838 1243.5,-562.9891 1243.5,-554.5013\"/>\n<polygon fill=\"#000000\" stroke=\"#000000\" points=\"1247.0001,-554.298 1243.5,-544.2981 1240.0001,-554.2981 1247.0001,-554.298\"/>\n</g>\n<!-- 53 -->\n<g id=\"node54\" class=\"node\">\n<title>53</title>\n<polygon fill=\"#8ec7f0\" stroke=\"#000000\" points=\"1685,-544 1478,-544 1478,-461 1685,-461 1685,-544\"/>\n<text text-anchor=\"middle\" x=\"1581.5\" y=\"-528.8\" font-family=\"Helvetica,sans-Serif\" font-size=\"14.00\" fill=\"#000000\">여행지선택이유_1순위 &lt;= 14.0</text>\n<text text-anchor=\"middle\" x=\"1581.5\" y=\"-513.8\" font-family=\"Helvetica,sans-Serif\" font-size=\"14.00\" fill=\"#000000\">gini = 0.42</text>\n<text text-anchor=\"middle\" x=\"1581.5\" y=\"-498.8\" font-family=\"Helvetica,sans-Serif\" font-size=\"14.00\" fill=\"#000000\">samples = 20</text>\n<text text-anchor=\"middle\" x=\"1581.5\" y=\"-483.8\" font-family=\"Helvetica,sans-Serif\" font-size=\"14.00\" fill=\"#000000\">value = [6, 14]</text>\n<text text-anchor=\"middle\" x=\"1581.5\" y=\"-468.8\" font-family=\"Helvetica,sans-Serif\" font-size=\"14.00\" fill=\"#000000\">class = 1</text>\n</g>\n<!-- 39&#45;&gt;53 -->\n<g id=\"edge53\" class=\"edge\">\n<title>39&#45;&gt;53</title>\n<path fill=\"none\" stroke=\"#000000\" d=\"M1305.1014,-599.8119C1350.5469,-583.8119 1413.6842,-561.5831 1468.144,-542.4094\"/>\n<polygon fill=\"#000000\" stroke=\"#000000\" points=\"1469.5838,-545.6131 1477.8539,-538.9908 1467.2591,-539.0104 1469.5838,-545.6131\"/>\n</g>\n<!-- 41 -->\n<g id=\"node42\" class=\"node\">\n<title>41</title>\n<polygon fill=\"#e78c4b\" stroke=\"#000000\" points=\"1198,-425 1083,-425 1083,-342 1198,-342 1198,-425\"/>\n<text text-anchor=\"middle\" x=\"1140.5\" y=\"-409.8\" font-family=\"Helvetica,sans-Serif\" font-size=\"14.00\" fill=\"#000000\">직장지위 &lt;= 2.0</text>\n<text text-anchor=\"middle\" x=\"1140.5\" y=\"-394.8\" font-family=\"Helvetica,sans-Serif\" font-size=\"14.00\" fill=\"#000000\">gini = 0.153</text>\n<text text-anchor=\"middle\" x=\"1140.5\" y=\"-379.8\" font-family=\"Helvetica,sans-Serif\" font-size=\"14.00\" fill=\"#000000\">samples = 12</text>\n<text text-anchor=\"middle\" x=\"1140.5\" y=\"-364.8\" font-family=\"Helvetica,sans-Serif\" font-size=\"14.00\" fill=\"#000000\">value = [11, 1]</text>\n<text text-anchor=\"middle\" x=\"1140.5\" y=\"-349.8\" font-family=\"Helvetica,sans-Serif\" font-size=\"14.00\" fill=\"#000000\">class = 0</text>\n</g>\n<!-- 40&#45;&gt;41 -->\n<g id=\"edge41\" class=\"edge\">\n<title>40&#45;&gt;41</title>\n<path fill=\"none\" stroke=\"#000000\" d=\"M1207.4756,-460.8796C1199.6802,-451.8733 1191.3633,-442.2644 1183.3356,-432.9897\"/>\n<polygon fill=\"#000000\" stroke=\"#000000\" points=\"1185.8691,-430.5686 1176.6782,-425.2981 1180.5763,-435.1498 1185.8691,-430.5686\"/>\n</g>\n<!-- 44 -->\n<g id=\"node45\" class=\"node\">\n<title>44</title>\n<polygon fill=\"#fbede3\" stroke=\"#000000\" points=\"1332.5,-425 1216.5,-425 1216.5,-342 1332.5,-342 1332.5,-425\"/>\n<text text-anchor=\"middle\" x=\"1274.5\" y=\"-409.8\" font-family=\"Helvetica,sans-Serif\" font-size=\"14.00\" fill=\"#000000\">직업 &lt;= 2.0</text>\n<text text-anchor=\"middle\" x=\"1274.5\" y=\"-394.8\" font-family=\"Helvetica,sans-Serif\" font-size=\"14.00\" fill=\"#000000\">gini = 0.497</text>\n<text text-anchor=\"middle\" x=\"1274.5\" y=\"-379.8\" font-family=\"Helvetica,sans-Serif\" font-size=\"14.00\" fill=\"#000000\">samples = 26</text>\n<text text-anchor=\"middle\" x=\"1274.5\" y=\"-364.8\" font-family=\"Helvetica,sans-Serif\" font-size=\"14.00\" fill=\"#000000\">value = [14, 12]</text>\n<text text-anchor=\"middle\" x=\"1274.5\" y=\"-349.8\" font-family=\"Helvetica,sans-Serif\" font-size=\"14.00\" fill=\"#000000\">class = 0</text>\n</g>\n<!-- 40&#45;&gt;44 -->\n<g id=\"edge44\" class=\"edge\">\n<title>40&#45;&gt;44</title>\n<path fill=\"none\" stroke=\"#000000\" d=\"M1254.3423,-460.8796C1256.5008,-452.5938 1258.7921,-443.798 1261.0263,-435.2216\"/>\n<polygon fill=\"#000000\" stroke=\"#000000\" points=\"1264.4774,-435.8575 1263.6114,-425.2981 1257.7035,-434.0928 1264.4774,-435.8575\"/>\n</g>\n<!-- 42 -->\n<g id=\"node43\" class=\"node\">\n<title>42</title>\n<polygon fill=\"#e58139\" stroke=\"#000000\" points=\"1036,-298.5 929,-298.5 929,-230.5 1036,-230.5 1036,-298.5\"/>\n<text text-anchor=\"middle\" x=\"982.5\" y=\"-283.3\" font-family=\"Helvetica,sans-Serif\" font-size=\"14.00\" fill=\"#000000\">gini = 0.0</text>\n<text text-anchor=\"middle\" x=\"982.5\" y=\"-268.3\" font-family=\"Helvetica,sans-Serif\" font-size=\"14.00\" fill=\"#000000\">samples = 11</text>\n<text text-anchor=\"middle\" x=\"982.5\" y=\"-253.3\" font-family=\"Helvetica,sans-Serif\" font-size=\"14.00\" fill=\"#000000\">value = [11, 0]</text>\n<text text-anchor=\"middle\" x=\"982.5\" y=\"-238.3\" font-family=\"Helvetica,sans-Serif\" font-size=\"14.00\" fill=\"#000000\">class = 0</text>\n</g>\n<!-- 41&#45;&gt;42 -->\n<g id=\"edge42\" class=\"edge\">\n<title>41&#45;&gt;42</title>\n<path fill=\"none\" stroke=\"#000000\" d=\"M1085.2393,-341.8796C1069.2497,-329.8368 1051.8297,-316.7167 1035.9526,-304.7586\"/>\n<polygon fill=\"#000000\" stroke=\"#000000\" points=\"1037.8998,-301.8435 1027.8062,-298.623 1033.6884,-307.435 1037.8998,-301.8435\"/>\n</g>\n<!-- 43 -->\n<g id=\"node44\" class=\"node\">\n<title>43</title>\n<polygon fill=\"#399de5\" stroke=\"#000000\" points=\"1153,-298.5 1054,-298.5 1054,-230.5 1153,-230.5 1153,-298.5\"/>\n<text text-anchor=\"middle\" x=\"1103.5\" y=\"-283.3\" font-family=\"Helvetica,sans-Serif\" font-size=\"14.00\" fill=\"#000000\">gini = 0.0</text>\n<text text-anchor=\"middle\" x=\"1103.5\" y=\"-268.3\" font-family=\"Helvetica,sans-Serif\" font-size=\"14.00\" fill=\"#000000\">samples = 1</text>\n<text text-anchor=\"middle\" x=\"1103.5\" y=\"-253.3\" font-family=\"Helvetica,sans-Serif\" font-size=\"14.00\" fill=\"#000000\">value = [0, 1]</text>\n<text text-anchor=\"middle\" x=\"1103.5\" y=\"-238.3\" font-family=\"Helvetica,sans-Serif\" font-size=\"14.00\" fill=\"#000000\">class = 1</text>\n</g>\n<!-- 41&#45;&gt;43 -->\n<g id=\"edge43\" class=\"edge\">\n<title>41&#45;&gt;43</title>\n<path fill=\"none\" stroke=\"#000000\" d=\"M1127.5592,-341.8796C1124.2086,-331.1034 1120.5899,-319.4647 1117.2017,-308.5677\"/>\n<polygon fill=\"#000000\" stroke=\"#000000\" points=\"1120.4806,-307.3248 1114.1693,-298.8149 1113.7963,-309.4032 1120.4806,-307.3248\"/>\n</g>\n<!-- 45 -->\n<g id=\"node46\" class=\"node\">\n<title>45</title>\n<polygon fill=\"#bddef6\" stroke=\"#000000\" points=\"1378,-306 1171,-306 1171,-223 1378,-223 1378,-306\"/>\n<text text-anchor=\"middle\" x=\"1274.5\" y=\"-290.8\" font-family=\"Helvetica,sans-Serif\" font-size=\"14.00\" fill=\"#000000\">여행지선택이유_1순위 &lt;= 10.0</text>\n<text text-anchor=\"middle\" x=\"1274.5\" y=\"-275.8\" font-family=\"Helvetica,sans-Serif\" font-size=\"14.00\" fill=\"#000000\">gini = 0.48</text>\n<text text-anchor=\"middle\" x=\"1274.5\" y=\"-260.8\" font-family=\"Helvetica,sans-Serif\" font-size=\"14.00\" fill=\"#000000\">samples = 20</text>\n<text text-anchor=\"middle\" x=\"1274.5\" y=\"-245.8\" font-family=\"Helvetica,sans-Serif\" font-size=\"14.00\" fill=\"#000000\">value = [8, 12]</text>\n<text text-anchor=\"middle\" x=\"1274.5\" y=\"-230.8\" font-family=\"Helvetica,sans-Serif\" font-size=\"14.00\" fill=\"#000000\">class = 1</text>\n</g>\n<!-- 44&#45;&gt;45 -->\n<g id=\"edge45\" class=\"edge\">\n<title>44&#45;&gt;45</title>\n<path fill=\"none\" stroke=\"#000000\" d=\"M1274.5,-341.8796C1274.5,-333.6838 1274.5,-324.9891 1274.5,-316.5013\"/>\n<polygon fill=\"#000000\" stroke=\"#000000\" points=\"1278.0001,-316.298 1274.5,-306.2981 1271.0001,-316.2981 1278.0001,-316.298\"/>\n</g>\n<!-- 52 -->\n<g id=\"node53\" class=\"node\">\n<title>52</title>\n<polygon fill=\"#e58139\" stroke=\"#000000\" points=\"1495,-298.5 1396,-298.5 1396,-230.5 1495,-230.5 1495,-298.5\"/>\n<text text-anchor=\"middle\" x=\"1445.5\" y=\"-283.3\" font-family=\"Helvetica,sans-Serif\" font-size=\"14.00\" fill=\"#000000\">gini = 0.0</text>\n<text text-anchor=\"middle\" x=\"1445.5\" y=\"-268.3\" font-family=\"Helvetica,sans-Serif\" font-size=\"14.00\" fill=\"#000000\">samples = 6</text>\n<text text-anchor=\"middle\" x=\"1445.5\" y=\"-253.3\" font-family=\"Helvetica,sans-Serif\" font-size=\"14.00\" fill=\"#000000\">value = [6, 0]</text>\n<text text-anchor=\"middle\" x=\"1445.5\" y=\"-238.3\" font-family=\"Helvetica,sans-Serif\" font-size=\"14.00\" fill=\"#000000\">class = 0</text>\n</g>\n<!-- 44&#45;&gt;52 -->\n<g id=\"edge52\" class=\"edge\">\n<title>44&#45;&gt;52</title>\n<path fill=\"none\" stroke=\"#000000\" d=\"M1332.689,-343.3607C1350.0224,-331.3701 1369.0467,-318.1765 1386.5,-306 1387.2639,-305.4671 1388.0332,-304.9301 1388.8069,-304.3897\"/>\n<polygon fill=\"#000000\" stroke=\"#000000\" points=\"1391.0358,-307.102 1397.2239,-298.5021 1387.0234,-301.366 1391.0358,-307.102\"/>\n</g>\n<!-- 46 -->\n<g id=\"node47\" class=\"node\">\n<title>46</title>\n<polygon fill=\"#f8dbc6\" stroke=\"#000000\" points=\"1218,-187 1095,-187 1095,-104 1218,-104 1218,-187\"/>\n<text text-anchor=\"middle\" x=\"1156.5\" y=\"-171.8\" font-family=\"Helvetica,sans-Serif\" font-size=\"14.00\" fill=\"#000000\">지역코드 &lt;= 33.0</text>\n<text text-anchor=\"middle\" x=\"1156.5\" y=\"-156.8\" font-family=\"Helvetica,sans-Serif\" font-size=\"14.00\" fill=\"#000000\">gini = 0.486</text>\n<text text-anchor=\"middle\" x=\"1156.5\" y=\"-141.8\" font-family=\"Helvetica,sans-Serif\" font-size=\"14.00\" fill=\"#000000\">samples = 12</text>\n<text text-anchor=\"middle\" x=\"1156.5\" y=\"-126.8\" font-family=\"Helvetica,sans-Serif\" font-size=\"14.00\" fill=\"#000000\">value = [7, 5]</text>\n<text text-anchor=\"middle\" x=\"1156.5\" y=\"-111.8\" font-family=\"Helvetica,sans-Serif\" font-size=\"14.00\" fill=\"#000000\">class = 0</text>\n</g>\n<!-- 45&#45;&gt;46 -->\n<g id=\"edge46\" class=\"edge\">\n<title>45&#45;&gt;46</title>\n<path fill=\"none\" stroke=\"#000000\" d=\"M1233.2293,-222.8796C1224.1201,-213.6931 1214.3892,-203.8798 1205.0224,-194.4336\"/>\n<polygon fill=\"#000000\" stroke=\"#000000\" points=\"1207.4733,-191.9345 1197.9468,-187.2981 1202.5027,-196.8634 1207.4733,-191.9345\"/>\n</g>\n<!-- 49 -->\n<g id=\"node50\" class=\"node\">\n<title>49</title>\n<polygon fill=\"#55abe9\" stroke=\"#000000\" points=\"1440.5,-187 1236.5,-187 1236.5,-104 1440.5,-104 1440.5,-187\"/>\n<text text-anchor=\"middle\" x=\"1338.5\" y=\"-171.8\" font-family=\"Helvetica,sans-Serif\" font-size=\"14.00\" fill=\"#000000\">만족도_관광지편의시설 &lt;= 3.5</text>\n<text text-anchor=\"middle\" x=\"1338.5\" y=\"-156.8\" font-family=\"Helvetica,sans-Serif\" font-size=\"14.00\" fill=\"#000000\">gini = 0.219</text>\n<text text-anchor=\"middle\" x=\"1338.5\" y=\"-141.8\" font-family=\"Helvetica,sans-Serif\" font-size=\"14.00\" fill=\"#000000\">samples = 8</text>\n<text text-anchor=\"middle\" x=\"1338.5\" y=\"-126.8\" font-family=\"Helvetica,sans-Serif\" font-size=\"14.00\" fill=\"#000000\">value = [1, 7]</text>\n<text text-anchor=\"middle\" x=\"1338.5\" y=\"-111.8\" font-family=\"Helvetica,sans-Serif\" font-size=\"14.00\" fill=\"#000000\">class = 1</text>\n</g>\n<!-- 45&#45;&gt;49 -->\n<g id=\"edge49\" class=\"edge\">\n<title>45&#45;&gt;49</title>\n<path fill=\"none\" stroke=\"#000000\" d=\"M1296.8841,-222.8796C1301.4856,-214.3236 1306.3796,-205.2238 1311.1342,-196.3833\"/>\n<polygon fill=\"#000000\" stroke=\"#000000\" points=\"1314.3662,-197.763 1316.0204,-187.2981 1308.2012,-194.4473 1314.3662,-197.763\"/>\n</g>\n<!-- 47 -->\n<g id=\"node48\" class=\"node\">\n<title>47</title>\n<polygon fill=\"#f0b78e\" stroke=\"#000000\" points=\"1144.5,-68 1040.5,-68 1040.5,0 1144.5,0 1144.5,-68\"/>\n<text text-anchor=\"middle\" x=\"1092.5\" y=\"-52.8\" font-family=\"Helvetica,sans-Serif\" font-size=\"14.00\" fill=\"#000000\">gini = 0.42</text>\n<text text-anchor=\"middle\" x=\"1092.5\" y=\"-37.8\" font-family=\"Helvetica,sans-Serif\" font-size=\"14.00\" fill=\"#000000\">samples = 10</text>\n<text text-anchor=\"middle\" x=\"1092.5\" y=\"-22.8\" font-family=\"Helvetica,sans-Serif\" font-size=\"14.00\" fill=\"#000000\">value = [7, 3]</text>\n<text text-anchor=\"middle\" x=\"1092.5\" y=\"-7.8\" font-family=\"Helvetica,sans-Serif\" font-size=\"14.00\" fill=\"#000000\">class = 0</text>\n</g>\n<!-- 46&#45;&gt;47 -->\n<g id=\"edge47\" class=\"edge\">\n<title>46&#45;&gt;47</title>\n<path fill=\"none\" stroke=\"#000000\" d=\"M1132.6688,-103.9815C1127.6044,-95.1585 1122.2475,-85.8258 1117.1532,-76.9506\"/>\n<polygon fill=\"#000000\" stroke=\"#000000\" points=\"1120.1807,-75.1942 1112.167,-68.2637 1114.1097,-78.6789 1120.1807,-75.1942\"/>\n</g>\n<!-- 48 -->\n<g id=\"node49\" class=\"node\">\n<title>48</title>\n<polygon fill=\"#399de5\" stroke=\"#000000\" points=\"1262,-68 1163,-68 1163,0 1262,0 1262,-68\"/>\n<text text-anchor=\"middle\" x=\"1212.5\" y=\"-52.8\" font-family=\"Helvetica,sans-Serif\" font-size=\"14.00\" fill=\"#000000\">gini = 0.0</text>\n<text text-anchor=\"middle\" x=\"1212.5\" y=\"-37.8\" font-family=\"Helvetica,sans-Serif\" font-size=\"14.00\" fill=\"#000000\">samples = 2</text>\n<text text-anchor=\"middle\" x=\"1212.5\" y=\"-22.8\" font-family=\"Helvetica,sans-Serif\" font-size=\"14.00\" fill=\"#000000\">value = [0, 2]</text>\n<text text-anchor=\"middle\" x=\"1212.5\" y=\"-7.8\" font-family=\"Helvetica,sans-Serif\" font-size=\"14.00\" fill=\"#000000\">class = 1</text>\n</g>\n<!-- 46&#45;&gt;48 -->\n<g id=\"edge48\" class=\"edge\">\n<title>46&#45;&gt;48</title>\n<path fill=\"none\" stroke=\"#000000\" d=\"M1177.3523,-103.9815C1181.7375,-95.2504 1186.3733,-86.0202 1190.789,-77.2281\"/>\n<polygon fill=\"#000000\" stroke=\"#000000\" points=\"1193.9308,-78.7708 1195.2913,-68.2637 1187.6754,-75.6291 1193.9308,-78.7708\"/>\n</g>\n<!-- 50 -->\n<g id=\"node51\" class=\"node\">\n<title>50</title>\n<polygon fill=\"#e58139\" stroke=\"#000000\" points=\"1388,-68 1289,-68 1289,0 1388,0 1388,-68\"/>\n<text text-anchor=\"middle\" x=\"1338.5\" y=\"-52.8\" font-family=\"Helvetica,sans-Serif\" font-size=\"14.00\" fill=\"#000000\">gini = 0.0</text>\n<text text-anchor=\"middle\" x=\"1338.5\" y=\"-37.8\" font-family=\"Helvetica,sans-Serif\" font-size=\"14.00\" fill=\"#000000\">samples = 1</text>\n<text text-anchor=\"middle\" x=\"1338.5\" y=\"-22.8\" font-family=\"Helvetica,sans-Serif\" font-size=\"14.00\" fill=\"#000000\">value = [1, 0]</text>\n<text text-anchor=\"middle\" x=\"1338.5\" y=\"-7.8\" font-family=\"Helvetica,sans-Serif\" font-size=\"14.00\" fill=\"#000000\">class = 0</text>\n</g>\n<!-- 49&#45;&gt;50 -->\n<g id=\"edge50\" class=\"edge\">\n<title>49&#45;&gt;50</title>\n<path fill=\"none\" stroke=\"#000000\" d=\"M1338.5,-103.9815C1338.5,-95.618 1338.5,-86.7965 1338.5,-78.3409\"/>\n<polygon fill=\"#000000\" stroke=\"#000000\" points=\"1342.0001,-78.2636 1338.5,-68.2637 1335.0001,-78.2637 1342.0001,-78.2636\"/>\n</g>\n<!-- 51 -->\n<g id=\"node52\" class=\"node\">\n<title>51</title>\n<polygon fill=\"#399de5\" stroke=\"#000000\" points=\"1505,-68 1406,-68 1406,0 1505,0 1505,-68\"/>\n<text text-anchor=\"middle\" x=\"1455.5\" y=\"-52.8\" font-family=\"Helvetica,sans-Serif\" font-size=\"14.00\" fill=\"#000000\">gini = 0.0</text>\n<text text-anchor=\"middle\" x=\"1455.5\" y=\"-37.8\" font-family=\"Helvetica,sans-Serif\" font-size=\"14.00\" fill=\"#000000\">samples = 7</text>\n<text text-anchor=\"middle\" x=\"1455.5\" y=\"-22.8\" font-family=\"Helvetica,sans-Serif\" font-size=\"14.00\" fill=\"#000000\">value = [0, 7]</text>\n<text text-anchor=\"middle\" x=\"1455.5\" y=\"-7.8\" font-family=\"Helvetica,sans-Serif\" font-size=\"14.00\" fill=\"#000000\">class = 1</text>\n</g>\n<!-- 49&#45;&gt;51 -->\n<g id=\"edge51\" class=\"edge\">\n<title>49&#45;&gt;51</title>\n<path fill=\"none\" stroke=\"#000000\" d=\"M1382.0665,-103.9815C1391.9034,-94.607 1402.344,-84.6572 1412.1711,-75.2921\"/>\n<polygon fill=\"#000000\" stroke=\"#000000\" points=\"1414.7216,-77.6963 1419.5462,-68.2637 1409.8924,-72.6289 1414.7216,-77.6963\"/>\n</g>\n<!-- 54 -->\n<g id=\"node55\" class=\"node\">\n<title>54</title>\n<polygon fill=\"#55abe9\" stroke=\"#000000\" points=\"1663.5,-425 1499.5,-425 1499.5,-342 1663.5,-342 1663.5,-425\"/>\n<text text-anchor=\"middle\" x=\"1581.5\" y=\"-409.8\" font-family=\"Helvetica,sans-Serif\" font-size=\"14.00\" fill=\"#000000\">만족도_문화유산 &lt;= 3.5</text>\n<text text-anchor=\"middle\" x=\"1581.5\" y=\"-394.8\" font-family=\"Helvetica,sans-Serif\" font-size=\"14.00\" fill=\"#000000\">gini = 0.219</text>\n<text text-anchor=\"middle\" x=\"1581.5\" y=\"-379.8\" font-family=\"Helvetica,sans-Serif\" font-size=\"14.00\" fill=\"#000000\">samples = 16</text>\n<text text-anchor=\"middle\" x=\"1581.5\" y=\"-364.8\" font-family=\"Helvetica,sans-Serif\" font-size=\"14.00\" fill=\"#000000\">value = [2, 14]</text>\n<text text-anchor=\"middle\" x=\"1581.5\" y=\"-349.8\" font-family=\"Helvetica,sans-Serif\" font-size=\"14.00\" fill=\"#000000\">class = 1</text>\n</g>\n<!-- 53&#45;&gt;54 -->\n<g id=\"edge54\" class=\"edge\">\n<title>53&#45;&gt;54</title>\n<path fill=\"none\" stroke=\"#000000\" d=\"M1581.5,-460.8796C1581.5,-452.6838 1581.5,-443.9891 1581.5,-435.5013\"/>\n<polygon fill=\"#000000\" stroke=\"#000000\" points=\"1585.0001,-435.298 1581.5,-425.2981 1578.0001,-435.2981 1585.0001,-435.298\"/>\n</g>\n<!-- 59 -->\n<g id=\"node60\" class=\"node\">\n<title>59</title>\n<polygon fill=\"#e58139\" stroke=\"#000000\" points=\"1781,-417.5 1682,-417.5 1682,-349.5 1781,-349.5 1781,-417.5\"/>\n<text text-anchor=\"middle\" x=\"1731.5\" y=\"-402.3\" font-family=\"Helvetica,sans-Serif\" font-size=\"14.00\" fill=\"#000000\">gini = 0.0</text>\n<text text-anchor=\"middle\" x=\"1731.5\" y=\"-387.3\" font-family=\"Helvetica,sans-Serif\" font-size=\"14.00\" fill=\"#000000\">samples = 4</text>\n<text text-anchor=\"middle\" x=\"1731.5\" y=\"-372.3\" font-family=\"Helvetica,sans-Serif\" font-size=\"14.00\" fill=\"#000000\">value = [4, 0]</text>\n<text text-anchor=\"middle\" x=\"1731.5\" y=\"-357.3\" font-family=\"Helvetica,sans-Serif\" font-size=\"14.00\" fill=\"#000000\">class = 0</text>\n</g>\n<!-- 53&#45;&gt;59 -->\n<g id=\"edge59\" class=\"edge\">\n<title>53&#45;&gt;59</title>\n<path fill=\"none\" stroke=\"#000000\" d=\"M1633.9627,-460.8796C1648.9322,-449.0038 1665.2222,-436.0804 1680.1259,-424.2568\"/>\n<polygon fill=\"#000000\" stroke=\"#000000\" points=\"1682.587,-426.772 1688.2459,-417.8149 1678.2365,-421.2881 1682.587,-426.772\"/>\n</g>\n<!-- 55 -->\n<g id=\"node56\" class=\"node\">\n<title>55</title>\n<polygon fill=\"#f2c09c\" stroke=\"#000000\" points=\"1650,-306 1513,-306 1513,-223 1650,-223 1650,-306\"/>\n<text text-anchor=\"middle\" x=\"1581.5\" y=\"-290.8\" font-family=\"Helvetica,sans-Serif\" font-size=\"14.00\" fill=\"#000000\">만족도_교통 &lt;= 3.5</text>\n<text text-anchor=\"middle\" x=\"1581.5\" y=\"-275.8\" font-family=\"Helvetica,sans-Serif\" font-size=\"14.00\" fill=\"#000000\">gini = 0.444</text>\n<text text-anchor=\"middle\" x=\"1581.5\" y=\"-260.8\" font-family=\"Helvetica,sans-Serif\" font-size=\"14.00\" fill=\"#000000\">samples = 3</text>\n<text text-anchor=\"middle\" x=\"1581.5\" y=\"-245.8\" font-family=\"Helvetica,sans-Serif\" font-size=\"14.00\" fill=\"#000000\">value = [2, 1]</text>\n<text text-anchor=\"middle\" x=\"1581.5\" y=\"-230.8\" font-family=\"Helvetica,sans-Serif\" font-size=\"14.00\" fill=\"#000000\">class = 0</text>\n</g>\n<!-- 54&#45;&gt;55 -->\n<g id=\"edge55\" class=\"edge\">\n<title>54&#45;&gt;55</title>\n<path fill=\"none\" stroke=\"#000000\" d=\"M1581.5,-341.8796C1581.5,-333.6838 1581.5,-324.9891 1581.5,-316.5013\"/>\n<polygon fill=\"#000000\" stroke=\"#000000\" points=\"1585.0001,-316.298 1581.5,-306.2981 1578.0001,-316.2981 1585.0001,-316.298\"/>\n</g>\n<!-- 58 -->\n<g id=\"node59\" class=\"node\">\n<title>58</title>\n<polygon fill=\"#399de5\" stroke=\"#000000\" points=\"1775,-298.5 1668,-298.5 1668,-230.5 1775,-230.5 1775,-298.5\"/>\n<text text-anchor=\"middle\" x=\"1721.5\" y=\"-283.3\" font-family=\"Helvetica,sans-Serif\" font-size=\"14.00\" fill=\"#000000\">gini = 0.0</text>\n<text text-anchor=\"middle\" x=\"1721.5\" y=\"-268.3\" font-family=\"Helvetica,sans-Serif\" font-size=\"14.00\" fill=\"#000000\">samples = 13</text>\n<text text-anchor=\"middle\" x=\"1721.5\" y=\"-253.3\" font-family=\"Helvetica,sans-Serif\" font-size=\"14.00\" fill=\"#000000\">value = [0, 13]</text>\n<text text-anchor=\"middle\" x=\"1721.5\" y=\"-238.3\" font-family=\"Helvetica,sans-Serif\" font-size=\"14.00\" fill=\"#000000\">class = 1</text>\n</g>\n<!-- 54&#45;&gt;58 -->\n<g id=\"edge58\" class=\"edge\">\n<title>54&#45;&gt;58</title>\n<path fill=\"none\" stroke=\"#000000\" d=\"M1630.4652,-341.8796C1644.3073,-330.1138 1659.3592,-317.3197 1673.1641,-305.5855\"/>\n<polygon fill=\"#000000\" stroke=\"#000000\" points=\"1675.7769,-307.9582 1681.1295,-298.8149 1671.2433,-302.6247 1675.7769,-307.9582\"/>\n</g>\n<!-- 56 -->\n<g id=\"node57\" class=\"node\">\n<title>56</title>\n<polygon fill=\"#e58139\" stroke=\"#000000\" points=\"1562,-179.5 1463,-179.5 1463,-111.5 1562,-111.5 1562,-179.5\"/>\n<text text-anchor=\"middle\" x=\"1512.5\" y=\"-164.3\" font-family=\"Helvetica,sans-Serif\" font-size=\"14.00\" fill=\"#000000\">gini = 0.0</text>\n<text text-anchor=\"middle\" x=\"1512.5\" y=\"-149.3\" font-family=\"Helvetica,sans-Serif\" font-size=\"14.00\" fill=\"#000000\">samples = 2</text>\n<text text-anchor=\"middle\" x=\"1512.5\" y=\"-134.3\" font-family=\"Helvetica,sans-Serif\" font-size=\"14.00\" fill=\"#000000\">value = [2, 0]</text>\n<text text-anchor=\"middle\" x=\"1512.5\" y=\"-119.3\" font-family=\"Helvetica,sans-Serif\" font-size=\"14.00\" fill=\"#000000\">class = 0</text>\n</g>\n<!-- 55&#45;&gt;56 -->\n<g id=\"edge56\" class=\"edge\">\n<title>55&#45;&gt;56</title>\n<path fill=\"none\" stroke=\"#000000\" d=\"M1557.3671,-222.8796C1550.9275,-211.7735 1543.9566,-199.7513 1537.4729,-188.5691\"/>\n<polygon fill=\"#000000\" stroke=\"#000000\" points=\"1540.4409,-186.7102 1532.3969,-179.8149 1534.3852,-190.2215 1540.4409,-186.7102\"/>\n</g>\n<!-- 57 -->\n<g id=\"node58\" class=\"node\">\n<title>57</title>\n<polygon fill=\"#399de5\" stroke=\"#000000\" points=\"1679,-179.5 1580,-179.5 1580,-111.5 1679,-111.5 1679,-179.5\"/>\n<text text-anchor=\"middle\" x=\"1629.5\" y=\"-164.3\" font-family=\"Helvetica,sans-Serif\" font-size=\"14.00\" fill=\"#000000\">gini = 0.0</text>\n<text text-anchor=\"middle\" x=\"1629.5\" y=\"-149.3\" font-family=\"Helvetica,sans-Serif\" font-size=\"14.00\" fill=\"#000000\">samples = 1</text>\n<text text-anchor=\"middle\" x=\"1629.5\" y=\"-134.3\" font-family=\"Helvetica,sans-Serif\" font-size=\"14.00\" fill=\"#000000\">value = [0, 1]</text>\n<text text-anchor=\"middle\" x=\"1629.5\" y=\"-119.3\" font-family=\"Helvetica,sans-Serif\" font-size=\"14.00\" fill=\"#000000\">class = 1</text>\n</g>\n<!-- 55&#45;&gt;57 -->\n<g id=\"edge57\" class=\"edge\">\n<title>55&#45;&gt;57</title>\n<path fill=\"none\" stroke=\"#000000\" d=\"M1598.2881,-222.8796C1602.6791,-211.9935 1607.4252,-200.227 1611.8592,-189.2344\"/>\n<polygon fill=\"#000000\" stroke=\"#000000\" points=\"1615.1638,-190.3982 1615.6587,-179.8149 1608.672,-187.7796 1615.1638,-190.3982\"/>\n</g>\n<!-- 61 -->\n<g id=\"node62\" class=\"node\">\n<title>61</title>\n<polygon fill=\"#84c2ef\" stroke=\"#000000\" points=\"2428,-663 2251,-663 2251,-580 2428,-580 2428,-663\"/>\n<text text-anchor=\"middle\" x=\"2339.5\" y=\"-647.8\" font-family=\"Helvetica,sans-Serif\" font-size=\"14.00\" fill=\"#000000\">만족도_관광지물가 &lt;= 7.0</text>\n<text text-anchor=\"middle\" x=\"2339.5\" y=\"-632.8\" font-family=\"Helvetica,sans-Serif\" font-size=\"14.00\" fill=\"#000000\">gini = 0.397</text>\n<text text-anchor=\"middle\" x=\"2339.5\" y=\"-617.8\" font-family=\"Helvetica,sans-Serif\" font-size=\"14.00\" fill=\"#000000\">samples = 106</text>\n<text text-anchor=\"middle\" x=\"2339.5\" y=\"-602.8\" font-family=\"Helvetica,sans-Serif\" font-size=\"14.00\" fill=\"#000000\">value = [29, 77]</text>\n<text text-anchor=\"middle\" x=\"2339.5\" y=\"-587.8\" font-family=\"Helvetica,sans-Serif\" font-size=\"14.00\" fill=\"#000000\">class = 1</text>\n</g>\n<!-- 60&#45;&gt;61 -->\n<g id=\"edge61\" class=\"edge\">\n<title>60&#45;&gt;61</title>\n<path fill=\"none\" stroke=\"#000000\" d=\"M2339.5,-698.8796C2339.5,-690.6838 2339.5,-681.9891 2339.5,-673.5013\"/>\n<polygon fill=\"#000000\" stroke=\"#000000\" points=\"2343.0001,-673.298 2339.5,-663.2981 2336.0001,-673.2981 2343.0001,-673.298\"/>\n</g>\n<!-- 92 -->\n<g id=\"node93\" class=\"node\">\n<title>92</title>\n<polygon fill=\"#4ba6e7\" stroke=\"#000000\" points=\"3225.5,-663 3061.5,-663 3061.5,-580 3225.5,-580 3225.5,-663\"/>\n<text text-anchor=\"middle\" x=\"3143.5\" y=\"-647.8\" font-family=\"Helvetica,sans-Serif\" font-size=\"14.00\" fill=\"#000000\">만족도_문화유산 &lt;= 3.5</text>\n<text text-anchor=\"middle\" x=\"3143.5\" y=\"-632.8\" font-family=\"Helvetica,sans-Serif\" font-size=\"14.00\" fill=\"#000000\">gini = 0.154</text>\n<text text-anchor=\"middle\" x=\"3143.5\" y=\"-617.8\" font-family=\"Helvetica,sans-Serif\" font-size=\"14.00\" fill=\"#000000\">samples = 619</text>\n<text text-anchor=\"middle\" x=\"3143.5\" y=\"-602.8\" font-family=\"Helvetica,sans-Serif\" font-size=\"14.00\" fill=\"#000000\">value = [52, 567]</text>\n<text text-anchor=\"middle\" x=\"3143.5\" y=\"-587.8\" font-family=\"Helvetica,sans-Serif\" font-size=\"14.00\" fill=\"#000000\">class = 1</text>\n</g>\n<!-- 60&#45;&gt;92 -->\n<g id=\"edge92\" class=\"edge\">\n<title>60&#45;&gt;92</title>\n<path fill=\"none\" stroke=\"#000000\" d=\"M2408.0486,-730.3541C2552.4612,-708.9796 2888.0807,-659.3046 3051.2002,-635.1613\"/>\n<polygon fill=\"#000000\" stroke=\"#000000\" points=\"3051.836,-638.6054 3061.2158,-633.6789 3050.8111,-631.6808 3051.836,-638.6054\"/>\n</g>\n<!-- 62 -->\n<g id=\"node63\" class=\"node\">\n<title>62</title>\n<polygon fill=\"#74baed\" stroke=\"#000000\" points=\"2308,-544 2185,-544 2185,-461 2308,-461 2308,-544\"/>\n<text text-anchor=\"middle\" x=\"2246.5\" y=\"-528.8\" font-family=\"Helvetica,sans-Serif\" font-size=\"14.00\" fill=\"#000000\">지역코드 &lt;= 10.5</text>\n<text text-anchor=\"middle\" x=\"2246.5\" y=\"-513.8\" font-family=\"Helvetica,sans-Serif\" font-size=\"14.00\" fill=\"#000000\">gini = 0.353</text>\n<text text-anchor=\"middle\" x=\"2246.5\" y=\"-498.8\" font-family=\"Helvetica,sans-Serif\" font-size=\"14.00\" fill=\"#000000\">samples = 96</text>\n<text text-anchor=\"middle\" x=\"2246.5\" y=\"-483.8\" font-family=\"Helvetica,sans-Serif\" font-size=\"14.00\" fill=\"#000000\">value = [22, 74]</text>\n<text text-anchor=\"middle\" x=\"2246.5\" y=\"-468.8\" font-family=\"Helvetica,sans-Serif\" font-size=\"14.00\" fill=\"#000000\">class = 1</text>\n</g>\n<!-- 61&#45;&gt;62 -->\n<g id=\"edge62\" class=\"edge\">\n<title>61&#45;&gt;62</title>\n<path fill=\"none\" stroke=\"#000000\" d=\"M2306.9731,-579.8796C2300.0049,-570.9633 2292.5753,-561.4565 2285.3944,-552.268\"/>\n<polygon fill=\"#000000\" stroke=\"#000000\" points=\"2288.0812,-550.0221 2279.1657,-544.2981 2282.5657,-554.3326 2288.0812,-550.0221\"/>\n</g>\n<!-- 85 -->\n<g id=\"node86\" class=\"node\">\n<title>85</title>\n<polygon fill=\"#f0b78e\" stroke=\"#000000\" points=\"2533,-544 2334,-544 2334,-461 2533,-461 2533,-544\"/>\n<text text-anchor=\"middle\" x=\"2433.5\" y=\"-528.8\" font-family=\"Helvetica,sans-Serif\" font-size=\"14.00\" fill=\"#000000\">여행지선택이유_2순위 &lt;= 1.5</text>\n<text text-anchor=\"middle\" x=\"2433.5\" y=\"-513.8\" font-family=\"Helvetica,sans-Serif\" font-size=\"14.00\" fill=\"#000000\">gini = 0.42</text>\n<text text-anchor=\"middle\" x=\"2433.5\" y=\"-498.8\" font-family=\"Helvetica,sans-Serif\" font-size=\"14.00\" fill=\"#000000\">samples = 10</text>\n<text text-anchor=\"middle\" x=\"2433.5\" y=\"-483.8\" font-family=\"Helvetica,sans-Serif\" font-size=\"14.00\" fill=\"#000000\">value = [7, 3]</text>\n<text text-anchor=\"middle\" x=\"2433.5\" y=\"-468.8\" font-family=\"Helvetica,sans-Serif\" font-size=\"14.00\" fill=\"#000000\">class = 0</text>\n</g>\n<!-- 61&#45;&gt;85 -->\n<g id=\"edge85\" class=\"edge\">\n<title>61&#45;&gt;85</title>\n<path fill=\"none\" stroke=\"#000000\" d=\"M2372.3766,-579.8796C2379.4197,-570.9633 2386.9293,-561.4565 2394.1874,-552.268\"/>\n<polygon fill=\"#000000\" stroke=\"#000000\" points=\"2397.0309,-554.3147 2400.483,-544.2981 2391.5379,-549.9757 2397.0309,-554.3147\"/>\n</g>\n<!-- 63 -->\n<g id=\"node64\" class=\"node\">\n<title>63</title>\n<polygon fill=\"#4ca6e8\" stroke=\"#000000\" points=\"2160.5,-425 1956.5,-425 1956.5,-342 2160.5,-342 2160.5,-425\"/>\n<text text-anchor=\"middle\" x=\"2058.5\" y=\"-409.8\" font-family=\"Helvetica,sans-Serif\" font-size=\"14.00\" fill=\"#000000\">만족도_관광지편의시설 &lt;= 7.0</text>\n<text text-anchor=\"middle\" x=\"2058.5\" y=\"-394.8\" font-family=\"Helvetica,sans-Serif\" font-size=\"14.00\" fill=\"#000000\">gini = 0.161</text>\n<text text-anchor=\"middle\" x=\"2058.5\" y=\"-379.8\" font-family=\"Helvetica,sans-Serif\" font-size=\"14.00\" fill=\"#000000\">samples = 34</text>\n<text text-anchor=\"middle\" x=\"2058.5\" y=\"-364.8\" font-family=\"Helvetica,sans-Serif\" font-size=\"14.00\" fill=\"#000000\">value = [3, 31]</text>\n<text text-anchor=\"middle\" x=\"2058.5\" y=\"-349.8\" font-family=\"Helvetica,sans-Serif\" font-size=\"14.00\" fill=\"#000000\">class = 1</text>\n</g>\n<!-- 62&#45;&gt;63 -->\n<g id=\"edge63\" class=\"edge\">\n<title>62&#45;&gt;63</title>\n<path fill=\"none\" stroke=\"#000000\" d=\"M2184.9418,-463.5349C2168.3449,-453.0295 2150.2101,-441.5505 2132.9892,-430.6501\"/>\n<polygon fill=\"#000000\" stroke=\"#000000\" points=\"2134.4016,-427.4019 2124.0801,-425.0108 2130.6577,-433.3166 2134.4016,-427.4019\"/>\n</g>\n<!-- 70 -->\n<g id=\"node71\" class=\"node\">\n<title>70</title>\n<polygon fill=\"#90c8f0\" stroke=\"#000000\" points=\"2304.5,-425 2188.5,-425 2188.5,-342 2304.5,-342 2304.5,-425\"/>\n<text text-anchor=\"middle\" x=\"2246.5\" y=\"-409.8\" font-family=\"Helvetica,sans-Serif\" font-size=\"14.00\" fill=\"#000000\">개인소득 &lt;= 4.5</text>\n<text text-anchor=\"middle\" x=\"2246.5\" y=\"-394.8\" font-family=\"Helvetica,sans-Serif\" font-size=\"14.00\" fill=\"#000000\">gini = 0.425</text>\n<text text-anchor=\"middle\" x=\"2246.5\" y=\"-379.8\" font-family=\"Helvetica,sans-Serif\" font-size=\"14.00\" fill=\"#000000\">samples = 62</text>\n<text text-anchor=\"middle\" x=\"2246.5\" y=\"-364.8\" font-family=\"Helvetica,sans-Serif\" font-size=\"14.00\" fill=\"#000000\">value = [19, 43]</text>\n<text text-anchor=\"middle\" x=\"2246.5\" y=\"-349.8\" font-family=\"Helvetica,sans-Serif\" font-size=\"14.00\" fill=\"#000000\">class = 1</text>\n</g>\n<!-- 62&#45;&gt;70 -->\n<g id=\"edge70\" class=\"edge\">\n<title>62&#45;&gt;70</title>\n<path fill=\"none\" stroke=\"#000000\" d=\"M2246.5,-460.8796C2246.5,-452.6838 2246.5,-443.9891 2246.5,-435.5013\"/>\n<polygon fill=\"#000000\" stroke=\"#000000\" points=\"2250.0001,-435.298 2246.5,-425.2981 2243.0001,-435.2981 2250.0001,-435.298\"/>\n</g>\n<!-- 64 -->\n<g id=\"node65\" class=\"node\">\n<title>64</title>\n<polygon fill=\"#46a3e7\" stroke=\"#000000\" points=\"1970,-306 1793,-306 1793,-223 1970,-223 1970,-306\"/>\n<text text-anchor=\"middle\" x=\"1881.5\" y=\"-290.8\" font-family=\"Helvetica,sans-Serif\" font-size=\"14.00\" fill=\"#000000\">만족도_식당및음식 &lt;= 4.5</text>\n<text text-anchor=\"middle\" x=\"1881.5\" y=\"-275.8\" font-family=\"Helvetica,sans-Serif\" font-size=\"14.00\" fill=\"#000000\">gini = 0.114</text>\n<text text-anchor=\"middle\" x=\"1881.5\" y=\"-260.8\" font-family=\"Helvetica,sans-Serif\" font-size=\"14.00\" fill=\"#000000\">samples = 33</text>\n<text text-anchor=\"middle\" x=\"1881.5\" y=\"-245.8\" font-family=\"Helvetica,sans-Serif\" font-size=\"14.00\" fill=\"#000000\">value = [2, 31]</text>\n<text text-anchor=\"middle\" x=\"1881.5\" y=\"-230.8\" font-family=\"Helvetica,sans-Serif\" font-size=\"14.00\" fill=\"#000000\">class = 1</text>\n</g>\n<!-- 63&#45;&gt;64 -->\n<g id=\"edge64\" class=\"edge\">\n<title>63&#45;&gt;64</title>\n<path fill=\"none\" stroke=\"#000000\" d=\"M1996.594,-341.8796C1982.177,-332.1868 1966.722,-321.7961 1951.9656,-311.8752\"/>\n<polygon fill=\"#000000\" stroke=\"#000000\" points=\"1953.6227,-308.7718 1943.3711,-306.0969 1949.7171,-314.581 1953.6227,-308.7718\"/>\n</g>\n<!-- 69 -->\n<g id=\"node70\" class=\"node\">\n<title>69</title>\n<polygon fill=\"#e58139\" stroke=\"#000000\" points=\"2108,-298.5 2009,-298.5 2009,-230.5 2108,-230.5 2108,-298.5\"/>\n<text text-anchor=\"middle\" x=\"2058.5\" y=\"-283.3\" font-family=\"Helvetica,sans-Serif\" font-size=\"14.00\" fill=\"#000000\">gini = 0.0</text>\n<text text-anchor=\"middle\" x=\"2058.5\" y=\"-268.3\" font-family=\"Helvetica,sans-Serif\" font-size=\"14.00\" fill=\"#000000\">samples = 1</text>\n<text text-anchor=\"middle\" x=\"2058.5\" y=\"-253.3\" font-family=\"Helvetica,sans-Serif\" font-size=\"14.00\" fill=\"#000000\">value = [1, 0]</text>\n<text text-anchor=\"middle\" x=\"2058.5\" y=\"-238.3\" font-family=\"Helvetica,sans-Serif\" font-size=\"14.00\" fill=\"#000000\">class = 0</text>\n</g>\n<!-- 63&#45;&gt;69 -->\n<g id=\"edge69\" class=\"edge\">\n<title>63&#45;&gt;69</title>\n<path fill=\"none\" stroke=\"#000000\" d=\"M2058.5,-341.8796C2058.5,-331.2134 2058.5,-319.7021 2058.5,-308.9015\"/>\n<polygon fill=\"#000000\" stroke=\"#000000\" points=\"2062.0001,-308.8149 2058.5,-298.8149 2055.0001,-308.815 2062.0001,-308.8149\"/>\n</g>\n<!-- 65 -->\n<g id=\"node66\" class=\"node\">\n<title>65</title>\n<polygon fill=\"#399de5\" stroke=\"#000000\" points=\"1806,-179.5 1699,-179.5 1699,-111.5 1806,-111.5 1806,-179.5\"/>\n<text text-anchor=\"middle\" x=\"1752.5\" y=\"-164.3\" font-family=\"Helvetica,sans-Serif\" font-size=\"14.00\" fill=\"#000000\">gini = 0.0</text>\n<text text-anchor=\"middle\" x=\"1752.5\" y=\"-149.3\" font-family=\"Helvetica,sans-Serif\" font-size=\"14.00\" fill=\"#000000\">samples = 24</text>\n<text text-anchor=\"middle\" x=\"1752.5\" y=\"-134.3\" font-family=\"Helvetica,sans-Serif\" font-size=\"14.00\" fill=\"#000000\">value = [0, 24]</text>\n<text text-anchor=\"middle\" x=\"1752.5\" y=\"-119.3\" font-family=\"Helvetica,sans-Serif\" font-size=\"14.00\" fill=\"#000000\">class = 1</text>\n</g>\n<!-- 64&#45;&gt;65 -->\n<g id=\"edge65\" class=\"edge\">\n<title>64&#45;&gt;65</title>\n<path fill=\"none\" stroke=\"#000000\" d=\"M1836.3821,-222.8796C1823.7467,-211.2237 1810.0174,-198.5587 1797.395,-186.9148\"/>\n<polygon fill=\"#000000\" stroke=\"#000000\" points=\"1799.422,-184.0228 1789.6985,-179.8149 1794.6756,-189.168 1799.422,-184.0228\"/>\n</g>\n<!-- 66 -->\n<g id=\"node67\" class=\"node\">\n<title>66</title>\n<polygon fill=\"#72b9ec\" stroke=\"#000000\" points=\"1939,-187 1824,-187 1824,-104 1939,-104 1939,-187\"/>\n<text text-anchor=\"middle\" x=\"1881.5\" y=\"-171.8\" font-family=\"Helvetica,sans-Serif\" font-size=\"14.00\" fill=\"#000000\">지역코드 &lt;= 1.5</text>\n<text text-anchor=\"middle\" x=\"1881.5\" y=\"-156.8\" font-family=\"Helvetica,sans-Serif\" font-size=\"14.00\" fill=\"#000000\">gini = 0.346</text>\n<text text-anchor=\"middle\" x=\"1881.5\" y=\"-141.8\" font-family=\"Helvetica,sans-Serif\" font-size=\"14.00\" fill=\"#000000\">samples = 9</text>\n<text text-anchor=\"middle\" x=\"1881.5\" y=\"-126.8\" font-family=\"Helvetica,sans-Serif\" font-size=\"14.00\" fill=\"#000000\">value = [2, 7]</text>\n<text text-anchor=\"middle\" x=\"1881.5\" y=\"-111.8\" font-family=\"Helvetica,sans-Serif\" font-size=\"14.00\" fill=\"#000000\">class = 1</text>\n</g>\n<!-- 64&#45;&gt;66 -->\n<g id=\"edge66\" class=\"edge\">\n<title>64&#45;&gt;66</title>\n<path fill=\"none\" stroke=\"#000000\" d=\"M1881.5,-222.8796C1881.5,-214.6838 1881.5,-205.9891 1881.5,-197.5013\"/>\n<polygon fill=\"#000000\" stroke=\"#000000\" points=\"1885.0001,-197.298 1881.5,-187.2981 1878.0001,-197.2981 1885.0001,-197.298\"/>\n</g>\n<!-- 67 -->\n<g id=\"node68\" class=\"node\">\n<title>67</title>\n<polygon fill=\"#e58139\" stroke=\"#000000\" points=\"1749,-68 1650,-68 1650,0 1749,0 1749,-68\"/>\n<text text-anchor=\"middle\" x=\"1699.5\" y=\"-52.8\" font-family=\"Helvetica,sans-Serif\" font-size=\"14.00\" fill=\"#000000\">gini = 0.0</text>\n<text text-anchor=\"middle\" x=\"1699.5\" y=\"-37.8\" font-family=\"Helvetica,sans-Serif\" font-size=\"14.00\" fill=\"#000000\">samples = 1</text>\n<text text-anchor=\"middle\" x=\"1699.5\" y=\"-22.8\" font-family=\"Helvetica,sans-Serif\" font-size=\"14.00\" fill=\"#000000\">value = [1, 0]</text>\n<text text-anchor=\"middle\" x=\"1699.5\" y=\"-7.8\" font-family=\"Helvetica,sans-Serif\" font-size=\"14.00\" fill=\"#000000\">class = 0</text>\n</g>\n<!-- 66&#45;&gt;67 -->\n<g id=\"edge67\" class=\"edge\">\n<title>66&#45;&gt;67</title>\n<path fill=\"none\" stroke=\"#000000\" d=\"M1823.7741,-109.705C1820.6384,-107.7729 1817.5316,-105.8615 1814.5,-104 1796.0993,-92.7013 1776.003,-80.4414 1757.8311,-69.3855\"/>\n<polygon fill=\"#000000\" stroke=\"#000000\" points=\"1759.4436,-66.2697 1749.0808,-64.0642 1755.8064,-72.2506 1759.4436,-66.2697\"/>\n</g>\n<!-- 68 -->\n<g id=\"node69\" class=\"node\">\n<title>68</title>\n<polygon fill=\"#55abe9\" stroke=\"#000000\" points=\"1866,-68 1767,-68 1767,0 1866,0 1866,-68\"/>\n<text text-anchor=\"middle\" x=\"1816.5\" y=\"-52.8\" font-family=\"Helvetica,sans-Serif\" font-size=\"14.00\" fill=\"#000000\">gini = 0.219</text>\n<text text-anchor=\"middle\" x=\"1816.5\" y=\"-37.8\" font-family=\"Helvetica,sans-Serif\" font-size=\"14.00\" fill=\"#000000\">samples = 8</text>\n<text text-anchor=\"middle\" x=\"1816.5\" y=\"-22.8\" font-family=\"Helvetica,sans-Serif\" font-size=\"14.00\" fill=\"#000000\">value = [1, 7]</text>\n<text text-anchor=\"middle\" x=\"1816.5\" y=\"-7.8\" font-family=\"Helvetica,sans-Serif\" font-size=\"14.00\" fill=\"#000000\">class = 1</text>\n</g>\n<!-- 66&#45;&gt;68 -->\n<g id=\"edge68\" class=\"edge\">\n<title>66&#45;&gt;68</title>\n<path fill=\"none\" stroke=\"#000000\" d=\"M1857.2964,-103.9815C1852.1529,-95.1585 1846.7123,-85.8258 1841.5384,-76.9506\"/>\n<polygon fill=\"#000000\" stroke=\"#000000\" points=\"1844.5344,-75.1402 1836.4743,-68.2637 1838.487,-78.6656 1844.5344,-75.1402\"/>\n</g>\n<!-- 71 -->\n<g id=\"node72\" class=\"node\">\n<title>71</title>\n<polygon fill=\"#72b9ed\" stroke=\"#000000\" points=\"2296,-306 2159,-306 2159,-223 2296,-223 2296,-306\"/>\n<text text-anchor=\"middle\" x=\"2227.5\" y=\"-290.8\" font-family=\"Helvetica,sans-Serif\" font-size=\"14.00\" fill=\"#000000\">만족도_교통 &lt;= 2.5</text>\n<text text-anchor=\"middle\" x=\"2227.5\" y=\"-275.8\" font-family=\"Helvetica,sans-Serif\" font-size=\"14.00\" fill=\"#000000\">gini = 0.348</text>\n<text text-anchor=\"middle\" x=\"2227.5\" y=\"-260.8\" font-family=\"Helvetica,sans-Serif\" font-size=\"14.00\" fill=\"#000000\">samples = 49</text>\n<text text-anchor=\"middle\" x=\"2227.5\" y=\"-245.8\" font-family=\"Helvetica,sans-Serif\" font-size=\"14.00\" fill=\"#000000\">value = [11, 38]</text>\n<text text-anchor=\"middle\" x=\"2227.5\" y=\"-230.8\" font-family=\"Helvetica,sans-Serif\" font-size=\"14.00\" fill=\"#000000\">class = 1</text>\n</g>\n<!-- 70&#45;&gt;71 -->\n<g id=\"edge71\" class=\"edge\">\n<title>70&#45;&gt;71</title>\n<path fill=\"none\" stroke=\"#000000\" d=\"M2239.8547,-341.8796C2238.5318,-333.5938 2237.1274,-324.798 2235.7581,-316.2216\"/>\n<polygon fill=\"#000000\" stroke=\"#000000\" points=\"2239.2066,-315.6211 2234.1736,-306.2981 2232.2942,-316.7249 2239.2066,-315.6211\"/>\n</g>\n<!-- 78 -->\n<g id=\"node79\" class=\"node\">\n<title>78</title>\n<polygon fill=\"#f5d0b5\" stroke=\"#000000\" points=\"2461.5,-306 2357.5,-306 2357.5,-223 2461.5,-223 2461.5,-306\"/>\n<text text-anchor=\"middle\" x=\"2409.5\" y=\"-290.8\" font-family=\"Helvetica,sans-Serif\" font-size=\"14.00\" fill=\"#000000\">월 &lt;= 8.5</text>\n<text text-anchor=\"middle\" x=\"2409.5\" y=\"-275.8\" font-family=\"Helvetica,sans-Serif\" font-size=\"14.00\" fill=\"#000000\">gini = 0.473</text>\n<text text-anchor=\"middle\" x=\"2409.5\" y=\"-260.8\" font-family=\"Helvetica,sans-Serif\" font-size=\"14.00\" fill=\"#000000\">samples = 13</text>\n<text text-anchor=\"middle\" x=\"2409.5\" y=\"-245.8\" font-family=\"Helvetica,sans-Serif\" font-size=\"14.00\" fill=\"#000000\">value = [8, 5]</text>\n<text text-anchor=\"middle\" x=\"2409.5\" y=\"-230.8\" font-family=\"Helvetica,sans-Serif\" font-size=\"14.00\" fill=\"#000000\">class = 0</text>\n</g>\n<!-- 70&#45;&gt;78 -->\n<g id=\"edge78\" class=\"edge\">\n<title>70&#45;&gt;78</title>\n<path fill=\"none\" stroke=\"#000000\" d=\"M2303.5095,-341.8796C2318.3045,-331.0783 2334.2866,-319.4104 2349.2427,-308.4915\"/>\n<polygon fill=\"#000000\" stroke=\"#000000\" points=\"2351.4192,-311.2361 2357.4321,-302.5128 2347.2916,-305.5824 2351.4192,-311.2361\"/>\n</g>\n<!-- 72 -->\n<g id=\"node73\" class=\"node\">\n<title>72</title>\n<polygon fill=\"#f2c09c\" stroke=\"#000000\" points=\"2135.5,-187 1965.5,-187 1965.5,-104 2135.5,-104 2135.5,-187\"/>\n<text text-anchor=\"middle\" x=\"2050.5\" y=\"-171.8\" font-family=\"Helvetica,sans-Serif\" font-size=\"14.00\" fill=\"#000000\">여행총경비 &lt;= 255000.0</text>\n<text text-anchor=\"middle\" x=\"2050.5\" y=\"-156.8\" font-family=\"Helvetica,sans-Serif\" font-size=\"14.00\" fill=\"#000000\">gini = 0.444</text>\n<text text-anchor=\"middle\" x=\"2050.5\" y=\"-141.8\" font-family=\"Helvetica,sans-Serif\" font-size=\"14.00\" fill=\"#000000\">samples = 6</text>\n<text text-anchor=\"middle\" x=\"2050.5\" y=\"-126.8\" font-family=\"Helvetica,sans-Serif\" font-size=\"14.00\" fill=\"#000000\">value = [4, 2]</text>\n<text text-anchor=\"middle\" x=\"2050.5\" y=\"-111.8\" font-family=\"Helvetica,sans-Serif\" font-size=\"14.00\" fill=\"#000000\">class = 0</text>\n</g>\n<!-- 71&#45;&gt;72 -->\n<g id=\"edge72\" class=\"edge\">\n<title>71&#45;&gt;72</title>\n<path fill=\"none\" stroke=\"#000000\" d=\"M2165.594,-222.8796C2151.177,-213.1868 2135.722,-202.7961 2120.9656,-192.8752\"/>\n<polygon fill=\"#000000\" stroke=\"#000000\" points=\"2122.6227,-189.7718 2112.3711,-187.0969 2118.7171,-195.581 2122.6227,-189.7718\"/>\n</g>\n<!-- 75 -->\n<g id=\"node76\" class=\"node\">\n<title>75</title>\n<polygon fill=\"#5fb0ea\" stroke=\"#000000\" points=\"2281,-187 2174,-187 2174,-104 2281,-104 2281,-187\"/>\n<text text-anchor=\"middle\" x=\"2227.5\" y=\"-171.8\" font-family=\"Helvetica,sans-Serif\" font-size=\"14.00\" fill=\"#000000\">주업 &lt;= 2.5</text>\n<text text-anchor=\"middle\" x=\"2227.5\" y=\"-156.8\" font-family=\"Helvetica,sans-Serif\" font-size=\"14.00\" fill=\"#000000\">gini = 0.273</text>\n<text text-anchor=\"middle\" x=\"2227.5\" y=\"-141.8\" font-family=\"Helvetica,sans-Serif\" font-size=\"14.00\" fill=\"#000000\">samples = 43</text>\n<text text-anchor=\"middle\" x=\"2227.5\" y=\"-126.8\" font-family=\"Helvetica,sans-Serif\" font-size=\"14.00\" fill=\"#000000\">value = [7, 36]</text>\n<text text-anchor=\"middle\" x=\"2227.5\" y=\"-111.8\" font-family=\"Helvetica,sans-Serif\" font-size=\"14.00\" fill=\"#000000\">class = 1</text>\n</g>\n<!-- 71&#45;&gt;75 -->\n<g id=\"edge75\" class=\"edge\">\n<title>71&#45;&gt;75</title>\n<path fill=\"none\" stroke=\"#000000\" d=\"M2227.5,-222.8796C2227.5,-214.6838 2227.5,-205.9891 2227.5,-197.5013\"/>\n<polygon fill=\"#000000\" stroke=\"#000000\" points=\"2231.0001,-197.298 2227.5,-187.2981 2224.0001,-197.2981 2231.0001,-197.298\"/>\n</g>\n<!-- 73 -->\n<g id=\"node74\" class=\"node\">\n<title>73</title>\n<polygon fill=\"#e58139\" stroke=\"#000000\" points=\"1983,-68 1884,-68 1884,0 1983,0 1983,-68\"/>\n<text text-anchor=\"middle\" x=\"1933.5\" y=\"-52.8\" font-family=\"Helvetica,sans-Serif\" font-size=\"14.00\" fill=\"#000000\">gini = 0.0</text>\n<text text-anchor=\"middle\" x=\"1933.5\" y=\"-37.8\" font-family=\"Helvetica,sans-Serif\" font-size=\"14.00\" fill=\"#000000\">samples = 4</text>\n<text text-anchor=\"middle\" x=\"1933.5\" y=\"-22.8\" font-family=\"Helvetica,sans-Serif\" font-size=\"14.00\" fill=\"#000000\">value = [4, 0]</text>\n<text text-anchor=\"middle\" x=\"1933.5\" y=\"-7.8\" font-family=\"Helvetica,sans-Serif\" font-size=\"14.00\" fill=\"#000000\">class = 0</text>\n</g>\n<!-- 72&#45;&gt;73 -->\n<g id=\"edge73\" class=\"edge\">\n<title>72&#45;&gt;73</title>\n<path fill=\"none\" stroke=\"#000000\" d=\"M2006.9335,-103.9815C1997.0966,-94.607 1986.656,-84.6572 1976.8289,-75.2921\"/>\n<polygon fill=\"#000000\" stroke=\"#000000\" points=\"1979.1076,-72.6289 1969.4538,-68.2637 1974.2784,-77.6963 1979.1076,-72.6289\"/>\n</g>\n<!-- 74 -->\n<g id=\"node75\" class=\"node\">\n<title>74</title>\n<polygon fill=\"#399de5\" stroke=\"#000000\" points=\"2100,-68 2001,-68 2001,0 2100,0 2100,-68\"/>\n<text text-anchor=\"middle\" x=\"2050.5\" y=\"-52.8\" font-family=\"Helvetica,sans-Serif\" font-size=\"14.00\" fill=\"#000000\">gini = 0.0</text>\n<text text-anchor=\"middle\" x=\"2050.5\" y=\"-37.8\" font-family=\"Helvetica,sans-Serif\" font-size=\"14.00\" fill=\"#000000\">samples = 2</text>\n<text text-anchor=\"middle\" x=\"2050.5\" y=\"-22.8\" font-family=\"Helvetica,sans-Serif\" font-size=\"14.00\" fill=\"#000000\">value = [0, 2]</text>\n<text text-anchor=\"middle\" x=\"2050.5\" y=\"-7.8\" font-family=\"Helvetica,sans-Serif\" font-size=\"14.00\" fill=\"#000000\">class = 1</text>\n</g>\n<!-- 72&#45;&gt;74 -->\n<g id=\"edge74\" class=\"edge\">\n<title>72&#45;&gt;74</title>\n<path fill=\"none\" stroke=\"#000000\" d=\"M2050.5,-103.9815C2050.5,-95.618 2050.5,-86.7965 2050.5,-78.3409\"/>\n<polygon fill=\"#000000\" stroke=\"#000000\" points=\"2054.0001,-78.2636 2050.5,-68.2637 2047.0001,-78.2637 2054.0001,-78.2636\"/>\n</g>\n<!-- 76 -->\n<g id=\"node77\" class=\"node\">\n<title>76</title>\n<polygon fill=\"#f2c09c\" stroke=\"#000000\" points=\"2217,-68 2118,-68 2118,0 2217,0 2217,-68\"/>\n<text text-anchor=\"middle\" x=\"2167.5\" y=\"-52.8\" font-family=\"Helvetica,sans-Serif\" font-size=\"14.00\" fill=\"#000000\">gini = 0.444</text>\n<text text-anchor=\"middle\" x=\"2167.5\" y=\"-37.8\" font-family=\"Helvetica,sans-Serif\" font-size=\"14.00\" fill=\"#000000\">samples = 3</text>\n<text text-anchor=\"middle\" x=\"2167.5\" y=\"-22.8\" font-family=\"Helvetica,sans-Serif\" font-size=\"14.00\" fill=\"#000000\">value = [2, 1]</text>\n<text text-anchor=\"middle\" x=\"2167.5\" y=\"-7.8\" font-family=\"Helvetica,sans-Serif\" font-size=\"14.00\" fill=\"#000000\">class = 0</text>\n</g>\n<!-- 75&#45;&gt;76 -->\n<g id=\"edge76\" class=\"edge\">\n<title>75&#45;&gt;76</title>\n<path fill=\"none\" stroke=\"#000000\" d=\"M2205.1582,-103.9815C2200.4598,-95.2504 2195.4929,-86.0202 2190.7617,-77.2281\"/>\n<polygon fill=\"#000000\" stroke=\"#000000\" points=\"2193.7586,-75.4111 2185.9379,-68.2637 2187.5944,-78.7282 2193.7586,-75.4111\"/>\n</g>\n<!-- 77 -->\n<g id=\"node78\" class=\"node\">\n<title>77</title>\n<polygon fill=\"#55abe9\" stroke=\"#000000\" points=\"2342,-68 2235,-68 2235,0 2342,0 2342,-68\"/>\n<text text-anchor=\"middle\" x=\"2288.5\" y=\"-52.8\" font-family=\"Helvetica,sans-Serif\" font-size=\"14.00\" fill=\"#000000\">gini = 0.219</text>\n<text text-anchor=\"middle\" x=\"2288.5\" y=\"-37.8\" font-family=\"Helvetica,sans-Serif\" font-size=\"14.00\" fill=\"#000000\">samples = 40</text>\n<text text-anchor=\"middle\" x=\"2288.5\" y=\"-22.8\" font-family=\"Helvetica,sans-Serif\" font-size=\"14.00\" fill=\"#000000\">value = [5, 35]</text>\n<text text-anchor=\"middle\" x=\"2288.5\" y=\"-7.8\" font-family=\"Helvetica,sans-Serif\" font-size=\"14.00\" fill=\"#000000\">class = 1</text>\n</g>\n<!-- 75&#45;&gt;77 -->\n<g id=\"edge77\" class=\"edge\">\n<title>75&#45;&gt;77</title>\n<path fill=\"none\" stroke=\"#000000\" d=\"M2250.2141,-103.9815C2254.9908,-95.2504 2260.0405,-86.0202 2264.8506,-77.2281\"/>\n<polygon fill=\"#000000\" stroke=\"#000000\" points=\"2268.0258,-78.7165 2269.7549,-68.2637 2261.8847,-75.3568 2268.0258,-78.7165\"/>\n</g>\n<!-- 79 -->\n<g id=\"node80\" class=\"node\">\n<title>79</title>\n<polygon fill=\"#e99355\" stroke=\"#000000\" points=\"2490,-187 2329,-187 2329,-104 2490,-104 2490,-187\"/>\n<text text-anchor=\"middle\" x=\"2409.5\" y=\"-171.8\" font-family=\"Helvetica,sans-Serif\" font-size=\"14.00\" fill=\"#000000\">여행총경비 &lt;= 50000.0</text>\n<text text-anchor=\"middle\" x=\"2409.5\" y=\"-156.8\" font-family=\"Helvetica,sans-Serif\" font-size=\"14.00\" fill=\"#000000\">gini = 0.219</text>\n<text text-anchor=\"middle\" x=\"2409.5\" y=\"-141.8\" font-family=\"Helvetica,sans-Serif\" font-size=\"14.00\" fill=\"#000000\">samples = 8</text>\n<text text-anchor=\"middle\" x=\"2409.5\" y=\"-126.8\" font-family=\"Helvetica,sans-Serif\" font-size=\"14.00\" fill=\"#000000\">value = [7, 1]</text>\n<text text-anchor=\"middle\" x=\"2409.5\" y=\"-111.8\" font-family=\"Helvetica,sans-Serif\" font-size=\"14.00\" fill=\"#000000\">class = 0</text>\n</g>\n<!-- 78&#45;&gt;79 -->\n<g id=\"edge79\" class=\"edge\">\n<title>78&#45;&gt;79</title>\n<path fill=\"none\" stroke=\"#000000\" d=\"M2409.5,-222.8796C2409.5,-214.6838 2409.5,-205.9891 2409.5,-197.5013\"/>\n<polygon fill=\"#000000\" stroke=\"#000000\" points=\"2413.0001,-197.298 2409.5,-187.2981 2406.0001,-197.2981 2413.0001,-197.298\"/>\n</g>\n<!-- 82 -->\n<g id=\"node83\" class=\"node\">\n<title>82</title>\n<polygon fill=\"#6ab6ec\" stroke=\"#000000\" points=\"2678.5,-187 2508.5,-187 2508.5,-104 2678.5,-104 2678.5,-187\"/>\n<text text-anchor=\"middle\" x=\"2593.5\" y=\"-171.8\" font-family=\"Helvetica,sans-Serif\" font-size=\"14.00\" fill=\"#000000\">1인지출비용 &lt;= 32500.0</text>\n<text text-anchor=\"middle\" x=\"2593.5\" y=\"-156.8\" font-family=\"Helvetica,sans-Serif\" font-size=\"14.00\" fill=\"#000000\">gini = 0.32</text>\n<text text-anchor=\"middle\" x=\"2593.5\" y=\"-141.8\" font-family=\"Helvetica,sans-Serif\" font-size=\"14.00\" fill=\"#000000\">samples = 5</text>\n<text text-anchor=\"middle\" x=\"2593.5\" y=\"-126.8\" font-family=\"Helvetica,sans-Serif\" font-size=\"14.00\" fill=\"#000000\">value = [1, 4]</text>\n<text text-anchor=\"middle\" x=\"2593.5\" y=\"-111.8\" font-family=\"Helvetica,sans-Serif\" font-size=\"14.00\" fill=\"#000000\">class = 1</text>\n</g>\n<!-- 78&#45;&gt;82 -->\n<g id=\"edge82\" class=\"edge\">\n<title>78&#45;&gt;82</title>\n<path fill=\"none\" stroke=\"#000000\" d=\"M2461.7348,-230.7177C2479.9674,-218.926 2500.7802,-205.4656 2520.3953,-192.7797\"/>\n<polygon fill=\"#000000\" stroke=\"#000000\" points=\"2522.5162,-195.5762 2529.0125,-187.2066 2518.7148,-189.6984 2522.5162,-195.5762\"/>\n</g>\n<!-- 80 -->\n<g id=\"node81\" class=\"node\">\n<title>80</title>\n<polygon fill=\"#399de5\" stroke=\"#000000\" points=\"2459,-68 2360,-68 2360,0 2459,0 2459,-68\"/>\n<text text-anchor=\"middle\" x=\"2409.5\" y=\"-52.8\" font-family=\"Helvetica,sans-Serif\" font-size=\"14.00\" fill=\"#000000\">gini = 0.0</text>\n<text text-anchor=\"middle\" x=\"2409.5\" y=\"-37.8\" font-family=\"Helvetica,sans-Serif\" font-size=\"14.00\" fill=\"#000000\">samples = 1</text>\n<text text-anchor=\"middle\" x=\"2409.5\" y=\"-22.8\" font-family=\"Helvetica,sans-Serif\" font-size=\"14.00\" fill=\"#000000\">value = [0, 1]</text>\n<text text-anchor=\"middle\" x=\"2409.5\" y=\"-7.8\" font-family=\"Helvetica,sans-Serif\" font-size=\"14.00\" fill=\"#000000\">class = 1</text>\n</g>\n<!-- 79&#45;&gt;80 -->\n<g id=\"edge80\" class=\"edge\">\n<title>79&#45;&gt;80</title>\n<path fill=\"none\" stroke=\"#000000\" d=\"M2409.5,-103.9815C2409.5,-95.618 2409.5,-86.7965 2409.5,-78.3409\"/>\n<polygon fill=\"#000000\" stroke=\"#000000\" points=\"2413.0001,-78.2636 2409.5,-68.2637 2406.0001,-78.2637 2413.0001,-78.2636\"/>\n</g>\n<!-- 81 -->\n<g id=\"node82\" class=\"node\">\n<title>81</title>\n<polygon fill=\"#e58139\" stroke=\"#000000\" points=\"2576,-68 2477,-68 2477,0 2576,0 2576,-68\"/>\n<text text-anchor=\"middle\" x=\"2526.5\" y=\"-52.8\" font-family=\"Helvetica,sans-Serif\" font-size=\"14.00\" fill=\"#000000\">gini = 0.0</text>\n<text text-anchor=\"middle\" x=\"2526.5\" y=\"-37.8\" font-family=\"Helvetica,sans-Serif\" font-size=\"14.00\" fill=\"#000000\">samples = 7</text>\n<text text-anchor=\"middle\" x=\"2526.5\" y=\"-22.8\" font-family=\"Helvetica,sans-Serif\" font-size=\"14.00\" fill=\"#000000\">value = [7, 0]</text>\n<text text-anchor=\"middle\" x=\"2526.5\" y=\"-7.8\" font-family=\"Helvetica,sans-Serif\" font-size=\"14.00\" fill=\"#000000\">class = 0</text>\n</g>\n<!-- 79&#45;&gt;81 -->\n<g id=\"edge81\" class=\"edge\">\n<title>79&#45;&gt;81</title>\n<path fill=\"none\" stroke=\"#000000\" d=\"M2453.0665,-103.9815C2462.9034,-94.607 2473.344,-84.6572 2483.1711,-75.2921\"/>\n<polygon fill=\"#000000\" stroke=\"#000000\" points=\"2485.7216,-77.6963 2490.5462,-68.2637 2480.8924,-72.6289 2485.7216,-77.6963\"/>\n</g>\n<!-- 83 -->\n<g id=\"node84\" class=\"node\">\n<title>83</title>\n<polygon fill=\"#e58139\" stroke=\"#000000\" points=\"2693,-68 2594,-68 2594,0 2693,0 2693,-68\"/>\n<text text-anchor=\"middle\" x=\"2643.5\" y=\"-52.8\" font-family=\"Helvetica,sans-Serif\" font-size=\"14.00\" fill=\"#000000\">gini = 0.0</text>\n<text text-anchor=\"middle\" x=\"2643.5\" y=\"-37.8\" font-family=\"Helvetica,sans-Serif\" font-size=\"14.00\" fill=\"#000000\">samples = 1</text>\n<text text-anchor=\"middle\" x=\"2643.5\" y=\"-22.8\" font-family=\"Helvetica,sans-Serif\" font-size=\"14.00\" fill=\"#000000\">value = [1, 0]</text>\n<text text-anchor=\"middle\" x=\"2643.5\" y=\"-7.8\" font-family=\"Helvetica,sans-Serif\" font-size=\"14.00\" fill=\"#000000\">class = 0</text>\n</g>\n<!-- 82&#45;&gt;83 -->\n<g id=\"edge83\" class=\"edge\">\n<title>82&#45;&gt;83</title>\n<path fill=\"none\" stroke=\"#000000\" d=\"M2612.1182,-103.9815C2615.9922,-95.3423 2620.0855,-86.2144 2623.9906,-77.5059\"/>\n<polygon fill=\"#000000\" stroke=\"#000000\" points=\"2627.2369,-78.8204 2628.1351,-68.2637 2620.8497,-75.9561 2627.2369,-78.8204\"/>\n</g>\n<!-- 84 -->\n<g id=\"node85\" class=\"node\">\n<title>84</title>\n<polygon fill=\"#399de5\" stroke=\"#000000\" points=\"2810,-68 2711,-68 2711,0 2810,0 2810,-68\"/>\n<text text-anchor=\"middle\" x=\"2760.5\" y=\"-52.8\" font-family=\"Helvetica,sans-Serif\" font-size=\"14.00\" fill=\"#000000\">gini = 0.0</text>\n<text text-anchor=\"middle\" x=\"2760.5\" y=\"-37.8\" font-family=\"Helvetica,sans-Serif\" font-size=\"14.00\" fill=\"#000000\">samples = 4</text>\n<text text-anchor=\"middle\" x=\"2760.5\" y=\"-22.8\" font-family=\"Helvetica,sans-Serif\" font-size=\"14.00\" fill=\"#000000\">value = [0, 4]</text>\n<text text-anchor=\"middle\" x=\"2760.5\" y=\"-7.8\" font-family=\"Helvetica,sans-Serif\" font-size=\"14.00\" fill=\"#000000\">class = 1</text>\n</g>\n<!-- 82&#45;&gt;84 -->\n<g id=\"edge84\" class=\"edge\">\n<title>82&#45;&gt;84</title>\n<path fill=\"none\" stroke=\"#000000\" d=\"M2655.6846,-103.9815C2670.8787,-93.837 2687.082,-83.0186 2702.0925,-72.9966\"/>\n<polygon fill=\"#000000\" stroke=\"#000000\" points=\"2704.4029,-75.6625 2710.7761,-67.1989 2700.5159,-69.8409 2704.4029,-75.6625\"/>\n</g>\n<!-- 86 -->\n<g id=\"node87\" class=\"node\">\n<title>86</title>\n<polygon fill=\"#399de5\" stroke=\"#000000\" points=\"2483,-417.5 2384,-417.5 2384,-349.5 2483,-349.5 2483,-417.5\"/>\n<text text-anchor=\"middle\" x=\"2433.5\" y=\"-402.3\" font-family=\"Helvetica,sans-Serif\" font-size=\"14.00\" fill=\"#000000\">gini = 0.0</text>\n<text text-anchor=\"middle\" x=\"2433.5\" y=\"-387.3\" font-family=\"Helvetica,sans-Serif\" font-size=\"14.00\" fill=\"#000000\">samples = 2</text>\n<text text-anchor=\"middle\" x=\"2433.5\" y=\"-372.3\" font-family=\"Helvetica,sans-Serif\" font-size=\"14.00\" fill=\"#000000\">value = [0, 2]</text>\n<text text-anchor=\"middle\" x=\"2433.5\" y=\"-357.3\" font-family=\"Helvetica,sans-Serif\" font-size=\"14.00\" fill=\"#000000\">class = 1</text>\n</g>\n<!-- 85&#45;&gt;86 -->\n<g id=\"edge86\" class=\"edge\">\n<title>85&#45;&gt;86</title>\n<path fill=\"none\" stroke=\"#000000\" d=\"M2433.5,-460.8796C2433.5,-450.2134 2433.5,-438.7021 2433.5,-427.9015\"/>\n<polygon fill=\"#000000\" stroke=\"#000000\" points=\"2437.0001,-427.8149 2433.5,-417.8149 2430.0001,-427.815 2437.0001,-427.8149\"/>\n</g>\n<!-- 87 -->\n<g id=\"node88\" class=\"node\">\n<title>87</title>\n<polygon fill=\"#e99355\" stroke=\"#000000\" points=\"2607,-425 2508,-425 2508,-342 2607,-342 2607,-425\"/>\n<text text-anchor=\"middle\" x=\"2557.5\" y=\"-409.8\" font-family=\"Helvetica,sans-Serif\" font-size=\"14.00\" fill=\"#000000\">월 &lt;= 8.5</text>\n<text text-anchor=\"middle\" x=\"2557.5\" y=\"-394.8\" font-family=\"Helvetica,sans-Serif\" font-size=\"14.00\" fill=\"#000000\">gini = 0.219</text>\n<text text-anchor=\"middle\" x=\"2557.5\" y=\"-379.8\" font-family=\"Helvetica,sans-Serif\" font-size=\"14.00\" fill=\"#000000\">samples = 8</text>\n<text text-anchor=\"middle\" x=\"2557.5\" y=\"-364.8\" font-family=\"Helvetica,sans-Serif\" font-size=\"14.00\" fill=\"#000000\">value = [7, 1]</text>\n<text text-anchor=\"middle\" x=\"2557.5\" y=\"-349.8\" font-family=\"Helvetica,sans-Serif\" font-size=\"14.00\" fill=\"#000000\">class = 0</text>\n</g>\n<!-- 85&#45;&gt;87 -->\n<g id=\"edge87\" class=\"edge\">\n<title>85&#45;&gt;87</title>\n<path fill=\"none\" stroke=\"#000000\" d=\"M2476.8692,-460.8796C2486.4416,-451.6931 2496.6672,-441.8798 2506.5103,-432.4336\"/>\n<polygon fill=\"#000000\" stroke=\"#000000\" points=\"2509.1541,-434.7475 2513.9457,-425.2981 2504.3072,-429.6969 2509.1541,-434.7475\"/>\n</g>\n<!-- 88 -->\n<g id=\"node89\" class=\"node\">\n<title>88</title>\n<polygon fill=\"#e58139\" stroke=\"#000000\" points=\"2607,-298.5 2508,-298.5 2508,-230.5 2607,-230.5 2607,-298.5\"/>\n<text text-anchor=\"middle\" x=\"2557.5\" y=\"-283.3\" font-family=\"Helvetica,sans-Serif\" font-size=\"14.00\" fill=\"#000000\">gini = 0.0</text>\n<text text-anchor=\"middle\" x=\"2557.5\" y=\"-268.3\" font-family=\"Helvetica,sans-Serif\" font-size=\"14.00\" fill=\"#000000\">samples = 6</text>\n<text text-anchor=\"middle\" x=\"2557.5\" y=\"-253.3\" font-family=\"Helvetica,sans-Serif\" font-size=\"14.00\" fill=\"#000000\">value = [6, 0]</text>\n<text text-anchor=\"middle\" x=\"2557.5\" y=\"-238.3\" font-family=\"Helvetica,sans-Serif\" font-size=\"14.00\" fill=\"#000000\">class = 0</text>\n</g>\n<!-- 87&#45;&gt;88 -->\n<g id=\"edge88\" class=\"edge\">\n<title>87&#45;&gt;88</title>\n<path fill=\"none\" stroke=\"#000000\" d=\"M2557.5,-341.8796C2557.5,-331.2134 2557.5,-319.7021 2557.5,-308.9015\"/>\n<polygon fill=\"#000000\" stroke=\"#000000\" points=\"2561.0001,-308.8149 2557.5,-298.8149 2554.0001,-308.815 2561.0001,-308.8149\"/>\n</g>\n<!-- 89 -->\n<g id=\"node90\" class=\"node\">\n<title>89</title>\n<polygon fill=\"#ffffff\" stroke=\"#000000\" points=\"2819.5,-306 2649.5,-306 2649.5,-223 2819.5,-223 2819.5,-306\"/>\n<text text-anchor=\"middle\" x=\"2734.5\" y=\"-290.8\" font-family=\"Helvetica,sans-Serif\" font-size=\"14.00\" fill=\"#000000\">1인지출비용 &lt;= 71250.0</text>\n<text text-anchor=\"middle\" x=\"2734.5\" y=\"-275.8\" font-family=\"Helvetica,sans-Serif\" font-size=\"14.00\" fill=\"#000000\">gini = 0.5</text>\n<text text-anchor=\"middle\" x=\"2734.5\" y=\"-260.8\" font-family=\"Helvetica,sans-Serif\" font-size=\"14.00\" fill=\"#000000\">samples = 2</text>\n<text text-anchor=\"middle\" x=\"2734.5\" y=\"-245.8\" font-family=\"Helvetica,sans-Serif\" font-size=\"14.00\" fill=\"#000000\">value = [1, 1]</text>\n<text text-anchor=\"middle\" x=\"2734.5\" y=\"-230.8\" font-family=\"Helvetica,sans-Serif\" font-size=\"14.00\" fill=\"#000000\">class = 0</text>\n</g>\n<!-- 87&#45;&gt;89 -->\n<g id=\"edge89\" class=\"edge\">\n<title>87&#45;&gt;89</title>\n<path fill=\"none\" stroke=\"#000000\" d=\"M2607.2754,-350.0352C2624.9112,-338.1784 2645.1026,-324.6033 2664.1265,-311.8133\"/>\n<polygon fill=\"#000000\" stroke=\"#000000\" points=\"2666.1373,-314.6789 2672.4833,-306.1949 2662.2316,-308.8697 2666.1373,-314.6789\"/>\n</g>\n<!-- 90 -->\n<g id=\"node91\" class=\"node\">\n<title>90</title>\n<polygon fill=\"#399de5\" stroke=\"#000000\" points=\"2796,-179.5 2697,-179.5 2697,-111.5 2796,-111.5 2796,-179.5\"/>\n<text text-anchor=\"middle\" x=\"2746.5\" y=\"-164.3\" font-family=\"Helvetica,sans-Serif\" font-size=\"14.00\" fill=\"#000000\">gini = 0.0</text>\n<text text-anchor=\"middle\" x=\"2746.5\" y=\"-149.3\" font-family=\"Helvetica,sans-Serif\" font-size=\"14.00\" fill=\"#000000\">samples = 1</text>\n<text text-anchor=\"middle\" x=\"2746.5\" y=\"-134.3\" font-family=\"Helvetica,sans-Serif\" font-size=\"14.00\" fill=\"#000000\">value = [0, 1]</text>\n<text text-anchor=\"middle\" x=\"2746.5\" y=\"-119.3\" font-family=\"Helvetica,sans-Serif\" font-size=\"14.00\" fill=\"#000000\">class = 1</text>\n</g>\n<!-- 89&#45;&gt;90 -->\n<g id=\"edge90\" class=\"edge\">\n<title>89&#45;&gt;90</title>\n<path fill=\"none\" stroke=\"#000000\" d=\"M2738.697,-222.8796C2739.7726,-212.2134 2740.9334,-200.7021 2742.0225,-189.9015\"/>\n<polygon fill=\"#000000\" stroke=\"#000000\" points=\"2745.5186,-190.1157 2743.0397,-179.8149 2738.5539,-189.4133 2745.5186,-190.1157\"/>\n</g>\n<!-- 91 -->\n<g id=\"node92\" class=\"node\">\n<title>91</title>\n<polygon fill=\"#e58139\" stroke=\"#000000\" points=\"2913,-179.5 2814,-179.5 2814,-111.5 2913,-111.5 2913,-179.5\"/>\n<text text-anchor=\"middle\" x=\"2863.5\" y=\"-164.3\" font-family=\"Helvetica,sans-Serif\" font-size=\"14.00\" fill=\"#000000\">gini = 0.0</text>\n<text text-anchor=\"middle\" x=\"2863.5\" y=\"-149.3\" font-family=\"Helvetica,sans-Serif\" font-size=\"14.00\" fill=\"#000000\">samples = 1</text>\n<text text-anchor=\"middle\" x=\"2863.5\" y=\"-134.3\" font-family=\"Helvetica,sans-Serif\" font-size=\"14.00\" fill=\"#000000\">value = [1, 0]</text>\n<text text-anchor=\"middle\" x=\"2863.5\" y=\"-119.3\" font-family=\"Helvetica,sans-Serif\" font-size=\"14.00\" fill=\"#000000\">class = 0</text>\n</g>\n<!-- 89&#45;&gt;91 -->\n<g id=\"edge91\" class=\"edge\">\n<title>89&#45;&gt;91</title>\n<path fill=\"none\" stroke=\"#000000\" d=\"M2779.6179,-222.8796C2792.2533,-211.2237 2805.9826,-198.5587 2818.605,-186.9148\"/>\n<polygon fill=\"#000000\" stroke=\"#000000\" points=\"2821.3244,-189.168 2826.3015,-179.8149 2816.578,-184.0228 2821.3244,-189.168\"/>\n</g>\n<!-- 93 -->\n<g id=\"node94\" class=\"node\">\n<title>93</title>\n<polygon fill=\"#bddef6\" stroke=\"#000000\" points=\"3197,-544 3090,-544 3090,-461 3197,-461 3197,-544\"/>\n<text text-anchor=\"middle\" x=\"3143.5\" y=\"-528.8\" font-family=\"Helvetica,sans-Serif\" font-size=\"14.00\" fill=\"#000000\">주업 &lt;= 3.5</text>\n<text text-anchor=\"middle\" x=\"3143.5\" y=\"-513.8\" font-family=\"Helvetica,sans-Serif\" font-size=\"14.00\" fill=\"#000000\">gini = 0.48</text>\n<text text-anchor=\"middle\" x=\"3143.5\" y=\"-498.8\" font-family=\"Helvetica,sans-Serif\" font-size=\"14.00\" fill=\"#000000\">samples = 20</text>\n<text text-anchor=\"middle\" x=\"3143.5\" y=\"-483.8\" font-family=\"Helvetica,sans-Serif\" font-size=\"14.00\" fill=\"#000000\">value = [8, 12]</text>\n<text text-anchor=\"middle\" x=\"3143.5\" y=\"-468.8\" font-family=\"Helvetica,sans-Serif\" font-size=\"14.00\" fill=\"#000000\">class = 1</text>\n</g>\n<!-- 92&#45;&gt;93 -->\n<g id=\"edge93\" class=\"edge\">\n<title>92&#45;&gt;93</title>\n<path fill=\"none\" stroke=\"#000000\" d=\"M3143.5,-579.8796C3143.5,-571.6838 3143.5,-562.9891 3143.5,-554.5013\"/>\n<polygon fill=\"#000000\" stroke=\"#000000\" points=\"3147.0001,-554.298 3143.5,-544.2981 3140.0001,-554.2981 3147.0001,-554.298\"/>\n</g>\n<!-- 106 -->\n<g id=\"node107\" class=\"node\">\n<title>106</title>\n<polygon fill=\"#49a5e7\" stroke=\"#000000\" points=\"3825.5,-544 3701.5,-544 3701.5,-461 3825.5,-461 3825.5,-544\"/>\n<text text-anchor=\"middle\" x=\"3763.5\" y=\"-528.8\" font-family=\"Helvetica,sans-Serif\" font-size=\"14.00\" fill=\"#000000\">혼인상태 &lt;= 2.5</text>\n<text text-anchor=\"middle\" x=\"3763.5\" y=\"-513.8\" font-family=\"Helvetica,sans-Serif\" font-size=\"14.00\" fill=\"#000000\">gini = 0.136</text>\n<text text-anchor=\"middle\" x=\"3763.5\" y=\"-498.8\" font-family=\"Helvetica,sans-Serif\" font-size=\"14.00\" fill=\"#000000\">samples = 599</text>\n<text text-anchor=\"middle\" x=\"3763.5\" y=\"-483.8\" font-family=\"Helvetica,sans-Serif\" font-size=\"14.00\" fill=\"#000000\">value = [44, 555]</text>\n<text text-anchor=\"middle\" x=\"3763.5\" y=\"-468.8\" font-family=\"Helvetica,sans-Serif\" font-size=\"14.00\" fill=\"#000000\">class = 1</text>\n</g>\n<!-- 92&#45;&gt;106 -->\n<g id=\"edge106\" class=\"edge\">\n<title>92&#45;&gt;106</title>\n<path fill=\"none\" stroke=\"#000000\" d=\"M3225.5112,-605.7591C3347.6712,-582.3123 3575.4604,-538.5915 3691.52,-516.3155\"/>\n<polygon fill=\"#000000\" stroke=\"#000000\" points=\"3692.2168,-519.7457 3701.3778,-514.4235 3690.8973,-512.8712 3692.2168,-519.7457\"/>\n</g>\n<!-- 94 -->\n<g id=\"node95\" class=\"node\">\n<title>94</title>\n<polygon fill=\"#6ab6ec\" stroke=\"#000000\" points=\"3114,-425 2999,-425 2999,-342 3114,-342 3114,-425\"/>\n<text text-anchor=\"middle\" x=\"3056.5\" y=\"-409.8\" font-family=\"Helvetica,sans-Serif\" font-size=\"14.00\" fill=\"#000000\">거주지역 &lt;= 4.0</text>\n<text text-anchor=\"middle\" x=\"3056.5\" y=\"-394.8\" font-family=\"Helvetica,sans-Serif\" font-size=\"14.00\" fill=\"#000000\">gini = 0.32</text>\n<text text-anchor=\"middle\" x=\"3056.5\" y=\"-379.8\" font-family=\"Helvetica,sans-Serif\" font-size=\"14.00\" fill=\"#000000\">samples = 10</text>\n<text text-anchor=\"middle\" x=\"3056.5\" y=\"-364.8\" font-family=\"Helvetica,sans-Serif\" font-size=\"14.00\" fill=\"#000000\">value = [2, 8]</text>\n<text text-anchor=\"middle\" x=\"3056.5\" y=\"-349.8\" font-family=\"Helvetica,sans-Serif\" font-size=\"14.00\" fill=\"#000000\">class = 1</text>\n</g>\n<!-- 93&#45;&gt;94 -->\n<g id=\"edge94\" class=\"edge\">\n<title>93&#45;&gt;94</title>\n<path fill=\"none\" stroke=\"#000000\" d=\"M3113.0716,-460.8796C3106.6189,-452.0534 3099.743,-442.6485 3093.0887,-433.5466\"/>\n<polygon fill=\"#000000\" stroke=\"#000000\" points=\"3095.7856,-431.3051 3087.0583,-425.2981 3090.1347,-435.4364 3095.7856,-431.3051\"/>\n</g>\n<!-- 99 -->\n<g id=\"node100\" class=\"node\">\n<title>99</title>\n<polygon fill=\"#f6d5bd\" stroke=\"#000000\" points=\"3331,-425 3132,-425 3132,-342 3331,-342 3331,-425\"/>\n<text text-anchor=\"middle\" x=\"3231.5\" y=\"-409.8\" font-family=\"Helvetica,sans-Serif\" font-size=\"14.00\" fill=\"#000000\">여행지선택이유_1순위 &lt;= 3.5</text>\n<text text-anchor=\"middle\" x=\"3231.5\" y=\"-394.8\" font-family=\"Helvetica,sans-Serif\" font-size=\"14.00\" fill=\"#000000\">gini = 0.48</text>\n<text text-anchor=\"middle\" x=\"3231.5\" y=\"-379.8\" font-family=\"Helvetica,sans-Serif\" font-size=\"14.00\" fill=\"#000000\">samples = 10</text>\n<text text-anchor=\"middle\" x=\"3231.5\" y=\"-364.8\" font-family=\"Helvetica,sans-Serif\" font-size=\"14.00\" fill=\"#000000\">value = [6, 4]</text>\n<text text-anchor=\"middle\" x=\"3231.5\" y=\"-349.8\" font-family=\"Helvetica,sans-Serif\" font-size=\"14.00\" fill=\"#000000\">class = 0</text>\n</g>\n<!-- 93&#45;&gt;99 -->\n<g id=\"edge99\" class=\"edge\">\n<title>93&#45;&gt;99</title>\n<path fill=\"none\" stroke=\"#000000\" d=\"M3174.2781,-460.8796C3180.8051,-452.0534 3187.7599,-442.6485 3194.4908,-433.5466\"/>\n<polygon fill=\"#000000\" stroke=\"#000000\" points=\"3197.4588,-435.4195 3200.5905,-425.2981 3191.8305,-431.2574 3197.4588,-435.4195\"/>\n</g>\n<!-- 95 -->\n<g id=\"node96\" class=\"node\">\n<title>95</title>\n<polygon fill=\"#e58139\" stroke=\"#000000\" points=\"2937,-298.5 2838,-298.5 2838,-230.5 2937,-230.5 2937,-298.5\"/>\n<text text-anchor=\"middle\" x=\"2887.5\" y=\"-283.3\" font-family=\"Helvetica,sans-Serif\" font-size=\"14.00\" fill=\"#000000\">gini = 0.0</text>\n<text text-anchor=\"middle\" x=\"2887.5\" y=\"-268.3\" font-family=\"Helvetica,sans-Serif\" font-size=\"14.00\" fill=\"#000000\">samples = 1</text>\n<text text-anchor=\"middle\" x=\"2887.5\" y=\"-253.3\" font-family=\"Helvetica,sans-Serif\" font-size=\"14.00\" fill=\"#000000\">value = [1, 0]</text>\n<text text-anchor=\"middle\" x=\"2887.5\" y=\"-238.3\" font-family=\"Helvetica,sans-Serif\" font-size=\"14.00\" fill=\"#000000\">class = 0</text>\n</g>\n<!-- 94&#45;&gt;95 -->\n<g id=\"edge95\" class=\"edge\">\n<title>94&#45;&gt;95</title>\n<path fill=\"none\" stroke=\"#000000\" d=\"M2998.8003,-343.4021C2981.6208,-331.4127 2962.7735,-318.2093 2945.5,-306 2944.748,-305.4685 2943.9907,-304.9328 2943.2292,-304.3937\"/>\n<polygon fill=\"#000000\" stroke=\"#000000\" points=\"2945.1278,-301.4493 2934.9469,-298.5165 2941.0768,-307.1581 2945.1278,-301.4493\"/>\n</g>\n<!-- 96 -->\n<g id=\"node97\" class=\"node\">\n<title>96</title>\n<polygon fill=\"#52a9e8\" stroke=\"#000000\" points=\"3162,-306 2955,-306 2955,-223 3162,-223 3162,-306\"/>\n<text text-anchor=\"middle\" x=\"3058.5\" y=\"-290.8\" font-family=\"Helvetica,sans-Serif\" font-size=\"14.00\" fill=\"#000000\">여행지선택이유_1순위 &lt;= 14.5</text>\n<text text-anchor=\"middle\" x=\"3058.5\" y=\"-275.8\" font-family=\"Helvetica,sans-Serif\" font-size=\"14.00\" fill=\"#000000\">gini = 0.198</text>\n<text text-anchor=\"middle\" x=\"3058.5\" y=\"-260.8\" font-family=\"Helvetica,sans-Serif\" font-size=\"14.00\" fill=\"#000000\">samples = 9</text>\n<text text-anchor=\"middle\" x=\"3058.5\" y=\"-245.8\" font-family=\"Helvetica,sans-Serif\" font-size=\"14.00\" fill=\"#000000\">value = [1, 8]</text>\n<text text-anchor=\"middle\" x=\"3058.5\" y=\"-230.8\" font-family=\"Helvetica,sans-Serif\" font-size=\"14.00\" fill=\"#000000\">class = 1</text>\n</g>\n<!-- 94&#45;&gt;96 -->\n<g id=\"edge96\" class=\"edge\">\n<title>94&#45;&gt;96</title>\n<path fill=\"none\" stroke=\"#000000\" d=\"M3057.1995,-341.8796C3057.3372,-333.6838 3057.4834,-324.9891 3057.626,-316.5013\"/>\n<polygon fill=\"#000000\" stroke=\"#000000\" points=\"3061.1289,-316.3555 3057.7975,-306.2981 3054.1299,-316.2378 3061.1289,-316.3555\"/>\n</g>\n<!-- 97 -->\n<g id=\"node98\" class=\"node\">\n<title>97</title>\n<polygon fill=\"#399de5\" stroke=\"#000000\" points=\"3054,-179.5 2955,-179.5 2955,-111.5 3054,-111.5 3054,-179.5\"/>\n<text text-anchor=\"middle\" x=\"3004.5\" y=\"-164.3\" font-family=\"Helvetica,sans-Serif\" font-size=\"14.00\" fill=\"#000000\">gini = 0.0</text>\n<text text-anchor=\"middle\" x=\"3004.5\" y=\"-149.3\" font-family=\"Helvetica,sans-Serif\" font-size=\"14.00\" fill=\"#000000\">samples = 8</text>\n<text text-anchor=\"middle\" x=\"3004.5\" y=\"-134.3\" font-family=\"Helvetica,sans-Serif\" font-size=\"14.00\" fill=\"#000000\">value = [0, 8]</text>\n<text text-anchor=\"middle\" x=\"3004.5\" y=\"-119.3\" font-family=\"Helvetica,sans-Serif\" font-size=\"14.00\" fill=\"#000000\">class = 1</text>\n</g>\n<!-- 96&#45;&gt;97 -->\n<g id=\"edge97\" class=\"edge\">\n<title>96&#45;&gt;97</title>\n<path fill=\"none\" stroke=\"#000000\" d=\"M3039.6134,-222.8796C3034.6735,-211.9935 3029.3341,-200.227 3024.3459,-189.2344\"/>\n<polygon fill=\"#000000\" stroke=\"#000000\" points=\"3027.391,-187.4749 3020.0715,-179.8149 3021.0166,-190.3675 3027.391,-187.4749\"/>\n</g>\n<!-- 98 -->\n<g id=\"node99\" class=\"node\">\n<title>98</title>\n<polygon fill=\"#e58139\" stroke=\"#000000\" points=\"3171,-179.5 3072,-179.5 3072,-111.5 3171,-111.5 3171,-179.5\"/>\n<text text-anchor=\"middle\" x=\"3121.5\" y=\"-164.3\" font-family=\"Helvetica,sans-Serif\" font-size=\"14.00\" fill=\"#000000\">gini = 0.0</text>\n<text text-anchor=\"middle\" x=\"3121.5\" y=\"-149.3\" font-family=\"Helvetica,sans-Serif\" font-size=\"14.00\" fill=\"#000000\">samples = 1</text>\n<text text-anchor=\"middle\" x=\"3121.5\" y=\"-134.3\" font-family=\"Helvetica,sans-Serif\" font-size=\"14.00\" fill=\"#000000\">value = [1, 0]</text>\n<text text-anchor=\"middle\" x=\"3121.5\" y=\"-119.3\" font-family=\"Helvetica,sans-Serif\" font-size=\"14.00\" fill=\"#000000\">class = 0</text>\n</g>\n<!-- 96&#45;&gt;98 -->\n<g id=\"edge98\" class=\"edge\">\n<title>96&#45;&gt;98</title>\n<path fill=\"none\" stroke=\"#000000\" d=\"M3080.5343,-222.8796C3086.3558,-211.8835 3092.6527,-199.9893 3098.5227,-188.9015\"/>\n<polygon fill=\"#000000\" stroke=\"#000000\" points=\"3101.7476,-190.2905 3103.3333,-179.8149 3095.5611,-187.0152 3101.7476,-190.2905\"/>\n</g>\n<!-- 100 -->\n<g id=\"node101\" class=\"node\">\n<title>100</title>\n<polygon fill=\"#399de5\" stroke=\"#000000\" points=\"3279,-298.5 3180,-298.5 3180,-230.5 3279,-230.5 3279,-298.5\"/>\n<text text-anchor=\"middle\" x=\"3229.5\" y=\"-283.3\" font-family=\"Helvetica,sans-Serif\" font-size=\"14.00\" fill=\"#000000\">gini = 0.0</text>\n<text text-anchor=\"middle\" x=\"3229.5\" y=\"-268.3\" font-family=\"Helvetica,sans-Serif\" font-size=\"14.00\" fill=\"#000000\">samples = 2</text>\n<text text-anchor=\"middle\" x=\"3229.5\" y=\"-253.3\" font-family=\"Helvetica,sans-Serif\" font-size=\"14.00\" fill=\"#000000\">value = [0, 2]</text>\n<text text-anchor=\"middle\" x=\"3229.5\" y=\"-238.3\" font-family=\"Helvetica,sans-Serif\" font-size=\"14.00\" fill=\"#000000\">class = 1</text>\n</g>\n<!-- 99&#45;&gt;100 -->\n<g id=\"edge100\" class=\"edge\">\n<title>99&#45;&gt;100</title>\n<path fill=\"none\" stroke=\"#000000\" d=\"M3230.8005,-341.8796C3230.6212,-331.2134 3230.4278,-319.7021 3230.2462,-308.9015\"/>\n<polygon fill=\"#000000\" stroke=\"#000000\" points=\"3233.7444,-308.7547 3230.0767,-298.8149 3226.7454,-308.8724 3233.7444,-308.7547\"/>\n</g>\n<!-- 101 -->\n<g id=\"node102\" class=\"node\">\n<title>101</title>\n<polygon fill=\"#eeab7b\" stroke=\"#000000\" points=\"3461.5,-306 3297.5,-306 3297.5,-223 3461.5,-223 3461.5,-306\"/>\n<text text-anchor=\"middle\" x=\"3379.5\" y=\"-290.8\" font-family=\"Helvetica,sans-Serif\" font-size=\"14.00\" fill=\"#000000\">만족도_자연경관 &lt;= 4.5</text>\n<text text-anchor=\"middle\" x=\"3379.5\" y=\"-275.8\" font-family=\"Helvetica,sans-Serif\" font-size=\"14.00\" fill=\"#000000\">gini = 0.375</text>\n<text text-anchor=\"middle\" x=\"3379.5\" y=\"-260.8\" font-family=\"Helvetica,sans-Serif\" font-size=\"14.00\" fill=\"#000000\">samples = 8</text>\n<text text-anchor=\"middle\" x=\"3379.5\" y=\"-245.8\" font-family=\"Helvetica,sans-Serif\" font-size=\"14.00\" fill=\"#000000\">value = [6, 2]</text>\n<text text-anchor=\"middle\" x=\"3379.5\" y=\"-230.8\" font-family=\"Helvetica,sans-Serif\" font-size=\"14.00\" fill=\"#000000\">class = 0</text>\n</g>\n<!-- 99&#45;&gt;101 -->\n<g id=\"edge101\" class=\"edge\">\n<title>99&#45;&gt;101</title>\n<path fill=\"none\" stroke=\"#000000\" d=\"M3283.2632,-341.8796C3295.0928,-332.368 3307.7581,-322.1843 3319.8871,-312.432\"/>\n<polygon fill=\"#000000\" stroke=\"#000000\" points=\"3322.1659,-315.0908 3327.766,-306.0969 3317.7796,-309.6355 3322.1659,-315.0908\"/>\n</g>\n<!-- 102 -->\n<g id=\"node103\" class=\"node\">\n<title>102</title>\n<polygon fill=\"#e58139\" stroke=\"#000000\" points=\"3300,-179.5 3201,-179.5 3201,-111.5 3300,-111.5 3300,-179.5\"/>\n<text text-anchor=\"middle\" x=\"3250.5\" y=\"-164.3\" font-family=\"Helvetica,sans-Serif\" font-size=\"14.00\" fill=\"#000000\">gini = 0.0</text>\n<text text-anchor=\"middle\" x=\"3250.5\" y=\"-149.3\" font-family=\"Helvetica,sans-Serif\" font-size=\"14.00\" fill=\"#000000\">samples = 5</text>\n<text text-anchor=\"middle\" x=\"3250.5\" y=\"-134.3\" font-family=\"Helvetica,sans-Serif\" font-size=\"14.00\" fill=\"#000000\">value = [5, 0]</text>\n<text text-anchor=\"middle\" x=\"3250.5\" y=\"-119.3\" font-family=\"Helvetica,sans-Serif\" font-size=\"14.00\" fill=\"#000000\">class = 0</text>\n</g>\n<!-- 101&#45;&gt;102 -->\n<g id=\"edge102\" class=\"edge\">\n<title>101&#45;&gt;102</title>\n<path fill=\"none\" stroke=\"#000000\" d=\"M3334.3821,-222.8796C3321.7467,-211.2237 3308.0174,-198.5587 3295.395,-186.9148\"/>\n<polygon fill=\"#000000\" stroke=\"#000000\" points=\"3297.422,-184.0228 3287.6985,-179.8149 3292.6756,-189.168 3297.422,-184.0228\"/>\n</g>\n<!-- 103 -->\n<g id=\"node104\" class=\"node\">\n<title>103</title>\n<polygon fill=\"#9ccef2\" stroke=\"#000000\" points=\"3441,-187 3318,-187 3318,-104 3441,-104 3441,-187\"/>\n<text text-anchor=\"middle\" x=\"3379.5\" y=\"-171.8\" font-family=\"Helvetica,sans-Serif\" font-size=\"14.00\" fill=\"#000000\">지역코드 &lt;= 26.5</text>\n<text text-anchor=\"middle\" x=\"3379.5\" y=\"-156.8\" font-family=\"Helvetica,sans-Serif\" font-size=\"14.00\" fill=\"#000000\">gini = 0.444</text>\n<text text-anchor=\"middle\" x=\"3379.5\" y=\"-141.8\" font-family=\"Helvetica,sans-Serif\" font-size=\"14.00\" fill=\"#000000\">samples = 3</text>\n<text text-anchor=\"middle\" x=\"3379.5\" y=\"-126.8\" font-family=\"Helvetica,sans-Serif\" font-size=\"14.00\" fill=\"#000000\">value = [1, 2]</text>\n<text text-anchor=\"middle\" x=\"3379.5\" y=\"-111.8\" font-family=\"Helvetica,sans-Serif\" font-size=\"14.00\" fill=\"#000000\">class = 1</text>\n</g>\n<!-- 101&#45;&gt;103 -->\n<g id=\"edge103\" class=\"edge\">\n<title>101&#45;&gt;103</title>\n<path fill=\"none\" stroke=\"#000000\" d=\"M3379.5,-222.8796C3379.5,-214.6838 3379.5,-205.9891 3379.5,-197.5013\"/>\n<polygon fill=\"#000000\" stroke=\"#000000\" points=\"3383.0001,-197.298 3379.5,-187.2981 3376.0001,-197.2981 3383.0001,-197.298\"/>\n</g>\n<!-- 104 -->\n<g id=\"node105\" class=\"node\">\n<title>104</title>\n<polygon fill=\"#399de5\" stroke=\"#000000\" points=\"3312,-68 3213,-68 3213,0 3312,0 3312,-68\"/>\n<text text-anchor=\"middle\" x=\"3262.5\" y=\"-52.8\" font-family=\"Helvetica,sans-Serif\" font-size=\"14.00\" fill=\"#000000\">gini = 0.0</text>\n<text text-anchor=\"middle\" x=\"3262.5\" y=\"-37.8\" font-family=\"Helvetica,sans-Serif\" font-size=\"14.00\" fill=\"#000000\">samples = 2</text>\n<text text-anchor=\"middle\" x=\"3262.5\" y=\"-22.8\" font-family=\"Helvetica,sans-Serif\" font-size=\"14.00\" fill=\"#000000\">value = [0, 2]</text>\n<text text-anchor=\"middle\" x=\"3262.5\" y=\"-7.8\" font-family=\"Helvetica,sans-Serif\" font-size=\"14.00\" fill=\"#000000\">class = 1</text>\n</g>\n<!-- 103&#45;&gt;104 -->\n<g id=\"edge104\" class=\"edge\">\n<title>103&#45;&gt;104</title>\n<path fill=\"none\" stroke=\"#000000\" d=\"M3335.9335,-103.9815C3326.0966,-94.607 3315.656,-84.6572 3305.8289,-75.2921\"/>\n<polygon fill=\"#000000\" stroke=\"#000000\" points=\"3308.1076,-72.6289 3298.4538,-68.2637 3303.2784,-77.6963 3308.1076,-72.6289\"/>\n</g>\n<!-- 105 -->\n<g id=\"node106\" class=\"node\">\n<title>105</title>\n<polygon fill=\"#e58139\" stroke=\"#000000\" points=\"3429,-68 3330,-68 3330,0 3429,0 3429,-68\"/>\n<text text-anchor=\"middle\" x=\"3379.5\" y=\"-52.8\" font-family=\"Helvetica,sans-Serif\" font-size=\"14.00\" fill=\"#000000\">gini = 0.0</text>\n<text text-anchor=\"middle\" x=\"3379.5\" y=\"-37.8\" font-family=\"Helvetica,sans-Serif\" font-size=\"14.00\" fill=\"#000000\">samples = 1</text>\n<text text-anchor=\"middle\" x=\"3379.5\" y=\"-22.8\" font-family=\"Helvetica,sans-Serif\" font-size=\"14.00\" fill=\"#000000\">value = [1, 0]</text>\n<text text-anchor=\"middle\" x=\"3379.5\" y=\"-7.8\" font-family=\"Helvetica,sans-Serif\" font-size=\"14.00\" fill=\"#000000\">class = 0</text>\n</g>\n<!-- 103&#45;&gt;105 -->\n<g id=\"edge105\" class=\"edge\">\n<title>103&#45;&gt;105</title>\n<path fill=\"none\" stroke=\"#000000\" d=\"M3379.5,-103.9815C3379.5,-95.618 3379.5,-86.7965 3379.5,-78.3409\"/>\n<polygon fill=\"#000000\" stroke=\"#000000\" points=\"3383.0001,-78.2636 3379.5,-68.2637 3376.0001,-78.2637 3383.0001,-78.2636\"/>\n</g>\n<!-- 107 -->\n<g id=\"node108\" class=\"node\">\n<title>107</title>\n<polygon fill=\"#47a4e7\" stroke=\"#000000\" points=\"3832,-425 3695,-425 3695,-342 3832,-342 3832,-425\"/>\n<text text-anchor=\"middle\" x=\"3763.5\" y=\"-409.8\" font-family=\"Helvetica,sans-Serif\" font-size=\"14.00\" fill=\"#000000\">여행일수(박) &lt;= 6.5</text>\n<text text-anchor=\"middle\" x=\"3763.5\" y=\"-394.8\" font-family=\"Helvetica,sans-Serif\" font-size=\"14.00\" fill=\"#000000\">gini = 0.123</text>\n<text text-anchor=\"middle\" x=\"3763.5\" y=\"-379.8\" font-family=\"Helvetica,sans-Serif\" font-size=\"14.00\" fill=\"#000000\">samples = 576</text>\n<text text-anchor=\"middle\" x=\"3763.5\" y=\"-364.8\" font-family=\"Helvetica,sans-Serif\" font-size=\"14.00\" fill=\"#000000\">value = [38, 538]</text>\n<text text-anchor=\"middle\" x=\"3763.5\" y=\"-349.8\" font-family=\"Helvetica,sans-Serif\" font-size=\"14.00\" fill=\"#000000\">class = 1</text>\n</g>\n<!-- 106&#45;&gt;107 -->\n<g id=\"edge107\" class=\"edge\">\n<title>106&#45;&gt;107</title>\n<path fill=\"none\" stroke=\"#000000\" d=\"M3763.5,-460.8796C3763.5,-452.6838 3763.5,-443.9891 3763.5,-435.5013\"/>\n<polygon fill=\"#000000\" stroke=\"#000000\" points=\"3767.0001,-435.298 3763.5,-425.2981 3760.0001,-435.2981 3767.0001,-435.298\"/>\n</g>\n<!-- 116 -->\n<g id=\"node117\" class=\"node\">\n<title>116</title>\n<polygon fill=\"#7fc0ee\" stroke=\"#000000\" points=\"4202,-425 3995,-425 3995,-342 4202,-342 4202,-425\"/>\n<text text-anchor=\"middle\" x=\"4098.5\" y=\"-409.8\" font-family=\"Helvetica,sans-Serif\" font-size=\"14.00\" fill=\"#000000\">여행지선택이유_1순위 &lt;= 13.5</text>\n<text text-anchor=\"middle\" x=\"4098.5\" y=\"-394.8\" font-family=\"Helvetica,sans-Serif\" font-size=\"14.00\" fill=\"#000000\">gini = 0.386</text>\n<text text-anchor=\"middle\" x=\"4098.5\" y=\"-379.8\" font-family=\"Helvetica,sans-Serif\" font-size=\"14.00\" fill=\"#000000\">samples = 23</text>\n<text text-anchor=\"middle\" x=\"4098.5\" y=\"-364.8\" font-family=\"Helvetica,sans-Serif\" font-size=\"14.00\" fill=\"#000000\">value = [6, 17]</text>\n<text text-anchor=\"middle\" x=\"4098.5\" y=\"-349.8\" font-family=\"Helvetica,sans-Serif\" font-size=\"14.00\" fill=\"#000000\">class = 1</text>\n</g>\n<!-- 106&#45;&gt;116 -->\n<g id=\"edge116\" class=\"edge\">\n<title>106&#45;&gt;116</title>\n<path fill=\"none\" stroke=\"#000000\" d=\"M3825.7258,-480.3959C3870.4402,-464.5123 3931.9867,-442.6495 3985.3025,-423.7105\"/>\n<polygon fill=\"#000000\" stroke=\"#000000\" points=\"3986.56,-426.9781 3994.8115,-420.3326 3984.2168,-420.3819 3986.56,-426.9781\"/>\n</g>\n<!-- 108 -->\n<g id=\"node109\" class=\"node\">\n<title>108</title>\n<polygon fill=\"#47a4e7\" stroke=\"#000000\" points=\"3776,-306 3599,-306 3599,-223 3776,-223 3776,-306\"/>\n<text text-anchor=\"middle\" x=\"3687.5\" y=\"-290.8\" font-family=\"Helvetica,sans-Serif\" font-size=\"14.00\" fill=\"#000000\">만족도_식당및음식 &lt;= 4.5</text>\n<text text-anchor=\"middle\" x=\"3687.5\" y=\"-275.8\" font-family=\"Helvetica,sans-Serif\" font-size=\"14.00\" fill=\"#000000\">gini = 0.12</text>\n<text text-anchor=\"middle\" x=\"3687.5\" y=\"-260.8\" font-family=\"Helvetica,sans-Serif\" font-size=\"14.00\" fill=\"#000000\">samples = 575</text>\n<text text-anchor=\"middle\" x=\"3687.5\" y=\"-245.8\" font-family=\"Helvetica,sans-Serif\" font-size=\"14.00\" fill=\"#000000\">value = [37, 538]</text>\n<text text-anchor=\"middle\" x=\"3687.5\" y=\"-230.8\" font-family=\"Helvetica,sans-Serif\" font-size=\"14.00\" fill=\"#000000\">class = 1</text>\n</g>\n<!-- 107&#45;&gt;108 -->\n<g id=\"edge108\" class=\"edge\">\n<title>107&#45;&gt;108</title>\n<path fill=\"none\" stroke=\"#000000\" d=\"M3736.9189,-341.8796C3731.3395,-333.1434 3725.3981,-323.8404 3719.6405,-314.8253\"/>\n<polygon fill=\"#000000\" stroke=\"#000000\" points=\"3722.5269,-312.8421 3714.1946,-306.2981 3716.6274,-316.6098 3722.5269,-312.8421\"/>\n</g>\n<!-- 115 -->\n<g id=\"node116\" class=\"node\">\n<title>115</title>\n<polygon fill=\"#e58139\" stroke=\"#000000\" points=\"3893,-298.5 3794,-298.5 3794,-230.5 3893,-230.5 3893,-298.5\"/>\n<text text-anchor=\"middle\" x=\"3843.5\" y=\"-283.3\" font-family=\"Helvetica,sans-Serif\" font-size=\"14.00\" fill=\"#000000\">gini = 0.0</text>\n<text text-anchor=\"middle\" x=\"3843.5\" y=\"-268.3\" font-family=\"Helvetica,sans-Serif\" font-size=\"14.00\" fill=\"#000000\">samples = 1</text>\n<text text-anchor=\"middle\" x=\"3843.5\" y=\"-253.3\" font-family=\"Helvetica,sans-Serif\" font-size=\"14.00\" fill=\"#000000\">value = [1, 0]</text>\n<text text-anchor=\"middle\" x=\"3843.5\" y=\"-238.3\" font-family=\"Helvetica,sans-Serif\" font-size=\"14.00\" fill=\"#000000\">class = 0</text>\n</g>\n<!-- 107&#45;&gt;115 -->\n<g id=\"edge115\" class=\"edge\">\n<title>107&#45;&gt;115</title>\n<path fill=\"none\" stroke=\"#000000\" d=\"M3791.4801,-341.8796C3799.0203,-330.6636 3807.1887,-318.5131 3814.7691,-307.2372\"/>\n<polygon fill=\"#000000\" stroke=\"#000000\" points=\"3817.7566,-309.0667 3820.4311,-298.8149 3811.9473,-305.1612 3817.7566,-309.0667\"/>\n</g>\n<!-- 109 -->\n<g id=\"node110\" class=\"node\">\n<title>109</title>\n<polygon fill=\"#4ba6e7\" stroke=\"#000000\" points=\"3707,-187 3570,-187 3570,-104 3707,-104 3707,-187\"/>\n<text text-anchor=\"middle\" x=\"3638.5\" y=\"-171.8\" font-family=\"Helvetica,sans-Serif\" font-size=\"14.00\" fill=\"#000000\">만족도_쇼핑 &lt;= 7.0</text>\n<text text-anchor=\"middle\" x=\"3638.5\" y=\"-156.8\" font-family=\"Helvetica,sans-Serif\" font-size=\"14.00\" fill=\"#000000\">gini = 0.156</text>\n<text text-anchor=\"middle\" x=\"3638.5\" y=\"-141.8\" font-family=\"Helvetica,sans-Serif\" font-size=\"14.00\" fill=\"#000000\">samples = 363</text>\n<text text-anchor=\"middle\" x=\"3638.5\" y=\"-126.8\" font-family=\"Helvetica,sans-Serif\" font-size=\"14.00\" fill=\"#000000\">value = [31, 332]</text>\n<text text-anchor=\"middle\" x=\"3638.5\" y=\"-111.8\" font-family=\"Helvetica,sans-Serif\" font-size=\"14.00\" fill=\"#000000\">class = 1</text>\n</g>\n<!-- 108&#45;&gt;109 -->\n<g id=\"edge109\" class=\"edge\">\n<title>108&#45;&gt;109</title>\n<path fill=\"none\" stroke=\"#000000\" d=\"M3670.3622,-222.8796C3666.8762,-214.4136 3663.171,-205.4153 3659.5669,-196.6626\"/>\n<polygon fill=\"#000000\" stroke=\"#000000\" points=\"3662.7549,-195.2122 3655.711,-187.2981 3656.2822,-197.8775 3662.7549,-195.2122\"/>\n</g>\n<!-- 112 -->\n<g id=\"node113\" class=\"node\">\n<title>112</title>\n<polygon fill=\"#3fa0e6\" stroke=\"#000000\" points=\"3848,-187 3725,-187 3725,-104 3848,-104 3848,-187\"/>\n<text text-anchor=\"middle\" x=\"3786.5\" y=\"-171.8\" font-family=\"Helvetica,sans-Serif\" font-size=\"14.00\" fill=\"#000000\">숙박시설 &lt;= 10.5</text>\n<text text-anchor=\"middle\" x=\"3786.5\" y=\"-156.8\" font-family=\"Helvetica,sans-Serif\" font-size=\"14.00\" fill=\"#000000\">gini = 0.055</text>\n<text text-anchor=\"middle\" x=\"3786.5\" y=\"-141.8\" font-family=\"Helvetica,sans-Serif\" font-size=\"14.00\" fill=\"#000000\">samples = 212</text>\n<text text-anchor=\"middle\" x=\"3786.5\" y=\"-126.8\" font-family=\"Helvetica,sans-Serif\" font-size=\"14.00\" fill=\"#000000\">value = [6, 206]</text>\n<text text-anchor=\"middle\" x=\"3786.5\" y=\"-111.8\" font-family=\"Helvetica,sans-Serif\" font-size=\"14.00\" fill=\"#000000\">class = 1</text>\n</g>\n<!-- 108&#45;&gt;112 -->\n<g id=\"edge112\" class=\"edge\">\n<title>108&#45;&gt;112</title>\n<path fill=\"none\" stroke=\"#000000\" d=\"M3722.1254,-222.8796C3729.618,-213.8733 3737.6119,-204.2644 3745.3279,-194.9897\"/>\n<polygon fill=\"#000000\" stroke=\"#000000\" points=\"3748.0219,-197.224 3751.7268,-187.2981 3742.6407,-192.7472 3748.0219,-197.224\"/>\n</g>\n<!-- 110 -->\n<g id=\"node111\" class=\"node\">\n<title>110</title>\n<polygon fill=\"#43a2e6\" stroke=\"#000000\" points=\"3563.5,-68 3447.5,-68 3447.5,0 3563.5,0 3563.5,-68\"/>\n<text text-anchor=\"middle\" x=\"3505.5\" y=\"-52.8\" font-family=\"Helvetica,sans-Serif\" font-size=\"14.00\" fill=\"#000000\">gini = 0.089</text>\n<text text-anchor=\"middle\" x=\"3505.5\" y=\"-37.8\" font-family=\"Helvetica,sans-Serif\" font-size=\"14.00\" fill=\"#000000\">samples = 172</text>\n<text text-anchor=\"middle\" x=\"3505.5\" y=\"-22.8\" font-family=\"Helvetica,sans-Serif\" font-size=\"14.00\" fill=\"#000000\">value = [8, 164]</text>\n<text text-anchor=\"middle\" x=\"3505.5\" y=\"-7.8\" font-family=\"Helvetica,sans-Serif\" font-size=\"14.00\" fill=\"#000000\">class = 1</text>\n</g>\n<!-- 109&#45;&gt;110 -->\n<g id=\"edge110\" class=\"edge\">\n<title>109&#45;&gt;110</title>\n<path fill=\"none\" stroke=\"#000000\" d=\"M3588.9757,-103.9815C3577.5743,-94.4232 3565.4595,-84.2668 3554.0979,-74.7419\"/>\n<polygon fill=\"#000000\" stroke=\"#000000\" points=\"3556.2825,-72.006 3546.3706,-68.2637 3551.7853,-77.3704 3556.2825,-72.006\"/>\n</g>\n<!-- 111 -->\n<g id=\"node112\" class=\"node\">\n<title>111</title>\n<polygon fill=\"#54aae9\" stroke=\"#000000\" points=\"3705.5,-68 3581.5,-68 3581.5,0 3705.5,0 3705.5,-68\"/>\n<text text-anchor=\"middle\" x=\"3643.5\" y=\"-52.8\" font-family=\"Helvetica,sans-Serif\" font-size=\"14.00\" fill=\"#000000\">gini = 0.212</text>\n<text text-anchor=\"middle\" x=\"3643.5\" y=\"-37.8\" font-family=\"Helvetica,sans-Serif\" font-size=\"14.00\" fill=\"#000000\">samples = 191</text>\n<text text-anchor=\"middle\" x=\"3643.5\" y=\"-22.8\" font-family=\"Helvetica,sans-Serif\" font-size=\"14.00\" fill=\"#000000\">value = [23, 168]</text>\n<text text-anchor=\"middle\" x=\"3643.5\" y=\"-7.8\" font-family=\"Helvetica,sans-Serif\" font-size=\"14.00\" fill=\"#000000\">class = 1</text>\n</g>\n<!-- 109&#45;&gt;111 -->\n<g id=\"edge111\" class=\"edge\">\n<title>109&#45;&gt;111</title>\n<path fill=\"none\" stroke=\"#000000\" d=\"M3640.3618,-103.9815C3640.7369,-95.618 3641.1324,-86.7965 3641.5116,-78.3409\"/>\n<polygon fill=\"#000000\" stroke=\"#000000\" points=\"3645.0119,-78.4105 3641.9635,-68.2637 3638.019,-78.0968 3645.0119,-78.4105\"/>\n</g>\n<!-- 113 -->\n<g id=\"node114\" class=\"node\">\n<title>113</title>\n<polygon fill=\"#3e9fe6\" stroke=\"#000000\" points=\"3839.5,-68 3723.5,-68 3723.5,0 3839.5,0 3839.5,-68\"/>\n<text text-anchor=\"middle\" x=\"3781.5\" y=\"-52.8\" font-family=\"Helvetica,sans-Serif\" font-size=\"14.00\" fill=\"#000000\">gini = 0.047</text>\n<text text-anchor=\"middle\" x=\"3781.5\" y=\"-37.8\" font-family=\"Helvetica,sans-Serif\" font-size=\"14.00\" fill=\"#000000\">samples = 209</text>\n<text text-anchor=\"middle\" x=\"3781.5\" y=\"-22.8\" font-family=\"Helvetica,sans-Serif\" font-size=\"14.00\" fill=\"#000000\">value = [5, 204]</text>\n<text text-anchor=\"middle\" x=\"3781.5\" y=\"-7.8\" font-family=\"Helvetica,sans-Serif\" font-size=\"14.00\" fill=\"#000000\">class = 1</text>\n</g>\n<!-- 112&#45;&gt;113 -->\n<g id=\"edge113\" class=\"edge\">\n<title>112&#45;&gt;113</title>\n<path fill=\"none\" stroke=\"#000000\" d=\"M3784.6382,-103.9815C3784.2631,-95.618 3783.8676,-86.7965 3783.4884,-78.3409\"/>\n<polygon fill=\"#000000\" stroke=\"#000000\" points=\"3786.981,-78.0968 3783.0365,-68.2637 3779.9881,-78.4105 3786.981,-78.0968\"/>\n</g>\n<!-- 114 -->\n<g id=\"node115\" class=\"node\">\n<title>114</title>\n<polygon fill=\"#9ccef2\" stroke=\"#000000\" points=\"3957,-68 3858,-68 3858,0 3957,0 3957,-68\"/>\n<text text-anchor=\"middle\" x=\"3907.5\" y=\"-52.8\" font-family=\"Helvetica,sans-Serif\" font-size=\"14.00\" fill=\"#000000\">gini = 0.444</text>\n<text text-anchor=\"middle\" x=\"3907.5\" y=\"-37.8\" font-family=\"Helvetica,sans-Serif\" font-size=\"14.00\" fill=\"#000000\">samples = 3</text>\n<text text-anchor=\"middle\" x=\"3907.5\" y=\"-22.8\" font-family=\"Helvetica,sans-Serif\" font-size=\"14.00\" fill=\"#000000\">value = [1, 2]</text>\n<text text-anchor=\"middle\" x=\"3907.5\" y=\"-7.8\" font-family=\"Helvetica,sans-Serif\" font-size=\"14.00\" fill=\"#000000\">class = 1</text>\n</g>\n<!-- 112&#45;&gt;114 -->\n<g id=\"edge114\" class=\"edge\">\n<title>112&#45;&gt;114</title>\n<path fill=\"none\" stroke=\"#000000\" d=\"M3831.5559,-103.9815C3841.7291,-94.607 3852.5267,-84.6572 3862.6898,-75.2921\"/>\n<polygon fill=\"#000000\" stroke=\"#000000\" points=\"3865.3349,-77.6141 3870.317,-68.2637 3860.5913,-72.4663 3865.3349,-77.6141\"/>\n</g>\n<!-- 117 -->\n<g id=\"node118\" class=\"node\">\n<title>117</title>\n<polygon fill=\"#52a9e8\" stroke=\"#000000\" points=\"4167,-306 4030,-306 4030,-223 4167,-223 4167,-306\"/>\n<text text-anchor=\"middle\" x=\"4098.5\" y=\"-290.8\" font-family=\"Helvetica,sans-Serif\" font-size=\"14.00\" fill=\"#000000\">만족도_쇼핑 &lt;= 4.5</text>\n<text text-anchor=\"middle\" x=\"4098.5\" y=\"-275.8\" font-family=\"Helvetica,sans-Serif\" font-size=\"14.00\" fill=\"#000000\">gini = 0.198</text>\n<text text-anchor=\"middle\" x=\"4098.5\" y=\"-260.8\" font-family=\"Helvetica,sans-Serif\" font-size=\"14.00\" fill=\"#000000\">samples = 18</text>\n<text text-anchor=\"middle\" x=\"4098.5\" y=\"-245.8\" font-family=\"Helvetica,sans-Serif\" font-size=\"14.00\" fill=\"#000000\">value = [2, 16]</text>\n<text text-anchor=\"middle\" x=\"4098.5\" y=\"-230.8\" font-family=\"Helvetica,sans-Serif\" font-size=\"14.00\" fill=\"#000000\">class = 1</text>\n</g>\n<!-- 116&#45;&gt;117 -->\n<g id=\"edge117\" class=\"edge\">\n<title>116&#45;&gt;117</title>\n<path fill=\"none\" stroke=\"#000000\" d=\"M4098.5,-341.8796C4098.5,-333.6838 4098.5,-324.9891 4098.5,-316.5013\"/>\n<polygon fill=\"#000000\" stroke=\"#000000\" points=\"4102.0001,-316.298 4098.5,-306.2981 4095.0001,-316.2981 4102.0001,-316.298\"/>\n</g>\n<!-- 122 -->\n<g id=\"node123\" class=\"node\">\n<title>122</title>\n<polygon fill=\"#eca06a\" stroke=\"#000000\" points=\"4374,-306 4259,-306 4259,-223 4374,-223 4374,-306\"/>\n<text text-anchor=\"middle\" x=\"4316.5\" y=\"-290.8\" font-family=\"Helvetica,sans-Serif\" font-size=\"14.00\" fill=\"#000000\">혼인상태 &lt;= 3.5</text>\n<text text-anchor=\"middle\" x=\"4316.5\" y=\"-275.8\" font-family=\"Helvetica,sans-Serif\" font-size=\"14.00\" fill=\"#000000\">gini = 0.32</text>\n<text text-anchor=\"middle\" x=\"4316.5\" y=\"-260.8\" font-family=\"Helvetica,sans-Serif\" font-size=\"14.00\" fill=\"#000000\">samples = 5</text>\n<text text-anchor=\"middle\" x=\"4316.5\" y=\"-245.8\" font-family=\"Helvetica,sans-Serif\" font-size=\"14.00\" fill=\"#000000\">value = [4, 1]</text>\n<text text-anchor=\"middle\" x=\"4316.5\" y=\"-230.8\" font-family=\"Helvetica,sans-Serif\" font-size=\"14.00\" fill=\"#000000\">class = 0</text>\n</g>\n<!-- 116&#45;&gt;122 -->\n<g id=\"edge122\" class=\"edge\">\n<title>116&#45;&gt;122</title>\n<path fill=\"none\" stroke=\"#000000\" d=\"M4174.7458,-341.8796C4199.2425,-328.5076 4226.1723,-313.8073 4249.9194,-300.8445\"/>\n<polygon fill=\"#000000\" stroke=\"#000000\" points=\"4251.7527,-303.8313 4258.8532,-295.9678 4248.3988,-297.6871 4251.7527,-303.8313\"/>\n</g>\n<!-- 118 -->\n<g id=\"node119\" class=\"node\">\n<title>118</title>\n<polygon fill=\"#ffffff\" stroke=\"#000000\" points=\"4124,-187 3925,-187 3925,-104 4124,-104 4124,-187\"/>\n<text text-anchor=\"middle\" x=\"4024.5\" y=\"-171.8\" font-family=\"Helvetica,sans-Serif\" font-size=\"14.00\" fill=\"#000000\">여행지선택이유_1순위 &lt;= 4.5</text>\n<text text-anchor=\"middle\" x=\"4024.5\" y=\"-156.8\" font-family=\"Helvetica,sans-Serif\" font-size=\"14.00\" fill=\"#000000\">gini = 0.5</text>\n<text text-anchor=\"middle\" x=\"4024.5\" y=\"-141.8\" font-family=\"Helvetica,sans-Serif\" font-size=\"14.00\" fill=\"#000000\">samples = 4</text>\n<text text-anchor=\"middle\" x=\"4024.5\" y=\"-126.8\" font-family=\"Helvetica,sans-Serif\" font-size=\"14.00\" fill=\"#000000\">value = [2, 2]</text>\n<text text-anchor=\"middle\" x=\"4024.5\" y=\"-111.8\" font-family=\"Helvetica,sans-Serif\" font-size=\"14.00\" fill=\"#000000\">class = 0</text>\n</g>\n<!-- 117&#45;&gt;118 -->\n<g id=\"edge118\" class=\"edge\">\n<title>117&#45;&gt;118</title>\n<path fill=\"none\" stroke=\"#000000\" d=\"M4072.6184,-222.8796C4067.1858,-214.1434 4061.4008,-204.8404 4055.7947,-195.8253\"/>\n<polygon fill=\"#000000\" stroke=\"#000000\" points=\"4058.7451,-193.9418 4050.4921,-187.2981 4052.8007,-197.6383 4058.7451,-193.9418\"/>\n</g>\n<!-- 121 -->\n<g id=\"node122\" class=\"node\">\n<title>121</title>\n<polygon fill=\"#399de5\" stroke=\"#000000\" points=\"4249,-179.5 4142,-179.5 4142,-111.5 4249,-111.5 4249,-179.5\"/>\n<text text-anchor=\"middle\" x=\"4195.5\" y=\"-164.3\" font-family=\"Helvetica,sans-Serif\" font-size=\"14.00\" fill=\"#000000\">gini = 0.0</text>\n<text text-anchor=\"middle\" x=\"4195.5\" y=\"-149.3\" font-family=\"Helvetica,sans-Serif\" font-size=\"14.00\" fill=\"#000000\">samples = 14</text>\n<text text-anchor=\"middle\" x=\"4195.5\" y=\"-134.3\" font-family=\"Helvetica,sans-Serif\" font-size=\"14.00\" fill=\"#000000\">value = [0, 14]</text>\n<text text-anchor=\"middle\" x=\"4195.5\" y=\"-119.3\" font-family=\"Helvetica,sans-Serif\" font-size=\"14.00\" fill=\"#000000\">class = 1</text>\n</g>\n<!-- 117&#45;&gt;121 -->\n<g id=\"edge121\" class=\"edge\">\n<title>117&#45;&gt;121</title>\n<path fill=\"none\" stroke=\"#000000\" d=\"M4132.4259,-222.8796C4141.7476,-211.4436 4151.8612,-199.0363 4161.2036,-187.575\"/>\n<polygon fill=\"#000000\" stroke=\"#000000\" points=\"4163.9237,-189.7775 4167.529,-179.8149 4158.4979,-185.3548 4163.9237,-189.7775\"/>\n</g>\n<!-- 119 -->\n<g id=\"node120\" class=\"node\">\n<title>119</title>\n<polygon fill=\"#e58139\" stroke=\"#000000\" points=\"4074,-68 3975,-68 3975,0 4074,0 4074,-68\"/>\n<text text-anchor=\"middle\" x=\"4024.5\" y=\"-52.8\" font-family=\"Helvetica,sans-Serif\" font-size=\"14.00\" fill=\"#000000\">gini = 0.0</text>\n<text text-anchor=\"middle\" x=\"4024.5\" y=\"-37.8\" font-family=\"Helvetica,sans-Serif\" font-size=\"14.00\" fill=\"#000000\">samples = 2</text>\n<text text-anchor=\"middle\" x=\"4024.5\" y=\"-22.8\" font-family=\"Helvetica,sans-Serif\" font-size=\"14.00\" fill=\"#000000\">value = [2, 0]</text>\n<text text-anchor=\"middle\" x=\"4024.5\" y=\"-7.8\" font-family=\"Helvetica,sans-Serif\" font-size=\"14.00\" fill=\"#000000\">class = 0</text>\n</g>\n<!-- 118&#45;&gt;119 -->\n<g id=\"edge119\" class=\"edge\">\n<title>118&#45;&gt;119</title>\n<path fill=\"none\" stroke=\"#000000\" d=\"M4024.5,-103.9815C4024.5,-95.618 4024.5,-86.7965 4024.5,-78.3409\"/>\n<polygon fill=\"#000000\" stroke=\"#000000\" points=\"4028.0001,-78.2636 4024.5,-68.2637 4021.0001,-78.2637 4028.0001,-78.2636\"/>\n</g>\n<!-- 120 -->\n<g id=\"node121\" class=\"node\">\n<title>120</title>\n<polygon fill=\"#399de5\" stroke=\"#000000\" points=\"4191,-68 4092,-68 4092,0 4191,0 4191,-68\"/>\n<text text-anchor=\"middle\" x=\"4141.5\" y=\"-52.8\" font-family=\"Helvetica,sans-Serif\" font-size=\"14.00\" fill=\"#000000\">gini = 0.0</text>\n<text text-anchor=\"middle\" x=\"4141.5\" y=\"-37.8\" font-family=\"Helvetica,sans-Serif\" font-size=\"14.00\" fill=\"#000000\">samples = 2</text>\n<text text-anchor=\"middle\" x=\"4141.5\" y=\"-22.8\" font-family=\"Helvetica,sans-Serif\" font-size=\"14.00\" fill=\"#000000\">value = [0, 2]</text>\n<text text-anchor=\"middle\" x=\"4141.5\" y=\"-7.8\" font-family=\"Helvetica,sans-Serif\" font-size=\"14.00\" fill=\"#000000\">class = 1</text>\n</g>\n<!-- 118&#45;&gt;120 -->\n<g id=\"edge120\" class=\"edge\">\n<title>118&#45;&gt;120</title>\n<path fill=\"none\" stroke=\"#000000\" d=\"M4068.0665,-103.9815C4077.9034,-94.607 4088.344,-84.6572 4098.1711,-75.2921\"/>\n<polygon fill=\"#000000\" stroke=\"#000000\" points=\"4100.7216,-77.6963 4105.5462,-68.2637 4095.8924,-72.6289 4100.7216,-77.6963\"/>\n</g>\n<!-- 123 -->\n<g id=\"node124\" class=\"node\">\n<title>123</title>\n<polygon fill=\"#399de5\" stroke=\"#000000\" points=\"4366,-179.5 4267,-179.5 4267,-111.5 4366,-111.5 4366,-179.5\"/>\n<text text-anchor=\"middle\" x=\"4316.5\" y=\"-164.3\" font-family=\"Helvetica,sans-Serif\" font-size=\"14.00\" fill=\"#000000\">gini = 0.0</text>\n<text text-anchor=\"middle\" x=\"4316.5\" y=\"-149.3\" font-family=\"Helvetica,sans-Serif\" font-size=\"14.00\" fill=\"#000000\">samples = 1</text>\n<text text-anchor=\"middle\" x=\"4316.5\" y=\"-134.3\" font-family=\"Helvetica,sans-Serif\" font-size=\"14.00\" fill=\"#000000\">value = [0, 1]</text>\n<text text-anchor=\"middle\" x=\"4316.5\" y=\"-119.3\" font-family=\"Helvetica,sans-Serif\" font-size=\"14.00\" fill=\"#000000\">class = 1</text>\n</g>\n<!-- 122&#45;&gt;123 -->\n<g id=\"edge123\" class=\"edge\">\n<title>122&#45;&gt;123</title>\n<path fill=\"none\" stroke=\"#000000\" d=\"M4316.5,-222.8796C4316.5,-212.2134 4316.5,-200.7021 4316.5,-189.9015\"/>\n<polygon fill=\"#000000\" stroke=\"#000000\" points=\"4320.0001,-189.8149 4316.5,-179.8149 4313.0001,-189.815 4320.0001,-189.8149\"/>\n</g>\n<!-- 124 -->\n<g id=\"node125\" class=\"node\">\n<title>124</title>\n<polygon fill=\"#e58139\" stroke=\"#000000\" points=\"4483,-179.5 4384,-179.5 4384,-111.5 4483,-111.5 4483,-179.5\"/>\n<text text-anchor=\"middle\" x=\"4433.5\" y=\"-164.3\" font-family=\"Helvetica,sans-Serif\" font-size=\"14.00\" fill=\"#000000\">gini = 0.0</text>\n<text text-anchor=\"middle\" x=\"4433.5\" y=\"-149.3\" font-family=\"Helvetica,sans-Serif\" font-size=\"14.00\" fill=\"#000000\">samples = 4</text>\n<text text-anchor=\"middle\" x=\"4433.5\" y=\"-134.3\" font-family=\"Helvetica,sans-Serif\" font-size=\"14.00\" fill=\"#000000\">value = [4, 0]</text>\n<text text-anchor=\"middle\" x=\"4433.5\" y=\"-119.3\" font-family=\"Helvetica,sans-Serif\" font-size=\"14.00\" fill=\"#000000\">class = 0</text>\n</g>\n<!-- 122&#45;&gt;124 -->\n<g id=\"edge124\" class=\"edge\">\n<title>122&#45;&gt;124</title>\n<path fill=\"none\" stroke=\"#000000\" d=\"M4357.4209,-222.8796C4368.7728,-211.3337 4381.0982,-198.7976 4392.457,-187.2446\"/>\n<polygon fill=\"#000000\" stroke=\"#000000\" points=\"4395.2466,-189.3995 4399.7618,-179.8149 4390.2551,-184.4919 4395.2466,-189.3995\"/>\n</g>\n</g>\n</svg>\n"
          },
          "metadata": {}
        }
      ]
    },
    {
      "cell_type": "markdown",
      "source": [
        "##1. 랜덤포레스트"
      ],
      "metadata": {
        "id": "6FaZM4JrDL1A"
      }
    },
    {
      "cell_type": "code",
      "source": [
        "df22 = df.drop(['ID', '연도', '학력',  '주5일근무제실시여부', '계절', '차량보유여부', \n",
        "              '지출비용포함인원수', '개인휴가사용여부','시', \n",
        "              '여행활동1','여행활동2','여행활동3','여행활동4','여행활동5',\n",
        "              '전반적만족도', '재방문의도', '타인추천의도', '만족도점수','총만족도', '총만족도_이진'], axis = 1)\n",
        "df22.info()"
      ],
      "metadata": {
        "colab": {
          "base_uri": "https://localhost:8080/"
        },
        "id": "DVjOjH6uAw2h",
        "outputId": "bac1f84f-905d-4288-eb73-3cafa9a83ebc"
      },
      "execution_count": null,
      "outputs": [
        {
          "output_type": "stream",
          "name": "stdout",
          "text": [
            "<class 'pandas.core.frame.DataFrame'>\n",
            "RangeIndex: 1184 entries, 0 to 1183\n",
            "Data columns (total 31 columns):\n",
            " #   Column           Non-Null Count  Dtype \n",
            "---  ------           --------------  ----- \n",
            " 0   성별               1184 non-null   object\n",
            " 1   연령               1184 non-null   object\n",
            " 2   혼인상태             1184 non-null   object\n",
            " 3   거주지역             1184 non-null   object\n",
            " 4   직업               1184 non-null   object\n",
            " 5   주업               1184 non-null   object\n",
            " 6   직장지위             1184 non-null   object\n",
            " 7   개인소득             1184 non-null   object\n",
            " 8   관광휴양여부           1184 non-null   object\n",
            " 9   여행유형             1184 non-null   object\n",
            " 10  월                1184 non-null   object\n",
            " 11  여행일수(박)          1184 non-null   int64 \n",
            " 12  여행총경비            1184 non-null   int64 \n",
            " 13  1인지출비용           1184 non-null   int64 \n",
            " 14  지역코드             1184 non-null   object\n",
            " 15  숙박시설             1184 non-null   object\n",
            " 16  주요이동교통수단         1184 non-null   object\n",
            " 17  여행지선택이유_1순위      1184 non-null   object\n",
            " 18  여행지선택이유_2순위      1184 non-null   object\n",
            " 19  만족도_자연경관         1184 non-null   object\n",
            " 20  만족도_문화유산         1184 non-null   object\n",
            " 21  만족도_교통           1184 non-null   object\n",
            " 22  만족도_식당및음식        1184 non-null   object\n",
            " 23  만족도_쇼핑           1184 non-null   object\n",
            " 24  만족도_관광정보및안내시설    1184 non-null   object\n",
            " 25  만족도_관광지편의시설      1184 non-null   object\n",
            " 26  만족도_지역관광종사자의친절성  1184 non-null   object\n",
            " 27  만족도_체험프로그램       1184 non-null   object\n",
            " 28  만족도_관광지물가        1184 non-null   object\n",
            " 29  만족도_관광지혼잡도       1184 non-null   object\n",
            " 30  재방문여부            1184 non-null   object\n",
            "dtypes: int64(3), object(28)\n",
            "memory usage: 286.9+ KB\n"
          ]
        }
      ]
    },
    {
      "cell_type": "code",
      "source": [
        "from sklearn.ensemble import RandomForestClassifier\n",
        "\n",
        "X = df22.iloc[:, :-1]\n",
        "y = df22.iloc[:, -1]\n",
        "\n",
        "X_train, X_test, y_train, y_test = train_test_split(X, y, test_size = 0.25, random_state=3)\n",
        "\n",
        "forest = RandomForestClassifier(n_estimators=100, random_state=3)\n",
        "forest.fit(X_train, y_train)\n",
        "\n",
        "print(\"학습용 데이터 세트 정확도: {:.3f}\".format(forest.score(X_train, y_train)))\n",
        "print(\"시험용 데이터 세트 정확도: {:.3f}\".format(forest.score(X_test, y_test)))"
      ],
      "metadata": {
        "colab": {
          "base_uri": "https://localhost:8080/"
        },
        "id": "rCeMctWwAoyj",
        "outputId": "fcc38111-00dc-4fce-ff01-c03c4483d41f"
      },
      "execution_count": null,
      "outputs": [
        {
          "output_type": "stream",
          "name": "stdout",
          "text": [
            "학습용 데이터 세트 정확도: 1.000\n",
            "시험용 데이터 세트 정확도: 0.855\n"
          ]
        }
      ]
    },
    {
      "cell_type": "code",
      "source": [
        "for i in range(3,15):\n",
        "  X_train, X_test, y_train, y_test = train_test_split(X, y, test_size = 0.25, random_state=3)\n",
        "  forest = RandomForestClassifier(n_estimators=100, random_state=3, max_depth = i)\n",
        "  forest.fit(X_train, y_train)\n",
        "  print(\"========나무의 깊이:\", i, \"========\")\n",
        "  print(\"학습용 데이터 세트 정확도: {:.3f}\".format(forest.score(X_train, y_train)))\n",
        "  print(\"시험용 데이터 세트 정확도: {:.3f}\".format(forest.score(X_test, y_test)),\"\\n\")"
      ],
      "metadata": {
        "colab": {
          "base_uri": "https://localhost:8080/"
        },
        "id": "dFgy1LHbAosU",
        "outputId": "c08ad310-ac7f-4a83-d809-df1ff058e6f4"
      },
      "execution_count": null,
      "outputs": [
        {
          "output_type": "stream",
          "name": "stdout",
          "text": [
            "========나무의 깊이: 3 ========\n",
            "학습용 데이터 세트 정확도: 0.846\n",
            "시험용 데이터 세트 정확도: 0.831 \n",
            "\n",
            "========나무의 깊이: 4 ========\n",
            "학습용 데이터 세트 정확도: 0.874\n",
            "시험용 데이터 세트 정확도: 0.848 \n",
            "\n",
            "========나무의 깊이: 5 ========\n",
            "학습용 데이터 세트 정확도: 0.895\n",
            "시험용 데이터 세트 정확도: 0.848 \n",
            "\n",
            "========나무의 깊이: 6 ========\n",
            "학습용 데이터 세트 정확도: 0.905\n",
            "시험용 데이터 세트 정확도: 0.845 \n",
            "\n",
            "========나무의 깊이: 7 ========\n",
            "학습용 데이터 세트 정확도: 0.925\n",
            "시험용 데이터 세트 정확도: 0.858 \n",
            "\n",
            "========나무의 깊이: 8 ========\n",
            "학습용 데이터 세트 정확도: 0.934\n",
            "시험용 데이터 세트 정확도: 0.865 \n",
            "\n",
            "========나무의 깊이: 9 ========\n",
            "학습용 데이터 세트 정확도: 0.950\n",
            "시험용 데이터 세트 정확도: 0.865 \n",
            "\n",
            "========나무의 깊이: 10 ========\n",
            "학습용 데이터 세트 정확도: 0.961\n",
            "시험용 데이터 세트 정확도: 0.858 \n",
            "\n",
            "========나무의 깊이: 11 ========\n",
            "학습용 데이터 세트 정확도: 0.974\n",
            "시험용 데이터 세트 정확도: 0.855 \n",
            "\n",
            "========나무의 깊이: 12 ========\n",
            "학습용 데이터 세트 정확도: 0.981\n",
            "시험용 데이터 세트 정확도: 0.861 \n",
            "\n",
            "========나무의 깊이: 13 ========\n",
            "학습용 데이터 세트 정확도: 0.988\n",
            "시험용 데이터 세트 정확도: 0.865 \n",
            "\n",
            "========나무의 깊이: 14 ========\n",
            "학습용 데이터 세트 정확도: 0.993\n",
            "시험용 데이터 세트 정확도: 0.861 \n",
            "\n"
          ]
        }
      ]
    },
    {
      "cell_type": "code",
      "source": [
        "#max_depth = 8\n",
        "X_train, X_test, y_train, y_test = train_test_split(X, y, test_size = 0.25, random_state=3)\n",
        "forest = RandomForestClassifier(n_estimators=100, random_state=3, max_depth = 8)\n",
        "forest.fit(X_train, y_train)"
      ],
      "metadata": {
        "colab": {
          "base_uri": "https://localhost:8080/"
        },
        "id": "U7zDCmslAopX",
        "outputId": "dd58934e-ad0f-45df-c8f5-d5a35954f0df"
      },
      "execution_count": null,
      "outputs": [
        {
          "output_type": "execute_result",
          "data": {
            "text/plain": [
              "RandomForestClassifier(max_depth=8, random_state=3)"
            ]
          },
          "metadata": {},
          "execution_count": 79
        }
      ]
    },
    {
      "cell_type": "code",
      "source": [
        "def plot_feature_importances(model):\n",
        "    plt.rcParams[\"figure.figsize\"] = (9,6)\n",
        "    plt.rc('font', family='NanumBarunGothic') \n",
        "    n_features = len(df22.columns[:-1])\n",
        "    plt.barh(np.arange(n_features), model.feature_importances_, align='center') \n",
        "    plt.yticks(np.arange(n_features), df22.columns[:-1])  \n",
        "    plt.xlabel(\"feature importance\")\n",
        "    plt.ylabel(\"feature\")\n",
        "    plt.ylim(-1, n_features)\n",
        "\n",
        "plot_feature_importances(forest)"
      ],
      "metadata": {
        "colab": {
          "base_uri": "https://localhost:8080/",
          "height": 389
        },
        "id": "K7DVxdC-BF5B",
        "outputId": "a0093cdb-fc4c-4b85-a202-adbfcaa9ee79"
      },
      "execution_count": null,
      "outputs": [
        {
          "output_type": "display_data",
          "data": {
            "text/plain": [
              "<Figure size 648x432 with 1 Axes>"
            ],
            "image/png": "[encoded data removed]"
          },
          "metadata": {
            "needs_background": "light"
          }
        }
      ]
    },
    {
      "cell_type": "markdown",
      "source": [
        "##2. 그래디언트 부스팅"
      ],
      "metadata": {
        "id": "bIQ19J3tCk8L"
      }
    },
    {
      "cell_type": "code",
      "source": [
        "from sklearn.ensemble import GradientBoostingClassifier # 기본값은 max_depth= 3, n_estimators=100, learning_rate = 0.1\n",
        "\n",
        "X = df22.iloc[:, :-1]\n",
        "y = df22.iloc[:, -1]\n",
        "X_train, X_test, y_train, y_test = train_test_split(X, y, test_size = 0.25, random_state=3)\n",
        "\n",
        "gbrt = GradientBoostingClassifier(random_state=3)\n",
        "gbrt.fit(X_train, y_train)\n",
        "print(\"학습용 데이터 세트 정확도: {:.3f}\".format(gbrt.score(X_train, y_train)))\n",
        "print(\"시험용 데이터 세트 정확도: {:.3f}\".format(gbrt.score(X_test, y_test)))"
      ],
      "metadata": {
        "colab": {
          "base_uri": "https://localhost:8080/"
        },
        "id": "nDmAzWTfBffs",
        "outputId": "484b7c9b-89ab-43de-cc3a-4827bb39c5b8"
      },
      "execution_count": null,
      "outputs": [
        {
          "output_type": "stream",
          "name": "stdout",
          "text": [
            "학습용 데이터 세트 정확도: 0.947\n",
            "시험용 데이터 세트 정확도: 0.878\n"
          ]
        }
      ]
    },
    {
      "cell_type": "code",
      "source": [
        "for i in range(3,7):\n",
        "  gbrt = GradientBoostingClassifier(random_state=3, max_depth = i)  \n",
        "  gbrt.fit(X_train, y_train)\n",
        "  print(\"========나무의 깊이:\", i, \"========\")\n",
        "  print(\"학습용 데이터 세트 정확도: {:.3f}\".format(gbrt.score(X_train, y_train)))\n",
        "  print(\"시험용 데이터 세트 정확도: {:.3f}\".format(gbrt.score(X_test, y_test)), \"\\n\")\n"
      ],
      "metadata": {
        "colab": {
          "base_uri": "https://localhost:8080/"
        },
        "id": "E204txzrCe6b",
        "outputId": "076ada33-5bbe-440a-aa2c-a0ed88dc5175"
      },
      "execution_count": null,
      "outputs": [
        {
          "output_type": "stream",
          "name": "stdout",
          "text": [
            "========나무의 깊이: 3 ========\n",
            "학습용 데이터 세트 정확도: 0.947\n",
            "시험용 데이터 세트 정확도: 0.878 \n",
            "\n",
            "========나무의 깊이: 4 ========\n",
            "학습용 데이터 세트 정확도: 0.985\n",
            "시험용 데이터 세트 정확도: 0.861 \n",
            "\n",
            "========나무의 깊이: 5 ========\n",
            "학습용 데이터 세트 정확도: 0.998\n",
            "시험용 데이터 세트 정확도: 0.861 \n",
            "\n",
            "========나무의 깊이: 6 ========\n",
            "학습용 데이터 세트 정확도: 1.000\n",
            "시험용 데이터 세트 정확도: 0.861 \n",
            "\n"
          ]
        }
      ]
    },
    {
      "cell_type": "code",
      "source": [
        "for j in range(1, 101, 5):\n",
        "  i = j/1000\n",
        "  gbrt = GradientBoostingClassifier(random_state=3, max_depth = 3, learning_rate = i)  \n",
        "  gbrt.fit(X_train, y_train)\n",
        "  print(\"========학습률:\", i, \"========\")\n",
        "  print(\"학습용 데이터 세트 정확도: {:.3f}\".format(gbrt.score(X_train, y_train)))\n",
        "  print(\"시험용 데이터 세트 정확도: {:.3f}\".format(gbrt.score(X_test, y_test)), \"\\n\")"
      ],
      "metadata": {
        "colab": {
          "base_uri": "https://localhost:8080/"
        },
        "id": "obeGQkAtCgrp",
        "outputId": "34740655-341c-497e-d59f-958cdc3c6167"
      },
      "execution_count": null,
      "outputs": [
        {
          "output_type": "stream",
          "name": "stdout",
          "text": [
            "========학습률: 0.001 ========\n",
            "학습용 데이터 세트 정확도: 0.811\n",
            "시험용 데이터 세트 정확도: 0.801 \n",
            "\n",
            "========학습률: 0.006 ========\n",
            "학습용 데이터 세트 정확도: 0.828\n",
            "시험용 데이터 세트 정확도: 0.818 \n",
            "\n",
            "========학습률: 0.011 ========\n",
            "학습용 데이터 세트 정확도: 0.857\n",
            "시험용 데이터 세트 정확도: 0.838 \n",
            "\n",
            "========학습률: 0.016 ========\n",
            "학습용 데이터 세트 정확도: 0.880\n",
            "시험용 데이터 세트 정확도: 0.858 \n",
            "\n",
            "========학습률: 0.021 ========\n",
            "학습용 데이터 세트 정확도: 0.892\n",
            "시험용 데이터 세트 정확도: 0.858 \n",
            "\n",
            "========학습률: 0.026 ========\n",
            "학습용 데이터 세트 정확도: 0.893\n",
            "시험용 데이터 세트 정확도: 0.858 \n",
            "\n",
            "========학습률: 0.031 ========\n",
            "학습용 데이터 세트 정확도: 0.899\n",
            "시험용 데이터 세트 정확도: 0.865 \n",
            "\n",
            "========학습률: 0.036 ========\n",
            "학습용 데이터 세트 정확도: 0.909\n",
            "시험용 데이터 세트 정확도: 0.865 \n",
            "\n",
            "========학습률: 0.041 ========\n",
            "학습용 데이터 세트 정확도: 0.912\n",
            "시험용 데이터 세트 정확도: 0.875 \n",
            "\n",
            "========학습률: 0.046 ========\n",
            "학습용 데이터 세트 정확도: 0.917\n",
            "시험용 데이터 세트 정확도: 0.868 \n",
            "\n",
            "========학습률: 0.051 ========\n",
            "학습용 데이터 세트 정확도: 0.917\n",
            "시험용 데이터 세트 정확도: 0.875 \n",
            "\n",
            "========학습률: 0.056 ========\n",
            "학습용 데이터 세트 정확도: 0.922\n",
            "시험용 데이터 세트 정확도: 0.882 \n",
            "\n",
            "========학습률: 0.061 ========\n",
            "학습용 데이터 세트 정확도: 0.927\n",
            "시험용 데이터 세트 정확도: 0.861 \n",
            "\n",
            "========학습률: 0.066 ========\n",
            "학습용 데이터 세트 정확도: 0.931\n",
            "시험용 데이터 세트 정확도: 0.872 \n",
            "\n",
            "========학습률: 0.071 ========\n",
            "학습용 데이터 세트 정확도: 0.935\n",
            "시험용 데이터 세트 정확도: 0.878 \n",
            "\n",
            "========학습률: 0.076 ========\n",
            "학습용 데이터 세트 정확도: 0.938\n",
            "시험용 데이터 세트 정확도: 0.875 \n",
            "\n",
            "========학습률: 0.081 ========\n",
            "학습용 데이터 세트 정확도: 0.939\n",
            "시험용 데이터 세트 정확도: 0.878 \n",
            "\n",
            "========학습률: 0.086 ========\n",
            "학습용 데이터 세트 정확도: 0.943\n",
            "시험용 데이터 세트 정확도: 0.875 \n",
            "\n",
            "========학습률: 0.091 ========\n",
            "학습용 데이터 세트 정확도: 0.944\n",
            "시험용 데이터 세트 정확도: 0.878 \n",
            "\n",
            "========학습률: 0.096 ========\n",
            "학습용 데이터 세트 정확도: 0.948\n",
            "시험용 데이터 세트 정확도: 0.865 \n",
            "\n"
          ]
        }
      ]
    },
    {
      "cell_type": "code",
      "source": [
        "gbrt = GradientBoostingClassifier(random_state=0, learning_rate = 0.091, max_depth = 5)    #학습률: 0.091\n",
        "gbrt.fit(X_train, y_train)\n",
        "print(\"학습용 데이터 세트 정확도: {:.3f}\".format(gbrt.score(X_train, y_train)))\n",
        "print(\"시험용 데이터 세트 정확도: {:.3f}\".format(gbrt.score(X_test, y_test)))"
      ],
      "metadata": {
        "colab": {
          "base_uri": "https://localhost:8080/"
        },
        "id": "oXn-7QB3BF2m",
        "outputId": "e80771ac-8da5-462b-da62-de46c4649785"
      },
      "execution_count": null,
      "outputs": [
        {
          "output_type": "stream",
          "name": "stdout",
          "text": [
            "학습용 데이터 세트 정확도: 0.998\n",
            "시험용 데이터 세트 정확도: 0.875\n"
          ]
        }
      ]
    },
    {
      "cell_type": "code",
      "source": [
        "def plot_feature_importances(model):\n",
        "    plt.rcParams[\"figure.figsize\"] = (9,6)\n",
        "    plt.rc('font', family='NanumBarunGothic') \n",
        "    n_features = len(df22.columns[:-1])\n",
        "    plt.barh(np.arange(n_features), model.feature_importances_, align='center') \n",
        "    plt.yticks(np.arange(n_features), df22.columns[:-1])  \n",
        "    plt.xlabel(\"feature importance\")\n",
        "    plt.ylabel(\"feature\")\n",
        "    plt.ylim(-1, n_features)\n",
        "\n",
        "plot_feature_importances(gbrt)"
      ],
      "metadata": {
        "colab": {
          "base_uri": "https://localhost:8080/",
          "height": 389
        },
        "id": "0DVr5w1WCa6J",
        "outputId": "dd89b14d-f15f-4c60-bb8a-9f210cafa24c"
      },
      "execution_count": null,
      "outputs": [
        {
          "output_type": "display_data",
          "data": {
            "text/plain": [
              "<Figure size 648x432 with 1 Axes>"
            ],
            "image/png": "[encoded data removed]"
          },
          "metadata": {
            "needs_background": "light"
          }
        }
      ]
    },
    {
      "cell_type": "markdown",
      "source": [],
      "metadata": {
        "id": "Z7whdmh7AgEQ"
      }
    },
    {
      "cell_type": "markdown",
      "source": [
        "##3. 교차검증\n"
      ],
      "metadata": {
        "id": "OQmSrmFF9pRH"
      }
    },
    {
      "cell_type": "code",
      "source": [
        "rf_scores = cross_val_score(forest, X_train, y_train, cv=10, scoring='accuracy')\n",
        "gbrt_scores = cross_val_score(gbrt, X_train, y_train, cv=10, scoring='accuracy')\n",
        "\n",
        "print(\"Accuracy mean\")\n",
        "print(\"Random forest :{:.3f}\".format(rf_scores.mean())) \n",
        "print(\"Gradient boosting :{:.3f}\".format(gbrt_scores.mean()))  "
      ],
      "metadata": {
        "id": "hzr3jomZ9tH2",
        "colab": {
          "base_uri": "https://localhost:8080/"
        },
        "outputId": "0dba94f6-bd4e-48c6-81ad-8a76cec7a879"
      },
      "execution_count": null,
      "outputs": [
        {
          "output_type": "stream",
          "name": "stdout",
          "text": [
            "Accuracy mean\n",
            "Random forest :0.849\n",
            "Gradient boosting :0.844\n"
          ]
        }
      ]
    },
    {
      "cell_type": "markdown",
      "source": [
        "##4. 그리드서치"
      ],
      "metadata": {
        "id": "4ian1BlG-Acg"
      }
    },
    {
      "cell_type": "code",
      "source": [
        "from sklearn.model_selection import GridSearchCV\n",
        "\n",
        "# 파라미터를 dictionary 형태로 설정\n",
        "parameters1 = {'max_depth':[3,5,6,7,8], 'n_estimators':[80, 90, 100]}\n",
        "parameters2 = {'max_depth':[1,3,5,6,7], 'learning_rate':[0.1,0.02,0.08, 0.01]}"
      ],
      "metadata": {
        "id": "VNycGFee-Czi"
      },
      "execution_count": null,
      "outputs": []
    },
    {
      "cell_type": "code",
      "source": [
        "grid_forest = GridSearchCV(forest, param_grid=parameters1, cv=5, refit=True)\n",
        "grid_forest.fit(X_train, y_train)\n",
        "\n",
        "print('GridSearchCV 최적 파라미터:', grid_forest.best_params_)\n",
        "print('GridSearchCV 최고 정확도: {0:.4f}'.format(grid_forest.best_score_))\n",
        "\n",
        "grid_gbrt = GridSearchCV(gbrt, param_grid=parameters2, cv=5, refit=True)\n",
        "grid_gbrt.fit(X_train, y_train)\n",
        "\n",
        "print('GridSearchCV 최적 파라미터:', grid_gbrt.best_params_)\n",
        "print('GridSearchCV 최고 정확도: {0:.4f}'.format(grid_gbrt.best_score_))"
      ],
      "metadata": {
        "id": "VCgikb80-HDU",
        "colab": {
          "base_uri": "https://localhost:8080/"
        },
        "outputId": "b9ef04c0-c443-4614-94ca-a9bf386e5697"
      },
      "execution_count": null,
      "outputs": [
        {
          "output_type": "stream",
          "name": "stdout",
          "text": [
            "GridSearchCV 최적 파라미터: {'max_depth': 8, 'n_estimators': 100}\n",
            "GridSearchCV 최고 정확도: 0.8423\n",
            "GridSearchCV 최적 파라미터: {'learning_rate': 0.02, 'max_depth': 3}\n",
            "GridSearchCV 최고 정확도: 0.8491\n"
          ]
        }
      ]
    },
    {
      "cell_type": "code",
      "source": [
        "print(\"forest: 시험용 데이터 세트 정확도: {:.3f}\".format(grid_forest.score(X_test, y_test)))\n",
        "print(\"gbrt: 시험용 데이터 세트 정확도: {:.3f}\".format(grid_gbrt.score(X_test, y_test)))"
      ],
      "metadata": {
        "id": "1YFi81w2-aFH",
        "colab": {
          "base_uri": "https://localhost:8080/"
        },
        "outputId": "96bf5387-6bb5-44a5-9ec4-ce9fb37f7f2c"
      },
      "execution_count": null,
      "outputs": [
        {
          "output_type": "stream",
          "name": "stdout",
          "text": [
            "forest: 시험용 데이터 세트 정확도: 0.865\n",
            "gbrt: 시험용 데이터 세트 정확도: 0.858\n"
          ]
        }
      ]
    },
    {
      "cell_type": "markdown",
      "source": [
        "##5. 정오분류표"
      ],
      "metadata": {
        "id": "Qppkbq5b-pgf"
      }
    },
    {
      "cell_type": "code",
      "source": [
        "from sklearn.metrics import accuracy_score, precision_score, recall_score, f1_score\n",
        "from sklearn.metrics import confusion_matrix \n",
        "\n",
        "forest_pred= grid_forest.predict(X_test)\n",
        "gbrt_pred = grid_gbrt.predict(X_test)\n",
        "\n",
        "\n",
        "print('Random forest 시험용 데이터 세트 정확도:{:.3f}'.format(accuracy_score(y_test, forest_pred)))\n",
        "print(confusion_matrix(y_test, forest_pred))\n",
        "print('Gradient boosting 시험용 데이터 세트 정확도:{:.3f}'.format(accuracy_score(y_test, gbrt_pred)))\n",
        "print(confusion_matrix(y_test, gbrt_pred))"
      ],
      "metadata": {
        "id": "wRNr6JGg-uMo",
        "colab": {
          "base_uri": "https://localhost:8080/"
        },
        "outputId": "91593908-e19c-4973-c719-5e4aced8b240"
      },
      "execution_count": null,
      "outputs": [
        {
          "output_type": "stream",
          "name": "stdout",
          "text": [
            "Random forest 시험용 데이터 세트 정확도:0.865\n",
            "[[ 22  37]\n",
            " [  3 234]]\n",
            "Gradient boosting 시험용 데이터 세트 정확도:0.858\n",
            "[[ 20  39]\n",
            " [  3 234]]\n"
          ]
        }
      ]
    },
    {
      "cell_type": "code",
      "source": [
        "print(\"Random forest\")\n",
        "print('정밀도:{:.3f}'.format(precision_score (y_test, forest_pred, average='binary', pos_label=\"재방문YES\")))  # pos_label = 1 기본값\n",
        "print('재현율:{:.3f}'.format(recall_score(y_test, forest_pred, average='binary', pos_label=\"재방문YES\")))\n",
        "print('f1-measure:{:.3f}'.format(f1_score(y_test, forest_pred, average='binary', pos_label=\"재방문YES\")))\n",
        "\n",
        "print(\"Gradienc boosting\")\n",
        "print('정밀도:{:.3f}'.format(precision_score (y_test, gbrt_pred, average='binary', pos_label=\"재방문YES\")))  # pos_label = 1 기본값\n",
        "print('재현율:{:.3f}'.format(recall_score(y_test, gbrt_pred, average='binary', pos_label=\"재방문YES\")))\n",
        "print('f1-measure:{:.3f}'.format(f1_score(y_test, gbrt_pred, average='binary', pos_label=\"재방문YES\")))\n"
      ],
      "metadata": {
        "id": "11OtBRZIAmkP",
        "colab": {
          "base_uri": "https://localhost:8080/"
        },
        "outputId": "c894a75c-778f-4ac2-d277-c7316c0a958b"
      },
      "execution_count": null,
      "outputs": [
        {
          "output_type": "stream",
          "name": "stdout",
          "text": [
            "Random forest\n",
            "정밀도:0.863\n",
            "재현율:0.987\n",
            "f1-measure:0.921\n",
            "Gradienc boosting\n",
            "정밀도:0.857\n",
            "재현율:0.987\n",
            "f1-measure:0.918\n"
          ]
        }
      ]
    },
    {
      "cell_type": "markdown",
      "source": [
        "##6. ROC"
      ],
      "metadata": {
        "id": "L4JeENEaBHX2"
      }
    },
    {
      "cell_type": "code",
      "source": [
        "from sklearn.metrics import roc_auc_score, roc_curve\n",
        "\n",
        "\n",
        "fpr_rf, tpr_rf, cutoff_rf = roc_curve(y_test, forest.predict_proba(X_test)[:, -1], pos_label=\"재방문YES\")\n",
        "fpr_gbrt, tpr_gbrt, cutoff_gbrt = roc_curve(y_test, grid_gbrt.predict_proba(X_test)[:, -1], pos_label=\"재방문YES\")\n",
        "\n",
        "plt.plot(fpr_rf, tpr_rf, label=\"Random Forest ROC Curve\")\n",
        "plt.plot(fpr_gbrt, tpr_gbrt, label=\"Gradient Boosting ROC Curve\")\n",
        "plt.plot([0,1], [0, 1], \"k--\", label =\"Random\") \n",
        "\n",
        "plt.xlabel(\"False Positive Rate\") \n",
        "plt.ylabel(\"True Positive Rate\")\n",
        "\n",
        "plt.legend(loc=4)\n",
        "plt.show() "
      ],
      "metadata": {
        "id": "pDmvGH56BLMm",
        "colab": {
          "base_uri": "https://localhost:8080/",
          "height": 388
        },
        "outputId": "d90e6e03-1245-4463-c6fa-4607401d85ae"
      },
      "execution_count": null,
      "outputs": [
        {
          "output_type": "display_data",
          "data": {
            "text/plain": [
              "<Figure size 648x432 with 1 Axes>"
            ],
            "image/png": "[encoded data removed]"
          },
          "metadata": {
            "needs_background": "light"
          }
        }
      ]
    },
    {
      "cell_type": "code",
      "source": [
        "auc_rf = roc_auc_score(y_test, forest.predict_proba(X_test)[:, -1])\n",
        "auc_gbrt = roc_auc_score(y_test, grid_gbrt.predict_proba(X_test)[:, -1])\n",
        "print(\"Random Forest의 AUC: {:.3f}\".format(auc_rf))\n",
        "print(\"Gradient Boosting의 AUC: {:.3f}\".format(auc_gbrt))"
      ],
      "metadata": {
        "id": "jWYxdU0qCp68",
        "colab": {
          "base_uri": "https://localhost:8080/"
        },
        "outputId": "6b4a03b6-a563-4f3d-f736-24604268e7f3"
      },
      "execution_count": null,
      "outputs": [
        {
          "output_type": "stream",
          "name": "stdout",
          "text": [
            "Random Forest의 AUC: 0.886\n",
            "Gradient Boosting의 AUC: 0.885\n"
          ]
        }
      ]
    }
  ]
}
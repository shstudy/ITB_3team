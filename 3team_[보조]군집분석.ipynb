{
  "nbformat": 4,
  "nbformat_minor": 0,
  "metadata": {
    "colab": {
      "provenance": [],
      "toc_visible": true,
      "include_colab_link": true
    },
    "kernelspec": {
      "name": "python3",
      "display_name": "Python 3"
    },
    "language_info": {
      "name": "python"
    }
  },
  "cells": [
    {
      "cell_type": "markdown",
      "metadata": {
        "id": "view-in-github",
        "colab_type": "text"
      },
      "source": [
        "<a href=\"https://colab.research.google.com/github/shstudy/ITB_3team/blob/main/3team_%5B%EB%B3%B4%EC%A1%B0%5D%EA%B5%B0%EC%A7%91%EB%B6%84%EC%84%9D.ipynb\" target=\"_parent\"><img src=\"https://colab.research.google.com/assets/colab-badge.svg\" alt=\"Open In Colab\"/></a>"
      ]
    },
    {
      "cell_type": "code",
      "source": [
        "!sudo apt-get install -y fonts-nanum\n",
        "!sudo fc-cache -fv\n",
        "!rm ~/.cache/matplotlib -rf"
      ],
      "metadata": {
        "id": "6tH-3roXfY9J",
        "colab": {
          "base_uri": "https://localhost:8080/"
        },
        "outputId": "28d0613d-ac33-497a-a3b4-e3b2df387455"
      },
      "execution_count": null,
      "outputs": [
        {
          "output_type": "stream",
          "name": "stdout",
          "text": [
            "Reading package lists... Done\n",
            "Building dependency tree       \n",
            "Reading state information... Done\n",
            "fonts-nanum is already the newest version (20170925-1).\n",
            "The following package was automatically installed and is no longer required:\n",
            "  libnvidia-common-460\n",
            "Use 'sudo apt autoremove' to remove it.\n",
            "0 upgraded, 0 newly installed, 0 to remove and 7 not upgraded.\n",
            "/usr/share/fonts: caching, new cache contents: 0 fonts, 1 dirs\n",
            "/usr/share/fonts/truetype: caching, new cache contents: 0 fonts, 3 dirs\n",
            "/usr/share/fonts/truetype/humor-sans: caching, new cache contents: 1 fonts, 0 dirs\n",
            "/usr/share/fonts/truetype/liberation: caching, new cache contents: 16 fonts, 0 dirs\n",
            "/usr/share/fonts/truetype/nanum: caching, new cache contents: 10 fonts, 0 dirs\n",
            "/usr/local/share/fonts: caching, new cache contents: 0 fonts, 0 dirs\n",
            "/root/.local/share/fonts: skipping, no such directory\n",
            "/root/.fonts: skipping, no such directory\n",
            "/var/cache/fontconfig: cleaning cache directory\n",
            "/root/.cache/fontconfig: not cleaning non-existent cache directory\n",
            "/root/.fontconfig: not cleaning non-existent cache directory\n",
            "fc-cache: succeeded\n"
          ]
        }
      ]
    },
    {
      "cell_type": "code",
      "source": [
        "!pip install mglearn \n",
        "!pip install --upgrade joblib==1.1.0"
      ],
      "metadata": {
        "id": "zCj8Z7NCfapy",
        "colab": {
          "base_uri": "https://localhost:8080/"
        },
        "outputId": "d00eba9a-5828-4242-809d-c50bfb9968ec"
      },
      "execution_count": null,
      "outputs": [
        {
          "output_type": "stream",
          "name": "stdout",
          "text": [
            "Looking in indexes: https://pypi.org/simple, https://us-python.pkg.dev/colab-wheels/public/simple/\n",
            "Requirement already satisfied: mglearn in /usr/local/lib/python3.8/dist-packages (0.1.9)\n",
            "Requirement already satisfied: numpy in /usr/local/lib/python3.8/dist-packages (from mglearn) (1.21.6)\n",
            "Requirement already satisfied: imageio in /usr/local/lib/python3.8/dist-packages (from mglearn) (2.9.0)\n",
            "Requirement already satisfied: joblib in /usr/local/lib/python3.8/dist-packages (from mglearn) (1.1.0)\n",
            "Requirement already satisfied: scikit-learn in /usr/local/lib/python3.8/dist-packages (from mglearn) (1.0.2)\n",
            "Requirement already satisfied: pillow in /usr/local/lib/python3.8/dist-packages (from mglearn) (7.1.2)\n",
            "Requirement already satisfied: pandas in /usr/local/lib/python3.8/dist-packages (from mglearn) (1.3.5)\n",
            "Requirement already satisfied: matplotlib in /usr/local/lib/python3.8/dist-packages (from mglearn) (3.2.2)\n",
            "Requirement already satisfied: cycler in /usr/local/lib/python3.8/dist-packages (from mglearn) (0.11.0)\n",
            "Requirement already satisfied: pyparsing!=2.0.4,!=2.1.2,!=2.1.6,>=2.0.1 in /usr/local/lib/python3.8/dist-packages (from matplotlib->mglearn) (3.0.9)\n",
            "Requirement already satisfied: kiwisolver>=1.0.1 in /usr/local/lib/python3.8/dist-packages (from matplotlib->mglearn) (1.4.4)\n",
            "Requirement already satisfied: python-dateutil>=2.1 in /usr/local/lib/python3.8/dist-packages (from matplotlib->mglearn) (2.8.2)\n",
            "Requirement already satisfied: six>=1.5 in /usr/local/lib/python3.8/dist-packages (from python-dateutil>=2.1->matplotlib->mglearn) (1.15.0)\n",
            "Requirement already satisfied: pytz>=2017.3 in /usr/local/lib/python3.8/dist-packages (from pandas->mglearn) (2022.6)\n",
            "Requirement already satisfied: threadpoolctl>=2.0.0 in /usr/local/lib/python3.8/dist-packages (from scikit-learn->mglearn) (3.1.0)\n",
            "Requirement already satisfied: scipy>=1.1.0 in /usr/local/lib/python3.8/dist-packages (from scikit-learn->mglearn) (1.7.3)\n",
            "Looking in indexes: https://pypi.org/simple, https://us-python.pkg.dev/colab-wheels/public/simple/\n",
            "Requirement already satisfied: joblib==1.1.0 in /usr/local/lib/python3.8/dist-packages (1.1.0)\n"
          ]
        }
      ]
    },
    {
      "cell_type": "code",
      "source": [
        "import numpy as np\n",
        "import pandas as pd\n",
        "import seaborn as sns\n",
        "import matplotlib as m\n",
        "import matplotlib.pyplot as plt\n",
        "import matplotlib.font_manager as fm\n",
        "%matplotlib inline\n",
        "\n",
        "import matplotlib.pyplot as plt\n",
        "plt.rc('font', family='NanumBarunGothic') \n",
        "\n",
        "import mglearn\n",
        "from sklearn.tree import DecisionTreeClassifier\n",
        "from sklearn.model_selection import train_test_split\n",
        "from sklearn.tree import export_graphviz\n",
        "import graphviz\n",
        "from sklearn.ensemble import RandomForestClassifier\n",
        "from sklearn.model_selection import cross_val_score\n",
        "from sklearn.ensemble import GradientBoostingClassifier\n",
        "from sklearn.model_selection import StratifiedKFold\n",
        "from sklearn.model_selection import GridSearchCV\n",
        "from sklearn.metrics import accuracy_score, precision_score, recall_score, f1_score\n",
        "from sklearn.metrics import confusion_matrix \n",
        "from sklearn.metrics import classification_report\n",
        "from sklearn.metrics import roc_auc_score, roc_curve"
      ],
      "metadata": {
        "id": "9wBZgkD-fX_U"
      },
      "execution_count": null,
      "outputs": []
    },
    {
      "cell_type": "markdown",
      "source": [
        "# 데이터 준비"
      ],
      "metadata": {
        "id": "uko57yqbeysw"
      }
    },
    {
      "cell_type": "code",
      "source": [
        "rawdf = pd.read_csv('https://raw.githubusercontent.com/shstudy/ITB_3team/main/wo_data_20_21Y%2B11-28.csv', encoding = 'CP949')"
      ],
      "metadata": {
        "id": "f2n1U2QBO1YD"
      },
      "execution_count": null,
      "outputs": []
    },
    {
      "cell_type": "code",
      "source": [
        "#df                #데이터 프레임 확인\n",
        "#df.isnull().sum() #결측치 확인\n",
        "#df.info()         #데이터 유형 확인"
      ],
      "metadata": {
        "id": "kwnGtY8JoPY4"
      },
      "execution_count": null,
      "outputs": []
    },
    {
      "cell_type": "code",
      "source": [
        "print(rawdf['재방문의도'].describe())"
      ],
      "metadata": {
        "colab": {
          "base_uri": "https://localhost:8080/"
        },
        "id": "JzvSddHwxF5_",
        "outputId": "8296e108-19aa-465a-8df3-b2c54ca66a02"
      },
      "execution_count": null,
      "outputs": [
        {
          "output_type": "stream",
          "name": "stdout",
          "text": [
            "count    1184.000000\n",
            "mean        3.875000\n",
            "std         0.561892\n",
            "min         1.000000\n",
            "25%         4.000000\n",
            "50%         4.000000\n",
            "75%         4.000000\n",
            "max         5.000000\n",
            "Name: 재방문의도, dtype: float64\n"
          ]
        }
      ]
    },
    {
      "cell_type": "code",
      "source": [
        "rawdf['재방문여부'] = rawdf['재방문의도'] > 3"
      ],
      "metadata": {
        "id": "xW7PWRkNzD2_"
      },
      "execution_count": null,
      "outputs": []
    },
    {
      "cell_type": "code",
      "source": [
        "# 0,1로 바꾸기\n",
        "x_list = [\"관광휴양여부\", \"여행활동1\", \"여행활동2\",\"여행활동3\", \"여행활동4\", \"여행활동5\"]\n",
        "\n",
        "for i in x_list:\n",
        "  x1 = {i : {'N':'0','Y':'1'}}\n",
        "  rawdf.replace(x1, inplace=True)\n",
        "\n",
        "x2 = {'재방문여부' :{False:'재방문NO',True:'재방문YES'}}\n",
        "rawdf.replace(x2, inplace=True)"
      ],
      "metadata": {
        "id": "NTTY1VMonHQk"
      },
      "execution_count": null,
      "outputs": []
    },
    {
      "cell_type": "code",
      "source": [
        "#자료형 바꾸기\n",
        "df = rawdf.astype(dtype='object')\n",
        "df = df.astype({'여행일수(박)':'int', '여행총경비':'int', '지출비용포함인원수':'int','1인지출비용':'int'})"
      ],
      "metadata": {
        "id": "duXU9BLN1dq7"
      },
      "execution_count": null,
      "outputs": []
    },
    {
      "cell_type": "markdown",
      "source": [
        "#군집화\n",
        "\n"
      ],
      "metadata": {
        "id": "Z7whdmh7AgEQ"
      }
    },
    {
      "cell_type": "code",
      "source": [
        "# 데이터 처리를 위한 라이브러리\n",
        "import numpy as np\n",
        "import pandas as pd\n",
        "# 데이터 시각화를 위한 라이브러리\n",
        "from matplotlib.colors import ListedColormap\n",
        "import matplotlib as mat\n",
        "from matplotlib import font_manager\n",
        "import matplotlib.pyplot as plt    \n",
        "import seaborn as sns\n",
        "# 데이터 분석을 위한 라이브러리\n",
        "from sklearn.cluster import KMeans, AgglomerativeClustering\n",
        "from sklearn.preprocessing import LabelEncoder, MinMaxScaler\n",
        "from sklearn import metrics\n",
        "from sklearn.ensemble import RandomForestClassifier\n",
        "from sklearn.manifold import TSNE\n",
        "from sklearn.model_selection import train_test_split\n",
        "from yellowbrick.cluster import KElbowVisualizer\n",
        "# 경고메시지 생략을 위한 라이브러리\n",
        "import warnings\n",
        "# Rich output을 쉘에서 출력하기 위한 설정\n",
        "%matplotlib inline\n",
        "\n",
        "#Importing the Libraries\n",
        "from sklearn.preprocessing import LabelEncoder\n",
        "from sklearn.preprocessing import StandardScaler\n",
        "from sklearn.decomposition import PCA\n",
        "from yellowbrick.cluster import KElbowVisualizer\n",
        "from sklearn.cluster import KMeans\n",
        "import matplotlib.pyplot as plt, numpy as np\n",
        "from mpl_toolkits.mplot3d import Axes3D\n",
        "from sklearn.cluster import AgglomerativeClustering\n",
        "from matplotlib.colors import ListedColormap\n",
        "from sklearn import metrics\n",
        "np.random.seed(3)\n"
      ],
      "metadata": {
        "id": "_8IYOLccMAIc"
      },
      "execution_count": null,
      "outputs": []
    },
    {
      "cell_type": "code",
      "source": [
        "!pip install -U pandas-profiling"
      ],
      "metadata": {
        "id": "q1OyZbk0OB-V"
      },
      "execution_count": null,
      "outputs": []
    },
    {
      "cell_type": "code",
      "source": [
        "df"
      ],
      "metadata": {
        "id": "0ZkZ0rIlMTBD"
      },
      "execution_count": null,
      "outputs": []
    },
    {
      "cell_type": "code",
      "source": [
        "df.columns"
      ],
      "metadata": {
        "id": "XaZgLUX4MVEI"
      },
      "execution_count": null,
      "outputs": []
    },
    {
      "cell_type": "code",
      "source": [
        "cldf = df.copy()"
      ],
      "metadata": {
        "id": "_OOckxpcNzEQ"
      },
      "execution_count": null,
      "outputs": []
    },
    {
      "cell_type": "code",
      "source": [
        "cldf = cldf.drop(['ID', '연도', '학력',  '주5일근무제실시여부', '계절', '차량보유여부', \n",
        "              '지출비용포함인원수', '개인휴가사용여부','시', '여행지선택이유_1순위', '여행지선택이유_2순위',\n",
        "              '만족도_자연경관', '만족도_문화유산', '만족도_교통', '만족도_식당및음식', '만족도_쇼핑',\n",
        "              '만족도_관광정보및안내시설', '만족도_관광지편의시설', '만족도_지역관광종사자의친절성', '만족도_체험프로그램',\n",
        "              '만족도_관광지물가', '만족도_관광지혼잡도', '총만족도', '총만족도_이진','재방문여부'], axis = 1)"
      ],
      "metadata": {
        "id": "WE6kDhdRMG5S"
      },
      "execution_count": null,
      "outputs": []
    },
    {
      "cell_type": "code",
      "source": [
        "cldf1 = cldf.copy()"
      ],
      "metadata": {
        "id": "RyvWjAk9R3_u"
      },
      "execution_count": null,
      "outputs": []
    },
    {
      "cell_type": "code",
      "source": [
        "cldf.info()"
      ],
      "metadata": {
        "id": "Y_2VPaMFMAFz"
      },
      "execution_count": null,
      "outputs": []
    },
    {
      "cell_type": "code",
      "source": [
        "cldf = cldf.astype(dtype='int')"
      ],
      "metadata": {
        "id": "mBOnbwqiMACj"
      },
      "execution_count": null,
      "outputs": []
    },
    {
      "cell_type": "code",
      "source": [
        "kmeans = KMeans(n_clusters=3, init='k-means++', max_iter=300,random_state=0)\n",
        "#군집개수(n_cluster)는 3\n",
        "#초기 중심 설정방식(init)은 기본값인 k-means++\n",
        "#최대 반복회수(max_iter)도 기본값인 300\n",
        "#수행 결과 고정을 위해 random_state 설정"
      ],
      "metadata": {
        "id": "hzpMuFgUL_vA"
      },
      "execution_count": null,
      "outputs": []
    },
    {
      "cell_type": "markdown",
      "source": [
        "https://dacon.io/codeshare/5776?dtype=recent"
      ],
      "metadata": {
        "id": "wDTdrmRQQigY"
      }
    },
    {
      "cell_type": "code",
      "source": [
        "kmeans.fit(cldf)"
      ],
      "metadata": {
        "id": "69EbhEtMNY7r"
      },
      "execution_count": null,
      "outputs": []
    },
    {
      "cell_type": "code",
      "source": [
        "np.set_printoptions(threshold=np.inf, linewidth=np.inf)\n",
        "\n",
        "print(kmeans.labels_)"
      ],
      "metadata": {
        "id": "z2Mrq_keNcfG"
      },
      "execution_count": null,
      "outputs": []
    },
    {
      "cell_type": "code",
      "source": [
        "cldf['cluster']= kmeans.labels_"
      ],
      "metadata": {
        "id": "LdficI_FPXnf"
      },
      "execution_count": null,
      "outputs": []
    },
    {
      "cell_type": "code",
      "source": [
        "cldf.columns"
      ],
      "metadata": {
        "id": "0IVqaL1AQ8O5"
      },
      "execution_count": null,
      "outputs": []
    },
    {
      "cell_type": "code",
      "source": [
        "from sklearn.decomposition import PCA\n",
        "\n",
        "pca = PCA(n_components=2)\n",
        "pca_transformed = pca.fit_transform(cldf)\n",
        "\n",
        "cldf['pca_x'] = pca_transformed[:,0]\n",
        "cldf['pca_y'] = pca_transformed[:,1]\n",
        "cldf.head(3)\n"
      ],
      "metadata": {
        "id": "KgbCF_1zNpTJ"
      },
      "execution_count": null,
      "outputs": []
    },
    {
      "cell_type": "code",
      "source": [
        "# cluster 값이 0, 1, 2 인 경우마다 별도의 Index로 추출\n",
        "marker0_ind = cldf[cldf['cluster']==0].index\n",
        "marker1_ind = cldf[cldf['cluster']==1].index\n",
        "marker2_ind = cldf[cldf['cluster']==2].index\n",
        "\n",
        "# cluster값 0, 1, 2에 해당하는 Index로 각 cluster 레벨의 pca_x, pca_y 값 추출. o, s, ^ 로 marker 표시\n",
        "plt.scatter(x=cldf.loc[marker0_ind,'pca_x'], y=cldf.loc[marker0_ind,'pca_y'], marker='o') \n",
        "plt.scatter(x=cldf.loc[marker1_ind,'pca_x'], y=cldf.loc[marker1_ind,'pca_y'], marker='s')\n",
        "plt.scatter(x=cldf.loc[marker2_ind,'pca_x'], y=cldf.loc[marker2_ind,'pca_y'], marker='^')\n",
        "\n",
        "plt.xlabel('PCA 1')\n",
        "plt.ylabel('PCA 2')\n",
        "plt.title('3 Clusters Visualization by 2 PCA Components')\n",
        "plt.show()"
      ],
      "metadata": {
        "id": "JW4Dox1EQIHB"
      },
      "execution_count": null,
      "outputs": []
    },
    {
      "cell_type": "markdown",
      "source": [
        "2\n"
      ],
      "metadata": {
        "id": "1tLdvexoRgmW"
      }
    },
    {
      "cell_type": "code",
      "source": [
        "# 데이터 처리를 위한 라이브러리\n",
        "import numpy as np\n",
        "import pandas as pd\n",
        "# 데이터 시각화를 위한 라이브러리\n",
        "from matplotlib.colors import ListedColormap\n",
        "import matplotlib as mat\n",
        "from matplotlib import font_manager\n",
        "import matplotlib.pyplot as plt    \n",
        "import seaborn as sns\n",
        "# 데이터 분석을 위한 라이브러리\n",
        "from sklearn.cluster import KMeans, AgglomerativeClustering\n",
        "from sklearn.preprocessing import LabelEncoder, MinMaxScaler\n",
        "from sklearn import metrics\n",
        "from sklearn.ensemble import RandomForestClassifier\n",
        "from sklearn.manifold import TSNE\n",
        "from sklearn.model_selection import train_test_split\n",
        "from yellowbrick.cluster import KElbowVisualizer\n",
        "# 경고메시지 생략을 위한 라이브러리\n",
        "import warnings\n",
        "# Rich output을 쉘에서 출력하기 위한 설정\n",
        "%matplotlib inline\n",
        "     "
      ],
      "metadata": {
        "id": "J-BjRFy_RxFJ"
      },
      "execution_count": null,
      "outputs": []
    },
    {
      "cell_type": "code",
      "source": [
        "#Importing the Libraries\n",
        "from sklearn.preprocessing import LabelEncoder\n",
        "from sklearn.preprocessing import StandardScaler\n",
        "from sklearn.decomposition import PCA\n",
        "from yellowbrick.cluster import KElbowVisualizer\n",
        "from sklearn.cluster import KMeans\n",
        "import matplotlib.pyplot as plt, numpy as np\n",
        "from mpl_toolkits.mplot3d import Axes3D\n",
        "from sklearn.cluster import AgglomerativeClustering\n",
        "from matplotlib.colors import ListedColormap\n",
        "from sklearn import metrics\n",
        "np.random.seed(3)"
      ],
      "metadata": {
        "id": "sGZXPer6RyvN"
      },
      "execution_count": null,
      "outputs": []
    },
    {
      "cell_type": "code",
      "source": [
        "scaler = StandardScaler()\n",
        "scaler.fit(cldf1)\n",
        "scaled_ds = pd.DataFrame(scaler.transform(cldf1),columns=cldf1.columns)\n",
        "print(\"스케일링 완료\")"
      ],
      "metadata": {
        "id": "yDHGixkLSAXb"
      },
      "execution_count": null,
      "outputs": []
    },
    {
      "cell_type": "code",
      "source": [
        "cldf1"
      ],
      "metadata": {
        "id": "59nzehuxR-na"
      },
      "execution_count": null,
      "outputs": []
    },
    {
      "cell_type": "code",
      "source": [
        "#tsne\n",
        "# 2차원 t-SNE 임베딩\n",
        "\n",
        "tsne_np = TSNE(n_components = 2).fit_transform(scaled_ds)\n",
        "tsne_df = pd.DataFrame(tsne_np, columns = ['component 0', 'component 1'])"
      ],
      "metadata": {
        "id": "KUriSg8ASObk"
      },
      "execution_count": null,
      "outputs": []
    },
    {
      "cell_type": "code",
      "source": [
        "tsne_df.describe().T"
      ],
      "metadata": {
        "id": "pfJ2s-fcSOHt"
      },
      "execution_count": null,
      "outputs": []
    },
    {
      "cell_type": "code",
      "source": [
        "#A 2D Projection Of Data In The Reduced Dimension\n",
        "x =tsne_df[\"component 0\"]\n",
        "y =tsne_df[\"component 1\"]\n",
        "\n",
        "#To plot\n",
        "fig = plt.figure(figsize=(10,10))\n",
        "ax = fig.add_subplot(111)\n",
        "ax.scatter(x,y, c=\"maroon\", marker=\"o\" )\n",
        "ax.set_title(\"A 2D Projection Of Data In The Reduced Dimension\")\n",
        "plt.show()"
      ],
      "metadata": {
        "id": "sYJze9mhSVBO"
      },
      "execution_count": null,
      "outputs": []
    },
    {
      "cell_type": "code",
      "source": [
        "#클러스터링\n",
        "\n",
        "# 엘보우 기법 (Elbow Method)을 사용하여 몇개의 클러스터를 만들지 확인\n",
        "print('Elbow Method: 몇개의 클러스터를 만들어야 할까?')\n",
        "Elbow_M = KElbowVisualizer(KMeans(), k=10)\n",
        "Elbow_M.fit(tsne_df)\n",
        "Elbow_M.show()\n",
        "\n",
        "#4~5개의 클러스터를 만들면 됨"
      ],
      "metadata": {
        "id": "5N0C3k7KSU_J"
      },
      "execution_count": null,
      "outputs": []
    },
    {
      "cell_type": "code",
      "source": [
        "#4개로 클러스터링 모델 시작\n",
        "AC = AgglomerativeClustering(n_clusters=4)\n",
        "\n",
        "# fit model and predict clusters\n",
        "yhat_AC = AC.fit_predict(tsne_df)\n",
        "tsne_df[\"Clusters\"] = yhat_AC\n",
        "cldf1[\"Clusters\"]= yhat_AC"
      ],
      "metadata": {
        "id": "T3msDkWESU8C"
      },
      "execution_count": null,
      "outputs": []
    },
    {
      "cell_type": "code",
      "source": [
        "\n",
        "#To plot some selected features \n",
        "#Setting up colors prefrences\n",
        "sns.set(rc={\"axes.facecolor\":\"#FFF9ED\",\"figure.facecolor\":\"#FFF9ED\"})\n",
        "pallet = [\"#682F2F\", \"#9E726F\", \"#D6B2B1\", 'lightcoral']\n",
        "     "
      ],
      "metadata": {
        "id": "-D_LITtwSOKQ"
      },
      "execution_count": null,
      "outputs": []
    },
    {
      "cell_type": "code",
      "source": [
        "\n",
        "#클러스터가 어떻게 구성됐는지 확인을 위해 3D plot으로 확인\n",
        "#Plotting the clusters\n",
        "fig = plt.figure(figsize=(10,10))\n",
        "ax = plt.subplot(111, label=\"bla\")\n",
        "ax.scatter(x, y,s=40, c=tsne_df[\"Clusters\"], marker='o')\n",
        "ax.set_title(\"The Plot Of The Clusters\")\n",
        "plt.show()"
      ],
      "metadata": {
        "id": "xEgc1G0wS8lH"
      },
      "execution_count": null,
      "outputs": []
    },
    {
      "cell_type": "code",
      "source": [
        "ds = cldf1"
      ],
      "metadata": {
        "id": "17MBWmYwS_ia"
      },
      "execution_count": null,
      "outputs": []
    },
    {
      "cell_type": "code",
      "source": [
        "# 그룹 별로 몇명 씩 분포되어있는지 확인\n",
        "pl = sns.countplot(x=ds[\"Clusters\"])\n",
        "pl.set_title(\"Distribution Of The Clusters\")\n",
        "plt.figure(figsize = (20,10))\n",
        "plt.show()\n",
        "\n",
        "#0번 그룹에 해당되는 고객의 수가 가장 많고 3번 그룹에 해당되는 고객의 수가 가장 적음"
      ],
      "metadata": {
        "id": "XHMa-ClDTJPJ"
      },
      "execution_count": null,
      "outputs": []
    },
    {
      "cell_type": "code",
      "source": [
        "ds_0 = ds[ds[\"Clusters\"] == 0]\n",
        "print(ds_0.shape)\n",
        "\n",
        "ds_1 = ds[ds[\"Clusters\"] == 1]\n",
        "print(ds_1.shape)\n",
        "\n",
        "ds_2 = ds[ds[\"Clusters\"] == 2]\n",
        "print(ds_2.shape)\n",
        "\n",
        "ds_3 = ds[ds[\"Clusters\"] == 3]\n",
        "print(ds_3.shape)"
      ],
      "metadata": {
        "id": "Pt3UAe72TOCM"
      },
      "execution_count": null,
      "outputs": []
    },
    {
      "cell_type": "code",
      "source": [
        "ds.columns"
      ],
      "metadata": {
        "id": "oh6mLHMHTdnp"
      },
      "execution_count": null,
      "outputs": []
    },
    {
      "cell_type": "code",
      "source": [
        "sns.catplot(kind='count', data=ds, x='Clusters', hue=\"연령\")"
      ],
      "metadata": {
        "id": "YZfZxHiwTYcz"
      },
      "execution_count": null,
      "outputs": []
    },
    {
      "cell_type": "code",
      "source": [
        "sns.catplot(kind='count', data=ds, x='Clusters', hue=\"혼인상태\")"
      ],
      "metadata": {
        "id": "CWDWTFE6T-8K"
      },
      "execution_count": null,
      "outputs": []
    },
    {
      "cell_type": "code",
      "source": [
        "sns.catplot(kind='count', data=ds, x='Clusters', hue=\"직장지위\")"
      ],
      "metadata": {
        "id": "sr0Iy5YoUB_M"
      },
      "execution_count": null,
      "outputs": []
    },
    {
      "cell_type": "code",
      "source": [
        "sns.catplot(kind='count', data=ds, x='Clusters', hue=\"직업\")"
      ],
      "metadata": {
        "id": "fMyw0ZMxTuHX"
      },
      "execution_count": null,
      "outputs": []
    },
    {
      "cell_type": "code",
      "source": [
        "sns.catplot(kind='count', data=ds, x='Clusters', hue=\"주업\")"
      ],
      "metadata": {
        "id": "V2qZneMrUQU8"
      },
      "execution_count": null,
      "outputs": []
    },
    {
      "cell_type": "code",
      "source": [
        "sns.catplot(kind='count', data=ds, x='Clusters', hue=\"여행유형\")"
      ],
      "metadata": {
        "id": "lRTC7006Twg1"
      },
      "execution_count": null,
      "outputs": []
    },
    {
      "cell_type": "code",
      "source": [
        "sns.catplot(kind='count', data=ds, x='Clusters', hue='거주지역')"
      ],
      "metadata": {
        "id": "Fot6kTcvUTtZ"
      },
      "execution_count": null,
      "outputs": []
    },
    {
      "cell_type": "code",
      "source": [
        "sns.catplot(kind='count', data=ds, x='Clusters', hue='전반적만족도')"
      ],
      "metadata": {
        "id": "W8kVG2KhUgPX"
      },
      "execution_count": null,
      "outputs": []
    },
    {
      "cell_type": "markdown",
      "source": [
        "군집화 2"
      ],
      "metadata": {
        "id": "9J5UBEbNWEG_"
      }
    },
    {
      "cell_type": "code",
      "source": [
        "cldf2 = df.copy()\n",
        "X = cldf2.drop(['ID', '연도', '학력',  '주5일근무제실시여부', '계절', '차량보유여부', \n",
        "              '지출비용포함인원수', '개인휴가사용여부','시','총만족도','총만족도_이진','재방문여부'], axis = 1)"
      ],
      "metadata": {
        "id": "G-_qsZEdWgYc"
      },
      "execution_count": null,
      "outputs": []
    },
    {
      "cell_type": "code",
      "source": [
        "from sklearn.preprocessing import StandardScaler\n",
        "from sklearn.preprocessing import MinMaxScaler"
      ],
      "metadata": {
        "id": "59N7Q4tGWvZo"
      },
      "execution_count": null,
      "outputs": []
    },
    {
      "cell_type": "code",
      "source": [
        "from sklearn.datasets import make_blobs\n",
        "from sklearn.cluster import KMeans\n",
        "from sklearn.metrics import davies_bouldin_score"
      ],
      "metadata": {
        "id": "3VRdnnUPXQ6G"
      },
      "execution_count": null,
      "outputs": []
    },
    {
      "cell_type": "code",
      "source": [
        "X_scaled = StandardScaler().fit_transform(X)\n",
        "X_scaled = MinMaxScaler().fit_transform(X)"
      ],
      "metadata": {
        "id": "VAIlrJMBWq8u"
      },
      "execution_count": null,
      "outputs": []
    },
    {
      "cell_type": "code",
      "source": [
        "clusters =[]\n",
        "for i in range(1, 10):\n",
        "    km = KMeans(n_clusters=i, random_state=0).fit(X)\n",
        "    clusters.append(km.inertia_)\n",
        "    \n",
        "fig, ax = plt.subplots(figsize=(8, 5))\n",
        "sns.lineplot(x=list(range(1, 10)), y=clusters, ax=ax)\n",
        "ax.set_title('Searching for Elbow')\n",
        "ax.set_xlabel('Number of Clusters')\n",
        "ax.set_ylabel('Inertia')\n",
        "plt.show() # 3 또는 5 중에서 선택\n"
      ],
      "metadata": {
        "colab": {
          "base_uri": "https://localhost:8080/",
          "height": 350
        },
        "id": "yhdS4nTeWFhX",
        "outputId": "cc855d61-ba6f-4c6c-a094-77d570cf3979"
      },
      "execution_count": null,
      "outputs": [
        {
          "output_type": "display_data",
          "data": {
            "text/plain": [
              "<Figure size 576x360 with 1 Axes>"
            ],
            "image/png": "[encoded data removed]"
          },
          "metadata": {
            "needs_background": "light"
          }
        }
      ]
    },
    {
      "cell_type": "code",
      "source": [
        "X"
      ],
      "metadata": {
        "colab": {
          "base_uri": "https://localhost:8080/",
          "height": 502
        },
        "id": "LRLJRMpgXkVT",
        "outputId": "d0df6257-84cb-4241-89d0-0d14b0423e66"
      },
      "execution_count": null,
      "outputs": [
        {
          "output_type": "execute_result",
          "data": {
            "text/plain": [
              "     성별 연령 혼인상태 거주지역 직업 주업 직장지위 개인소득 관광휴양여부 여행유형  ... 만족도_관광정보및안내시설  \\\n",
              "0     1  5    2    1  3  3    3    5      1    4  ...             5   \n",
              "1     1  5    4    1  3  4    3    4      1    4  ...             4   \n",
              "2     1  4    2    1  1  3    1    4      1    4  ...             4   \n",
              "3     1  5    2    1  1  3    1    4      1    4  ...             9   \n",
              "4     2  3    1    1  1  3    1    3      0    2  ...             4   \n",
              "...  .. ..  ...  ... .. ..  ...  ...    ...  ...  ...           ...   \n",
              "1179  1  4    2   17  1  3    1    4      1    4  ...             3   \n",
              "1180  2  5    2   17  3  5    3    3      1    4  ...             3   \n",
              "1181  2  4    2   17  1  5    1    4      1    4  ...             4   \n",
              "1182  1  4    2   17  1  3    1    5      1    4  ...             9   \n",
              "1183  1  7    2   17  1  1    1    2      1    4  ...             4   \n",
              "\n",
              "      만족도_관광지편의시설  만족도_지역관광종사자의친절성  만족도_체험프로그램 만족도_관광지물가 만족도_관광지혼잡도 전반적만족도  \\\n",
              "0               4                4           4         4          4      4   \n",
              "1               4                4           3         4          4      4   \n",
              "2               4                4           4         4          4      4   \n",
              "3               9                9           9         9          9      3   \n",
              "4               3                3           9         3          4      4   \n",
              "...           ...              ...         ...       ...        ...    ...   \n",
              "1179            3                3           3         3          3      3   \n",
              "1180            3                9           9         3          2      4   \n",
              "1181            4                4           4         3          4      5   \n",
              "1182            9                9           9         9          9      3   \n",
              "1183            4                4           9         4          4      3   \n",
              "\n",
              "     재방문의도 타인추천의도 만족도점수  \n",
              "0        4      4    12  \n",
              "1        4      4    12  \n",
              "2        4      4    12  \n",
              "3        3      3     9  \n",
              "4        4      4    12  \n",
              "...    ...    ...   ...  \n",
              "1179     3      3     9  \n",
              "1180     4      4    12  \n",
              "1181     4      4    13  \n",
              "1182     3      3     9  \n",
              "1183     3      3     9  \n",
              "\n",
              "[1184 rows x 39 columns]"
            ],
            "text/html": [
              "\n",
              "  <div id=\"df-24f9f757-9e2f-4462-91d8-80c507ccd356\">\n",
              "    <div class=\"colab-df-container\">\n",
              "      <div>\n",
              "<style scoped>\n",
              "    .dataframe tbody tr th:only-of-type {\n",
              "        vertical-align: middle;\n",
              "    }\n",
              "\n",
              "    .dataframe tbody tr th {\n",
              "        vertical-align: top;\n",
              "    }\n",
              "\n",
              "    .dataframe thead th {\n",
              "        text-align: right;\n",
              "    }\n",
              "</style>\n",
              "<table border=\"1\" class=\"dataframe\">\n",
              "  <thead>\n",
              "    <tr style=\"text-align: right;\">\n",
              "      <th></th>\n",
              "      <th>성별</th>\n",
              "      <th>연령</th>\n",
              "      <th>혼인상태</th>\n",
              "      <th>거주지역</th>\n",
              "      <th>직업</th>\n",
              "      <th>주업</th>\n",
              "      <th>직장지위</th>\n",
              "      <th>개인소득</th>\n",
              "      <th>관광휴양여부</th>\n",
              "      <th>여행유형</th>\n",
              "      <th>...</th>\n",
              "      <th>만족도_관광정보및안내시설</th>\n",
              "      <th>만족도_관광지편의시설</th>\n",
              "      <th>만족도_지역관광종사자의친절성</th>\n",
              "      <th>만족도_체험프로그램</th>\n",
              "      <th>만족도_관광지물가</th>\n",
              "      <th>만족도_관광지혼잡도</th>\n",
              "      <th>전반적만족도</th>\n",
              "      <th>재방문의도</th>\n",
              "      <th>타인추천의도</th>\n",
              "      <th>만족도점수</th>\n",
              "    </tr>\n",
              "  </thead>\n",
              "  <tbody>\n",
              "    <tr>\n",
              "      <th>0</th>\n",
              "      <td>1</td>\n",
              "      <td>5</td>\n",
              "      <td>2</td>\n",
              "      <td>1</td>\n",
              "      <td>3</td>\n",
              "      <td>3</td>\n",
              "      <td>3</td>\n",
              "      <td>5</td>\n",
              "      <td>1</td>\n",
              "      <td>4</td>\n",
              "      <td>...</td>\n",
              "      <td>5</td>\n",
              "      <td>4</td>\n",
              "      <td>4</td>\n",
              "      <td>4</td>\n",
              "      <td>4</td>\n",
              "      <td>4</td>\n",
              "      <td>4</td>\n",
              "      <td>4</td>\n",
              "      <td>4</td>\n",
              "      <td>12</td>\n",
              "    </tr>\n",
              "    <tr>\n",
              "      <th>1</th>\n",
              "      <td>1</td>\n",
              "      <td>5</td>\n",
              "      <td>4</td>\n",
              "      <td>1</td>\n",
              "      <td>3</td>\n",
              "      <td>4</td>\n",
              "      <td>3</td>\n",
              "      <td>4</td>\n",
              "      <td>1</td>\n",
              "      <td>4</td>\n",
              "      <td>...</td>\n",
              "      <td>4</td>\n",
              "      <td>4</td>\n",
              "      <td>4</td>\n",
              "      <td>3</td>\n",
              "      <td>4</td>\n",
              "      <td>4</td>\n",
              "      <td>4</td>\n",
              "      <td>4</td>\n",
              "      <td>4</td>\n",
              "      <td>12</td>\n",
              "    </tr>\n",
              "    <tr>\n",
              "      <th>2</th>\n",
              "      <td>1</td>\n",
              "      <td>4</td>\n",
              "      <td>2</td>\n",
              "      <td>1</td>\n",
              "      <td>1</td>\n",
              "      <td>3</td>\n",
              "      <td>1</td>\n",
              "      <td>4</td>\n",
              "      <td>1</td>\n",
              "      <td>4</td>\n",
              "      <td>...</td>\n",
              "      <td>4</td>\n",
              "      <td>4</td>\n",
              "      <td>4</td>\n",
              "      <td>4</td>\n",
              "      <td>4</td>\n",
              "      <td>4</td>\n",
              "      <td>4</td>\n",
              "      <td>4</td>\n",
              "      <td>4</td>\n",
              "      <td>12</td>\n",
              "    </tr>\n",
              "    <tr>\n",
              "      <th>3</th>\n",
              "      <td>1</td>\n",
              "      <td>5</td>\n",
              "      <td>2</td>\n",
              "      <td>1</td>\n",
              "      <td>1</td>\n",
              "      <td>3</td>\n",
              "      <td>1</td>\n",
              "      <td>4</td>\n",
              "      <td>1</td>\n",
              "      <td>4</td>\n",
              "      <td>...</td>\n",
              "      <td>9</td>\n",
              "      <td>9</td>\n",
              "      <td>9</td>\n",
              "      <td>9</td>\n",
              "      <td>9</td>\n",
              "      <td>9</td>\n",
              "      <td>3</td>\n",
              "      <td>3</td>\n",
              "      <td>3</td>\n",
              "      <td>9</td>\n",
              "    </tr>\n",
              "    <tr>\n",
              "      <th>4</th>\n",
              "      <td>2</td>\n",
              "      <td>3</td>\n",
              "      <td>1</td>\n",
              "      <td>1</td>\n",
              "      <td>1</td>\n",
              "      <td>3</td>\n",
              "      <td>1</td>\n",
              "      <td>3</td>\n",
              "      <td>0</td>\n",
              "      <td>2</td>\n",
              "      <td>...</td>\n",
              "      <td>4</td>\n",
              "      <td>3</td>\n",
              "      <td>3</td>\n",
              "      <td>9</td>\n",
              "      <td>3</td>\n",
              "      <td>4</td>\n",
              "      <td>4</td>\n",
              "      <td>4</td>\n",
              "      <td>4</td>\n",
              "      <td>12</td>\n",
              "    </tr>\n",
              "    <tr>\n",
              "      <th>...</th>\n",
              "      <td>...</td>\n",
              "      <td>...</td>\n",
              "      <td>...</td>\n",
              "      <td>...</td>\n",
              "      <td>...</td>\n",
              "      <td>...</td>\n",
              "      <td>...</td>\n",
              "      <td>...</td>\n",
              "      <td>...</td>\n",
              "      <td>...</td>\n",
              "      <td>...</td>\n",
              "      <td>...</td>\n",
              "      <td>...</td>\n",
              "      <td>...</td>\n",
              "      <td>...</td>\n",
              "      <td>...</td>\n",
              "      <td>...</td>\n",
              "      <td>...</td>\n",
              "      <td>...</td>\n",
              "      <td>...</td>\n",
              "      <td>...</td>\n",
              "    </tr>\n",
              "    <tr>\n",
              "      <th>1179</th>\n",
              "      <td>1</td>\n",
              "      <td>4</td>\n",
              "      <td>2</td>\n",
              "      <td>17</td>\n",
              "      <td>1</td>\n",
              "      <td>3</td>\n",
              "      <td>1</td>\n",
              "      <td>4</td>\n",
              "      <td>1</td>\n",
              "      <td>4</td>\n",
              "      <td>...</td>\n",
              "      <td>3</td>\n",
              "      <td>3</td>\n",
              "      <td>3</td>\n",
              "      <td>3</td>\n",
              "      <td>3</td>\n",
              "      <td>3</td>\n",
              "      <td>3</td>\n",
              "      <td>3</td>\n",
              "      <td>3</td>\n",
              "      <td>9</td>\n",
              "    </tr>\n",
              "    <tr>\n",
              "      <th>1180</th>\n",
              "      <td>2</td>\n",
              "      <td>5</td>\n",
              "      <td>2</td>\n",
              "      <td>17</td>\n",
              "      <td>3</td>\n",
              "      <td>5</td>\n",
              "      <td>3</td>\n",
              "      <td>3</td>\n",
              "      <td>1</td>\n",
              "      <td>4</td>\n",
              "      <td>...</td>\n",
              "      <td>3</td>\n",
              "      <td>3</td>\n",
              "      <td>9</td>\n",
              "      <td>9</td>\n",
              "      <td>3</td>\n",
              "      <td>2</td>\n",
              "      <td>4</td>\n",
              "      <td>4</td>\n",
              "      <td>4</td>\n",
              "      <td>12</td>\n",
              "    </tr>\n",
              "    <tr>\n",
              "      <th>1181</th>\n",
              "      <td>2</td>\n",
              "      <td>4</td>\n",
              "      <td>2</td>\n",
              "      <td>17</td>\n",
              "      <td>1</td>\n",
              "      <td>5</td>\n",
              "      <td>1</td>\n",
              "      <td>4</td>\n",
              "      <td>1</td>\n",
              "      <td>4</td>\n",
              "      <td>...</td>\n",
              "      <td>4</td>\n",
              "      <td>4</td>\n",
              "      <td>4</td>\n",
              "      <td>4</td>\n",
              "      <td>3</td>\n",
              "      <td>4</td>\n",
              "      <td>5</td>\n",
              "      <td>4</td>\n",
              "      <td>4</td>\n",
              "      <td>13</td>\n",
              "    </tr>\n",
              "    <tr>\n",
              "      <th>1182</th>\n",
              "      <td>1</td>\n",
              "      <td>4</td>\n",
              "      <td>2</td>\n",
              "      <td>17</td>\n",
              "      <td>1</td>\n",
              "      <td>3</td>\n",
              "      <td>1</td>\n",
              "      <td>5</td>\n",
              "      <td>1</td>\n",
              "      <td>4</td>\n",
              "      <td>...</td>\n",
              "      <td>9</td>\n",
              "      <td>9</td>\n",
              "      <td>9</td>\n",
              "      <td>9</td>\n",
              "      <td>9</td>\n",
              "      <td>9</td>\n",
              "      <td>3</td>\n",
              "      <td>3</td>\n",
              "      <td>3</td>\n",
              "      <td>9</td>\n",
              "    </tr>\n",
              "    <tr>\n",
              "      <th>1183</th>\n",
              "      <td>1</td>\n",
              "      <td>7</td>\n",
              "      <td>2</td>\n",
              "      <td>17</td>\n",
              "      <td>1</td>\n",
              "      <td>1</td>\n",
              "      <td>1</td>\n",
              "      <td>2</td>\n",
              "      <td>1</td>\n",
              "      <td>4</td>\n",
              "      <td>...</td>\n",
              "      <td>4</td>\n",
              "      <td>4</td>\n",
              "      <td>4</td>\n",
              "      <td>9</td>\n",
              "      <td>4</td>\n",
              "      <td>4</td>\n",
              "      <td>3</td>\n",
              "      <td>3</td>\n",
              "      <td>3</td>\n",
              "      <td>9</td>\n",
              "    </tr>\n",
              "  </tbody>\n",
              "</table>\n",
              "<p>1184 rows × 39 columns</p>\n",
              "</div>\n",
              "      <button class=\"colab-df-convert\" onclick=\"convertToInteractive('df-24f9f757-9e2f-4462-91d8-80c507ccd356')\"\n",
              "              title=\"Convert this dataframe to an interactive table.\"\n",
              "              style=\"display:none;\">\n",
              "        \n",
              "  <svg xmlns=\"http://www.w3.org/2000/svg\" height=\"24px\"viewBox=\"0 0 24 24\"\n",
              "       width=\"24px\">\n",
              "    <path d=\"M0 0h24v24H0V0z\" fill=\"none\"/>\n",
              "    <path d=\"M18.56 5.44l.94 2.06.94-2.06 2.06-.94-2.06-.94-.94-2.06-.94 2.06-2.06.94zm-11 1L8.5 8.5l.94-2.06 2.06-.94-2.06-.94L8.5 2.5l-.94 2.06-2.06.94zm10 10l.94 2.06.94-2.06 2.06-.94-2.06-.94-.94-2.06-.94 2.06-2.06.94z\"/><path d=\"M17.41 7.96l-1.37-1.37c-.4-.4-.92-.59-1.43-.59-.52 0-1.04.2-1.43.59L10.3 9.45l-7.72 7.72c-.78.78-.78 2.05 0 2.83L4 21.41c.39.39.9.59 1.41.59.51 0 1.02-.2 1.41-.59l7.78-7.78 2.81-2.81c.8-.78.8-2.07 0-2.86zM5.41 20L4 18.59l7.72-7.72 1.47 1.35L5.41 20z\"/>\n",
              "  </svg>\n",
              "      </button>\n",
              "      \n",
              "  <style>\n",
              "    .colab-df-container {\n",
              "      display:flex;\n",
              "      flex-wrap:wrap;\n",
              "      gap: 12px;\n",
              "    }\n",
              "\n",
              "    .colab-df-convert {\n",
              "      background-color: #E8F0FE;\n",
              "      border: none;\n",
              "      border-radius: 50%;\n",
              "      cursor: pointer;\n",
              "      display: none;\n",
              "      fill: #1967D2;\n",
              "      height: 32px;\n",
              "      padding: 0 0 0 0;\n",
              "      width: 32px;\n",
              "    }\n",
              "\n",
              "    .colab-df-convert:hover {\n",
              "      background-color: #E2EBFA;\n",
              "      box-shadow: 0px 1px 2px rgba(60, 64, 67, 0.3), 0px 1px 3px 1px rgba(60, 64, 67, 0.15);\n",
              "      fill: #174EA6;\n",
              "    }\n",
              "\n",
              "    [theme=dark] .colab-df-convert {\n",
              "      background-color: #3B4455;\n",
              "      fill: #D2E3FC;\n",
              "    }\n",
              "\n",
              "    [theme=dark] .colab-df-convert:hover {\n",
              "      background-color: #434B5C;\n",
              "      box-shadow: 0px 1px 3px 1px rgba(0, 0, 0, 0.15);\n",
              "      filter: drop-shadow(0px 1px 2px rgba(0, 0, 0, 0.3));\n",
              "      fill: #FFFFFF;\n",
              "    }\n",
              "  </style>\n",
              "\n",
              "      <script>\n",
              "        const buttonEl =\n",
              "          document.querySelector('#df-24f9f757-9e2f-4462-91d8-80c507ccd356 button.colab-df-convert');\n",
              "        buttonEl.style.display =\n",
              "          google.colab.kernel.accessAllowed ? 'block' : 'none';\n",
              "\n",
              "        async function convertToInteractive(key) {\n",
              "          const element = document.querySelector('#df-24f9f757-9e2f-4462-91d8-80c507ccd356');\n",
              "          const dataTable =\n",
              "            await google.colab.kernel.invokeFunction('convertToInteractive',\n",
              "                                                     [key], {});\n",
              "          if (!dataTable) return;\n",
              "\n",
              "          const docLinkHtml = 'Like what you see? Visit the ' +\n",
              "            '<a target=\"_blank\" href=https://colab.research.google.com/notebooks/data_table.ipynb>data table notebook</a>'\n",
              "            + ' to learn more about interactive tables.';\n",
              "          element.innerHTML = '';\n",
              "          dataTable['output_type'] = 'display_data';\n",
              "          await google.colab.output.renderOutput(dataTable, element);\n",
              "          const docLink = document.createElement('div');\n",
              "          docLink.innerHTML = docLinkHtml;\n",
              "          element.appendChild(docLink);\n",
              "        }\n",
              "      </script>\n",
              "    </div>\n",
              "  </div>\n",
              "  "
            ]
          },
          "metadata": {},
          "execution_count": 63
        }
      ]
    },
    {
      "cell_type": "code",
      "source": [
        "X.columns"
      ],
      "metadata": {
        "colab": {
          "base_uri": "https://localhost:8080/"
        },
        "id": "TWkK1VJZX4ro",
        "outputId": "27f35d03-d4ac-4dfc-c8c5-fbf2c894d61f"
      },
      "execution_count": null,
      "outputs": [
        {
          "output_type": "execute_result",
          "data": {
            "text/plain": [
              "Index(['성별', '연령', '혼인상태', '거주지역', '직업', '주업', '직장지위', '개인소득', '관광휴양여부',\n",
              "       '여행유형', '월', '여행일수(박)', '여행총경비', '1인지출비용', '지역코드', '숙박시설', '여행활동1',\n",
              "       '여행활동2', '여행활동3', '여행활동4', '여행활동5', '주요이동교통수단', '여행지선택이유_1순위',\n",
              "       '여행지선택이유_2순위', '만족도_자연경관', '만족도_문화유산', '만족도_교통', '만족도_식당및음식', '만족도_쇼핑',\n",
              "       '만족도_관광정보및안내시설', '만족도_관광지편의시설', '만족도_지역관광종사자의친절성', '만족도_체험프로그램',\n",
              "       '만족도_관광지물가', '만족도_관광지혼잡도', '전반적만족도', '재방문의도', '타인추천의도', '만족도점수'],\n",
              "      dtype='object')"
            ]
          },
          "metadata": {},
          "execution_count": 65
        }
      ]
    },
    {
      "cell_type": "code",
      "source": [
        "from sklearn.metrics import silhouette_samples, silhouette_score "
      ],
      "metadata": {
        "id": "Vwhsc73NYhKK"
      },
      "execution_count": null,
      "outputs": []
    },
    {
      "cell_type": "code",
      "source": [
        "km3 = KMeans(n_clusters=3, random_state=0).fit(X)\n",
        "labels = km3.labels_\n",
        "\n",
        "mglearn.discrete_scatter(X['주업'], X['지역코드'], labels, markers='o')\n",
        "plt.xlabel(\"연령\")\n",
        "plt.ylabel(\"재방문의도\")\n",
        "plt.show()\n",
        "\n",
        "average_score = silhouette_score(X, labels)\n",
        "print('모든 데이터의 평균 실루엣 계수값:', format(average_score)) \n",
        "\n",
        "dv = davies_bouldin_score(X, labels)\n",
        "print('데이비스-볼딘지수:', format(dv)) \n"
      ],
      "metadata": {
        "colab": {
          "base_uri": "https://localhost:8080/",
          "height": 424
        },
        "id": "zSM8Se-NWFei",
        "outputId": "f420d58e-c94a-4dab-f342-d2b5ee9bdfc3"
      },
      "execution_count": null,
      "outputs": [
        {
          "output_type": "display_data",
          "data": {
            "text/plain": [
              "<Figure size 648x432 with 1 Axes>"
            ],
            "image/png": "[encoded data removed]"
          },
          "metadata": {
            "needs_background": "light"
          }
        },
        {
          "output_type": "stream",
          "name": "stdout",
          "text": [
            "모든 데이터의 평균 실루엣 계수값: 0.7057061591402469\n",
            "데이비스-볼딘지수: 0.6037299201533592\n"
          ]
        }
      ]
    },
    {
      "cell_type": "code",
      "source": [],
      "metadata": {
        "id": "IBghAaapWFb1"
      },
      "execution_count": null,
      "outputs": []
    },
    {
      "cell_type": "code",
      "source": [],
      "metadata": {
        "id": "kRDpuBAlWFZF"
      },
      "execution_count": null,
      "outputs": []
    },
    {
      "cell_type": "code",
      "source": [],
      "metadata": {
        "id": "m2xUbHNpUI9s"
      },
      "execution_count": null,
      "outputs": []
    }
  ]
}